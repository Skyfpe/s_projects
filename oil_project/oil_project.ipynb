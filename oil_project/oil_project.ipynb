{
 "cells": [
  {
   "cell_type": "markdown",
   "metadata": {},
   "source": [
    "# Выбор локации для скважины"
   ]
  },
  {
   "cell_type": "markdown",
   "metadata": {},
   "source": [
    "**Описание**\n",
    "\n",
    "Нефтедобывающей компании нужно решить, где бурить новую скважину. Нам предоставлены пробы нефти в трёх регионах: в каждом 10 000 месторождений, где измерили качество нефти и объём её запасов.\n",
    "\n",
    "**Задача:** построить модель машинного обучения, которая поможет определить регион, где добыча принесёт наибольшую прибыль. Необходимо проанализировать возможную прибыль и риски.\n",
    "\n",
    "**Условия задачи:**\n",
    "- Для обучения модели подходит только линейная регрессия (остальные — недостаточно предсказуемые).\n",
    "- При разведке региона исследуют 500 точек, из которых с помощью машинного обучения выбирают 200 лучших для разработки.\n",
    "- Бюджет на разработку скважин в регионе — 10 млрд рублей.\n",
    "- При нынешних ценах один баррель сырья приносит 450 рублей дохода. Доход с каждой единицы продукта составляет 450 тыс. рублей, поскольку объём указан в тысячах баррелей.\n",
    "- После оценки рисков нужно оставить лишь те регионы, в которых вероятность убытков меньше 2.5%. Среди них выбирают регион с наибольшей средней прибылью.\n",
    "- Распределения данных идентичны реальным, но в целях соблюдения коммерческой тайны сами данные и наименования признаков были подвергнуты маскингу.\n",
    "\n",
    "Шаги для выбора локации:\n",
    "\n",
    "- В избранном регионе ищут месторождения, для каждого определяют значения признаков;\n",
    "- Строят модель и оценивают объём запасов;\n",
    "- Выбирают месторождения с самым высокими оценками значений. Количество месторождений зависит от бюджета компании и стоимости разработки одной скважины;\n",
    "- Прибыль равна суммарной прибыли отобранных месторождений."
   ]
  },
  {
   "cell_type": "markdown",
   "metadata": {
    "toc": true
   },
   "source": [
    "<h1>Содержание<span class=\"tocSkip\"></span></h1>\n",
    "<div class=\"toc\"><ul class=\"toc-item\"><li><span><a href=\"#Загрузка-и-подготовка-данных\" data-toc-modified-id=\"Загрузка-и-подготовка-данных-1\"><span class=\"toc-item-num\">1&nbsp;&nbsp;</span>Загрузка и подготовка данных</a></span><ul class=\"toc-item\"><li><span><a href=\"#Загрузка-данных\" data-toc-modified-id=\"Загрузка-данных-1.1\"><span class=\"toc-item-num\">1.1&nbsp;&nbsp;</span>Загрузка данных</a></span></li><li><span><a href=\"#Подготовка-данных\" data-toc-modified-id=\"Подготовка-данных-1.2\"><span class=\"toc-item-num\">1.2&nbsp;&nbsp;</span>Подготовка данных</a></span></li></ul></li><li><span><a href=\"#Обучение-и-проверка-модели\" data-toc-modified-id=\"Обучение-и-проверка-модели-2\"><span class=\"toc-item-num\">2&nbsp;&nbsp;</span>Обучение и проверка модели</a></span><ul class=\"toc-item\"><li><span><a href=\"#Обучение-и-результаты\" data-toc-modified-id=\"Обучение-и-результаты-2.1\"><span class=\"toc-item-num\">2.1&nbsp;&nbsp;</span>Обучение и результаты</a></span><ul class=\"toc-item\"><li><span><a href=\"#Обучение-первой-модели\" data-toc-modified-id=\"Обучение-первой-модели-2.1.1\"><span class=\"toc-item-num\">2.1.1&nbsp;&nbsp;</span>Обучение первой модели</a></span></li><li><span><a href=\"#Отбор-признаков-для-первой-модели\" data-toc-modified-id=\"Отбор-признаков-для-первой-модели-2.1.2\"><span class=\"toc-item-num\">2.1.2&nbsp;&nbsp;</span>Отбор признаков для первой модели</a></span></li><li><span><a href=\"#Вывод-по-отбору-признаков-для-первой-модели\" data-toc-modified-id=\"Вывод-по-отбору-признаков-для-первой-модели-2.1.3\"><span class=\"toc-item-num\">2.1.3&nbsp;&nbsp;</span>Вывод по отбору признаков для первой модели</a></span></li><li><span><a href=\"#Обучение-второй-модели\" data-toc-modified-id=\"Обучение-второй-модели-2.1.4\"><span class=\"toc-item-num\">2.1.4&nbsp;&nbsp;</span>Обучение второй модели</a></span></li><li><span><a href=\"#Обучение-третьей-модели\" data-toc-modified-id=\"Обучение-третьей-модели-2.1.5\"><span class=\"toc-item-num\">2.1.5&nbsp;&nbsp;</span>Обучение третьей модели</a></span></li></ul></li><li><span><a href=\"#Проверка-моделей-на-адекватность\" data-toc-modified-id=\"Проверка-моделей-на-адекватность-2.2\"><span class=\"toc-item-num\">2.2&nbsp;&nbsp;</span>Проверка моделей на адекватность</a></span></li><li><span><a href=\"#Выводы\" data-toc-modified-id=\"Выводы-2.3\"><span class=\"toc-item-num\">2.3&nbsp;&nbsp;</span>Выводы</a></span></li></ul></li><li><span><a href=\"#Подготовка-к-расчёту-прибыли\" data-toc-modified-id=\"Подготовка-к-расчёту-прибыли-3\"><span class=\"toc-item-num\">3&nbsp;&nbsp;</span>Подготовка к расчёту прибыли</a></span><ul class=\"toc-item\"><li><span><a href=\"#Вывод-по-подготовке-расчета-прибыли\" data-toc-modified-id=\"Вывод-по-подготовке-расчета-прибыли-3.1\"><span class=\"toc-item-num\">3.1&nbsp;&nbsp;</span>Вывод по подготовке расчета прибыли</a></span></li></ul></li><li><span><a href=\"#Расчет-рисков-и-прибыли-в-каждом-регионе\" data-toc-modified-id=\"Расчет-рисков-и-прибыли-в-каждом-регионе-4\"><span class=\"toc-item-num\">4&nbsp;&nbsp;</span>Расчет рисков и прибыли в каждом регионе</a></span><ul class=\"toc-item\"><li><span><a href=\"#Первый-регион\" data-toc-modified-id=\"Первый-регион-4.1\"><span class=\"toc-item-num\">4.1&nbsp;&nbsp;</span>Первый регион</a></span></li><li><span><a href=\"#Второй-регион\" data-toc-modified-id=\"Второй-регион-4.2\"><span class=\"toc-item-num\">4.2&nbsp;&nbsp;</span>Второй регион</a></span></li><li><span><a href=\"#Третий-регион\" data-toc-modified-id=\"Третий-регион-4.3\"><span class=\"toc-item-num\">4.3&nbsp;&nbsp;</span>Третий регион</a></span></li><li><span><a href=\"#Итоговый отчет\" data-toc-modified-id=\"Итоговый отчет-4.4\"><span class=\"toc-item-num\">4.4&nbsp;&nbsp;</span>Итоговый отчет</a></span>"
   ]
  },
  {
   "cell_type": "markdown",
   "metadata": {},
   "source": [
    "# Импорт библиотек"
   ]
  },
  {
   "cell_type": "code",
   "execution_count": 1,
   "metadata": {},
   "outputs": [
    {
     "data": {
      "text/html": [
       "<style>.container { width:75% !important; }</style>"
      ],
      "text/plain": [
       "<IPython.core.display.HTML object>"
      ]
     },
     "metadata": {},
     "output_type": "display_data"
    }
   ],
   "source": [
    "import math\n",
    "\n",
    "import re\n",
    "\n",
    "import numpy as np\n",
    "\n",
    "from scipy import stats as st\n",
    "\n",
    "import statsmodels.api as sm\n",
    "\n",
    "import pandas as pd\n",
    "\n",
    "import matplotlib.pyplot as plt\n",
    "\n",
    "!pip install scikit-learn --upgrade -q\n",
    "\n",
    "from sklearn.linear_model import LinearRegression\n",
    "\n",
    "from sklearn.model_selection import train_test_split, GridSearchCV\n",
    "\n",
    "from sklearn.preprocessing import MinMaxScaler, StandardScaler, RobustScaler, PolynomialFeatures\n",
    "\n",
    "from sklearn.metrics import r2_score, root_mean_squared_error\n",
    "\n",
    "from sklearn.dummy import DummyRegressor\n",
    "\n",
    "from sklearn.pipeline import Pipeline\n",
    "\n",
    "from sklearn.compose import ColumnTransformer\n",
    "\n",
    "from IPython.core.display import display, HTML\n",
    "display(HTML(\"<style>.container { width:75% !important; }</style>\"))\n",
    "\n",
    "RANDOM_STATE = 17\n",
    "\n",
    "test_size = 0.25\n",
    "\n",
    "BUDGET_AKA_COSTS = 10_000_000_000\n",
    "ITEM_PRICE = 450_000\n",
    "REG_WELLS_TOTAL = 500\n",
    "BEST_WELLS = 200"
   ]
  },
  {
   "cell_type": "markdown",
   "metadata": {},
   "source": [
    "# Функции для проекта"
   ]
  },
  {
   "cell_type": "code",
   "execution_count": 2,
   "metadata": {},
   "outputs": [],
   "source": [
    "def residuals_analysis_plotter(y_true, y_pred, mean_line_text=(1, 1), bins=50, scatter_grid=False):\n",
    "    \n",
    "    residuals = y_true - y_pred\n",
    "    \n",
    "    fig, ax = plt.subplots(1, 2, figsize=(15, 5))\n",
    "    \n",
    "    ax[0].hist(residuals, bins=bins)\n",
    "    \n",
    "    ax[0].set_title('распределение остатков (ошибок) модели')\n",
    "    ax[0].set_xlabel('ошибка', size=13)\n",
    "    ax[0].set_ylabel('частота', size=13)\n",
    "    \n",
    "    ax[0].grid()\n",
    "    \n",
    "    ax[0].axvline(residuals.mean(), color='C3', linestyle='dashed', linewidth=2.15)\n",
    "    ax[0].text(x=mean_line_text[0], y=mean_line_text[1], s='Остаточное среднее: {:.2f}'.format(residuals.mean()), size=10)\n",
    "    \n",
    "    ax[1].scatter(y_pred, residuals)\n",
    "    \n",
    "    ax[1].set_title('дисперсия остатков (ошибок) модели')\n",
    "    ax[1].set_xlabel('объем запасов, тыс. баррелей', size=13)\n",
    "    ax[1].set_ylabel('цена ошибки (error)', size=13)\n",
    "    \n",
    "    if scatter_grid == True:\n",
    "        ax[1].grid()\n",
    "    else:\n",
    "        pass\n",
    "    \n",
    "    plt.show()"
   ]
  },
  {
   "cell_type": "code",
   "execution_count": 3,
   "metadata": {},
   "outputs": [],
   "source": [
    "def needed_mean_capacity_probability_evaluation(df):\n",
    "    \n",
    "    state = np.random.RandomState(RANDOM_STATE)\n",
    "    \n",
    "    results = []\n",
    "\n",
    "    for i in range(1000):\n",
    "        \n",
    "        subsample = df.sample(n=500, replace=True, random_state=state)['product']\n",
    "\n",
    "        mu = subsample.mean()\n",
    "        std = subsample.std()\n",
    "        normdist = st.norm(mu, std)\n",
    "\n",
    "        results.append(1 - normdist.cdf(111.11))\n",
    "        \n",
    "    return round(np.mean(results), 2)"
   ]
  },
  {
   "cell_type": "code",
   "execution_count": 4,
   "metadata": {},
   "outputs": [],
   "source": [
    "def big_number_formatter(number_or_list):\n",
    "    \n",
    "    units = ['', 'K', 'M', 'B', 'T', 'P']\n",
    "    k = 1000.0\n",
    "    \n",
    "    if type(number_or_list) != list:\n",
    "\n",
    "        if number_or_list > 0:\n",
    "            \n",
    "            magnitude = int(math.floor(math.log(number_or_list, k)))\n",
    "            \n",
    "        elif number_or_list < 0:\n",
    "            \n",
    "            magnitude = int(math.floor(math.log(np.abs(number_or_list), k)))\n",
    "            \n",
    "        else:\n",
    "            \n",
    "            return 0\n",
    "        \n",
    "        return '%.2f%s' % (number_or_list / k**magnitude, units[magnitude])\n",
    "    \n",
    "    else:\n",
    "        \n",
    "        arr = []\n",
    "        \n",
    "        for i in number_or_list:\n",
    "            \n",
    "            if i > 0:\n",
    "                \n",
    "                magnitude = int(math.floor(math.log(i, k)))\n",
    "                arr.append('%.2f%s' % (i / k**magnitude, units[magnitude]))\n",
    "                \n",
    "            elif i < 0:\n",
    "                \n",
    "                magnitude = int(math.floor(math.log(np.abs(i), k)))\n",
    "                arr.append('%.2f%s' % (i / k**magnitude, units[magnitude]))\n",
    "\n",
    "            else:\n",
    "                \n",
    "                arr.append(0)\n",
    "                \n",
    "        return arr"
   ]
  },
  {
   "cell_type": "code",
   "execution_count": 5,
   "metadata": {},
   "outputs": [],
   "source": [
    "def profit_function(y_true_sample, y_pred_sample):\n",
    "\n",
    "    best_wells_pred = y_pred_sample.sort_values(ascending=False)[:BEST_WELLS]\n",
    "    wells_true_pred = y_true_sample[best_wells_pred.index]\n",
    "    \n",
    "    total_capacity = np.sum(wells_true_pred)\n",
    "    profit = total_capacity * ITEM_PRICE - BUDGET_AKA_COSTS\n",
    "    \n",
    "    return profit"
   ]
  },
  {
   "cell_type": "code",
   "execution_count": 6,
   "metadata": {},
   "outputs": [],
   "source": [
    "def bootstrap(y_true, y_pred, num_subsamples):\n",
    "\n",
    "    state = np.random.RandomState(RANDOM_STATE)\n",
    "\n",
    "    values = []\n",
    "\n",
    "    for i in range(num_subsamples):\n",
    "        \n",
    "        subsample_true = y_true.sample(n=REG_WELLS_TOTAL, replace=True, random_state=state)\n",
    "        \n",
    "        predictions = pd.Series(y_pred)\n",
    "        predictions.index = y_true.index\n",
    "        \n",
    "        subsample_pred = predictions[subsample_true.index]\n",
    "        \n",
    "        values.append(profit_function(subsample_true, subsample_pred))\n",
    "\n",
    "    values = pd.Series(values)\n",
    "    \n",
    "    return values"
   ]
  },
  {
   "cell_type": "code",
   "execution_count": 7,
   "metadata": {},
   "outputs": [],
   "source": [
    "def confidence_interval(values):\n",
    "    confidence_interval = (values.quantile(0.025), values.quantile(0.975))\n",
    "    print('95%-й доверительный интервал распределения прибыли:',\n",
    "          big_number_formatter(confidence_interval[0]),\n",
    "          '—',\n",
    "          big_number_formatter(confidence_interval[1])\n",
    "         )"
   ]
  },
  {
   "cell_type": "code",
   "execution_count": 8,
   "metadata": {},
   "outputs": [],
   "source": [
    "def profit_mean(values):\n",
    "    print(f'Средняя выборочная прибыль: {big_number_formatter(values.mean())}')"
   ]
  },
  {
   "cell_type": "code",
   "execution_count": 9,
   "metadata": {},
   "outputs": [],
   "source": [
    "def normtest(values):\n",
    "\n",
    "    normtest = st.shapiro(values)\n",
    "\n",
    "    alpha = 0.05\n",
    "    \n",
    "    print('p-value теста Шапиро-Уилка:', normtest.pvalue)\n",
    "    \n",
    "    if normtest.pvalue > alpha:\n",
    "        print('Вероятно, распределение нормальное')\n",
    "    else:\n",
    "        print('Вероятно, распределение не нормальное')"
   ]
  },
  {
   "cell_type": "code",
   "execution_count": 10,
   "metadata": {},
   "outputs": [],
   "source": [
    "def loss_graph(values):\n",
    "    \n",
    "    threshold_value = 10_000_000_000\n",
    "\n",
    "    mu = values.mean()\n",
    "    std = values.std()\n",
    "    \n",
    "    def loss_probability_function(sarr):\n",
    "    \n",
    "        loss_probability = sarr[sarr < 0].count() / len(sarr)\n",
    "    \n",
    "        return loss_probability\n",
    "    \n",
    "    loss_probability = loss_probability_function(values)\n",
    "    \n",
    "    print('Вероятность понести убытки: {}%'.format(round(loss_probability * 100, 2)))\n",
    "    print('2.5%-й квантиль для распределения потенциальной прибыли в регионе:', big_number_formatter(values.quantile(0.025)))\n",
    "\n",
    "    fig, ax = plt.subplots(figsize=(20, 10))\n",
    "\n",
    "    ax.hist(values, bins=50, density=True, alpha=0.6, color='g')\n",
    "\n",
    "    xmin, xmax = plt.xlim()\n",
    "    x = np.linspace(xmin, xmax, 100)\n",
    "    p = st.norm.pdf(x, mu, std)\n",
    "    ax.plot(x, p, 'k', linewidth=2)\n",
    "\n",
    "    title = 'dist_params: mu = {},  std = {}'.format(big_number_formatter(mu), big_number_formatter(std))\n",
    "    plt.title(title, fontsize=20)\n",
    "    \n",
    "    ax.set_xlabel('прибыль', fontsize=15)\n",
    "    ax.set_ylabel('наблюдения', fontsize=15)\n",
    "    \n",
    "    def convert_to_numbers(f):\n",
    "        return \"{:.1e}\".format(f) if re.match(\"^-?[^\\.]e\",str(f)) else str(f)\n",
    "    \n",
    "    arr = []\n",
    "    for i in ax.get_xticks():\n",
    "        arr.append(float(convert_to_numbers(i)))\n",
    "    \n",
    "    ax.set_xticks(ax.get_xticks())\n",
    "    ax.set_xticklabels(big_number_formatter(arr))\n",
    "\n",
    "    \n",
    "    ax.axvline(x=values.mean(), color='b', linestyle='--')\n",
    "    ax.text(x=values.mean()*1.05, y=0.0000000001, s='μ = {}'.format(big_number_formatter(values.mean())), fontsize=13)\n",
    "    \n",
    "    if values.quantile(0.025) > 0:\n",
    "    \n",
    "        ax.axvline(x=0, color='r', linestyle='--')\n",
    "        ax.text(x= 500_000_000 / 5 * -0.2, y=0.000000001, s='порог прибыли', fontsize=13, horizontalalignment='right')\n",
    "\n",
    "        ax.axvline(x=values.quantile(0.025), color='c', linestyle='--')\n",
    "        ax.text(x=values.quantile(0.025) * 1.25, y=0.0000000006, s='q 2.5%', fontsize=13)\n",
    "    \n",
    "    else:\n",
    "        \n",
    "        ax.axvline(x=0, color='r', linestyle='--')\n",
    "        ax.text(x=500_000_000 / 5 * 0.3, y=0.0000000013, s='порог прибыли', fontsize=13)\n",
    "\n",
    "        ax.axvline(x=values.quantile(0.025), color='c', linestyle='--')\n",
    "        ax.text(x=values.quantile(0.025) * 3, y=0.0000000006, s='q 2.5%', fontsize=13)\n",
    "    \n",
    "    plt.show()"
   ]
  },
  {
   "cell_type": "markdown",
   "metadata": {},
   "source": [
    "## Загрузка и подготовка данных"
   ]
  },
  {
   "cell_type": "markdown",
   "metadata": {},
   "source": [
    "### Загрузка данных"
   ]
  },
  {
   "cell_type": "markdown",
   "metadata": {},
   "source": [
    "Загружаем данные и смотрим, с чем нам придется работать. Начнем с первого датасета."
   ]
  },
  {
   "cell_type": "code",
   "execution_count": 11,
   "metadata": {},
   "outputs": [
    {
     "data": {
      "text/html": [
       "<div>\n",
       "<style scoped>\n",
       "    .dataframe tbody tr th:only-of-type {\n",
       "        vertical-align: middle;\n",
       "    }\n",
       "\n",
       "    .dataframe tbody tr th {\n",
       "        vertical-align: top;\n",
       "    }\n",
       "\n",
       "    .dataframe thead th {\n",
       "        text-align: right;\n",
       "    }\n",
       "</style>\n",
       "<table border=\"1\" class=\"dataframe\">\n",
       "  <thead>\n",
       "    <tr style=\"text-align: right;\">\n",
       "      <th></th>\n",
       "      <th>id</th>\n",
       "      <th>f0</th>\n",
       "      <th>f1</th>\n",
       "      <th>f2</th>\n",
       "      <th>product</th>\n",
       "    </tr>\n",
       "  </thead>\n",
       "  <tbody>\n",
       "    <tr>\n",
       "      <th>0</th>\n",
       "      <td>txEyH</td>\n",
       "      <td>0.705745</td>\n",
       "      <td>-0.497823</td>\n",
       "      <td>1.221170</td>\n",
       "      <td>105.280062</td>\n",
       "    </tr>\n",
       "    <tr>\n",
       "      <th>1</th>\n",
       "      <td>2acmU</td>\n",
       "      <td>1.334711</td>\n",
       "      <td>-0.340164</td>\n",
       "      <td>4.365080</td>\n",
       "      <td>73.037750</td>\n",
       "    </tr>\n",
       "    <tr>\n",
       "      <th>2</th>\n",
       "      <td>409Wp</td>\n",
       "      <td>1.022732</td>\n",
       "      <td>0.151990</td>\n",
       "      <td>1.419926</td>\n",
       "      <td>85.265647</td>\n",
       "    </tr>\n",
       "  </tbody>\n",
       "</table>\n",
       "</div>"
      ],
      "text/plain": [
       "      id        f0        f1        f2     product\n",
       "0  txEyH  0.705745 -0.497823  1.221170  105.280062\n",
       "1  2acmU  1.334711 -0.340164  4.365080   73.037750\n",
       "2  409Wp  1.022732  0.151990  1.419926   85.265647"
      ]
     },
     "metadata": {},
     "output_type": "display_data"
    },
    {
     "name": "stdout",
     "output_type": "stream",
     "text": [
      "<class 'pandas.core.frame.DataFrame'>\n",
      "RangeIndex: 100000 entries, 0 to 99999\n",
      "Data columns (total 5 columns):\n",
      " #   Column   Non-Null Count   Dtype  \n",
      "---  ------   --------------   -----  \n",
      " 0   id       100000 non-null  object \n",
      " 1   f0       100000 non-null  float64\n",
      " 2   f1       100000 non-null  float64\n",
      " 3   f2       100000 non-null  float64\n",
      " 4   product  100000 non-null  float64\n",
      "dtypes: float64(4), object(1)\n",
      "memory usage: 3.8+ MB\n",
      "None\n"
     ]
    }
   ],
   "source": [
    "gd_0 = pd.read_csv('/datasets/geo_data_0.csv')\n",
    "display(gd_0.head(3))\n",
    "print(gd_0.info())"
   ]
  },
  {
   "cell_type": "markdown",
   "metadata": {},
   "source": [
    "Данные выглядят нормально; всего у нас 100,000 объектов, пропусков нет, тип данных соответствует значениям. Посмотрим на второй датасет:"
   ]
  },
  {
   "cell_type": "code",
   "execution_count": 12,
   "metadata": {},
   "outputs": [
    {
     "data": {
      "text/html": [
       "<div>\n",
       "<style scoped>\n",
       "    .dataframe tbody tr th:only-of-type {\n",
       "        vertical-align: middle;\n",
       "    }\n",
       "\n",
       "    .dataframe tbody tr th {\n",
       "        vertical-align: top;\n",
       "    }\n",
       "\n",
       "    .dataframe thead th {\n",
       "        text-align: right;\n",
       "    }\n",
       "</style>\n",
       "<table border=\"1\" class=\"dataframe\">\n",
       "  <thead>\n",
       "    <tr style=\"text-align: right;\">\n",
       "      <th></th>\n",
       "      <th>id</th>\n",
       "      <th>f0</th>\n",
       "      <th>f1</th>\n",
       "      <th>f2</th>\n",
       "      <th>product</th>\n",
       "    </tr>\n",
       "  </thead>\n",
       "  <tbody>\n",
       "    <tr>\n",
       "      <th>0</th>\n",
       "      <td>kBEdx</td>\n",
       "      <td>-15.001348</td>\n",
       "      <td>-8.276000</td>\n",
       "      <td>-0.005876</td>\n",
       "      <td>3.179103</td>\n",
       "    </tr>\n",
       "    <tr>\n",
       "      <th>1</th>\n",
       "      <td>62mP7</td>\n",
       "      <td>14.272088</td>\n",
       "      <td>-3.475083</td>\n",
       "      <td>0.999183</td>\n",
       "      <td>26.953261</td>\n",
       "    </tr>\n",
       "    <tr>\n",
       "      <th>2</th>\n",
       "      <td>vyE1P</td>\n",
       "      <td>6.263187</td>\n",
       "      <td>-5.948386</td>\n",
       "      <td>5.001160</td>\n",
       "      <td>134.766305</td>\n",
       "    </tr>\n",
       "  </tbody>\n",
       "</table>\n",
       "</div>"
      ],
      "text/plain": [
       "      id         f0        f1        f2     product\n",
       "0  kBEdx -15.001348 -8.276000 -0.005876    3.179103\n",
       "1  62mP7  14.272088 -3.475083  0.999183   26.953261\n",
       "2  vyE1P   6.263187 -5.948386  5.001160  134.766305"
      ]
     },
     "metadata": {},
     "output_type": "display_data"
    },
    {
     "name": "stdout",
     "output_type": "stream",
     "text": [
      "<class 'pandas.core.frame.DataFrame'>\n",
      "RangeIndex: 100000 entries, 0 to 99999\n",
      "Data columns (total 5 columns):\n",
      " #   Column   Non-Null Count   Dtype  \n",
      "---  ------   --------------   -----  \n",
      " 0   id       100000 non-null  object \n",
      " 1   f0       100000 non-null  float64\n",
      " 2   f1       100000 non-null  float64\n",
      " 3   f2       100000 non-null  float64\n",
      " 4   product  100000 non-null  float64\n",
      "dtypes: float64(4), object(1)\n",
      "memory usage: 3.8+ MB\n",
      "None\n"
     ]
    }
   ],
   "source": [
    "gd_1 = pd.read_csv('/datasets/geo_data_1.csv')\n",
    "display(gd_1.head(3))\n",
    "print(gd_1.info())"
   ]
  },
  {
   "cell_type": "markdown",
   "metadata": {},
   "source": [
    "К этому датасету применимо все то же, что и к первому."
   ]
  },
  {
   "cell_type": "code",
   "execution_count": 13,
   "metadata": {},
   "outputs": [
    {
     "data": {
      "text/html": [
       "<div>\n",
       "<style scoped>\n",
       "    .dataframe tbody tr th:only-of-type {\n",
       "        vertical-align: middle;\n",
       "    }\n",
       "\n",
       "    .dataframe tbody tr th {\n",
       "        vertical-align: top;\n",
       "    }\n",
       "\n",
       "    .dataframe thead th {\n",
       "        text-align: right;\n",
       "    }\n",
       "</style>\n",
       "<table border=\"1\" class=\"dataframe\">\n",
       "  <thead>\n",
       "    <tr style=\"text-align: right;\">\n",
       "      <th></th>\n",
       "      <th>id</th>\n",
       "      <th>f0</th>\n",
       "      <th>f1</th>\n",
       "      <th>f2</th>\n",
       "      <th>product</th>\n",
       "    </tr>\n",
       "  </thead>\n",
       "  <tbody>\n",
       "    <tr>\n",
       "      <th>0</th>\n",
       "      <td>fwXo0</td>\n",
       "      <td>-1.146987</td>\n",
       "      <td>0.963328</td>\n",
       "      <td>-0.828965</td>\n",
       "      <td>27.758673</td>\n",
       "    </tr>\n",
       "    <tr>\n",
       "      <th>1</th>\n",
       "      <td>WJtFt</td>\n",
       "      <td>0.262778</td>\n",
       "      <td>0.269839</td>\n",
       "      <td>-2.530187</td>\n",
       "      <td>56.069697</td>\n",
       "    </tr>\n",
       "    <tr>\n",
       "      <th>2</th>\n",
       "      <td>ovLUW</td>\n",
       "      <td>0.194587</td>\n",
       "      <td>0.289035</td>\n",
       "      <td>-5.586433</td>\n",
       "      <td>62.871910</td>\n",
       "    </tr>\n",
       "  </tbody>\n",
       "</table>\n",
       "</div>"
      ],
      "text/plain": [
       "      id        f0        f1        f2    product\n",
       "0  fwXo0 -1.146987  0.963328 -0.828965  27.758673\n",
       "1  WJtFt  0.262778  0.269839 -2.530187  56.069697\n",
       "2  ovLUW  0.194587  0.289035 -5.586433  62.871910"
      ]
     },
     "metadata": {},
     "output_type": "display_data"
    },
    {
     "name": "stdout",
     "output_type": "stream",
     "text": [
      "<class 'pandas.core.frame.DataFrame'>\n",
      "RangeIndex: 100000 entries, 0 to 99999\n",
      "Data columns (total 5 columns):\n",
      " #   Column   Non-Null Count   Dtype  \n",
      "---  ------   --------------   -----  \n",
      " 0   id       100000 non-null  object \n",
      " 1   f0       100000 non-null  float64\n",
      " 2   f1       100000 non-null  float64\n",
      " 3   f2       100000 non-null  float64\n",
      " 4   product  100000 non-null  float64\n",
      "dtypes: float64(4), object(1)\n",
      "memory usage: 3.8+ MB\n",
      "None\n"
     ]
    }
   ],
   "source": [
    "gd_2 = pd.read_csv('/datasets/geo_data_2.csv')\n",
    "display(gd_2.head(3))\n",
    "print(gd_2.info())"
   ]
  },
  {
   "cell_type": "markdown",
   "metadata": {},
   "source": [
    "То же касается и последнего датасета. Что ж, проведем быструю визуализацию, чтобы иметь общие представления об имеющихся данных."
   ]
  },
  {
   "cell_type": "code",
   "execution_count": 14,
   "metadata": {},
   "outputs": [
    {
     "name": "stdout",
     "output_type": "stream",
     "text": [
      "geo_data_0:\n"
     ]
    },
    {
     "data": {
      "image/png": "[encoded data removed]",
      "text/plain": [
       "<Figure size 432x288 with 4 Axes>"
      ]
     },
     "metadata": {
      "needs_background": "light"
     },
     "output_type": "display_data"
    },
    {
     "name": "stdout",
     "output_type": "stream",
     "text": [
      "geo_data_1:\n"
     ]
    },
    {
     "data": {
      "image/png": "[encoded data removed]",
      "text/plain": [
       "<Figure size 432x288 with 4 Axes>"
      ]
     },
     "metadata": {
      "needs_background": "light"
     },
     "output_type": "display_data"
    },
    {
     "name": "stdout",
     "output_type": "stream",
     "text": [
      "geo_data_2:\n"
     ]
    },
    {
     "data": {
      "image/png": "[encoded data removed]",
      "text/plain": [
       "<Figure size 432x288 with 4 Axes>"
      ]
     },
     "metadata": {
      "needs_background": "light"
     },
     "output_type": "display_data"
    }
   ],
   "source": [
    "print('geo_data_0:')\n",
    "gd_0.hist(bins=100)\n",
    "plt.show()\n",
    "\n",
    "print('geo_data_1:')\n",
    "gd_1.hist(bins=100)\n",
    "plt.show()\n",
    "\n",
    "print('geo_data_2:')\n",
    "gd_2.hist(bins=100)\n",
    "plt.show()"
   ]
  },
  {
   "cell_type": "markdown",
   "metadata": {},
   "source": [
    "Вроде все в порядке, однако во втором датасете 'gd_1' наблюдаются странные распределения признака 'f2' и целевого признака 'product'. Взглянем на них поближе."
   ]
  },
  {
   "cell_type": "code",
   "execution_count": 15,
   "metadata": {},
   "outputs": [
    {
     "name": "stdout",
     "output_type": "stream",
     "text": [
      "12\n",
      "[  3.17910258  26.95326103 134.76630516 137.94540774  84.03888568\n",
      " 110.99214671  53.90652206   0.         107.81304413  57.08562465\n",
      "  30.13236361  80.85978309]\n",
      "100000\n"
     ]
    }
   ],
   "source": [
    "print(gd_1['product'].nunique())\n",
    "\n",
    "print(gd_1['product'].unique())\n",
    "\n",
    "print(gd_1['f2'].nunique())"
   ]
  },
  {
   "cell_type": "markdown",
   "metadata": {},
   "source": [
    "Что ж, похоже, что у нас всего 12 уникальных значений целевого признака, а среди значений признака 'f2' нет ни одного повторяющегося. Построим гистограммы побольше."
   ]
  },
  {
   "cell_type": "code",
   "execution_count": 16,
   "metadata": {},
   "outputs": [
    {
     "data": {
      "image/png": "[encoded data removed]",
      "text/plain": [
       "<Figure size 1440x360 with 2 Axes>"
      ]
     },
     "metadata": {
      "needs_background": "light"
     },
     "output_type": "display_data"
    }
   ],
   "source": [
    "fig, ax = plt.subplots(1, 2, figsize=(20, 5))\n",
    "\n",
    "ax[0].hist(gd_1['f2'], bins=50)\n",
    "ax[0].set_title('gd_1, f2')\n",
    "\n",
    "ax[1].hist(gd_1['product'], bins=50)\n",
    "ax[1].set_title('gd_1, product')\n",
    "ax[1].set_xlabel('объем нефти, тыс. баррелей')\n",
    "\n",
    "plt.show()"
   ]
  },
  {
   "cell_type": "markdown",
   "metadata": {},
   "source": [
    "Похоже, в случае входного признака 'f2' ультимативная уникальность каждого значения объясняется большим количеством знаков после запятой, а все значения распределены вокруг чисел от 0 до 5. Количество таких пиков на графике подозрительно совпадает с количеством мест концентрации целевого признака. Можно предположить, что данный входной признак является определяющим, а остальные - уточняющими и определяющими объем нефти в скважине в чуть меньшую или чуть большую сторону. Больше по этому поводу сказать нечего, ведь особой информации о данных у нас нет. Разве что всё равно такое чересчур точное и скудное распределение целевого признака по значениям (всего их 12) с учетом количества знаков после запятой всё ещё выглядит подозрительно. Вероятно, это связано с синтетической природой данных."
   ]
  },
  {
   "cell_type": "markdown",
   "metadata": {},
   "source": [
    "Каких-то видимых аномалий в данных у нас нет, поэтому нам остается только приступить к подготовке данных и обучению моделей, но сначала на всякий случай проверим наши данные на дубликаты."
   ]
  },
  {
   "cell_type": "code",
   "execution_count": 17,
   "metadata": {},
   "outputs": [
    {
     "name": "stdout",
     "output_type": "stream",
     "text": [
      "99990\n",
      "0\n",
      "99996\n",
      "0\n",
      "99996\n",
      "0\n",
      "#############################\n",
      "0\n",
      "0\n",
      "0\n"
     ]
    }
   ],
   "source": [
    "print(gd_0['id'].nunique())\n",
    "print(gd_0.duplicated().sum())\n",
    "\n",
    "print(gd_1['id'].nunique())\n",
    "print(gd_1.duplicated().sum())\n",
    "\n",
    "print(gd_2['id'].nunique())\n",
    "print(gd_2.duplicated().sum())\n",
    "\n",
    "print('#############################')\n",
    "\n",
    "print(gd_0.duplicated(subset=gd_0.drop(['id'], axis=1).columns).sum())\n",
    "print(gd_1.duplicated(subset=gd_1.drop(['id'], axis=1).columns).sum())\n",
    "print(gd_2.duplicated(subset=gd_2.drop(['id'], axis=1).columns).sum())"
   ]
  },
  {
   "cell_type": "markdown",
   "metadata": {},
   "source": [
    "У нас есть совпадающие id, однако повторяющихся объектов без учета идентификаторов у нас нет, что говорит о том, что полных и неполных дубликатов в данных у нас нет."
   ]
  },
  {
   "cell_type": "markdown",
   "metadata": {},
   "source": [
    "<div class=\"alert alert-warning\">\n",
    "<h2> Комментарий ревьюера ⚠️ <a class=\"tocSkip\"> </h2>\n",
    "\n",
    "Возможно стоило посмотреть еще на корреляции признаков, потому что мультиколлинеарность негативно влияет на качество моделей. А построение диаграмм рассеяния позволит выявить нелинейные связи"
   ]
  },
  {
   "cell_type": "markdown",
   "metadata": {},
   "source": [
    "<div class=\"alert-info\" style=\"padding: 20px; border-radius: 10px\">\n",
    "<b>Комментарий студента </b>\n",
    "\n",
    "Я думал об этом, но решил особо не запариваться, поскольку в данном случае нам предписано использовать только линейную регрессию, и поиск нелинейных взаимосвязей нам ничем бы особо не помог. Я далее попробовал, конечно, применить полиномизацию, но она не принесла особых результатов. А по поводу исследования мультиколлинеарности: для первой и третьей модели это не имеет смысла по причине явной нелинейности в данных, а для второй ненужно, поскольку коэффициент детерминации для неё и так идеальный, а средняя ошибка очень мала. Сверх того, у нас и так входных признаков негусто, поэтому вероятность наличия мультиколлинеарности минимальна. Да и по самому заданию и характеру данных понятно, что такое вряд ли тут встретится. Я понимаю, что так делать, мягко говоря, не следует, но, признаюсь честно, поленился и посчитал, что по всем признакам (задаче, данным и моделям) этим можно пренебречь. &#x1F605;\n",
    "    \n",
    "</div>"
   ]
  },
  {
   "cell_type": "markdown",
   "metadata": {},
   "source": [
    "<div class=\"alert alert-success\">\n",
    "<h2> Комментарий ревьюера v2 ✔️ <a class=\"tocSkip\"> </h2>\n",
    "\n",
    "Ок) Хотя если я был бы твои тим лидом, я бы все равно попросил посчитать)))"
   ]
  },
  {
   "cell_type": "markdown",
   "metadata": {},
   "source": [
    "### Подготовка данных"
   ]
  },
  {
   "cell_type": "markdown",
   "metadata": {},
   "source": [
    "Приступим к подготовке. Разобъем наши данные на выборки."
   ]
  },
  {
   "cell_type": "code",
   "execution_count": 18,
   "metadata": {},
   "outputs": [],
   "source": [
    "X_0 = gd_0.drop(['id', 'product'], axis=1)\n",
    "y_0 = gd_0['product']\n",
    "\n",
    "X_1 = gd_1.drop(['id', 'product'], axis=1)\n",
    "y_1 = gd_1['product']\n",
    "\n",
    "X_2 = gd_2.drop(['id', 'product'], axis=1)\n",
    "y_2 = gd_2['product']\n",
    "\n",
    "X_train_0, X_test_0, y_train_0, y_test_0 = train_test_split(X_0, y_0, test_size=test_size, random_state=RANDOM_STATE)\n",
    "\n",
    "X_train_1, X_test_1, y_train_1, y_test_1 = train_test_split(X_1, y_1, test_size=test_size, random_state=RANDOM_STATE)\n",
    "\n",
    "X_train_2, X_test_2, y_train_2, y_test_2 = train_test_split(X_2, y_2, test_size=test_size, random_state=RANDOM_STATE)"
   ]
  },
  {
   "cell_type": "markdown",
   "metadata": {},
   "source": [
    "создадим список столбцов для масштабирования."
   ]
  },
  {
   "cell_type": "code",
   "execution_count": 19,
   "metadata": {},
   "outputs": [],
   "source": [
    "num_cols = ['f0', 'f1', 'f2']"
   ]
  },
  {
   "cell_type": "markdown",
   "metadata": {},
   "source": [
    "подготовим пайплайн и сетку параметров с разными скейлерами для кросс-валидации."
   ]
  },
  {
   "cell_type": "code",
   "execution_count": 20,
   "metadata": {},
   "outputs": [],
   "source": [
    "data_preprocessing = ColumnTransformer(\n",
    "    [\n",
    "       ('num', MinMaxScaler(), num_cols) \n",
    "    ],\n",
    "    \n",
    "    remainder='passthrough'\n",
    ")\n",
    "\n",
    "pipe = Pipeline(\n",
    "    [\n",
    "        ('preprocessing', data_preprocessing),\n",
    "        ('models', LinearRegression())\n",
    "    ]\n",
    ")\n",
    "\n",
    "pdst = [\n",
    "    {\n",
    "        'preprocessing__num': [StandardScaler(),\n",
    "                               MinMaxScaler(),\n",
    "                               RobustScaler(),\n",
    "                               'passthrough'\n",
    "                              ]\n",
    "    }\n",
    "]"
   ]
  },
  {
   "cell_type": "markdown",
   "metadata": {},
   "source": [
    "Можно приступать к обучению и оценке моделей."
   ]
  },
  {
   "cell_type": "markdown",
   "metadata": {},
   "source": [
    "## Обучение и проверка модели"
   ]
  },
  {
   "cell_type": "markdown",
   "metadata": {},
   "source": [
    "### Обучение и результаты"
   ]
  },
  {
   "cell_type": "markdown",
   "metadata": {},
   "source": [
    "#### Обучение первой модели"
   ]
  },
  {
   "cell_type": "markdown",
   "metadata": {},
   "source": [
    "Выполним поиск по сетке; он не должен занять много времени, так как у нас не так много гиперпараметров для подбора. Использовать будем только линейную регрессию, так как это указано в условиях задач. Будем ориентироваться на RMSE, поскольку это тоже указано в условиях задачи."
   ]
  },
  {
   "cell_type": "code",
   "execution_count": 21,
   "metadata": {},
   "outputs": [],
   "source": [
    "grid = GridSearchCV(estimator=pipe,\n",
    "                      param_grid=pdst,\n",
    "                      cv=5,\n",
    "                      scoring='neg_root_mean_squared_error',\n",
    "                      n_jobs=-1,\n",
    "                      verbose=1\n",
    "                     )"
   ]
  },
  {
   "cell_type": "markdown",
   "metadata": {},
   "source": [
    "Обучаем первую модель и анализируем результаты."
   ]
  },
  {
   "cell_type": "code",
   "execution_count": 22,
   "metadata": {},
   "outputs": [
    {
     "name": "stdout",
     "output_type": "stream",
     "text": [
      "Fitting 5 folds for each of 4 candidates, totalling 20 fits\n",
      "############################################\n",
      "лучший скейлер: {'preprocessing__num': StandardScaler()}\n",
      "R^2 лучшей модели: 0.27\n",
      "RMSE лучшей модели: 37.79\n",
      "среднее предсказание лучшей модели на тесте: 92.39061493772542\n"
     ]
    },
    {
     "data": {
      "image/png": "[encoded data removed]",
      "text/plain": [
       "<Figure size 1080x360 with 2 Axes>"
      ]
     },
     "metadata": {
      "needs_background": "light"
     },
     "output_type": "display_data"
    }
   ],
   "source": [
    "grid_0 = grid.fit(X_train_0, y_train_0)\n",
    "\n",
    "y_pred_0 = grid_0.best_estimator_.predict(X_test_0)\n",
    "\n",
    "print(f'############################################\\nлучший скейлер: {grid_0.best_params_}')\n",
    "print(f'R^2 лучшей модели: {round(r2_score(y_test_0, y_pred_0), 2)}')\n",
    "print(f'RMSE лучшей модели: {round(root_mean_squared_error(y_test_0, y_pred_0), 2)}')\n",
    "print(f'среднее предсказание лучшей модели на тесте: {y_pred_0.mean()}')\n",
    "\n",
    "residuals_analysis_plotter(y_test_0, y_pred_0, (5, 1100), 30, scatter_grid=True)"
   ]
  },
  {
   "cell_type": "markdown",
   "metadata": {},
   "source": [
    "Первая модель показала посредственные результаты: низкий коэффициент детерминации (0.27) и довольно внушительная среднеквадратичная ошибка, учитывая порядок значений целевого признака. Распределение ошибок похоже на нормальное, распределенное вокруг 0 с незначительным смещением вправо, что говорит о небольшом систематическом занижении предсказаний. Дисперсия ошибок значительная и похожа на 'коврик': непостоянна и смещена таким образом, что для объектов с малыми запасами нефти оценка завышается, а для объектов с большими запасами - занижается."
   ]
  },
  {
   "cell_type": "markdown",
   "metadata": {},
   "source": [
    "#### Отбор признаков для первой модели"
   ]
  },
  {
   "cell_type": "markdown",
   "metadata": {},
   "source": [
    "Чтобы улучшить нашу модель, попробуем полиномизировать наши признаки, обучим ещё одну модель на тех же данных и оценим их важность."
   ]
  },
  {
   "cell_type": "code",
   "execution_count": 23,
   "metadata": {},
   "outputs": [
    {
     "name": "stdout",
     "output_type": "stream",
     "text": [
      "Fitting 5 folds for each of 4 candidates, totalling 20 fits\n"
     ]
    }
   ],
   "source": [
    "poly_preprocessing = ColumnTransformer(\n",
    "    [\n",
    "        ('poly', PolynomialFeatures(degree=3), num_cols),\n",
    "        ('num', MinMaxScaler(), num_cols)\n",
    "    ],\n",
    "    \n",
    "    remainder='passthrough'\n",
    ")\n",
    "\n",
    "poly_pipe = Pipeline(\n",
    "    [\n",
    "        ('preprocessing', poly_preprocessing),\n",
    "        ('models', LinearRegression())\n",
    "    ]\n",
    ")\n",
    "\n",
    "grid_poly = GridSearchCV(estimator=poly_pipe,\n",
    "                         param_grid=pdst,\n",
    "                         cv=5,\n",
    "                         scoring='neg_root_mean_squared_error',\n",
    "                         n_jobs=-1,\n",
    "                         verbose=1\n",
    "                        )\n",
    "\n",
    "grid_0_0 = grid_poly.fit(X_train_0, y_train_0)"
   ]
  },
  {
   "cell_type": "markdown",
   "metadata": {},
   "source": [
    "Теперь оценим результат."
   ]
  },
  {
   "cell_type": "code",
   "execution_count": 24,
   "metadata": {},
   "outputs": [
    {
     "name": "stdout",
     "output_type": "stream",
     "text": [
      "############################################\n",
      "лучший скейлер: {'preprocessing__num': MinMaxScaler()}\n",
      "R^2 лучшей модели: 0.29\n",
      "RMSE лучшей модели: 37.34\n",
      "среднее предсказание лучшей модели на тесте: 92.5067092779863\n"
     ]
    },
    {
     "data": {
      "image/png": "[encoded data removed]",
      "text/plain": [
       "<Figure size 1080x360 with 2 Axes>"
      ]
     },
     "metadata": {
      "needs_background": "light"
     },
     "output_type": "display_data"
    }
   ],
   "source": [
    "y_pred_0_0 = grid_0_0.best_estimator_.predict(X_test_0)\n",
    "\n",
    "print(f'############################################\\nлучший скейлер: {grid_0_0.best_params_}')\n",
    "print(f'R^2 лучшей модели: {round(r2_score(y_test_0, y_pred_0_0), 2)}')\n",
    "print(f'RMSE лучшей модели: {round(root_mean_squared_error(y_test_0, y_pred_0_0), 2)}')\n",
    "print(f'среднее предсказание лучшей модели на тесте: {y_pred_0_0.mean()}')\n",
    "\n",
    "residuals_analysis_plotter(y_test_0, y_pred_0_0, (3, 570), 30, scatter_grid=True)"
   ]
  },
  {
   "cell_type": "markdown",
   "metadata": {},
   "source": [
    "Качество, конечно, улучшилось, но совсем незначительно. Оценим признаки по важности."
   ]
  },
  {
   "cell_type": "code",
   "execution_count": 25,
   "metadata": {},
   "outputs": [
    {
     "data": {
      "image/png": "[encoded data removed]",
      "text/plain": [
       "<Figure size 720x432 with 1 Axes>"
      ]
     },
     "metadata": {
      "needs_background": "light"
     },
     "output_type": "display_data"
    }
   ],
   "source": [
    "coefs = grid_0_0.best_estimator_.named_steps['models'].coef_\n",
    "feature_importance = pd.DataFrame({'feature': grid_0_0.best_estimator_.named_steps['preprocessing'].get_feature_names_out(), 'importance': np.abs(coefs)})\n",
    "feature_importance = feature_importance.sort_values('importance', ascending=True)\n",
    "feature_importance.plot(x='feature', y='importance', kind='barh', figsize=(10, 6))\n",
    "plt.show()"
   ]
  },
  {
   "cell_type": "markdown",
   "metadata": {},
   "source": [
    "Похоже, некоторые признаки действительно важнее остальных. На графике видна 'граница', где признаки совсем утрачивают важность - это признак 'num__f0'. Посмотрим на отсортированную таблицу важности."
   ]
  },
  {
   "cell_type": "code",
   "execution_count": 26,
   "metadata": {},
   "outputs": [
    {
     "data": {
      "text/html": [
       "<div>\n",
       "<style scoped>\n",
       "    .dataframe tbody tr th:only-of-type {\n",
       "        vertical-align: middle;\n",
       "    }\n",
       "\n",
       "    .dataframe tbody tr th {\n",
       "        vertical-align: top;\n",
       "    }\n",
       "\n",
       "    .dataframe thead th {\n",
       "        text-align: right;\n",
       "    }\n",
       "</style>\n",
       "<table border=\"1\" class=\"dataframe\">\n",
       "  <thead>\n",
       "    <tr style=\"text-align: right;\">\n",
       "      <th></th>\n",
       "      <th>feature</th>\n",
       "      <th>importance</th>\n",
       "    </tr>\n",
       "  </thead>\n",
       "  <tbody>\n",
       "    <tr>\n",
       "      <th>7</th>\n",
       "      <td>poly__f1^2</td>\n",
       "      <td>23.478822</td>\n",
       "    </tr>\n",
       "    <tr>\n",
       "      <th>13</th>\n",
       "      <td>poly__f0 f1^2</td>\n",
       "      <td>19.482820</td>\n",
       "    </tr>\n",
       "    <tr>\n",
       "      <th>16</th>\n",
       "      <td>poly__f1^3</td>\n",
       "      <td>18.235643</td>\n",
       "    </tr>\n",
       "    <tr>\n",
       "      <th>5</th>\n",
       "      <td>poly__f0 f1</td>\n",
       "      <td>16.182607</td>\n",
       "    </tr>\n",
       "    <tr>\n",
       "      <th>4</th>\n",
       "      <td>poly__f0^2</td>\n",
       "      <td>16.170044</td>\n",
       "    </tr>\n",
       "    <tr>\n",
       "      <th>2</th>\n",
       "      <td>poly__f1</td>\n",
       "      <td>13.302126</td>\n",
       "    </tr>\n",
       "    <tr>\n",
       "      <th>10</th>\n",
       "      <td>poly__f0^3</td>\n",
       "      <td>9.518202</td>\n",
       "    </tr>\n",
       "    <tr>\n",
       "      <th>3</th>\n",
       "      <td>poly__f2</td>\n",
       "      <td>6.684922</td>\n",
       "    </tr>\n",
       "    <tr>\n",
       "      <th>11</th>\n",
       "      <td>poly__f0^2 f1</td>\n",
       "      <td>6.405874</td>\n",
       "    </tr>\n",
       "    <tr>\n",
       "      <th>21</th>\n",
       "      <td>num__f1</td>\n",
       "      <td>6.068522</td>\n",
       "    </tr>\n",
       "    <tr>\n",
       "      <th>1</th>\n",
       "      <td>poly__f0</td>\n",
       "      <td>3.652639</td>\n",
       "    </tr>\n",
       "    <tr>\n",
       "      <th>20</th>\n",
       "      <td>num__f0</td>\n",
       "      <td>0.968629</td>\n",
       "    </tr>\n",
       "    <tr>\n",
       "      <th>9</th>\n",
       "      <td>poly__f2^2</td>\n",
       "      <td>0.254232</td>\n",
       "    </tr>\n",
       "    <tr>\n",
       "      <th>22</th>\n",
       "      <td>num__f2</td>\n",
       "      <td>0.237964</td>\n",
       "    </tr>\n",
       "    <tr>\n",
       "      <th>12</th>\n",
       "      <td>poly__f0^2 f2</td>\n",
       "      <td>0.134081</td>\n",
       "    </tr>\n",
       "    <tr>\n",
       "      <th>8</th>\n",
       "      <td>poly__f1 f2</td>\n",
       "      <td>0.130118</td>\n",
       "    </tr>\n",
       "    <tr>\n",
       "      <th>17</th>\n",
       "      <td>poly__f1^2 f2</td>\n",
       "      <td>0.118106</td>\n",
       "    </tr>\n",
       "    <tr>\n",
       "      <th>6</th>\n",
       "      <td>poly__f0 f2</td>\n",
       "      <td>0.046224</td>\n",
       "    </tr>\n",
       "    <tr>\n",
       "      <th>19</th>\n",
       "      <td>poly__f2^3</td>\n",
       "      <td>0.029159</td>\n",
       "    </tr>\n",
       "    <tr>\n",
       "      <th>18</th>\n",
       "      <td>poly__f1 f2^2</td>\n",
       "      <td>0.028410</td>\n",
       "    </tr>\n",
       "    <tr>\n",
       "      <th>14</th>\n",
       "      <td>poly__f0 f1 f2</td>\n",
       "      <td>0.021095</td>\n",
       "    </tr>\n",
       "    <tr>\n",
       "      <th>15</th>\n",
       "      <td>poly__f0 f2^2</td>\n",
       "      <td>0.019500</td>\n",
       "    </tr>\n",
       "    <tr>\n",
       "      <th>0</th>\n",
       "      <td>poly__1</td>\n",
       "      <td>0.000000</td>\n",
       "    </tr>\n",
       "  </tbody>\n",
       "</table>\n",
       "</div>"
      ],
      "text/plain": [
       "           feature  importance\n",
       "7       poly__f1^2   23.478822\n",
       "13   poly__f0 f1^2   19.482820\n",
       "16      poly__f1^3   18.235643\n",
       "5      poly__f0 f1   16.182607\n",
       "4       poly__f0^2   16.170044\n",
       "2         poly__f1   13.302126\n",
       "10      poly__f0^3    9.518202\n",
       "3         poly__f2    6.684922\n",
       "11   poly__f0^2 f1    6.405874\n",
       "21         num__f1    6.068522\n",
       "1         poly__f0    3.652639\n",
       "20         num__f0    0.968629\n",
       "9       poly__f2^2    0.254232\n",
       "22         num__f2    0.237964\n",
       "12   poly__f0^2 f2    0.134081\n",
       "8      poly__f1 f2    0.130118\n",
       "17   poly__f1^2 f2    0.118106\n",
       "6      poly__f0 f2    0.046224\n",
       "19      poly__f2^3    0.029159\n",
       "18   poly__f1 f2^2    0.028410\n",
       "14  poly__f0 f1 f2    0.021095\n",
       "15   poly__f0 f2^2    0.019500\n",
       "0          poly__1    0.000000"
      ]
     },
     "metadata": {},
     "output_type": "display_data"
    }
   ],
   "source": [
    "display(feature_importance.sort_values('importance', ascending=False))"
   ]
  },
  {
   "cell_type": "markdown",
   "metadata": {},
   "source": [
    "И правда, коэффициент важности признака 'num__f0' составляет порядка 1. Попробуем обучить модель на данных с учетом признаков, чья значимость больше значимости признака 'num__f0'."
   ]
  },
  {
   "cell_type": "code",
   "execution_count": 27,
   "metadata": {},
   "outputs": [],
   "source": [
    "important_features = feature_importance.query('importance >= 0.8')['feature'].to_list()"
   ]
  },
  {
   "cell_type": "code",
   "execution_count": 28,
   "metadata": {},
   "outputs": [],
   "source": [
    "X_train_0_0 = pd.DataFrame(poly_preprocessing.fit_transform(X_train_0), columns=poly_preprocessing.get_feature_names_out())\n",
    "X_train_0_0 = X_train_0_0[important_features]\n",
    "\n",
    "X_test_0_0 = pd.DataFrame(poly_preprocessing.transform(X_test_0), columns=poly_preprocessing.get_feature_names_out())\n",
    "X_test_0_0 = X_test_0_0[important_features]"
   ]
  },
  {
   "cell_type": "code",
   "execution_count": 29,
   "metadata": {},
   "outputs": [
    {
     "name": "stdout",
     "output_type": "stream",
     "text": [
      "R^2 модели: 0.29\n",
      "RMSE модели: 37.42\n"
     ]
    },
    {
     "data": {
      "image/png": "[encoded data removed]",
      "text/plain": [
       "<Figure size 1080x360 with 2 Axes>"
      ]
     },
     "metadata": {
      "needs_background": "light"
     },
     "output_type": "display_data"
    }
   ],
   "source": [
    "model = LinearRegression()\n",
    "model.fit(X_train_0_0, y_train_0)\n",
    "\n",
    "y_pred_0_1 = model.predict(X_test_0_0)\n",
    "\n",
    "print(f'R^2 модели: {round(r2_score(y_test_0, y_pred_0_1), 2)}')\n",
    "print(f'RMSE модели: {round(root_mean_squared_error(y_test_0, y_pred_0_1), 2)}')\n",
    "\n",
    "residuals_analysis_plotter(y_test_0, y_pred_0_1, (3, 550), 30, scatter_grid=True)"
   ]
  },
  {
   "cell_type": "code",
   "execution_count": 30,
   "metadata": {},
   "outputs": [],
   "source": [
    "X_train_0_0 = pd.DataFrame(poly_preprocessing.fit_transform(X_train_0), columns=poly_preprocessing.get_feature_names_out())\n",
    "X_train_0_0 = X_train_0_0[important_features]\n",
    "\n",
    "X_test_0_0 = pd.DataFrame(poly_preprocessing.transform(X_test_0), columns=poly_preprocessing.get_feature_names_out())\n",
    "X_test_0_0 = X_test_0_0[important_features]"
   ]
  },
  {
   "cell_type": "markdown",
   "metadata": {},
   "source": [
    "Качество модели осталось примерно таким же, как и при наличии всех остальных признаков, даже чуть ухудшилось. Качество модели в принципе выросло после введения полиномиальных признаков (R^2 поднялся на 0.02, а среднеквадратичная ошибка незначительно уменьшилась), однако выросло оно незначительно."
   ]
  },
  {
   "cell_type": "markdown",
   "metadata": {},
   "source": [
    "#### Вывод по отбору признаков для первой модели"
   ]
  },
  {
   "cell_type": "markdown",
   "metadata": {},
   "source": [
    "Отбор признаков для первой модели не дал какого-то существенного результата, поэтому в дальнейшем (заглядывая вперед, при обучении третьей модели) им можно пренебречь, поскольку данные в датасетах в принципе похожи."
   ]
  },
  {
   "cell_type": "markdown",
   "metadata": {},
   "source": [
    "#### Обучение второй модели"
   ]
  },
  {
   "cell_type": "code",
   "execution_count": 31,
   "metadata": {},
   "outputs": [
    {
     "name": "stdout",
     "output_type": "stream",
     "text": [
      "Fitting 5 folds for each of 4 candidates, totalling 20 fits\n",
      "############################################\n",
      "лучший скейлер: {'preprocessing__num': RobustScaler()}\n",
      "R^2 лучшей модели: 1.0\n",
      "RMSE модели: 0.89\n",
      "среднее предсказание лучшей модели на тесте: 68.8193838168864\n"
     ]
    },
    {
     "data": {
      "image/png": "[encoded data removed]",
      "text/plain": [
       "<Figure size 1080x360 with 2 Axes>"
      ]
     },
     "metadata": {
      "needs_background": "light"
     },
     "output_type": "display_data"
    }
   ],
   "source": [
    "grid_1 = grid.fit(X_train_1, y_train_1)\n",
    "\n",
    "y_pred_1 = grid_1.best_estimator_.predict(X_test_1)\n",
    "\n",
    "print(f'############################################\\nлучший скейлер: {grid_1.best_params_}')\n",
    "print(f'R^2 лучшей модели: {round(r2_score(y_test_1, y_pred_1), 2)}')\n",
    "print(f'RMSE модели: {round(root_mean_squared_error(y_test_1, y_pred_1), 2)}')\n",
    "print(f'среднее предсказание лучшей модели на тесте: {y_pred_1.mean()}')\n",
    "\n",
    "residuals_analysis_plotter(y_test_1, y_pred_1, (0.21, 1200), 30, scatter_grid=True)"
   ]
  },
  {
   "cell_type": "markdown",
   "metadata": {},
   "source": [
    "Вторая модель оказалась самой лучшей - у неё максимальный коэффициент детерминации и малая среднеквадратичная ошибка. Ошибки распределены нормально вокруг нуля с незначительным смещением влево; дисперсия ошибок мала и постоянна. Такое значение коэффициента детерминации говорит о практически полной зависимости целевой переменной от входных, а важность признака 'f2' для модели опять косвенно подтвеждается диаграммой рассеяния ошибок."
   ]
  },
  {
   "cell_type": "markdown",
   "metadata": {},
   "source": [
    "#### Обучение третьей модели"
   ]
  },
  {
   "cell_type": "code",
   "execution_count": 32,
   "metadata": {},
   "outputs": [
    {
     "name": "stdout",
     "output_type": "stream",
     "text": [
      "Fitting 5 folds for each of 4 candidates, totalling 20 fits\n",
      "############################################\n",
      "лучший скейлер: {'preprocessing__num': StandardScaler()}\n",
      "R^2 лучшей модели: 0.2\n",
      "RMSE модели: 40.14\n",
      "среднее предсказание лучшей модели на тесте: 95.08577045778986\n"
     ]
    },
    {
     "data": {
      "image/png": "[encoded data removed]",
      "text/plain": [
       "<Figure size 1080x360 with 2 Axes>"
      ]
     },
     "metadata": {
      "needs_background": "light"
     },
     "output_type": "display_data"
    }
   ],
   "source": [
    "grid_2 = grid.fit(X_train_2, y_train_2)\n",
    "\n",
    "y_pred_2 = grid_2.best_estimator_.predict(X_test_2)\n",
    "\n",
    "print(f'############################################\\nлучший скейлер: {grid_2.best_params_}')\n",
    "print(f'R^2 лучшей модели: {round(r2_score(y_test_2, y_pred_2), 2)}')\n",
    "print(f'RMSE модели: {round(root_mean_squared_error(y_test_2, y_pred_2), 2)}')\n",
    "print(f'среднее предсказание лучшей модели на тесте: {y_pred_2.mean()}')\n",
    "\n",
    "residuals_analysis_plotter(y_test_2, y_pred_2, (3, 800), 30, scatter_grid=True)"
   ]
  },
  {
   "cell_type": "markdown",
   "metadata": {},
   "source": [
    "Третья модель показала ещё более плохие результаты, чем первая. К ней применимо всё то же самое."
   ]
  },
  {
   "cell_type": "markdown",
   "metadata": {},
   "source": [
    "### Проверка моделей на адекватность"
   ]
  },
  {
   "cell_type": "markdown",
   "metadata": {},
   "source": [
    "Проверим наши модели на адекватность предсказанием константы."
   ]
  },
  {
   "cell_type": "code",
   "execution_count": 33,
   "metadata": {},
   "outputs": [],
   "source": [
    "dummy_pipe = Pipeline(\n",
    "    [\n",
    "        ('preprocessing', data_preprocessing),\n",
    "        ('models', DummyRegressor())\n",
    "    ]\n",
    ")\n",
    "\n",
    "dummy_params = [\n",
    "    {\n",
    "        'models': [DummyRegressor()],\n",
    "        'models__strategy': ['mean',\n",
    "                             'median'\n",
    "                            ],\n",
    "        'preprocessing__num': [StandardScaler(),\n",
    "                               MinMaxScaler(),\n",
    "                               RobustScaler(),\n",
    "                               'passthrough'\n",
    "                              ]\n",
    "    },\n",
    "    {\n",
    "        'models': [DummyRegressor()],\n",
    "        'models__strategy': ['quantile'],\n",
    "        'models__quantile': np.arange(0, 1, 0.05),\n",
    "        'preprocessing__num': [StandardScaler(),\n",
    "                               MinMaxScaler(),\n",
    "                               RobustScaler(),\n",
    "                               'passthrough'\n",
    "                              ]\n",
    "    },\n",
    "    {\n",
    "        'models': [DummyRegressor()],\n",
    "        'models__strategy': ['constant'],\n",
    "        'models__constant': np.arange(0, 1, 0.01),\n",
    "        'preprocessing__num': [StandardScaler(),\n",
    "                               MinMaxScaler(),\n",
    "                               RobustScaler(),\n",
    "                               'passthrough'\n",
    "                              ]\n",
    "    }\n",
    "]\n",
    "\n",
    "dummy_grid = GridSearchCV(dummy_pipe,\n",
    "                          param_grid=dummy_params,\n",
    "                          cv=5,\n",
    "                          scoring='neg_root_mean_squared_error',\n",
    "                          n_jobs=-1,\n",
    "                          verbose=1\n",
    "                         )"
   ]
  },
  {
   "cell_type": "markdown",
   "metadata": {},
   "source": [
    "Обучим первую dummy-модель и сравним результаты."
   ]
  },
  {
   "cell_type": "code",
   "execution_count": 34,
   "metadata": {},
   "outputs": [
    {
     "name": "stdout",
     "output_type": "stream",
     "text": [
      "Fitting 5 folds for each of 488 candidates, totalling 2440 fits\n",
      "###########################################\n",
      "Лучший показатель RMSE при кросс-валидации: 44.28\n",
      "RMSE на тестовых данных: 44.32\n",
      "R^2 на тестовых данных: -0.0\n",
      "###########################################\n",
      "Показатель RMSE ориг_модели на тесте: 37.79\n",
      "R^2 ориг_модели на тесте: 0.27\n"
     ]
    }
   ],
   "source": [
    "dummy_grid_0 = dummy_grid.fit(X_train_0, y_train_0)\n",
    "\n",
    "dummy_pred_0 = dummy_grid_0.predict(X_test_0)\n",
    "\n",
    "print('###########################################')\n",
    "print(f'Лучший показатель RMSE при кросс-валидации: {round(np.abs(dummy_grid_0.best_score_), 2)}')\n",
    "print(f'RMSE на тестовых данных: {round(root_mean_squared_error(y_test_0, dummy_pred_0), 2)}')\n",
    "print(f'R^2 на тестовых данных: {round(r2_score(y_test_0, dummy_pred_0), 2)}')\n",
    "print('###########################################')\n",
    "print(f'Показатель RMSE ориг_модели на тесте: {round(root_mean_squared_error(y_test_0, y_pred_0), 2)}')\n",
    "print(f'R^2 ориг_модели на тесте: {round(r2_score(y_test_0, y_pred_0), 2)}')"
   ]
  },
  {
   "cell_type": "markdown",
   "metadata": {},
   "source": [
    "Коэффициент детерминации при предсказании константы равен 0, что неудивительно. Тем не менее, среднеквадратичная ошибка почти такая же, как и у модели. Похоже, модель действительно получилась плохой и предсказывает чуть лучше dummy-модели, что неутешительно."
   ]
  },
  {
   "cell_type": "code",
   "execution_count": 35,
   "metadata": {},
   "outputs": [
    {
     "name": "stdout",
     "output_type": "stream",
     "text": [
      "Fitting 5 folds for each of 488 candidates, totalling 2440 fits\n",
      "###########################################\n",
      "Лучший показатель RMSE при кросс-валидации: 45.99\n",
      "RMSE на тестовых данных: 45.81\n",
      "R^2 на тестовых данных: -0.0\n",
      "###########################################\n",
      "Показатель RMSE ориг_модели на тесте: 0.89\n",
      "R^2 ориг_модели на тесте: 1.0\n"
     ]
    }
   ],
   "source": [
    "dummy_grid_1 = dummy_grid.fit(X_train_1, y_train_1)\n",
    "\n",
    "dummy_pred_1 = dummy_grid_1.predict(X_test_1)\n",
    "\n",
    "print('###########################################')\n",
    "print(f'Лучший показатель RMSE при кросс-валидации: {round(np.abs(dummy_grid_1.best_score_), 2)}')\n",
    "print(f'RMSE на тестовых данных: {round(root_mean_squared_error(y_test_1, dummy_pred_1), 2)}')\n",
    "print(f'R^2 на тестовых данных: {round(r2_score(y_test_1, dummy_pred_1), 2)}')\n",
    "print('###########################################')\n",
    "print(f'Показатель RMSE ориг_модели на тесте: {round(root_mean_squared_error(y_test_1, y_pred_1), 2)}')\n",
    "print(f'R^2 ориг_модели на тесте: {round(r2_score(y_test_1, y_pred_1), 2)}')"
   ]
  },
  {
   "cell_type": "markdown",
   "metadata": {},
   "source": [
    "Вторая модель действительно получилась хорошей и практически полностью соответствует данным, отрыв метрик по сравнению с dummy-моделью космический."
   ]
  },
  {
   "cell_type": "code",
   "execution_count": 36,
   "metadata": {},
   "outputs": [
    {
     "name": "stdout",
     "output_type": "stream",
     "text": [
      "Fitting 5 folds for each of 488 candidates, totalling 2440 fits\n",
      "###########################################\n",
      "Лучший показатель RMSE при кросс-валидации: 44.73\n",
      "RMSE на тестовых данных: 44.83\n",
      "R^2 на тестовых данных: -0.0\n",
      "###########################################\n",
      "Показатель RMSE ориг_модели на тесте: 40.14\n",
      "R^2 ориг_модели на тесте: 0.2\n"
     ]
    }
   ],
   "source": [
    "dummy_grid_2 = dummy_grid.fit(X_train_2, y_train_2)\n",
    "\n",
    "dummy_pred_2 = dummy_grid_2.predict(X_test_2)\n",
    "\n",
    "print('###########################################')\n",
    "print(f'Лучший показатель RMSE при кросс-валидации: {round(np.abs(dummy_grid_2.best_score_), 2)}')\n",
    "print(f'RMSE на тестовых данных: {round(root_mean_squared_error(y_test_2, dummy_pred_2), 2)}')\n",
    "print(f'R^2 на тестовых данных: {round(r2_score(y_test_2, dummy_pred_2), 2)}')\n",
    "print('###########################################')\n",
    "print(f'Показатель RMSE ориг_модели на тесте: {round(root_mean_squared_error(y_test_2, y_pred_2), 2)}')\n",
    "print(f'R^2 ориг_модели на тесте: {round(r2_score(y_test_2, y_pred_2), 2)}')"
   ]
  },
  {
   "cell_type": "markdown",
   "metadata": {},
   "source": [
    "Третья модель получилась самой худшей и плохо предсказывает целевой признак, её среднеквадратичная ошибка наиболее близка к RMSE dummy-модели."
   ]
  },
  {
   "cell_type": "markdown",
   "metadata": {},
   "source": [
    "### Выводы"
   ]
  },
  {
   "cell_type": "markdown",
   "metadata": {},
   "source": [
    "Из трех регрессионных моделей хорошей (если не отличной) оказалась только одна; две остальные очень плохо справляются с данными и их предсказания несильно отличаются от константных. Вероятнее всего, это связано с особенностями данных, которые мы подметили ранее. Похоже, в данных содержатся особые нелинейные закономерности, и регрессия попросту не подходит, однако по условиям задачи нам необходимо использовать только линейную регрессию, поэтому оставим работу моделей как есть, тем более суть задания заключается в другом."
   ]
  },
  {
   "cell_type": "markdown",
   "metadata": {},
   "source": [
    "## Подготовка к расчёту прибыли"
   ]
  },
  {
   "cell_type": "markdown",
   "metadata": {},
   "source": [
    "Приступим к расчету достаточного запаса сырья для безубыточной добычи. Рассчитаем средний запас исходя из условий задачи:"
   ]
  },
  {
   "cell_type": "code",
   "execution_count": 37,
   "metadata": {},
   "outputs": [
    {
     "name": "stdout",
     "output_type": "stream",
     "text": [
      "Средний объем сырья для безубыточной добычи: 111.11\n"
     ]
    }
   ],
   "source": [
    "well_mean_capacity_needed = round(BUDGET_AKA_COSTS / (ITEM_PRICE * BEST_WELLS), 2)\n",
    "\n",
    "print('Средний объем сырья для безубыточной добычи:', well_mean_capacity_needed)"
   ]
  },
  {
   "cell_type": "markdown",
   "metadata": {},
   "source": [
    "Похоже, для безубыточной добычи нам необходимо в среднем получать 111.11 тыс. баррелей со скважины. Сравним это значение это средними значениями в данных."
   ]
  },
  {
   "cell_type": "code",
   "execution_count": 38,
   "metadata": {},
   "outputs": [
    {
     "name": "stdout",
     "output_type": "stream",
     "text": [
      "Средний запас скважины в первом регионе: 92.5\n",
      "Средний запас скважины во втором регионе: 68.83\n",
      "Средний запас скважины в третьем регионе: 95.0\n"
     ]
    }
   ],
   "source": [
    "print('Средний запас скважины в первом регионе:', round(gd_0['product'].mean(), 2))\n",
    "print('Средний запас скважины во втором регионе:', round(gd_1['product'].mean(), 2))\n",
    "print('Средний запас скважины в третьем регионе:', round(gd_2['product'].mean(), 2))"
   ]
  },
  {
   "cell_type": "markdown",
   "metadata": {},
   "source": [
    "Средние значения объема запасов скважин во всех регионах ощутимо ниже, чем необходимое среднее, особенно во втором регионе. Попробуем оценить вероятность встретить скважину с объемом 111.11 тыс. баррелей и больше среди 500 случайных скважин для разработки при допущении, что объем запасов в выборках распределен нормально."
   ]
  },
  {
   "cell_type": "code",
   "execution_count": 39,
   "metadata": {},
   "outputs": [
    {
     "name": "stdout",
     "output_type": "stream",
     "text": [
      "Усредненная ероятность найти скважину с объемом 111.11 тыс. баррелей и больше в первом регионе: 0.34\n",
      "Усредненная вероятность найти скважину с объемом 111.11 тыс. баррелей и больше во втором регионе: 0.18\n",
      "Усредненная вероятность найти скважину с объемом 111.11 тыс. баррелей и больше в третьем регионе: 0.36\n"
     ]
    }
   ],
   "source": [
    "results_0 = needed_mean_capacity_probability_evaluation(gd_0)\n",
    "results_1 = needed_mean_capacity_probability_evaluation(gd_1)\n",
    "results_2 = needed_mean_capacity_probability_evaluation(gd_2)\n",
    "\n",
    "print('Усредненная ероятность найти скважину с объемом 111.11 тыс. баррелей и больше в первом регионе:', results_0)\n",
    "print('Усредненная вероятность найти скважину с объемом 111.11 тыс. баррелей и больше во втором регионе:', results_1)\n",
    "print('Усредненная вероятность найти скважину с объемом 111.11 тыс. баррелей и больше в третьем регионе:', results_2)"
   ]
  },
  {
   "cell_type": "markdown",
   "metadata": {},
   "source": [
    "### Вывод по подготовке расчета прибыли"
   ]
  },
  {
   "cell_type": "markdown",
   "metadata": {},
   "source": [
    "В целом, мы получили закономерный результат. В первом и третьем регионах вероятность встретить скважину с искомым объемом действительно высока (порядка 0.35), чего не скажешь о втором регионе. Напоминание: если вероятность встретить то или иное значение равна или близка к 0.5, то это значение можно считать средним или близким к таковому. При принятии решений стоит учитывать полученный результат."
   ]
  },
  {
   "cell_type": "markdown",
   "metadata": {},
   "source": [
    "Далее оценим вероятность убытков и получения прибыли с учетом прогнозов построенных ранее моделей."
   ]
  },
  {
   "cell_type": "markdown",
   "metadata": {},
   "source": [
    "## Расчет рисков и прибыли в каждом регионе"
   ]
  },
  {
   "cell_type": "markdown",
   "metadata": {},
   "source": [
    "Функция для расчета прибыли находится в начале проекта."
   ]
  },
  {
   "cell_type": "markdown",
   "metadata": {},
   "source": [
    "### Первый регион"
   ]
  },
  {
   "cell_type": "markdown",
   "metadata": {},
   "source": [
    "С помощью техники bootstrap найдем распределение прибыли для первого региона на основе предсказаний модели и соответствующих им реальных данных. Будем использовать тысячу выборок, как указано в условии задачи."
   ]
  },
  {
   "cell_type": "code",
   "execution_count": 40,
   "metadata": {},
   "outputs": [],
   "source": [
    "profit_dist_0_1 = bootstrap(y_test_0, y_pred_0, 1000)"
   ]
  },
  {
   "cell_type": "markdown",
   "metadata": {},
   "source": [
    "Проверим полученное распределение прибыли на нормальность, на всякий случай (alpha=0.05)."
   ]
  },
  {
   "cell_type": "code",
   "execution_count": 41,
   "metadata": {},
   "outputs": [
    {
     "name": "stdout",
     "output_type": "stream",
     "text": [
      "p-value теста Шапиро-Уилка: 0.03679567575454712\n",
      "Вероятно, распределение не нормальное\n"
     ]
    }
   ],
   "source": [
    "normtest(profit_dist_0_1)"
   ]
  },
  {
   "cell_type": "markdown",
   "metadata": {},
   "source": [
    "По всей видимости, у нас недостаточно оснований считать распределение нормальным, поэтому расчеты, основанные на типе распределения нам не подойдут. Далее рассчитаем доверительный интервал и среднюю прибыль."
   ]
  },
  {
   "cell_type": "code",
   "execution_count": 42,
   "metadata": {},
   "outputs": [
    {
     "name": "stdout",
     "output_type": "stream",
     "text": [
      "Средняя выборочная прибыль: 645.37M\n",
      "95%-й доверительный интервал распределения прибыли: 54.06M — 1.26B\n"
     ]
    }
   ],
   "source": [
    "profit_mean(profit_dist_0_1)\n",
    "confidence_interval(profit_dist_0_1)"
   ]
  },
  {
   "cell_type": "markdown",
   "metadata": {},
   "source": [
    "95%-ый доверительный интервал для прибыли равен (54.06 млн., 1.26 млрд.), а ожидаемая средняя прибыль - 645.37 млн. Теперь рассчитаем вероятность убытков и заодно нарисуем график для наглядности."
   ]
  },
  {
   "cell_type": "code",
   "execution_count": 43,
   "metadata": {},
   "outputs": [
    {
     "name": "stdout",
     "output_type": "stream",
     "text": [
      "Вероятность понести убытки: 1.9%\n",
      "2.5%-й квантиль для распределения потенциальной прибыли в регионе: 54.06M\n"
     ]
    },
    {
     "data": {
      "image/png": "[encoded data removed]",
      "text/plain": [
       "<Figure size 1440x720 with 1 Axes>"
      ]
     },
     "metadata": {
      "needs_background": "light"
     },
     "output_type": "display_data"
    }
   ],
   "source": [
    "loss_graph(profit_dist_0_1)"
   ]
  },
  {
   "cell_type": "markdown",
   "metadata": {},
   "source": [
    "Итак, выборочное среднее равно 650.31 млн., а вероятность понести убытки составляет 1.9%, что удовлетворяет условиям задачи. Отбором лучшего региона для разработки займемся далее."
   ]
  },
  {
   "cell_type": "markdown",
   "metadata": {},
   "source": [
    "### Второй регион"
   ]
  },
  {
   "cell_type": "markdown",
   "metadata": {},
   "source": [
    "Проделаем все те же самые манипуляции с данными и моделью для второго региона."
   ]
  },
  {
   "cell_type": "markdown",
   "metadata": {},
   "source": [
    "Опять попробуем проверить распределение на нормальность."
   ]
  },
  {
   "cell_type": "code",
   "execution_count": 44,
   "metadata": {},
   "outputs": [
    {
     "name": "stdout",
     "output_type": "stream",
     "text": [
      "p-value теста Шапиро-Уилка: 0.0023839534260332584\n",
      "Вероятно, распределение не нормальное\n"
     ]
    }
   ],
   "source": [
    "profit_dist_1_1 = bootstrap(y_test_1, y_pred_1, 1000)\n",
    "normtest(profit_dist_1_1)"
   ]
  },
  {
   "cell_type": "code",
   "execution_count": 45,
   "metadata": {},
   "outputs": [
    {
     "name": "stdout",
     "output_type": "stream",
     "text": [
      "Средняя выборочная прибыль: 641.38M\n",
      "95%-й доверительный интервал распределения прибыли: 139.47M — 1.21B\n"
     ]
    }
   ],
   "source": [
    "profit_mean(profit_dist_1_1)\n",
    "confidence_interval(profit_dist_1_1)"
   ]
  },
  {
   "cell_type": "code",
   "execution_count": 46,
   "metadata": {},
   "outputs": [
    {
     "name": "stdout",
     "output_type": "stream",
     "text": [
      "Вероятность понести убытки: 0.6%\n",
      "2.5%-й квантиль для распределения потенциальной прибыли в регионе: 139.47M\n"
     ]
    },
    {
     "data": {
      "image/png": "[encoded data removed]",
      "text/plain": [
       "<Figure size 1440x720 with 1 Axes>"
      ]
     },
     "metadata": {
      "needs_background": "light"
     },
     "output_type": "display_data"
    }
   ],
   "source": [
    "loss_graph(profit_dist_1_1)"
   ]
  },
  {
   "cell_type": "markdown",
   "metadata": {},
   "source": [
    "Вероятность убытков составляет всего 0.6%, что является лучшим результатом и удовлетворяет условиям задачи. 0.025 квантиль равен 139.47 млн."
   ]
  },
  {
   "cell_type": "markdown",
   "metadata": {},
   "source": [
    "### Третий регион"
   ]
  },
  {
   "cell_type": "markdown",
   "metadata": {},
   "source": [
    "Рассчитаем всё те же показатели для третьего региона по тому же алгоритму."
   ]
  },
  {
   "cell_type": "code",
   "execution_count": 47,
   "metadata": {},
   "outputs": [
    {
     "name": "stdout",
     "output_type": "stream",
     "text": [
      "p-value теста Шапиро-Уилка: 0.03485266491770744\n",
      "Вероятно, распределение не нормальное\n"
     ]
    }
   ],
   "source": [
    "profit_dist_2_1 = bootstrap(y_test_2, y_pred_2, 1000)\n",
    "normtest(profit_dist_2_1)"
   ]
  },
  {
   "cell_type": "markdown",
   "metadata": {},
   "source": [
    "Это распределение тоже не является нормальным."
   ]
  },
  {
   "cell_type": "markdown",
   "metadata": {},
   "source": [
    "Рассчитываем среднее и 95%-й доверительный интервал."
   ]
  },
  {
   "cell_type": "code",
   "execution_count": 48,
   "metadata": {},
   "outputs": [
    {
     "name": "stdout",
     "output_type": "stream",
     "text": [
      "Средняя выборочная прибыль: 523.03M\n",
      "95%-й доверительный интервал распределения прибыли: -91.21M — 1.19B\n"
     ]
    }
   ],
   "source": [
    "profit_mean(profit_dist_2_1)\n",
    "confidence_interval(profit_dist_2_1)"
   ]
  },
  {
   "cell_type": "markdown",
   "metadata": {},
   "source": [
    "Строим график для нашего распределения прибыли."
   ]
  },
  {
   "cell_type": "code",
   "execution_count": 49,
   "metadata": {},
   "outputs": [
    {
     "name": "stdout",
     "output_type": "stream",
     "text": [
      "Вероятность понести убытки: 5.1%\n",
      "2.5%-й квантиль для распределения потенциальной прибыли в регионе: -91.21M\n"
     ]
    },
    {
     "data": {
      "image/png": "[encoded data removed]",
      "text/plain": [
       "<Figure size 1440x720 with 1 Axes>"
      ]
     },
     "metadata": {
      "needs_background": "light"
     },
     "output_type": "display_data"
    }
   ],
   "source": [
    "loss_graph(profit_dist_2_1)"
   ]
  },
  {
   "cell_type": "markdown",
   "metadata": {},
   "source": [
    "В этом регионе наибольшая вероятность понести убытки (5.1%), поэтому данный регион точно отметается. Это подтвеждается значением 2.5%-ого квантиля, которое находится за порогом прибыли и составляет -91.21 млн."
   ]
  },
  {
   "cell_type": "markdown",
   "metadata": {},
   "source": [
    "### Итоговый отчет"
   ]
  },
  {
   "cell_type": "markdown",
   "metadata": {},
   "source": [
    "Согласно условиям задачи, для разработки месторождений подходят только те регионы, вероятность понести убытки в которых не превышает 2.5%. Отсюда следует, что выбирать придется всего из двух регионов - первого и второго. Вот характеристики регионов и потенциальной прибыли:\n",
    "****\n",
    "1. первый регион:\n",
    "    - ожидаемая средняя прибыль: **645.37 млн. руб.**\n",
    "    - 95%-й доверительный интервал для средней прибыли: **54.06 млн. — 1.26 млрд. руб.**\n",
    "    - вероятность понести убытки: **1.9%**\n",
    "    - 2.5%-й квантиль: **54.06 млн. руб.**\n",
    "    - ожидаемый объем случайного месторождения: **92.5 тыс. баррелей**\n",
    "    - оценка вероятности нахождения случайного месторождения с усредненным минимальным объемом запасов: **34%**\n",
    "****\n",
    "2. второй регион:\n",
    "    - ожидаемая средняя прибыль: **641.38 млн. руб.**\n",
    "    - 95%-й доверительный интервал для средней прибыли: **139.47 млн. — 1.21 млрд. руб.**\n",
    "    - вероятность понести убытки исходя из cdf-расчета: **0.6%**\n",
    "    - 2.5%-й квантиль: **139.47 млн. руб.**\n",
    "    - ожидаемый объем случайного месторождения: **68.83 тыс. баррелей**\n",
    "    - оценка вероятности нахождения случайного месторождения с усредненным минимальным объемом запасов: **18%**\n",
    "****\n",
    "3. При выборе также следует учитывать характеристики построенных моделей. Модель для первого региона работает не очень хорошо, в то время как модель для второго региона хорошо объясняет данные и делает точные предсказания."
   ]
  },
  {
   "cell_type": "markdown",
   "metadata": {},
   "source": [
    "1. **Исходя из проведенных расчетов и полученных значений** можно заключить, что наилучшим вариантом для разработки нефтяных месторождений будет выбрать именно второй регион. Данный выбор можно обосновать ощутимо меньшей вероятностью убытков, а также тем, что построенная модель гораздо лучше описывает данные и делает более точные предсказания, что подкрепляет достоверность расчетов. Ожидаемая прибыль в данном регионе чуть меньше ожидаемой прибыли в первом регионе, однако её разброс также меньше.\n",
    "2. Единственная загвозка заключается в ожидаемом объеме запасов случайного месторождения и вероятности нахождения скважины с минимальным средним объемом запасов и выше: первый регион в этом плане смотрится \"симпатичнее\", учитывая что количество рассматриваемых и потенциально разрабатываемых месторождений сильно ограничено.\n",
    "\n",
    "**Итого:** на основании имеющихся данных, проведенных расчетов и обозначенных выводов для разработки месторождений стоит выбрать именно второй регион, так как это надежнее. Тем не менее, вероятно, можно попробовать поработать с данными или подобрать другие модели, которые лучше бы объясняли данные первого региона и имели бы большую предсказательную силу: это могло бы уменьшить вероятность убытков и сильнее подкрепить расчеты. Первый регион, согласно реальным признакам, выглядит перспективнее второго, однако для его выбора в данной ситуации нам не хватает обоснованной оценки, максимально приближенной к реальности."
   ]
  },
  {
   "cell_type": "code",
   "execution_count": null,
   "metadata": {},
   "outputs": [],
   "source": []
  }
 ],
 "metadata": {
  "ExecuteTimeLog": [
   {
    "duration": 406,
    "start_time": "2024-05-20T08:23:27.258Z"
   },
   {
    "duration": 244,
    "start_time": "2024-05-20T08:23:43.760Z"
   },
   {
    "duration": 148,
    "start_time": "2024-05-20T08:23:52.493Z"
   },
   {
    "duration": 221,
    "start_time": "2024-05-20T09:07:28.905Z"
   },
   {
    "duration": 144,
    "start_time": "2024-05-20T09:07:35.892Z"
   },
   {
    "duration": 149,
    "start_time": "2024-05-20T09:07:37.240Z"
   },
   {
    "duration": 145,
    "start_time": "2024-05-20T09:08:09.566Z"
   },
   {
    "duration": 135,
    "start_time": "2024-05-20T09:08:10.458Z"
   },
   {
    "duration": 244,
    "start_time": "2024-05-20T09:08:28.004Z"
   },
   {
    "duration": 375,
    "start_time": "2024-05-20T09:11:05.688Z"
   },
   {
    "duration": 163,
    "start_time": "2024-05-20T09:11:06.065Z"
   },
   {
    "duration": 141,
    "start_time": "2024-05-20T09:11:06.229Z"
   },
   {
    "duration": 133,
    "start_time": "2024-05-20T09:11:06.372Z"
   },
   {
    "duration": 161,
    "start_time": "2024-05-20T09:11:36.734Z"
   },
   {
    "duration": 141,
    "start_time": "2024-05-20T09:11:37.342Z"
   },
   {
    "duration": 160,
    "start_time": "2024-05-20T09:11:37.776Z"
   },
   {
    "duration": 823,
    "start_time": "2024-05-20T09:12:42.170Z"
   },
   {
    "duration": 1026,
    "start_time": "2024-05-20T11:52:25.027Z"
   },
   {
    "duration": 3,
    "start_time": "2024-05-20T11:54:39.401Z"
   },
   {
    "duration": 2,
    "start_time": "2024-05-20T11:56:53.768Z"
   },
   {
    "duration": 170,
    "start_time": "2024-05-20T11:56:56.578Z"
   },
   {
    "duration": 164,
    "start_time": "2024-05-20T11:56:57.958Z"
   },
   {
    "duration": 146,
    "start_time": "2024-05-20T11:56:58.545Z"
   },
   {
    "duration": 1022,
    "start_time": "2024-05-20T11:57:12.767Z"
   },
   {
    "duration": 2,
    "start_time": "2024-05-20T11:57:24.969Z"
   },
   {
    "duration": 1045,
    "start_time": "2024-05-20T11:57:28.816Z"
   },
   {
    "duration": 1201,
    "start_time": "2024-05-20T11:59:02.469Z"
   },
   {
    "duration": 186,
    "start_time": "2024-05-20T11:59:17.404Z"
   },
   {
    "duration": 641,
    "start_time": "2024-05-20T12:00:14.637Z"
   },
   {
    "duration": 173,
    "start_time": "2024-05-20T12:00:15.280Z"
   },
   {
    "duration": 157,
    "start_time": "2024-05-20T12:00:15.455Z"
   },
   {
    "duration": 150,
    "start_time": "2024-05-20T12:00:15.614Z"
   },
   {
    "duration": 1046,
    "start_time": "2024-05-20T12:00:15.766Z"
   },
   {
    "duration": 938,
    "start_time": "2024-05-20T12:00:35.148Z"
   },
   {
    "duration": 1026,
    "start_time": "2024-05-20T12:00:55.794Z"
   },
   {
    "duration": 915,
    "start_time": "2024-05-20T12:01:40.136Z"
   },
   {
    "duration": 2296,
    "start_time": "2024-05-20T12:02:05.857Z"
   },
   {
    "duration": 2218,
    "start_time": "2024-05-20T12:02:54.498Z"
   },
   {
    "duration": 6,
    "start_time": "2024-05-20T12:04:48.195Z"
   },
   {
    "duration": 5,
    "start_time": "2024-05-20T12:04:55.646Z"
   },
   {
    "duration": 9,
    "start_time": "2024-05-20T12:05:50.295Z"
   },
   {
    "duration": 11,
    "start_time": "2024-05-20T12:05:59.045Z"
   },
   {
    "duration": 9,
    "start_time": "2024-05-20T12:06:37.884Z"
   },
   {
    "duration": 11,
    "start_time": "2024-05-20T12:06:42.062Z"
   },
   {
    "duration": 4,
    "start_time": "2024-05-20T12:06:49.871Z"
   },
   {
    "duration": 6,
    "start_time": "2024-05-20T12:07:02.710Z"
   },
   {
    "duration": 914,
    "start_time": "2024-05-21T07:46:25.000Z"
   },
   {
    "duration": 286,
    "start_time": "2024-05-21T07:46:25.916Z"
   },
   {
    "duration": 237,
    "start_time": "2024-05-21T07:46:26.204Z"
   },
   {
    "duration": 272,
    "start_time": "2024-05-21T07:46:26.443Z"
   },
   {
    "duration": 2645,
    "start_time": "2024-05-21T07:46:26.718Z"
   },
   {
    "duration": 11,
    "start_time": "2024-05-21T07:46:29.364Z"
   },
   {
    "duration": 5,
    "start_time": "2024-05-21T07:46:29.377Z"
   },
   {
    "duration": 9,
    "start_time": "2024-05-21T07:46:42.614Z"
   },
   {
    "duration": 9,
    "start_time": "2024-05-21T07:46:50.794Z"
   },
   {
    "duration": 5,
    "start_time": "2024-05-21T07:47:27.599Z"
   },
   {
    "duration": 11,
    "start_time": "2024-05-21T07:47:43.616Z"
   },
   {
    "duration": 11711,
    "start_time": "2024-05-21T08:57:51.825Z"
   },
   {
    "duration": 5765,
    "start_time": "2024-05-21T09:00:13.186Z"
   },
   {
    "duration": 51,
    "start_time": "2024-05-21T09:08:58.845Z"
   },
   {
    "duration": 3,
    "start_time": "2024-05-21T09:09:51.345Z"
   },
   {
    "duration": 4,
    "start_time": "2024-05-21T09:12:55.715Z"
   },
   {
    "duration": 3146,
    "start_time": "2024-05-21T09:15:45.577Z"
   },
   {
    "duration": 44,
    "start_time": "2024-05-21T09:15:51.139Z"
   },
   {
    "duration": 3,
    "start_time": "2024-05-21T09:15:51.804Z"
   },
   {
    "duration": 4,
    "start_time": "2024-05-21T09:15:53.072Z"
   },
   {
    "duration": 21,
    "start_time": "2024-05-21T09:16:20.786Z"
   },
   {
    "duration": 14,
    "start_time": "2024-05-21T09:16:59.745Z"
   },
   {
    "duration": 16,
    "start_time": "2024-05-21T09:17:11.830Z"
   },
   {
    "duration": 15,
    "start_time": "2024-05-21T09:17:20.083Z"
   },
   {
    "duration": 15,
    "start_time": "2024-05-21T09:17:54.344Z"
   },
   {
    "duration": 16,
    "start_time": "2024-05-21T09:18:16.257Z"
   },
   {
    "duration": 18,
    "start_time": "2024-05-21T09:18:41.946Z"
   },
   {
    "duration": 9,
    "start_time": "2024-05-21T09:19:46.886Z"
   },
   {
    "duration": 522,
    "start_time": "2024-05-21T09:20:33.970Z"
   },
   {
    "duration": 530,
    "start_time": "2024-05-21T09:21:04.871Z"
   },
   {
    "duration": 504,
    "start_time": "2024-05-21T09:21:29.083Z"
   },
   {
    "duration": 3263,
    "start_time": "2024-05-21T09:23:05.400Z"
   },
   {
    "duration": 106,
    "start_time": "2024-05-21T09:23:43.730Z"
   },
   {
    "duration": 17,
    "start_time": "2024-05-21T09:23:44.501Z"
   },
   {
    "duration": 31,
    "start_time": "2024-05-21T09:23:45.199Z"
   },
   {
    "duration": 7365,
    "start_time": "2024-05-22T12:38:23.542Z"
   },
   {
    "duration": 80,
    "start_time": "2024-05-22T12:40:55.236Z"
   },
   {
    "duration": 2996,
    "start_time": "2024-05-22T12:42:09.851Z"
   },
   {
    "duration": 11,
    "start_time": "2024-05-22T12:42:16.487Z"
   },
   {
    "duration": 3,
    "start_time": "2024-05-22T12:42:48.751Z"
   },
   {
    "duration": 2,
    "start_time": "2024-05-22T12:42:55.743Z"
   },
   {
    "duration": 3,
    "start_time": "2024-05-22T12:44:45.658Z"
   },
   {
    "duration": 4,
    "start_time": "2024-05-22T12:47:13.466Z"
   },
   {
    "duration": 52,
    "start_time": "2024-05-22T12:51:19.133Z"
   },
   {
    "duration": 56,
    "start_time": "2024-05-22T12:51:30.622Z"
   },
   {
    "duration": 52,
    "start_time": "2024-05-22T12:52:05.468Z"
   },
   {
    "duration": 49,
    "start_time": "2024-05-22T12:52:14.101Z"
   },
   {
    "duration": 17,
    "start_time": "2024-05-22T12:52:33.071Z"
   },
   {
    "duration": 2898,
    "start_time": "2024-05-22T12:52:50.932Z"
   },
   {
    "duration": 5,
    "start_time": "2024-05-22T12:52:56.644Z"
   },
   {
    "duration": 12,
    "start_time": "2024-05-22T12:54:29.069Z"
   },
   {
    "duration": 8,
    "start_time": "2024-05-22T12:55:14.363Z"
   },
   {
    "duration": 847,
    "start_time": "2024-05-22T12:55:33.168Z"
   },
   {
    "duration": 632,
    "start_time": "2024-05-22T12:55:34.017Z"
   },
   {
    "duration": 560,
    "start_time": "2024-05-22T12:55:34.651Z"
   },
   {
    "duration": 580,
    "start_time": "2024-05-22T12:55:35.212Z"
   },
   {
    "duration": 2406,
    "start_time": "2024-05-22T12:55:35.794Z"
   },
   {
    "duration": 11,
    "start_time": "2024-05-22T12:55:38.201Z"
   },
   {
    "duration": 18,
    "start_time": "2024-05-22T12:55:38.214Z"
   },
   {
    "duration": 12,
    "start_time": "2024-05-22T12:55:38.234Z"
   },
   {
    "duration": 3710,
    "start_time": "2024-05-22T12:55:38.247Z"
   },
   {
    "duration": 50,
    "start_time": "2024-05-22T12:55:41.959Z"
   },
   {
    "duration": 3,
    "start_time": "2024-05-22T12:55:42.010Z"
   },
   {
    "duration": 20,
    "start_time": "2024-05-22T12:55:42.015Z"
   },
   {
    "duration": 15,
    "start_time": "2024-05-22T12:55:42.036Z"
   },
   {
    "duration": 4029,
    "start_time": "2024-05-22T12:55:42.054Z"
   },
   {
    "duration": 6,
    "start_time": "2024-05-22T12:55:53.084Z"
   },
   {
    "duration": 4355,
    "start_time": "2024-05-22T12:55:57.993Z"
   },
   {
    "duration": 6,
    "start_time": "2024-05-22T12:56:26.367Z"
   },
   {
    "duration": 3,
    "start_time": "2024-05-22T12:56:48.845Z"
   },
   {
    "duration": 8,
    "start_time": "2024-05-22T12:57:38.955Z"
   },
   {
    "duration": 4,
    "start_time": "2024-05-22T12:58:20.650Z"
   },
   {
    "duration": 4415,
    "start_time": "2024-05-22T12:58:22.925Z"
   },
   {
    "duration": 5,
    "start_time": "2024-05-22T12:59:08.931Z"
   },
   {
    "duration": 4513,
    "start_time": "2024-05-22T12:59:24.010Z"
   },
   {
    "duration": 6,
    "start_time": "2024-05-22T13:01:05.462Z"
   },
   {
    "duration": 4513,
    "start_time": "2024-05-22T13:01:49.850Z"
   },
   {
    "duration": 4292,
    "start_time": "2024-05-22T13:02:28.550Z"
   },
   {
    "duration": 94,
    "start_time": "2024-05-22T13:03:26.936Z"
   },
   {
    "duration": 6,
    "start_time": "2024-05-22T13:03:31.810Z"
   },
   {
    "duration": 5,
    "start_time": "2024-05-22T13:03:39.613Z"
   },
   {
    "duration": 11,
    "start_time": "2024-05-22T13:03:54.792Z"
   },
   {
    "duration": 690,
    "start_time": "2024-05-22T13:03:54.805Z"
   },
   {
    "duration": 179,
    "start_time": "2024-05-22T13:03:55.497Z"
   },
   {
    "duration": 144,
    "start_time": "2024-05-22T13:03:55.678Z"
   },
   {
    "duration": 158,
    "start_time": "2024-05-22T13:03:55.824Z"
   },
   {
    "duration": 2619,
    "start_time": "2024-05-22T13:03:55.983Z"
   },
   {
    "duration": 10,
    "start_time": "2024-05-22T13:03:58.604Z"
   },
   {
    "duration": 16,
    "start_time": "2024-05-22T13:03:58.616Z"
   },
   {
    "duration": 13,
    "start_time": "2024-05-22T13:03:58.634Z"
   },
   {
    "duration": 3734,
    "start_time": "2024-05-22T13:03:58.649Z"
   },
   {
    "duration": 46,
    "start_time": "2024-05-22T13:04:02.385Z"
   },
   {
    "duration": 29,
    "start_time": "2024-05-22T13:04:02.433Z"
   },
   {
    "duration": 40,
    "start_time": "2024-05-22T13:04:02.464Z"
   },
   {
    "duration": 37,
    "start_time": "2024-05-22T13:04:02.507Z"
   },
   {
    "duration": 4607,
    "start_time": "2024-05-22T13:04:02.546Z"
   },
   {
    "duration": 4613,
    "start_time": "2024-05-22T13:04:07.155Z"
   },
   {
    "duration": 4563,
    "start_time": "2024-05-22T13:04:11.770Z"
   },
   {
    "duration": 4512,
    "start_time": "2024-05-22T13:05:49.996Z"
   },
   {
    "duration": 4604,
    "start_time": "2024-05-22T13:06:02.849Z"
   },
   {
    "duration": 4161,
    "start_time": "2024-05-22T13:06:22.367Z"
   },
   {
    "duration": 4332,
    "start_time": "2024-05-22T13:07:00.523Z"
   },
   {
    "duration": 4124,
    "start_time": "2024-05-22T13:07:10.906Z"
   },
   {
    "duration": 4251,
    "start_time": "2024-05-22T13:07:20.698Z"
   },
   {
    "duration": 4313,
    "start_time": "2024-05-22T13:07:31.039Z"
   },
   {
    "duration": 4339,
    "start_time": "2024-05-22T13:08:50.284Z"
   },
   {
    "duration": 4387,
    "start_time": "2024-05-22T13:09:07.357Z"
   },
   {
    "duration": 4427,
    "start_time": "2024-05-22T13:09:27.690Z"
   },
   {
    "duration": 4362,
    "start_time": "2024-05-22T13:09:40.990Z"
   },
   {
    "duration": 4583,
    "start_time": "2024-05-22T13:10:00.053Z"
   },
   {
    "duration": 6,
    "start_time": "2024-05-22T13:11:45.395Z"
   },
   {
    "duration": 10,
    "start_time": "2024-05-22T13:11:56.634Z"
   },
   {
    "duration": 679,
    "start_time": "2024-05-22T13:11:56.646Z"
   },
   {
    "duration": 176,
    "start_time": "2024-05-22T13:11:57.327Z"
   },
   {
    "duration": 142,
    "start_time": "2024-05-22T13:11:57.505Z"
   },
   {
    "duration": 148,
    "start_time": "2024-05-22T13:11:57.650Z"
   },
   {
    "duration": 2466,
    "start_time": "2024-05-22T13:11:57.799Z"
   },
   {
    "duration": 11,
    "start_time": "2024-05-22T13:12:00.267Z"
   },
   {
    "duration": 235,
    "start_time": "2024-05-22T13:12:00.280Z"
   },
   {
    "duration": 91,
    "start_time": "2024-05-22T13:12:00.516Z"
   },
   {
    "duration": 3749,
    "start_time": "2024-05-22T13:12:00.608Z"
   },
   {
    "duration": 46,
    "start_time": "2024-05-22T13:12:04.359Z"
   },
   {
    "duration": 32,
    "start_time": "2024-05-22T13:12:04.406Z"
   },
   {
    "duration": 23,
    "start_time": "2024-05-22T13:12:04.440Z"
   },
   {
    "duration": 25,
    "start_time": "2024-05-22T13:12:04.466Z"
   },
   {
    "duration": 4462,
    "start_time": "2024-05-22T13:12:04.493Z"
   },
   {
    "duration": 4511,
    "start_time": "2024-05-22T13:12:08.957Z"
   },
   {
    "duration": 4577,
    "start_time": "2024-05-22T13:12:13.470Z"
   },
   {
    "duration": 297,
    "start_time": "2024-05-22T13:14:15.082Z"
   },
   {
    "duration": 581,
    "start_time": "2024-05-22T13:14:22.536Z"
   },
   {
    "duration": 4459,
    "start_time": "2024-05-22T13:15:29.797Z"
   },
   {
    "duration": 4011,
    "start_time": "2024-05-22T13:15:38.829Z"
   },
   {
    "duration": 4418,
    "start_time": "2024-05-22T13:16:19.623Z"
   },
   {
    "duration": 4441,
    "start_time": "2024-05-22T13:16:51.427Z"
   },
   {
    "duration": 4393,
    "start_time": "2024-05-22T13:17:20.331Z"
   },
   {
    "duration": 4635,
    "start_time": "2024-05-22T13:17:50.569Z"
   },
   {
    "duration": 4594,
    "start_time": "2024-05-22T13:18:50.659Z"
   },
   {
    "duration": 3739,
    "start_time": "2024-05-22T13:19:10.795Z"
   },
   {
    "duration": 14,
    "start_time": "2024-05-22T13:19:19.426Z"
   },
   {
    "duration": 613,
    "start_time": "2024-05-22T13:19:19.442Z"
   },
   {
    "duration": 167,
    "start_time": "2024-05-22T13:19:20.057Z"
   },
   {
    "duration": 146,
    "start_time": "2024-05-22T13:19:20.225Z"
   },
   {
    "duration": 150,
    "start_time": "2024-05-22T13:19:20.373Z"
   },
   {
    "duration": 2462,
    "start_time": "2024-05-22T13:19:20.524Z"
   },
   {
    "duration": 11,
    "start_time": "2024-05-22T13:19:22.988Z"
   },
   {
    "duration": 24,
    "start_time": "2024-05-22T13:19:23.001Z"
   },
   {
    "duration": 15,
    "start_time": "2024-05-22T13:19:23.027Z"
   },
   {
    "duration": 3719,
    "start_time": "2024-05-22T13:19:23.043Z"
   },
   {
    "duration": 44,
    "start_time": "2024-05-22T13:19:26.764Z"
   },
   {
    "duration": 3,
    "start_time": "2024-05-22T13:19:26.809Z"
   },
   {
    "duration": 5,
    "start_time": "2024-05-22T13:19:26.813Z"
   },
   {
    "duration": 14,
    "start_time": "2024-05-22T13:19:26.820Z"
   },
   {
    "duration": 4400,
    "start_time": "2024-05-22T13:19:26.836Z"
   },
   {
    "duration": 4448,
    "start_time": "2024-05-22T13:19:31.238Z"
   },
   {
    "duration": 4677,
    "start_time": "2024-05-22T13:19:35.688Z"
   },
   {
    "duration": 3,
    "start_time": "2024-05-22T13:23:51.042Z"
   },
   {
    "duration": 5,
    "start_time": "2024-05-22T13:23:56.701Z"
   },
   {
    "duration": 11,
    "start_time": "2024-05-22T13:24:04.727Z"
   },
   {
    "duration": 4,
    "start_time": "2024-05-22T13:25:07.730Z"
   },
   {
    "duration": 4,
    "start_time": "2024-05-22T13:25:09.437Z"
   },
   {
    "duration": 4376,
    "start_time": "2024-05-22T13:25:10.183Z"
   },
   {
    "duration": 110,
    "start_time": "2024-05-22T13:25:19.162Z"
   },
   {
    "duration": 5,
    "start_time": "2024-05-22T13:25:35.337Z"
   },
   {
    "duration": 12,
    "start_time": "2024-05-22T13:25:38.235Z"
   },
   {
    "duration": 4444,
    "start_time": "2024-05-22T13:25:44.203Z"
   },
   {
    "duration": 4090,
    "start_time": "2024-05-22T13:25:48.648Z"
   },
   {
    "duration": 10,
    "start_time": "2024-05-22T13:25:52.740Z"
   },
   {
    "duration": 5,
    "start_time": "2024-05-22T13:26:43.403Z"
   },
   {
    "duration": 4,
    "start_time": "2024-05-22T13:26:50.794Z"
   },
   {
    "duration": 11,
    "start_time": "2024-05-22T13:26:54.956Z"
   },
   {
    "duration": 649,
    "start_time": "2024-05-22T13:26:54.969Z"
   },
   {
    "duration": 183,
    "start_time": "2024-05-22T13:26:55.620Z"
   },
   {
    "duration": 162,
    "start_time": "2024-05-22T13:26:55.804Z"
   },
   {
    "duration": 170,
    "start_time": "2024-05-22T13:26:55.968Z"
   },
   {
    "duration": 2457,
    "start_time": "2024-05-22T13:26:56.140Z"
   },
   {
    "duration": 10,
    "start_time": "2024-05-22T13:26:58.598Z"
   },
   {
    "duration": 32,
    "start_time": "2024-05-22T13:26:58.609Z"
   },
   {
    "duration": 19,
    "start_time": "2024-05-22T13:26:58.643Z"
   },
   {
    "duration": 3796,
    "start_time": "2024-05-22T13:26:58.664Z"
   },
   {
    "duration": 49,
    "start_time": "2024-05-22T13:27:02.462Z"
   },
   {
    "duration": 17,
    "start_time": "2024-05-22T13:27:02.512Z"
   },
   {
    "duration": 18,
    "start_time": "2024-05-22T13:27:02.530Z"
   },
   {
    "duration": 8,
    "start_time": "2024-05-22T13:27:02.550Z"
   },
   {
    "duration": 4388,
    "start_time": "2024-05-22T13:27:02.559Z"
   },
   {
    "duration": 109,
    "start_time": "2024-05-22T13:27:06.949Z"
   },
   {
    "duration": 0,
    "start_time": "2024-05-22T13:27:07.059Z"
   },
   {
    "duration": 0,
    "start_time": "2024-05-22T13:27:07.061Z"
   },
   {
    "duration": 12,
    "start_time": "2024-05-22T13:28:16.098Z"
   },
   {
    "duration": 613,
    "start_time": "2024-05-22T13:28:16.112Z"
   },
   {
    "duration": 179,
    "start_time": "2024-05-22T13:28:16.726Z"
   },
   {
    "duration": 149,
    "start_time": "2024-05-22T13:28:16.907Z"
   },
   {
    "duration": 155,
    "start_time": "2024-05-22T13:28:17.058Z"
   },
   {
    "duration": 2516,
    "start_time": "2024-05-22T13:28:17.215Z"
   },
   {
    "duration": 11,
    "start_time": "2024-05-22T13:28:19.733Z"
   },
   {
    "duration": 5,
    "start_time": "2024-05-22T13:28:19.745Z"
   },
   {
    "duration": 15,
    "start_time": "2024-05-22T13:28:19.751Z"
   },
   {
    "duration": 3645,
    "start_time": "2024-05-22T13:28:19.767Z"
   },
   {
    "duration": 46,
    "start_time": "2024-05-22T13:28:23.414Z"
   },
   {
    "duration": 3,
    "start_time": "2024-05-22T13:28:23.461Z"
   },
   {
    "duration": 9,
    "start_time": "2024-05-22T13:28:23.466Z"
   },
   {
    "duration": 31,
    "start_time": "2024-05-22T13:28:23.478Z"
   },
   {
    "duration": 4437,
    "start_time": "2024-05-22T13:28:23.511Z"
   },
   {
    "duration": 4489,
    "start_time": "2024-05-22T13:28:27.949Z"
   },
   {
    "duration": 4513,
    "start_time": "2024-05-22T13:28:32.439Z"
   },
   {
    "duration": 4,
    "start_time": "2024-05-22T13:28:36.954Z"
   },
   {
    "duration": 4215,
    "start_time": "2024-05-22T13:32:36.722Z"
   },
   {
    "duration": 4511,
    "start_time": "2024-05-22T13:33:29.659Z"
   },
   {
    "duration": 11,
    "start_time": "2024-05-22T13:33:54.700Z"
   },
   {
    "duration": 606,
    "start_time": "2024-05-22T13:33:54.713Z"
   },
   {
    "duration": 177,
    "start_time": "2024-05-22T13:33:55.320Z"
   },
   {
    "duration": 143,
    "start_time": "2024-05-22T13:33:55.499Z"
   },
   {
    "duration": 143,
    "start_time": "2024-05-22T13:33:55.644Z"
   },
   {
    "duration": 2311,
    "start_time": "2024-05-22T13:33:55.788Z"
   },
   {
    "duration": 10,
    "start_time": "2024-05-22T13:33:58.100Z"
   },
   {
    "duration": 33,
    "start_time": "2024-05-22T13:33:58.111Z"
   },
   {
    "duration": 21,
    "start_time": "2024-05-22T13:33:58.145Z"
   },
   {
    "duration": 3619,
    "start_time": "2024-05-22T13:33:58.168Z"
   },
   {
    "duration": 49,
    "start_time": "2024-05-22T13:34:01.789Z"
   },
   {
    "duration": 78,
    "start_time": "2024-05-22T13:34:01.840Z"
   },
   {
    "duration": 47,
    "start_time": "2024-05-22T13:34:01.920Z"
   },
   {
    "duration": 57,
    "start_time": "2024-05-22T13:34:01.969Z"
   },
   {
    "duration": 4611,
    "start_time": "2024-05-22T13:34:02.028Z"
   },
   {
    "duration": 4402,
    "start_time": "2024-05-22T13:34:06.641Z"
   },
   {
    "duration": 4307,
    "start_time": "2024-05-22T13:34:11.045Z"
   },
   {
    "duration": 4,
    "start_time": "2024-05-22T13:34:15.353Z"
   },
   {
    "duration": 11,
    "start_time": "2024-05-22T13:34:57.070Z"
   },
   {
    "duration": 671,
    "start_time": "2024-05-22T13:34:57.082Z"
   },
   {
    "duration": 174,
    "start_time": "2024-05-22T13:34:57.755Z"
   },
   {
    "duration": 150,
    "start_time": "2024-05-22T13:34:57.931Z"
   },
   {
    "duration": 151,
    "start_time": "2024-05-22T13:34:58.083Z"
   },
   {
    "duration": 2476,
    "start_time": "2024-05-22T13:34:58.235Z"
   },
   {
    "duration": 11,
    "start_time": "2024-05-22T13:35:00.713Z"
   },
   {
    "duration": 128,
    "start_time": "2024-05-22T13:35:00.726Z"
   },
   {
    "duration": 111,
    "start_time": "2024-05-22T13:35:00.855Z"
   },
   {
    "duration": 3887,
    "start_time": "2024-05-22T13:35:00.968Z"
   },
   {
    "duration": 51,
    "start_time": "2024-05-22T13:35:04.856Z"
   },
   {
    "duration": 80,
    "start_time": "2024-05-22T13:35:04.908Z"
   },
   {
    "duration": 34,
    "start_time": "2024-05-22T13:35:04.990Z"
   },
   {
    "duration": 40,
    "start_time": "2024-05-22T13:35:05.028Z"
   },
   {
    "duration": 4587,
    "start_time": "2024-05-22T13:35:05.070Z"
   },
   {
    "duration": 4408,
    "start_time": "2024-05-22T13:35:09.659Z"
   },
   {
    "duration": 4601,
    "start_time": "2024-05-22T13:35:14.069Z"
   },
   {
    "duration": 5,
    "start_time": "2024-05-22T13:35:18.672Z"
   },
   {
    "duration": 4,
    "start_time": "2024-05-22T13:38:43.924Z"
   },
   {
    "duration": 4424,
    "start_time": "2024-05-22T13:38:47.210Z"
   },
   {
    "duration": 109,
    "start_time": "2024-05-22T13:39:43.631Z"
   },
   {
    "duration": 3,
    "start_time": "2024-05-22T13:40:01.603Z"
   },
   {
    "duration": 12,
    "start_time": "2024-05-22T13:40:05.733Z"
   },
   {
    "duration": 12,
    "start_time": "2024-05-22T13:40:35.415Z"
   },
   {
    "duration": 3,
    "start_time": "2024-05-22T13:40:49.090Z"
   },
   {
    "duration": 29814,
    "start_time": "2024-05-22T13:40:53.317Z"
   },
   {
    "duration": 4,
    "start_time": "2024-05-22T13:41:23.133Z"
   },
   {
    "duration": 10,
    "start_time": "2024-05-22T13:42:36.058Z"
   },
   {
    "duration": 656,
    "start_time": "2024-05-22T13:42:36.070Z"
   },
   {
    "duration": 171,
    "start_time": "2024-05-22T13:42:36.728Z"
   },
   {
    "duration": 144,
    "start_time": "2024-05-22T13:42:36.900Z"
   },
   {
    "duration": 147,
    "start_time": "2024-05-22T13:42:37.046Z"
   },
   {
    "duration": 2514,
    "start_time": "2024-05-22T13:42:37.194Z"
   },
   {
    "duration": 10,
    "start_time": "2024-05-22T13:42:39.710Z"
   },
   {
    "duration": 75,
    "start_time": "2024-05-22T13:42:39.721Z"
   },
   {
    "duration": 25,
    "start_time": "2024-05-22T13:42:39.798Z"
   },
   {
    "duration": 3636,
    "start_time": "2024-05-22T13:42:39.824Z"
   },
   {
    "duration": 54,
    "start_time": "2024-05-22T13:42:43.462Z"
   },
   {
    "duration": 3,
    "start_time": "2024-05-22T13:42:43.518Z"
   },
   {
    "duration": 18,
    "start_time": "2024-05-22T13:42:43.523Z"
   },
   {
    "duration": 8,
    "start_time": "2024-05-22T13:42:43.543Z"
   },
   {
    "duration": 4498,
    "start_time": "2024-05-22T13:42:43.552Z"
   },
   {
    "duration": 4601,
    "start_time": "2024-05-22T13:42:48.052Z"
   },
   {
    "duration": 4315,
    "start_time": "2024-05-22T13:42:52.655Z"
   },
   {
    "duration": 32082,
    "start_time": "2024-05-22T13:42:56.972Z"
   },
   {
    "duration": 4,
    "start_time": "2024-05-22T13:43:29.056Z"
   },
   {
    "duration": 5,
    "start_time": "2024-05-22T14:02:56.969Z"
   },
   {
    "duration": 4347,
    "start_time": "2024-05-22T14:02:59.096Z"
   },
   {
    "duration": 4438,
    "start_time": "2024-05-22T14:03:03.445Z"
   },
   {
    "duration": 4372,
    "start_time": "2024-05-22T14:03:07.884Z"
   },
   {
    "duration": 31858,
    "start_time": "2024-05-22T14:03:37.036Z"
   },
   {
    "duration": 4,
    "start_time": "2024-05-22T14:04:08.895Z"
   },
   {
    "duration": 11,
    "start_time": "2024-05-22T14:04:43.935Z"
   },
   {
    "duration": 583,
    "start_time": "2024-05-22T14:04:43.947Z"
   },
   {
    "duration": 166,
    "start_time": "2024-05-22T14:04:44.531Z"
   },
   {
    "duration": 141,
    "start_time": "2024-05-22T14:04:44.698Z"
   },
   {
    "duration": 162,
    "start_time": "2024-05-22T14:04:44.842Z"
   },
   {
    "duration": 2471,
    "start_time": "2024-05-22T14:04:45.006Z"
   },
   {
    "duration": 16,
    "start_time": "2024-05-22T14:04:47.478Z"
   },
   {
    "duration": 10,
    "start_time": "2024-05-22T14:04:47.495Z"
   },
   {
    "duration": 37,
    "start_time": "2024-05-22T14:04:47.507Z"
   },
   {
    "duration": 3703,
    "start_time": "2024-05-22T14:04:47.545Z"
   },
   {
    "duration": 49,
    "start_time": "2024-05-22T14:04:51.250Z"
   },
   {
    "duration": 3,
    "start_time": "2024-05-22T14:04:51.301Z"
   },
   {
    "duration": 42,
    "start_time": "2024-05-22T14:04:51.306Z"
   },
   {
    "duration": 31,
    "start_time": "2024-05-22T14:04:51.351Z"
   },
   {
    "duration": 4587,
    "start_time": "2024-05-22T14:04:51.383Z"
   },
   {
    "duration": 4585,
    "start_time": "2024-05-22T14:04:55.971Z"
   },
   {
    "duration": 4522,
    "start_time": "2024-05-22T14:05:00.558Z"
   },
   {
    "duration": 31324,
    "start_time": "2024-05-22T14:05:05.081Z"
   },
   {
    "duration": 3,
    "start_time": "2024-05-22T14:05:36.407Z"
   },
   {
    "duration": 4,
    "start_time": "2024-05-22T14:05:40.340Z"
   },
   {
    "duration": 108,
    "start_time": "2024-05-22T14:07:06.688Z"
   },
   {
    "duration": 5,
    "start_time": "2024-05-22T14:08:26.063Z"
   },
   {
    "duration": 3,
    "start_time": "2024-05-22T14:08:38.473Z"
   },
   {
    "duration": 48,
    "start_time": "2024-05-22T14:08:57.806Z"
   },
   {
    "duration": 49,
    "start_time": "2024-05-22T14:09:03.021Z"
   },
   {
    "duration": 3,
    "start_time": "2024-05-22T14:11:47.557Z"
   },
   {
    "duration": 4559,
    "start_time": "2024-05-22T14:11:48.993Z"
   },
   {
    "duration": 12,
    "start_time": "2024-05-22T14:12:03.058Z"
   },
   {
    "duration": 663,
    "start_time": "2024-05-22T14:12:03.071Z"
   },
   {
    "duration": 188,
    "start_time": "2024-05-22T14:12:03.735Z"
   },
   {
    "duration": 151,
    "start_time": "2024-05-22T14:12:03.925Z"
   },
   {
    "duration": 201,
    "start_time": "2024-05-22T14:12:04.078Z"
   },
   {
    "duration": 2498,
    "start_time": "2024-05-22T14:12:04.280Z"
   },
   {
    "duration": 14,
    "start_time": "2024-05-22T14:12:06.780Z"
   },
   {
    "duration": 121,
    "start_time": "2024-05-22T14:12:06.795Z"
   },
   {
    "duration": 16,
    "start_time": "2024-05-22T14:12:06.918Z"
   },
   {
    "duration": 3748,
    "start_time": "2024-05-22T14:12:06.936Z"
   },
   {
    "duration": 45,
    "start_time": "2024-05-22T14:12:10.686Z"
   },
   {
    "duration": 3,
    "start_time": "2024-05-22T14:12:10.732Z"
   },
   {
    "duration": 8,
    "start_time": "2024-05-22T14:12:10.737Z"
   },
   {
    "duration": 12,
    "start_time": "2024-05-22T14:12:10.747Z"
   },
   {
    "duration": 4722,
    "start_time": "2024-05-22T14:12:10.760Z"
   },
   {
    "duration": 4483,
    "start_time": "2024-05-22T14:12:15.484Z"
   },
   {
    "duration": 4490,
    "start_time": "2024-05-22T14:12:19.968Z"
   },
   {
    "duration": 31053,
    "start_time": "2024-05-22T14:12:24.460Z"
   },
   {
    "duration": 6,
    "start_time": "2024-05-22T14:12:55.514Z"
   },
   {
    "duration": 5,
    "start_time": "2024-05-22T14:13:13.338Z"
   },
   {
    "duration": 2,
    "start_time": "2024-05-22T14:13:14.319Z"
   },
   {
    "duration": 30705,
    "start_time": "2024-05-22T14:15:26.107Z"
   },
   {
    "duration": 54,
    "start_time": "2024-05-22T14:17:53.332Z"
   },
   {
    "duration": 30714,
    "start_time": "2024-05-22T14:18:15.429Z"
   },
   {
    "duration": 30351,
    "start_time": "2024-05-22T14:19:24.244Z"
   },
   {
    "duration": 29999,
    "start_time": "2024-05-22T14:20:13.433Z"
   },
   {
    "duration": 30217,
    "start_time": "2024-05-22T14:20:48.115Z"
   },
   {
    "duration": 29614,
    "start_time": "2024-05-22T14:21:18.333Z"
   },
   {
    "duration": 15,
    "start_time": "2024-05-22T14:22:30.334Z"
   },
   {
    "duration": 775,
    "start_time": "2024-05-22T14:22:30.350Z"
   },
   {
    "duration": 180,
    "start_time": "2024-05-22T14:22:31.126Z"
   },
   {
    "duration": 156,
    "start_time": "2024-05-22T14:22:31.308Z"
   },
   {
    "duration": 162,
    "start_time": "2024-05-22T14:22:31.466Z"
   },
   {
    "duration": 2530,
    "start_time": "2024-05-22T14:22:31.629Z"
   },
   {
    "duration": 12,
    "start_time": "2024-05-22T14:22:34.161Z"
   },
   {
    "duration": 23,
    "start_time": "2024-05-22T14:22:34.175Z"
   },
   {
    "duration": 39,
    "start_time": "2024-05-22T14:22:34.199Z"
   },
   {
    "duration": 3619,
    "start_time": "2024-05-22T14:22:34.240Z"
   },
   {
    "duration": 49,
    "start_time": "2024-05-22T14:22:37.861Z"
   },
   {
    "duration": 2,
    "start_time": "2024-05-22T14:22:37.912Z"
   },
   {
    "duration": 11,
    "start_time": "2024-05-22T14:22:37.916Z"
   },
   {
    "duration": 6,
    "start_time": "2024-05-22T14:22:37.930Z"
   },
   {
    "duration": 4293,
    "start_time": "2024-05-22T14:22:37.938Z"
   },
   {
    "duration": 4406,
    "start_time": "2024-05-22T14:22:42.233Z"
   },
   {
    "duration": 4316,
    "start_time": "2024-05-22T14:22:46.641Z"
   },
   {
    "duration": 4,
    "start_time": "2024-05-22T14:22:50.959Z"
   },
   {
    "duration": 33,
    "start_time": "2024-05-22T14:22:50.965Z"
   },
   {
    "duration": 30818,
    "start_time": "2024-05-22T14:22:50.999Z"
   },
   {
    "duration": 29890,
    "start_time": "2024-05-22T14:23:21.819Z"
   },
   {
    "duration": 30858,
    "start_time": "2024-05-22T14:23:51.710Z"
   },
   {
    "duration": 513,
    "start_time": "2024-05-22T15:33:00.067Z"
   },
   {
    "duration": 465,
    "start_time": "2024-05-22T15:33:19.647Z"
   },
   {
    "duration": 4345,
    "start_time": "2024-05-22T15:36:02.667Z"
   },
   {
    "duration": 4384,
    "start_time": "2024-05-22T15:36:51.671Z"
   },
   {
    "duration": 4375,
    "start_time": "2024-05-22T15:37:28.273Z"
   },
   {
    "duration": 4355,
    "start_time": "2024-05-22T15:38:05.100Z"
   },
   {
    "duration": 4390,
    "start_time": "2024-05-22T15:38:45.756Z"
   },
   {
    "duration": 4,
    "start_time": "2024-05-22T15:40:07.815Z"
   },
   {
    "duration": 4,
    "start_time": "2024-05-22T15:40:19.260Z"
   },
   {
    "duration": 11,
    "start_time": "2024-05-22T15:42:37.674Z"
   },
   {
    "duration": 670,
    "start_time": "2024-05-22T15:42:37.687Z"
   },
   {
    "duration": 174,
    "start_time": "2024-05-22T15:42:38.359Z"
   },
   {
    "duration": 151,
    "start_time": "2024-05-22T15:42:38.534Z"
   },
   {
    "duration": 152,
    "start_time": "2024-05-22T15:42:38.687Z"
   },
   {
    "duration": 2533,
    "start_time": "2024-05-22T15:42:38.840Z"
   },
   {
    "duration": 11,
    "start_time": "2024-05-22T15:42:41.374Z"
   },
   {
    "duration": 8,
    "start_time": "2024-05-22T15:42:41.393Z"
   },
   {
    "duration": 12,
    "start_time": "2024-05-22T15:42:41.403Z"
   },
   {
    "duration": 3774,
    "start_time": "2024-05-22T15:42:41.417Z"
   },
   {
    "duration": 43,
    "start_time": "2024-05-22T15:42:45.192Z"
   },
   {
    "duration": 20,
    "start_time": "2024-05-22T15:42:45.237Z"
   },
   {
    "duration": 45,
    "start_time": "2024-05-22T15:42:45.259Z"
   },
   {
    "duration": 32,
    "start_time": "2024-05-22T15:42:45.306Z"
   },
   {
    "duration": 4415,
    "start_time": "2024-05-22T15:42:45.340Z"
   },
   {
    "duration": 4408,
    "start_time": "2024-05-22T15:42:49.756Z"
   },
   {
    "duration": 4371,
    "start_time": "2024-05-22T15:42:54.166Z"
   },
   {
    "duration": 5,
    "start_time": "2024-05-22T15:42:58.539Z"
   },
   {
    "duration": 44,
    "start_time": "2024-05-22T15:42:58.546Z"
   },
   {
    "duration": 30164,
    "start_time": "2024-05-22T15:42:58.591Z"
   },
   {
    "duration": 30384,
    "start_time": "2024-05-22T15:43:28.756Z"
   },
   {
    "duration": 29798,
    "start_time": "2024-05-22T15:43:59.142Z"
   },
   {
    "duration": 51,
    "start_time": "2024-05-22T15:58:29.438Z"
   },
   {
    "duration": 107,
    "start_time": "2024-05-22T15:58:41.905Z"
   },
   {
    "duration": 4,
    "start_time": "2024-05-22T16:00:05.389Z"
   },
   {
    "duration": 3,
    "start_time": "2024-05-22T16:00:10.892Z"
   },
   {
    "duration": 3,
    "start_time": "2024-05-22T16:00:18.348Z"
   },
   {
    "duration": 3,
    "start_time": "2024-05-22T16:00:27.570Z"
   },
   {
    "duration": 4,
    "start_time": "2024-05-22T16:03:11.028Z"
   },
   {
    "duration": 3,
    "start_time": "2024-05-22T16:04:53.048Z"
   },
   {
    "duration": 2,
    "start_time": "2024-05-22T16:05:45.843Z"
   },
   {
    "duration": 3,
    "start_time": "2024-05-22T16:05:53.751Z"
   },
   {
    "duration": 10,
    "start_time": "2024-05-22T16:06:00.921Z"
   },
   {
    "duration": 3,
    "start_time": "2024-05-22T16:08:19.527Z"
   },
   {
    "duration": 4,
    "start_time": "2024-05-22T16:10:13.484Z"
   },
   {
    "duration": 5,
    "start_time": "2024-05-22T16:10:21.285Z"
   },
   {
    "duration": 11,
    "start_time": "2024-05-22T16:10:31.058Z"
   },
   {
    "duration": 5,
    "start_time": "2024-05-22T16:10:37.531Z"
   },
   {
    "duration": 3,
    "start_time": "2024-05-22T16:11:12.340Z"
   },
   {
    "duration": 5,
    "start_time": "2024-05-22T16:11:47.582Z"
   },
   {
    "duration": 4,
    "start_time": "2024-05-22T16:12:03.162Z"
   },
   {
    "duration": 4,
    "start_time": "2024-05-22T16:12:09.623Z"
   },
   {
    "duration": 7,
    "start_time": "2024-05-22T16:12:16.211Z"
   },
   {
    "duration": 5,
    "start_time": "2024-05-22T17:19:09.155Z"
   },
   {
    "duration": 15,
    "start_time": "2024-05-22T17:19:22.257Z"
   },
   {
    "duration": 4,
    "start_time": "2024-05-22T17:20:06.334Z"
   },
   {
    "duration": 11,
    "start_time": "2024-05-22T17:20:07.766Z"
   },
   {
    "duration": 3,
    "start_time": "2024-05-22T17:20:17.842Z"
   },
   {
    "duration": 18,
    "start_time": "2024-05-22T17:20:18.313Z"
   },
   {
    "duration": 3,
    "start_time": "2024-05-22T17:20:28.236Z"
   },
   {
    "duration": 27,
    "start_time": "2024-05-22T17:20:29.258Z"
   },
   {
    "duration": 3,
    "start_time": "2024-05-22T17:20:38.597Z"
   },
   {
    "duration": 18,
    "start_time": "2024-05-22T17:20:39.147Z"
   },
   {
    "duration": 15,
    "start_time": "2024-05-22T17:20:58.200Z"
   },
   {
    "duration": 3,
    "start_time": "2024-05-22T17:21:57.226Z"
   },
   {
    "duration": 20,
    "start_time": "2024-05-22T17:21:57.886Z"
   },
   {
    "duration": 22,
    "start_time": "2024-05-22T17:22:05.505Z"
   },
   {
    "duration": 3,
    "start_time": "2024-05-22T17:22:42.966Z"
   },
   {
    "duration": 15,
    "start_time": "2024-05-22T17:22:46.570Z"
   },
   {
    "duration": 16,
    "start_time": "2024-05-22T17:22:52.669Z"
   },
   {
    "duration": 3,
    "start_time": "2024-05-22T17:25:47.300Z"
   },
   {
    "duration": 3,
    "start_time": "2024-05-22T17:26:15.626Z"
   },
   {
    "duration": 4,
    "start_time": "2024-05-22T17:27:36.732Z"
   },
   {
    "duration": 3,
    "start_time": "2024-05-22T17:28:37.676Z"
   },
   {
    "duration": 14,
    "start_time": "2024-05-22T17:29:17.361Z"
   },
   {
    "duration": 3,
    "start_time": "2024-05-22T17:29:32.125Z"
   },
   {
    "duration": 4,
    "start_time": "2024-05-22T17:31:04.899Z"
   },
   {
    "duration": 3,
    "start_time": "2024-05-22T17:31:26.729Z"
   },
   {
    "duration": 4,
    "start_time": "2024-05-22T17:31:49.639Z"
   },
   {
    "duration": 4,
    "start_time": "2024-05-22T17:32:00.169Z"
   },
   {
    "duration": 3,
    "start_time": "2024-05-22T17:32:06.722Z"
   },
   {
    "duration": 4,
    "start_time": "2024-05-22T17:32:22.956Z"
   },
   {
    "duration": 4,
    "start_time": "2024-05-22T17:32:27.457Z"
   },
   {
    "duration": 3,
    "start_time": "2024-05-22T17:32:32.882Z"
   },
   {
    "duration": 3,
    "start_time": "2024-05-22T17:34:15.519Z"
   },
   {
    "duration": 3,
    "start_time": "2024-05-22T17:34:18.478Z"
   },
   {
    "duration": 3,
    "start_time": "2024-05-22T17:34:25.882Z"
   },
   {
    "duration": 4,
    "start_time": "2024-05-22T17:34:29.896Z"
   },
   {
    "duration": 9,
    "start_time": "2024-05-22T17:35:48.021Z"
   },
   {
    "duration": 10,
    "start_time": "2024-05-22T17:36:05.493Z"
   },
   {
    "duration": 3,
    "start_time": "2024-05-22T17:36:54.506Z"
   },
   {
    "duration": 4,
    "start_time": "2024-05-22T17:37:42.948Z"
   },
   {
    "duration": 3,
    "start_time": "2024-05-22T17:37:49.711Z"
   },
   {
    "duration": 4,
    "start_time": "2024-05-22T17:38:15.176Z"
   },
   {
    "duration": 4,
    "start_time": "2024-05-22T17:38:20.700Z"
   },
   {
    "duration": 4,
    "start_time": "2024-05-22T17:38:27.465Z"
   },
   {
    "duration": 4,
    "start_time": "2024-05-22T17:38:39.122Z"
   },
   {
    "duration": 3,
    "start_time": "2024-05-22T17:38:47.650Z"
   },
   {
    "duration": 4,
    "start_time": "2024-05-22T17:38:57.500Z"
   },
   {
    "duration": 4,
    "start_time": "2024-05-22T17:39:02.339Z"
   },
   {
    "duration": 3,
    "start_time": "2024-05-22T17:40:26.022Z"
   },
   {
    "duration": 4,
    "start_time": "2024-05-22T17:41:12.967Z"
   },
   {
    "duration": 4,
    "start_time": "2024-05-22T17:41:44.169Z"
   },
   {
    "duration": 4,
    "start_time": "2024-05-22T17:42:42.190Z"
   },
   {
    "duration": 3,
    "start_time": "2024-05-22T17:48:10.994Z"
   },
   {
    "duration": 3,
    "start_time": "2024-05-22T17:48:14.694Z"
   },
   {
    "duration": 5,
    "start_time": "2024-05-22T17:48:57.106Z"
   },
   {
    "duration": 50,
    "start_time": "2024-05-22T17:51:53.238Z"
   },
   {
    "duration": 61,
    "start_time": "2024-05-22T17:51:57.731Z"
   },
   {
    "duration": 3,
    "start_time": "2024-05-22T17:52:14.896Z"
   },
   {
    "duration": 4,
    "start_time": "2024-05-22T17:52:18.217Z"
   },
   {
    "duration": 3,
    "start_time": "2024-05-22T17:52:22.983Z"
   },
   {
    "duration": 3,
    "start_time": "2024-05-22T17:52:29.631Z"
   },
   {
    "duration": 3,
    "start_time": "2024-05-22T17:52:33.115Z"
   },
   {
    "duration": 4,
    "start_time": "2024-05-22T17:52:36.986Z"
   },
   {
    "duration": 4,
    "start_time": "2024-05-22T17:52:40.501Z"
   },
   {
    "duration": 57,
    "start_time": "2024-05-22T17:52:49.039Z"
   },
   {
    "duration": 4,
    "start_time": "2024-05-22T17:55:32.988Z"
   },
   {
    "duration": 4,
    "start_time": "2024-05-22T17:56:20.000Z"
   },
   {
    "duration": 4,
    "start_time": "2024-05-22T17:56:43.447Z"
   },
   {
    "duration": 4,
    "start_time": "2024-05-22T17:56:48.711Z"
   },
   {
    "duration": 4,
    "start_time": "2024-05-22T17:57:22.388Z"
   },
   {
    "duration": 4,
    "start_time": "2024-05-22T17:58:53.817Z"
   },
   {
    "duration": 4,
    "start_time": "2024-05-22T17:59:09.956Z"
   },
   {
    "duration": 4,
    "start_time": "2024-05-22T17:59:13.802Z"
   },
   {
    "duration": 4,
    "start_time": "2024-05-22T17:59:19.300Z"
   },
   {
    "duration": 2,
    "start_time": "2024-05-22T18:00:15.987Z"
   },
   {
    "duration": 4,
    "start_time": "2024-05-22T18:00:32.023Z"
   },
   {
    "duration": 4,
    "start_time": "2024-05-22T18:00:53.535Z"
   },
   {
    "duration": 3,
    "start_time": "2024-05-22T18:01:08.711Z"
   },
   {
    "duration": 3,
    "start_time": "2024-05-22T18:02:33.859Z"
   },
   {
    "duration": 4,
    "start_time": "2024-05-22T18:02:43.515Z"
   },
   {
    "duration": 11,
    "start_time": "2024-05-22T18:02:48.782Z"
   },
   {
    "duration": 2,
    "start_time": "2024-05-22T18:02:53.344Z"
   },
   {
    "duration": 10,
    "start_time": "2024-05-22T18:02:54.531Z"
   },
   {
    "duration": 7,
    "start_time": "2024-05-22T18:02:57.376Z"
   },
   {
    "duration": 16,
    "start_time": "2024-05-22T18:03:22.098Z"
   },
   {
    "duration": 15,
    "start_time": "2024-05-22T18:03:28.074Z"
   },
   {
    "duration": 6,
    "start_time": "2024-05-22T18:03:31.603Z"
   },
   {
    "duration": 3,
    "start_time": "2024-05-22T18:05:18.161Z"
   },
   {
    "duration": 4,
    "start_time": "2024-05-22T18:05:20.412Z"
   },
   {
    "duration": 3,
    "start_time": "2024-05-22T18:05:22.513Z"
   },
   {
    "duration": 6,
    "start_time": "2024-05-22T18:05:22.612Z"
   },
   {
    "duration": 3,
    "start_time": "2024-05-22T18:05:26.267Z"
   },
   {
    "duration": 5,
    "start_time": "2024-05-22T18:05:30.577Z"
   },
   {
    "duration": 5,
    "start_time": "2024-05-22T18:05:45.085Z"
   },
   {
    "duration": 4,
    "start_time": "2024-05-22T18:06:19.444Z"
   },
   {
    "duration": 4,
    "start_time": "2024-05-22T18:07:05.818Z"
   },
   {
    "duration": 3,
    "start_time": "2024-05-22T18:07:16.207Z"
   },
   {
    "duration": 5,
    "start_time": "2024-05-22T18:47:39.780Z"
   },
   {
    "duration": 12,
    "start_time": "2024-05-22T18:51:05.265Z"
   },
   {
    "duration": 288,
    "start_time": "2024-05-22T18:51:33.692Z"
   },
   {
    "duration": 437,
    "start_time": "2024-05-22T18:51:41.529Z"
   },
   {
    "duration": 16,
    "start_time": "2024-05-22T18:52:20.801Z"
   },
   {
    "duration": 3,
    "start_time": "2024-05-22T18:52:40.586Z"
   },
   {
    "duration": 519,
    "start_time": "2024-05-22T18:53:07.723Z"
   },
   {
    "duration": 294,
    "start_time": "2024-05-22T18:53:38.633Z"
   },
   {
    "duration": 355,
    "start_time": "2024-05-22T18:53:55.262Z"
   },
   {
    "duration": 4,
    "start_time": "2024-05-22T18:55:25.489Z"
   },
   {
    "duration": 291,
    "start_time": "2024-05-22T18:58:21.188Z"
   },
   {
    "duration": 321,
    "start_time": "2024-05-22T18:58:38.801Z"
   },
   {
    "duration": 294,
    "start_time": "2024-05-22T18:58:50.133Z"
   },
   {
    "duration": 304,
    "start_time": "2024-05-22T18:59:44.433Z"
   },
   {
    "duration": 297,
    "start_time": "2024-05-22T19:01:42.783Z"
   },
   {
    "duration": 305,
    "start_time": "2024-05-22T19:03:10.678Z"
   },
   {
    "duration": 283,
    "start_time": "2024-05-22T19:03:20.434Z"
   },
   {
    "duration": 299,
    "start_time": "2024-05-22T19:03:47.225Z"
   },
   {
    "duration": 291,
    "start_time": "2024-05-22T19:06:06.348Z"
   },
   {
    "duration": 307,
    "start_time": "2024-05-22T19:06:11.899Z"
   },
   {
    "duration": 313,
    "start_time": "2024-05-22T19:06:18.801Z"
   },
   {
    "duration": 311,
    "start_time": "2024-05-22T19:06:27.320Z"
   },
   {
    "duration": 304,
    "start_time": "2024-05-22T19:07:57.845Z"
   },
   {
    "duration": 288,
    "start_time": "2024-05-22T19:08:36.739Z"
   },
   {
    "duration": 303,
    "start_time": "2024-05-22T19:09:24.632Z"
   },
   {
    "duration": 286,
    "start_time": "2024-05-22T19:19:47.249Z"
   },
   {
    "duration": 288,
    "start_time": "2024-05-22T19:20:21.336Z"
   },
   {
    "duration": 15,
    "start_time": "2024-05-23T08:00:36.835Z"
   },
   {
    "duration": 791,
    "start_time": "2024-05-23T08:00:36.852Z"
   },
   {
    "duration": 583,
    "start_time": "2024-05-23T08:00:37.644Z"
   },
   {
    "duration": 513,
    "start_time": "2024-05-23T08:00:38.229Z"
   },
   {
    "duration": 536,
    "start_time": "2024-05-23T08:00:38.744Z"
   },
   {
    "duration": 2084,
    "start_time": "2024-05-23T08:00:39.281Z"
   },
   {
    "duration": 10,
    "start_time": "2024-05-23T08:00:41.366Z"
   },
   {
    "duration": 6,
    "start_time": "2024-05-23T08:00:41.384Z"
   },
   {
    "duration": 11,
    "start_time": "2024-05-23T08:00:41.391Z"
   },
   {
    "duration": 7933,
    "start_time": "2024-05-23T08:00:41.404Z"
   },
   {
    "duration": 48,
    "start_time": "2024-05-23T08:00:49.339Z"
   },
   {
    "duration": 3,
    "start_time": "2024-05-23T08:00:49.388Z"
   },
   {
    "duration": 4,
    "start_time": "2024-05-23T08:00:49.392Z"
   },
   {
    "duration": 9,
    "start_time": "2024-05-23T08:00:49.399Z"
   },
   {
    "duration": 3900,
    "start_time": "2024-05-23T08:00:49.410Z"
   },
   {
    "duration": 3939,
    "start_time": "2024-05-23T08:00:53.311Z"
   },
   {
    "duration": 3765,
    "start_time": "2024-05-23T08:00:57.251Z"
   },
   {
    "duration": 4,
    "start_time": "2024-05-23T08:01:01.018Z"
   },
   {
    "duration": 87,
    "start_time": "2024-05-23T08:01:01.023Z"
   },
   {
    "duration": 29193,
    "start_time": "2024-05-23T08:01:01.111Z"
   },
   {
    "duration": 26286,
    "start_time": "2024-05-23T08:01:30.306Z"
   },
   {
    "duration": 24429,
    "start_time": "2024-05-23T08:01:56.593Z"
   },
   {
    "duration": 2,
    "start_time": "2024-05-23T08:02:21.024Z"
   },
   {
    "duration": 17,
    "start_time": "2024-05-23T08:02:21.027Z"
   },
   {
    "duration": 5,
    "start_time": "2024-05-23T08:02:21.045Z"
   },
   {
    "duration": 3,
    "start_time": "2024-05-23T08:02:21.051Z"
   },
   {
    "duration": 16,
    "start_time": "2024-05-23T08:02:21.055Z"
   },
   {
    "duration": 251,
    "start_time": "2024-05-23T08:02:21.072Z"
   },
   {
    "duration": 243,
    "start_time": "2024-05-23T08:02:21.324Z"
   },
   {
    "duration": 247,
    "start_time": "2024-05-23T08:02:21.569Z"
   },
   {
    "duration": 235,
    "start_time": "2024-05-23T08:03:15.964Z"
   },
   {
    "duration": 239,
    "start_time": "2024-05-23T08:03:16.368Z"
   },
   {
    "duration": 239,
    "start_time": "2024-05-23T08:03:17.460Z"
   },
   {
    "duration": 243,
    "start_time": "2024-05-23T08:03:29.766Z"
   },
   {
    "duration": 266,
    "start_time": "2024-05-23T08:03:30.159Z"
   },
   {
    "duration": 241,
    "start_time": "2024-05-23T08:03:30.518Z"
   },
   {
    "duration": 256,
    "start_time": "2024-05-23T08:14:13.125Z"
   },
   {
    "duration": 248,
    "start_time": "2024-05-23T08:14:23.168Z"
   },
   {
    "duration": 253,
    "start_time": "2024-05-23T08:16:49.863Z"
   },
   {
    "duration": 347,
    "start_time": "2024-05-23T08:17:32.792Z"
   },
   {
    "duration": 261,
    "start_time": "2024-05-23T08:17:45.841Z"
   },
   {
    "duration": 245,
    "start_time": "2024-05-23T08:19:46.334Z"
   },
   {
    "duration": 266,
    "start_time": "2024-05-23T08:20:58.561Z"
   },
   {
    "duration": 314,
    "start_time": "2024-05-23T08:21:04.005Z"
   },
   {
    "duration": 259,
    "start_time": "2024-05-23T08:22:48.899Z"
   },
   {
    "duration": 262,
    "start_time": "2024-05-23T08:24:47.894Z"
   },
   {
    "duration": 258,
    "start_time": "2024-05-23T08:26:11.577Z"
   },
   {
    "duration": 260,
    "start_time": "2024-05-23T08:26:15.319Z"
   },
   {
    "duration": 270,
    "start_time": "2024-05-23T08:26:36.488Z"
   },
   {
    "duration": 265,
    "start_time": "2024-05-23T08:26:57.007Z"
   },
   {
    "duration": 237,
    "start_time": "2024-05-23T08:28:47.065Z"
   },
   {
    "duration": 246,
    "start_time": "2024-05-23T08:28:51.368Z"
   },
   {
    "duration": 250,
    "start_time": "2024-05-23T08:28:56.515Z"
   },
   {
    "duration": 238,
    "start_time": "2024-05-23T08:29:03.075Z"
   },
   {
    "duration": 288,
    "start_time": "2024-05-23T08:31:12.682Z"
   },
   {
    "duration": 278,
    "start_time": "2024-05-23T08:31:26.444Z"
   },
   {
    "duration": 272,
    "start_time": "2024-05-23T08:31:34.453Z"
   },
   {
    "duration": 294,
    "start_time": "2024-05-23T08:31:46.822Z"
   },
   {
    "duration": 280,
    "start_time": "2024-05-23T08:31:52.668Z"
   },
   {
    "duration": 270,
    "start_time": "2024-05-23T08:32:12.818Z"
   },
   {
    "duration": 277,
    "start_time": "2024-05-23T08:32:32.827Z"
   },
   {
    "duration": 272,
    "start_time": "2024-05-23T08:39:23.141Z"
   },
   {
    "duration": 274,
    "start_time": "2024-05-23T08:39:36.758Z"
   },
   {
    "duration": 268,
    "start_time": "2024-05-23T08:39:43.334Z"
   },
   {
    "duration": 285,
    "start_time": "2024-05-23T08:39:59.390Z"
   },
   {
    "duration": 271,
    "start_time": "2024-05-23T08:40:13.902Z"
   },
   {
    "duration": 273,
    "start_time": "2024-05-23T08:40:38.420Z"
   },
   {
    "duration": 268,
    "start_time": "2024-05-23T08:40:53.900Z"
   },
   {
    "duration": 253,
    "start_time": "2024-05-23T08:40:58.217Z"
   },
   {
    "duration": 271,
    "start_time": "2024-05-23T08:42:52.576Z"
   },
   {
    "duration": 263,
    "start_time": "2024-05-23T08:43:13.653Z"
   },
   {
    "duration": 154,
    "start_time": "2024-05-23T08:43:14.592Z"
   },
   {
    "duration": 146,
    "start_time": "2024-05-23T08:43:31.183Z"
   },
   {
    "duration": 155,
    "start_time": "2024-05-23T08:43:44.181Z"
   },
   {
    "duration": 264,
    "start_time": "2024-05-23T08:45:25.759Z"
   },
   {
    "duration": 152,
    "start_time": "2024-05-23T08:45:30.491Z"
   },
   {
    "duration": 205,
    "start_time": "2024-05-23T08:46:09.675Z"
   },
   {
    "duration": 161,
    "start_time": "2024-05-23T08:46:19.457Z"
   },
   {
    "duration": 257,
    "start_time": "2024-05-23T08:46:29.596Z"
   },
   {
    "duration": 154,
    "start_time": "2024-05-23T08:46:30.200Z"
   },
   {
    "duration": 269,
    "start_time": "2024-05-23T08:46:57.141Z"
   },
   {
    "duration": 144,
    "start_time": "2024-05-23T08:46:58.821Z"
   },
   {
    "duration": 258,
    "start_time": "2024-05-23T08:47:05.445Z"
   },
   {
    "duration": 184,
    "start_time": "2024-05-23T08:47:11.470Z"
   },
   {
    "duration": 149,
    "start_time": "2024-05-23T08:47:13.790Z"
   },
   {
    "duration": 247,
    "start_time": "2024-05-23T08:50:24.877Z"
   },
   {
    "duration": 263,
    "start_time": "2024-05-23T08:50:52.000Z"
   },
   {
    "duration": 148,
    "start_time": "2024-05-23T08:50:53.275Z"
   },
   {
    "duration": 258,
    "start_time": "2024-05-23T08:50:54.666Z"
   },
   {
    "duration": 273,
    "start_time": "2024-05-23T08:51:06.564Z"
   },
   {
    "duration": 146,
    "start_time": "2024-05-23T08:52:28.123Z"
   },
   {
    "duration": 138,
    "start_time": "2024-05-23T08:52:44.249Z"
   },
   {
    "duration": 157,
    "start_time": "2024-05-23T08:53:27.687Z"
   },
   {
    "duration": 144,
    "start_time": "2024-05-23T08:53:46.352Z"
   },
   {
    "duration": 230,
    "start_time": "2024-05-23T08:54:31.824Z"
   },
   {
    "duration": 355,
    "start_time": "2024-05-23T08:55:06.063Z"
   },
   {
    "duration": 509,
    "start_time": "2024-05-23T08:55:14.852Z"
   },
   {
    "duration": 372,
    "start_time": "2024-05-23T08:55:32.056Z"
   },
   {
    "duration": 266,
    "start_time": "2024-05-23T08:55:49.972Z"
   },
   {
    "duration": 335,
    "start_time": "2024-05-23T08:55:50.319Z"
   },
   {
    "duration": 267,
    "start_time": "2024-05-23T08:56:01.217Z"
   },
   {
    "duration": 361,
    "start_time": "2024-05-23T08:56:01.570Z"
   },
   {
    "duration": 263,
    "start_time": "2024-05-23T08:56:13.109Z"
   },
   {
    "duration": 319,
    "start_time": "2024-05-23T08:56:13.396Z"
   },
   {
    "duration": 262,
    "start_time": "2024-05-23T08:56:18.197Z"
   },
   {
    "duration": 342,
    "start_time": "2024-05-23T08:56:18.826Z"
   },
   {
    "duration": 259,
    "start_time": "2024-05-23T08:56:20.207Z"
   },
   {
    "duration": 355,
    "start_time": "2024-05-23T08:56:24.172Z"
   },
   {
    "duration": 371,
    "start_time": "2024-05-23T09:01:47.252Z"
   },
   {
    "duration": 263,
    "start_time": "2024-05-23T09:02:45.287Z"
   },
   {
    "duration": 371,
    "start_time": "2024-05-23T09:02:52.150Z"
   },
   {
    "duration": 590,
    "start_time": "2024-05-23T09:04:12.207Z"
   },
   {
    "duration": 480,
    "start_time": "2024-05-23T09:04:26.583Z"
   },
   {
    "duration": 582,
    "start_time": "2024-05-23T09:05:01.352Z"
   },
   {
    "duration": 573,
    "start_time": "2024-05-23T09:05:28.461Z"
   },
   {
    "duration": 617,
    "start_time": "2024-05-23T09:06:30.147Z"
   },
   {
    "duration": 553,
    "start_time": "2024-05-23T09:07:39.685Z"
   },
   {
    "duration": 438,
    "start_time": "2024-05-23T09:07:45.775Z"
   },
   {
    "duration": 488,
    "start_time": "2024-05-23T09:08:13.119Z"
   },
   {
    "duration": 692,
    "start_time": "2024-05-23T09:08:26.741Z"
   },
   {
    "duration": 434,
    "start_time": "2024-05-23T09:08:41.383Z"
   },
   {
    "duration": 466,
    "start_time": "2024-05-23T09:08:48.430Z"
   },
   {
    "duration": 487,
    "start_time": "2024-05-23T09:08:56.099Z"
   },
   {
    "duration": 582,
    "start_time": "2024-05-23T09:09:05.005Z"
   },
   {
    "duration": 574,
    "start_time": "2024-05-23T09:09:22.244Z"
   },
   {
    "duration": 597,
    "start_time": "2024-05-23T09:09:33.236Z"
   },
   {
    "duration": 648,
    "start_time": "2024-05-23T09:09:45.172Z"
   },
   {
    "duration": 709,
    "start_time": "2024-05-23T09:09:56.541Z"
   },
   {
    "duration": 575,
    "start_time": "2024-05-23T09:10:00.737Z"
   },
   {
    "duration": 580,
    "start_time": "2024-05-23T09:10:04.683Z"
   },
   {
    "duration": 600,
    "start_time": "2024-05-23T09:10:54.537Z"
   },
   {
    "duration": 593,
    "start_time": "2024-05-23T09:11:08.739Z"
   },
   {
    "duration": 626,
    "start_time": "2024-05-23T09:11:15.382Z"
   },
   {
    "duration": 629,
    "start_time": "2024-05-23T09:11:28.698Z"
   },
   {
    "duration": 589,
    "start_time": "2024-05-23T09:11:50.057Z"
   },
   {
    "duration": 583,
    "start_time": "2024-05-23T09:12:35.623Z"
   },
   {
    "duration": 574,
    "start_time": "2024-05-23T09:13:23.660Z"
   },
   {
    "duration": 7,
    "start_time": "2024-05-23T09:14:02.048Z"
   },
   {
    "duration": 7,
    "start_time": "2024-05-23T09:14:10.808Z"
   },
   {
    "duration": 537,
    "start_time": "2024-05-23T09:14:21.080Z"
   },
   {
    "duration": 579,
    "start_time": "2024-05-23T09:14:27.094Z"
   },
   {
    "duration": 7,
    "start_time": "2024-05-23T09:15:21.364Z"
   },
   {
    "duration": 589,
    "start_time": "2024-05-23T09:15:22.831Z"
   },
   {
    "duration": 1727,
    "start_time": "2024-05-23T09:16:02.631Z"
   },
   {
    "duration": 8,
    "start_time": "2024-05-23T09:16:22.936Z"
   },
   {
    "duration": 1701,
    "start_time": "2024-05-23T09:16:23.326Z"
   },
   {
    "duration": 7,
    "start_time": "2024-05-23T09:16:45.071Z"
   },
   {
    "duration": 1725,
    "start_time": "2024-05-23T09:16:45.306Z"
   },
   {
    "duration": 6,
    "start_time": "2024-05-23T09:17:04.347Z"
   },
   {
    "duration": 7,
    "start_time": "2024-05-23T09:17:13.723Z"
   },
   {
    "duration": 454,
    "start_time": "2024-05-23T09:17:14.224Z"
   },
   {
    "duration": 7,
    "start_time": "2024-05-23T09:17:20.850Z"
   },
   {
    "duration": 1864,
    "start_time": "2024-05-23T09:17:21.282Z"
   },
   {
    "duration": 9,
    "start_time": "2024-05-23T09:25:08.999Z"
   },
   {
    "duration": 6,
    "start_time": "2024-05-23T09:25:09.010Z"
   },
   {
    "duration": 4,
    "start_time": "2024-05-23T09:25:09.017Z"
   },
   {
    "duration": 6,
    "start_time": "2024-05-23T09:25:09.022Z"
   },
   {
    "duration": 530,
    "start_time": "2024-05-23T09:25:09.030Z"
   },
   {
    "duration": 136,
    "start_time": "2024-05-23T09:25:09.562Z"
   },
   {
    "duration": 115,
    "start_time": "2024-05-23T09:25:09.699Z"
   },
   {
    "duration": 113,
    "start_time": "2024-05-23T09:25:09.815Z"
   },
   {
    "duration": 1888,
    "start_time": "2024-05-23T09:25:09.929Z"
   },
   {
    "duration": 10,
    "start_time": "2024-05-23T09:25:11.818Z"
   },
   {
    "duration": 4,
    "start_time": "2024-05-23T09:25:11.829Z"
   },
   {
    "duration": 9,
    "start_time": "2024-05-23T09:25:11.834Z"
   },
   {
    "duration": 3537,
    "start_time": "2024-05-23T09:25:11.844Z"
   },
   {
    "duration": 38,
    "start_time": "2024-05-23T09:25:15.385Z"
   },
   {
    "duration": 3,
    "start_time": "2024-05-23T09:25:15.424Z"
   },
   {
    "duration": 21,
    "start_time": "2024-05-23T09:25:15.428Z"
   },
   {
    "duration": 11,
    "start_time": "2024-05-23T09:25:15.450Z"
   },
   {
    "duration": 3449,
    "start_time": "2024-05-23T09:25:15.462Z"
   },
   {
    "duration": 3469,
    "start_time": "2024-05-23T09:25:18.912Z"
   },
   {
    "duration": 3597,
    "start_time": "2024-05-23T09:25:22.384Z"
   },
   {
    "duration": 5,
    "start_time": "2024-05-23T09:25:25.983Z"
   },
   {
    "duration": 7,
    "start_time": "2024-05-23T09:25:25.989Z"
   },
   {
    "duration": 24739,
    "start_time": "2024-05-23T09:25:25.997Z"
   },
   {
    "duration": 24611,
    "start_time": "2024-05-23T09:25:50.737Z"
   },
   {
    "duration": 24535,
    "start_time": "2024-05-23T09:26:15.349Z"
   },
   {
    "duration": 2,
    "start_time": "2024-05-23T09:26:39.885Z"
   },
   {
    "duration": 6,
    "start_time": "2024-05-23T09:26:39.888Z"
   },
   {
    "duration": 8,
    "start_time": "2024-05-23T09:26:39.895Z"
   },
   {
    "duration": 1711,
    "start_time": "2024-05-23T09:26:39.905Z"
   },
   {
    "duration": 525,
    "start_time": "2024-05-23T09:30:15.303Z"
   },
   {
    "duration": 66,
    "start_time": "2024-05-23T09:31:14.502Z"
   },
   {
    "duration": 571,
    "start_time": "2024-05-23T09:31:15.543Z"
   },
   {
    "duration": 12,
    "start_time": "2024-05-23T09:31:39.064Z"
   },
   {
    "duration": 646,
    "start_time": "2024-05-23T09:31:39.589Z"
   },
   {
    "duration": 9,
    "start_time": "2024-05-23T09:32:04.433Z"
   },
   {
    "duration": 622,
    "start_time": "2024-05-23T09:32:04.904Z"
   },
   {
    "duration": 8,
    "start_time": "2024-05-23T09:32:18.646Z"
   },
   {
    "duration": 607,
    "start_time": "2024-05-23T09:32:19.087Z"
   },
   {
    "duration": 1926,
    "start_time": "2024-05-23T09:42:14.933Z"
   },
   {
    "duration": 20,
    "start_time": "2024-05-23T09:42:49.822Z"
   },
   {
    "duration": 47,
    "start_time": "2024-05-23T09:43:12.606Z"
   },
   {
    "duration": 70,
    "start_time": "2024-05-23T09:43:26.978Z"
   },
   {
    "duration": 158,
    "start_time": "2024-05-23T09:43:59.639Z"
   },
   {
    "duration": 113,
    "start_time": "2024-05-23T09:44:54.742Z"
   },
   {
    "duration": 12,
    "start_time": "2024-05-23T09:45:03.690Z"
   },
   {
    "duration": 32,
    "start_time": "2024-05-23T09:45:30.359Z"
   },
   {
    "duration": 26,
    "start_time": "2024-05-23T09:45:35.842Z"
   },
   {
    "duration": 64,
    "start_time": "2024-05-23T09:45:55.146Z"
   },
   {
    "duration": 142,
    "start_time": "2024-05-23T09:50:30.682Z"
   },
   {
    "duration": 198,
    "start_time": "2024-05-23T09:50:36.464Z"
   },
   {
    "duration": 188,
    "start_time": "2024-05-23T09:50:48.124Z"
   },
   {
    "duration": 1050,
    "start_time": "2024-05-23T09:51:16.222Z"
   },
   {
    "duration": 183,
    "start_time": "2024-05-23T09:51:23.168Z"
   },
   {
    "duration": 319,
    "start_time": "2024-05-23T09:52:09.452Z"
   },
   {
    "duration": 328,
    "start_time": "2024-05-23T09:52:17.125Z"
   },
   {
    "duration": 302,
    "start_time": "2024-05-23T09:52:27.406Z"
   },
   {
    "duration": 250,
    "start_time": "2024-05-23T09:52:32.367Z"
   },
   {
    "duration": 271,
    "start_time": "2024-05-23T09:52:38.297Z"
   },
   {
    "duration": 274,
    "start_time": "2024-05-23T09:53:03.898Z"
   },
   {
    "duration": 392,
    "start_time": "2024-05-23T09:53:23.822Z"
   },
   {
    "duration": 364,
    "start_time": "2024-05-23T09:53:28.677Z"
   },
   {
    "duration": 324,
    "start_time": "2024-05-23T09:53:34.935Z"
   },
   {
    "duration": 352,
    "start_time": "2024-05-23T09:54:01.438Z"
   },
   {
    "duration": 310,
    "start_time": "2024-05-23T09:54:04.558Z"
   },
   {
    "duration": 416,
    "start_time": "2024-05-23T09:54:08.800Z"
   },
   {
    "duration": 314,
    "start_time": "2024-05-23T09:56:11.446Z"
   },
   {
    "duration": 324,
    "start_time": "2024-05-23T09:56:35.821Z"
   },
   {
    "duration": 11,
    "start_time": "2024-05-23T10:03:45.271Z"
   },
   {
    "duration": 213,
    "start_time": "2024-05-23T10:06:46.215Z"
   },
   {
    "duration": 1688,
    "start_time": "2024-05-23T10:20:54.755Z"
   },
   {
    "duration": 7,
    "start_time": "2024-05-23T10:21:05.532Z"
   },
   {
    "duration": 2861,
    "start_time": "2024-05-23T10:21:06.186Z"
   },
   {
    "duration": 8,
    "start_time": "2024-05-23T10:21:31.200Z"
   },
   {
    "duration": 1760,
    "start_time": "2024-05-23T10:21:31.954Z"
   },
   {
    "duration": 7,
    "start_time": "2024-05-23T10:21:57.758Z"
   },
   {
    "duration": 2788,
    "start_time": "2024-05-23T10:21:58.673Z"
   },
   {
    "duration": 7,
    "start_time": "2024-05-23T10:22:24.308Z"
   },
   {
    "duration": 1682,
    "start_time": "2024-05-23T10:22:24.838Z"
   },
   {
    "duration": 24189,
    "start_time": "2024-05-23T10:38:06.185Z"
   },
   {
    "duration": 24159,
    "start_time": "2024-05-23T10:38:59.656Z"
   },
   {
    "duration": 24021,
    "start_time": "2024-05-23T10:39:33.633Z"
   },
   {
    "duration": 23984,
    "start_time": "2024-05-23T10:40:36.610Z"
   },
   {
    "duration": 23993,
    "start_time": "2024-05-23T10:41:58.224Z"
   },
   {
    "duration": 23998,
    "start_time": "2024-05-23T10:42:51.834Z"
   },
   {
    "duration": 23969,
    "start_time": "2024-05-23T10:43:47.829Z"
   },
   {
    "duration": 24151,
    "start_time": "2024-05-23T10:45:13.403Z"
   },
   {
    "duration": 24295,
    "start_time": "2024-05-23T10:45:37.556Z"
   },
   {
    "duration": 23789,
    "start_time": "2024-05-23T10:46:01.853Z"
   },
   {
    "duration": 591,
    "start_time": "2024-05-23T10:56:59.204Z"
   },
   {
    "duration": 14,
    "start_time": "2024-05-23T10:59:11.374Z"
   },
   {
    "duration": 17,
    "start_time": "2024-05-23T11:00:06.468Z"
   },
   {
    "duration": 8,
    "start_time": "2024-05-23T11:00:45.735Z"
   },
   {
    "duration": 10,
    "start_time": "2024-05-23T11:00:55.917Z"
   },
   {
    "duration": 8,
    "start_time": "2024-05-23T11:01:03.417Z"
   },
   {
    "duration": 17,
    "start_time": "2024-05-23T11:02:05.566Z"
   },
   {
    "duration": 14,
    "start_time": "2024-05-23T11:03:04.086Z"
   },
   {
    "duration": 5,
    "start_time": "2024-05-23T11:03:16.553Z"
   },
   {
    "duration": 7,
    "start_time": "2024-05-23T11:03:22.727Z"
   },
   {
    "duration": 6,
    "start_time": "2024-05-23T11:03:27.341Z"
   },
   {
    "duration": 14,
    "start_time": "2024-05-23T11:03:39.688Z"
   },
   {
    "duration": 14,
    "start_time": "2024-05-23T11:03:47.793Z"
   },
   {
    "duration": 8,
    "start_time": "2024-05-23T11:03:50.361Z"
   },
   {
    "duration": 17,
    "start_time": "2024-05-23T11:04:01.683Z"
   },
   {
    "duration": 8,
    "start_time": "2024-05-23T11:04:08.198Z"
   },
   {
    "duration": 24,
    "start_time": "2024-05-23T11:04:21.183Z"
   },
   {
    "duration": 8,
    "start_time": "2024-05-23T11:04:43.124Z"
   },
   {
    "duration": 8,
    "start_time": "2024-05-23T11:04:54.989Z"
   },
   {
    "duration": 7,
    "start_time": "2024-05-23T11:05:10.833Z"
   },
   {
    "duration": 8,
    "start_time": "2024-05-23T11:05:25.432Z"
   },
   {
    "duration": 10,
    "start_time": "2024-05-23T11:05:30.903Z"
   },
   {
    "duration": 10,
    "start_time": "2024-05-23T11:05:56.606Z"
   },
   {
    "duration": 19,
    "start_time": "2024-05-23T11:06:13.779Z"
   },
   {
    "duration": 18,
    "start_time": "2024-05-23T11:06:20.894Z"
   },
   {
    "duration": 10,
    "start_time": "2024-05-23T11:06:43.532Z"
   },
   {
    "duration": 10,
    "start_time": "2024-05-23T11:07:56.910Z"
   },
   {
    "duration": 9,
    "start_time": "2024-05-23T11:08:25.082Z"
   },
   {
    "duration": 10,
    "start_time": "2024-05-23T11:08:48.757Z"
   },
   {
    "duration": 3,
    "start_time": "2024-05-23T11:10:33.425Z"
   },
   {
    "duration": 4,
    "start_time": "2024-05-23T11:10:43.585Z"
   },
   {
    "duration": 3,
    "start_time": "2024-05-23T11:10:44.003Z"
   },
   {
    "duration": 8,
    "start_time": "2024-05-23T11:10:44.567Z"
   },
   {
    "duration": 10,
    "start_time": "2024-05-23T11:10:46.559Z"
   },
   {
    "duration": 4,
    "start_time": "2024-05-23T11:13:55.149Z"
   },
   {
    "duration": 6,
    "start_time": "2024-05-23T11:14:21.231Z"
   },
   {
    "duration": 5,
    "start_time": "2024-05-23T11:14:30.970Z"
   },
   {
    "duration": 204,
    "start_time": "2024-05-23T11:15:20.216Z"
   },
   {
    "duration": 65,
    "start_time": "2024-05-23T11:16:49.641Z"
   },
   {
    "duration": 5,
    "start_time": "2024-05-23T11:17:35.079Z"
   },
   {
    "duration": 6,
    "start_time": "2024-05-23T11:17:52.378Z"
   },
   {
    "duration": 6,
    "start_time": "2024-05-23T11:18:00.996Z"
   },
   {
    "duration": 8,
    "start_time": "2024-05-23T11:19:49.478Z"
   },
   {
    "duration": 8,
    "start_time": "2024-05-23T11:20:19.705Z"
   },
   {
    "duration": 4,
    "start_time": "2024-05-23T11:22:38.625Z"
   },
   {
    "duration": 5,
    "start_time": "2024-05-23T11:22:47.305Z"
   },
   {
    "duration": 3,
    "start_time": "2024-05-23T11:24:48.135Z"
   },
   {
    "duration": 6,
    "start_time": "2024-05-23T11:26:50.575Z"
   },
   {
    "duration": 5,
    "start_time": "2024-05-23T11:27:07.910Z"
   },
   {
    "duration": 6,
    "start_time": "2024-05-23T11:28:50.021Z"
   },
   {
    "duration": 3,
    "start_time": "2024-05-23T11:30:05.489Z"
   },
   {
    "duration": 7,
    "start_time": "2024-05-23T11:30:06.093Z"
   },
   {
    "duration": 7,
    "start_time": "2024-05-23T11:30:11.269Z"
   },
   {
    "duration": 8,
    "start_time": "2024-05-23T11:30:37.629Z"
   },
   {
    "duration": 11,
    "start_time": "2024-05-23T11:30:46.469Z"
   },
   {
    "duration": 8,
    "start_time": "2024-05-23T11:30:49.377Z"
   },
   {
    "duration": 10,
    "start_time": "2024-05-23T11:30:49.797Z"
   },
   {
    "duration": 8,
    "start_time": "2024-05-23T11:30:58.158Z"
   },
   {
    "duration": 1321,
    "start_time": "2024-05-23T11:30:58.698Z"
   },
   {
    "duration": 3848,
    "start_time": "2024-05-23T11:31:20.509Z"
   },
   {
    "duration": 3,
    "start_time": "2024-05-23T11:36:09.980Z"
   },
   {
    "duration": 8,
    "start_time": "2024-05-23T11:36:10.475Z"
   },
   {
    "duration": 3795,
    "start_time": "2024-05-23T11:36:10.886Z"
   },
   {
    "duration": 3,
    "start_time": "2024-05-23T11:37:32.402Z"
   },
   {
    "duration": 8,
    "start_time": "2024-05-23T11:37:34.546Z"
   },
   {
    "duration": 3750,
    "start_time": "2024-05-23T11:37:39.091Z"
   },
   {
    "duration": 4006,
    "start_time": "2024-05-23T11:39:05.486Z"
   },
   {
    "duration": 6,
    "start_time": "2024-05-23T11:39:09.494Z"
   },
   {
    "duration": 7,
    "start_time": "2024-05-23T11:39:09.501Z"
   },
   {
    "duration": 6,
    "start_time": "2024-05-23T11:39:09.510Z"
   },
   {
    "duration": 8,
    "start_time": "2024-05-23T11:39:09.517Z"
   },
   {
    "duration": 162,
    "start_time": "2024-05-23T11:39:09.527Z"
   },
   {
    "duration": 118,
    "start_time": "2024-05-23T11:39:09.691Z"
   },
   {
    "duration": 120,
    "start_time": "2024-05-23T11:39:09.810Z"
   },
   {
    "duration": 1845,
    "start_time": "2024-05-23T11:39:09.931Z"
   },
   {
    "duration": 10,
    "start_time": "2024-05-23T11:39:11.784Z"
   },
   {
    "duration": 387,
    "start_time": "2024-05-23T11:39:11.795Z"
   },
   {
    "duration": 223,
    "start_time": "2024-05-23T11:39:12.184Z"
   },
   {
    "duration": 28,
    "start_time": "2024-05-23T11:39:12.408Z"
   },
   {
    "duration": 2,
    "start_time": "2024-05-23T11:39:12.437Z"
   },
   {
    "duration": 5,
    "start_time": "2024-05-23T11:39:12.440Z"
   },
   {
    "duration": 3,
    "start_time": "2024-05-23T11:39:12.447Z"
   },
   {
    "duration": 3438,
    "start_time": "2024-05-23T11:39:12.451Z"
   },
   {
    "duration": 3579,
    "start_time": "2024-05-23T11:39:15.890Z"
   },
   {
    "duration": 3419,
    "start_time": "2024-05-23T11:39:19.470Z"
   },
   {
    "duration": 5,
    "start_time": "2024-05-23T11:39:22.890Z"
   },
   {
    "duration": 4115,
    "start_time": "2024-05-23T11:39:28.365Z"
   },
   {
    "duration": 5,
    "start_time": "2024-05-23T11:39:32.482Z"
   },
   {
    "duration": 25,
    "start_time": "2024-05-23T11:39:32.488Z"
   },
   {
    "duration": 22,
    "start_time": "2024-05-23T11:39:32.514Z"
   },
   {
    "duration": 27,
    "start_time": "2024-05-23T11:39:32.537Z"
   },
   {
    "duration": 163,
    "start_time": "2024-05-23T11:39:32.566Z"
   },
   {
    "duration": 118,
    "start_time": "2024-05-23T11:39:32.731Z"
   },
   {
    "duration": 116,
    "start_time": "2024-05-23T11:39:32.850Z"
   },
   {
    "duration": 1833,
    "start_time": "2024-05-23T11:39:32.968Z"
   },
   {
    "duration": 12,
    "start_time": "2024-05-23T11:39:34.802Z"
   },
   {
    "duration": 394,
    "start_time": "2024-05-23T11:39:34.815Z"
   },
   {
    "duration": 220,
    "start_time": "2024-05-23T11:39:35.210Z"
   },
   {
    "duration": 32,
    "start_time": "2024-05-23T11:39:35.431Z"
   },
   {
    "duration": 2,
    "start_time": "2024-05-23T11:39:35.465Z"
   },
   {
    "duration": 17,
    "start_time": "2024-05-23T11:39:35.468Z"
   },
   {
    "duration": 6,
    "start_time": "2024-05-23T11:39:35.486Z"
   },
   {
    "duration": 3595,
    "start_time": "2024-05-23T11:39:35.493Z"
   },
   {
    "duration": 3504,
    "start_time": "2024-05-23T11:39:39.090Z"
   },
   {
    "duration": 3512,
    "start_time": "2024-05-23T11:39:42.595Z"
   },
   {
    "duration": 4,
    "start_time": "2024-05-23T11:39:46.108Z"
   },
   {
    "duration": 24704,
    "start_time": "2024-05-23T11:39:46.114Z"
   },
   {
    "duration": 25926,
    "start_time": "2024-05-23T11:40:10.819Z"
   },
   {
    "duration": 25125,
    "start_time": "2024-05-23T11:40:36.746Z"
   },
   {
    "duration": 3,
    "start_time": "2024-05-23T11:41:01.872Z"
   },
   {
    "duration": 18,
    "start_time": "2024-05-23T11:41:01.884Z"
   },
   {
    "duration": 3927,
    "start_time": "2024-05-23T11:41:01.903Z"
   },
   {
    "duration": 7,
    "start_time": "2024-05-23T11:42:55.559Z"
   },
   {
    "duration": 1248,
    "start_time": "2024-05-23T11:43:17.975Z"
   },
   {
    "duration": 3883,
    "start_time": "2024-05-23T11:43:38.905Z"
   },
   {
    "duration": 7,
    "start_time": "2024-05-23T11:44:26.585Z"
   },
   {
    "duration": 3762,
    "start_time": "2024-05-23T11:44:27.190Z"
   },
   {
    "duration": 8,
    "start_time": "2024-05-23T11:45:19.066Z"
   },
   {
    "duration": 3872,
    "start_time": "2024-05-23T11:45:19.857Z"
   },
   {
    "duration": 3797,
    "start_time": "2024-05-23T11:46:07.051Z"
   },
   {
    "duration": 8,
    "start_time": "2024-05-23T11:52:01.236Z"
   },
   {
    "duration": 3990,
    "start_time": "2024-05-23T11:52:06.356Z"
   },
   {
    "duration": 8,
    "start_time": "2024-05-23T11:56:36.597Z"
   },
   {
    "duration": 3989,
    "start_time": "2024-05-23T11:56:38.942Z"
   },
   {
    "duration": 9,
    "start_time": "2024-05-23T12:12:46.746Z"
   },
   {
    "duration": 3870,
    "start_time": "2024-05-23T12:12:47.257Z"
   },
   {
    "duration": 8,
    "start_time": "2024-05-23T12:12:54.781Z"
   },
   {
    "duration": 3720,
    "start_time": "2024-05-23T12:12:55.227Z"
   },
   {
    "duration": 72,
    "start_time": "2024-05-23T12:13:03.500Z"
   },
   {
    "duration": 3745,
    "start_time": "2024-05-23T12:13:03.960Z"
   },
   {
    "duration": 8,
    "start_time": "2024-05-23T12:18:13.027Z"
   },
   {
    "duration": 3868,
    "start_time": "2024-05-23T12:18:13.508Z"
   },
   {
    "duration": 8,
    "start_time": "2024-05-23T12:19:22.915Z"
   },
   {
    "duration": 3877,
    "start_time": "2024-05-23T12:19:23.260Z"
   },
   {
    "duration": 4,
    "start_time": "2024-05-23T14:46:08.289Z"
   },
   {
    "duration": 3,
    "start_time": "2024-05-23T14:46:35.502Z"
   },
   {
    "duration": 904,
    "start_time": "2024-05-23T14:46:36.013Z"
   },
   {
    "duration": 94,
    "start_time": "2024-05-23T14:47:04.175Z"
   },
   {
    "duration": 3,
    "start_time": "2024-05-23T14:47:07.342Z"
   },
   {
    "duration": 898,
    "start_time": "2024-05-23T14:47:07.747Z"
   },
   {
    "duration": 4,
    "start_time": "2024-05-23T14:47:09.976Z"
   },
   {
    "duration": 3,
    "start_time": "2024-05-23T14:47:54.377Z"
   },
   {
    "duration": 897,
    "start_time": "2024-05-23T14:47:54.902Z"
   },
   {
    "duration": 3,
    "start_time": "2024-05-23T14:47:55.801Z"
   },
   {
    "duration": 1345,
    "start_time": "2024-05-23T14:48:09.726Z"
   },
   {
    "duration": 4,
    "start_time": "2024-05-23T14:48:11.958Z"
   },
   {
    "duration": 938,
    "start_time": "2024-05-23T14:48:29.888Z"
   },
   {
    "duration": 3,
    "start_time": "2024-05-23T14:48:30.827Z"
   },
   {
    "duration": 4,
    "start_time": "2024-05-23T14:49:40.355Z"
   },
   {
    "duration": 5,
    "start_time": "2024-05-23T14:50:08.498Z"
   },
   {
    "duration": 5,
    "start_time": "2024-05-23T14:51:35.956Z"
   },
   {
    "duration": 333,
    "start_time": "2024-05-23T14:51:48.688Z"
   },
   {
    "duration": 1430,
    "start_time": "2024-05-23T14:52:04.476Z"
   },
   {
    "duration": 3,
    "start_time": "2024-05-23T14:52:06.609Z"
   },
   {
    "duration": 3,
    "start_time": "2024-05-23T14:52:10.583Z"
   },
   {
    "duration": 4,
    "start_time": "2024-05-23T14:52:11.003Z"
   },
   {
    "duration": 4,
    "start_time": "2024-05-23T14:52:13.763Z"
   },
   {
    "duration": 349,
    "start_time": "2024-05-23T14:52:14.874Z"
   },
   {
    "duration": 4041,
    "start_time": "2024-05-23T14:55:11.751Z"
   },
   {
    "duration": 5,
    "start_time": "2024-05-23T14:55:15.794Z"
   },
   {
    "duration": 38,
    "start_time": "2024-05-23T14:55:15.800Z"
   },
   {
    "duration": 10,
    "start_time": "2024-05-23T14:55:15.840Z"
   },
   {
    "duration": 24,
    "start_time": "2024-05-23T14:55:15.851Z"
   },
   {
    "duration": 65,
    "start_time": "2024-05-23T14:55:15.877Z"
   },
   {
    "duration": 25,
    "start_time": "2024-05-23T14:55:15.943Z"
   },
   {
    "duration": 17,
    "start_time": "2024-05-23T14:55:15.970Z"
   },
   {
    "duration": 153,
    "start_time": "2024-05-23T14:55:15.988Z"
   },
   {
    "duration": 130,
    "start_time": "2024-05-23T14:55:16.143Z"
   },
   {
    "duration": 113,
    "start_time": "2024-05-23T14:55:16.275Z"
   },
   {
    "duration": 1847,
    "start_time": "2024-05-23T14:55:16.390Z"
   },
   {
    "duration": 10,
    "start_time": "2024-05-23T14:55:18.239Z"
   },
   {
    "duration": 368,
    "start_time": "2024-05-23T14:55:18.251Z"
   },
   {
    "duration": 217,
    "start_time": "2024-05-23T14:55:18.620Z"
   },
   {
    "duration": 28,
    "start_time": "2024-05-23T14:55:18.838Z"
   },
   {
    "duration": 11,
    "start_time": "2024-05-23T14:55:18.867Z"
   },
   {
    "duration": 41,
    "start_time": "2024-05-23T14:55:18.879Z"
   },
   {
    "duration": 24,
    "start_time": "2024-05-23T14:55:18.921Z"
   },
   {
    "duration": 3546,
    "start_time": "2024-05-23T14:55:18.946Z"
   },
   {
    "duration": 3497,
    "start_time": "2024-05-23T14:55:22.494Z"
   },
   {
    "duration": 3504,
    "start_time": "2024-05-23T14:55:25.992Z"
   },
   {
    "duration": 7,
    "start_time": "2024-05-23T14:55:29.497Z"
   },
   {
    "duration": 24215,
    "start_time": "2024-05-23T14:55:29.505Z"
   },
   {
    "duration": 24162,
    "start_time": "2024-05-23T14:55:53.722Z"
   },
   {
    "duration": 23988,
    "start_time": "2024-05-23T14:56:17.886Z"
   },
   {
    "duration": 11,
    "start_time": "2024-05-23T14:56:41.875Z"
   },
   {
    "duration": 20,
    "start_time": "2024-05-23T14:56:41.888Z"
   },
   {
    "duration": 1383,
    "start_time": "2024-05-23T14:56:41.909Z"
   },
   {
    "duration": 4,
    "start_time": "2024-05-23T14:56:43.293Z"
   },
   {
    "duration": 17,
    "start_time": "2024-05-23T14:56:43.298Z"
   },
   {
    "duration": 347,
    "start_time": "2024-05-23T14:56:43.316Z"
   },
   {
    "duration": 890,
    "start_time": "2024-05-23T14:57:21.215Z"
   },
   {
    "duration": 4,
    "start_time": "2024-05-23T14:57:22.106Z"
   },
   {
    "duration": 4,
    "start_time": "2024-05-23T14:57:22.253Z"
   },
   {
    "duration": 351,
    "start_time": "2024-05-23T14:57:22.549Z"
   },
   {
    "duration": 109,
    "start_time": "2024-05-23T15:06:59.954Z"
   },
   {
    "duration": 9,
    "start_time": "2024-05-23T15:07:49.625Z"
   },
   {
    "duration": 7,
    "start_time": "2024-05-23T15:07:58.470Z"
   },
   {
    "duration": 8,
    "start_time": "2024-05-23T15:08:17.409Z"
   },
   {
    "duration": 7,
    "start_time": "2024-05-23T15:08:22.529Z"
   },
   {
    "duration": 7,
    "start_time": "2024-05-23T15:08:29.784Z"
   },
   {
    "duration": 5,
    "start_time": "2024-05-23T15:08:34.418Z"
   },
   {
    "duration": 6,
    "start_time": "2024-05-23T15:09:07.252Z"
   },
   {
    "duration": 14,
    "start_time": "2024-05-23T15:10:18.762Z"
   },
   {
    "duration": 7,
    "start_time": "2024-05-23T15:10:25.185Z"
   },
   {
    "duration": 3,
    "start_time": "2024-05-23T15:11:47.799Z"
   },
   {
    "duration": 3104,
    "start_time": "2024-05-23T15:14:40.034Z"
   },
   {
    "duration": 3,
    "start_time": "2024-05-23T15:17:55.530Z"
   },
   {
    "duration": 3,
    "start_time": "2024-05-23T15:18:30.351Z"
   },
   {
    "duration": 4,
    "start_time": "2024-05-23T15:19:13.133Z"
   },
   {
    "duration": 3,
    "start_time": "2024-05-23T15:20:20.864Z"
   },
   {
    "duration": 2525,
    "start_time": "2024-05-23T15:20:23.168Z"
   },
   {
    "duration": 628,
    "start_time": "2024-05-23T15:21:16.478Z"
   },
   {
    "duration": 3,
    "start_time": "2024-05-23T15:21:32.240Z"
   },
   {
    "duration": 4,
    "start_time": "2024-05-23T15:22:03.484Z"
   },
   {
    "duration": 14,
    "start_time": "2024-05-23T15:22:31.638Z"
   },
   {
    "duration": 3301,
    "start_time": "2024-05-23T15:22:32.090Z"
   },
   {
    "duration": 4,
    "start_time": "2024-05-23T15:22:43.382Z"
   },
   {
    "duration": 3206,
    "start_time": "2024-05-23T15:22:44.382Z"
   },
   {
    "duration": 811,
    "start_time": "2024-05-23T15:22:47.590Z"
   },
   {
    "duration": 3,
    "start_time": "2024-05-23T15:22:51.504Z"
   },
   {
    "duration": 7,
    "start_time": "2024-05-23T15:23:09.474Z"
   },
   {
    "duration": 7,
    "start_time": "2024-05-23T15:23:13.328Z"
   },
   {
    "duration": 8,
    "start_time": "2024-05-23T15:23:23.462Z"
   },
   {
    "duration": 22,
    "start_time": "2024-05-23T15:24:49.691Z"
   },
   {
    "duration": 27,
    "start_time": "2024-05-23T15:25:00.429Z"
   },
   {
    "duration": 38,
    "start_time": "2024-05-23T15:25:04.721Z"
   },
   {
    "duration": 3,
    "start_time": "2024-05-23T15:25:42.114Z"
   },
   {
    "duration": 4406,
    "start_time": "2024-05-23T15:25:43.799Z"
   },
   {
    "duration": 681,
    "start_time": "2024-05-23T15:25:48.207Z"
   },
   {
    "duration": 4,
    "start_time": "2024-05-23T15:26:04.279Z"
   },
   {
    "duration": 668,
    "start_time": "2024-05-23T15:26:08.556Z"
   },
   {
    "duration": 9,
    "start_time": "2024-05-23T15:32:16.564Z"
   },
   {
    "duration": 44,
    "start_time": "2024-05-23T15:32:23.812Z"
   },
   {
    "duration": 185,
    "start_time": "2024-05-23T15:34:55.957Z"
   },
   {
    "duration": 4,
    "start_time": "2024-05-23T15:36:43.673Z"
   },
   {
    "duration": 6240,
    "start_time": "2024-05-23T15:36:45.445Z"
   },
   {
    "duration": 701,
    "start_time": "2024-05-23T15:36:51.687Z"
   },
   {
    "duration": 11,
    "start_time": "2024-05-23T15:36:52.389Z"
   },
   {
    "duration": 3,
    "start_time": "2024-05-23T15:37:06.039Z"
   },
   {
    "duration": 6740,
    "start_time": "2024-05-23T15:37:06.882Z"
   },
   {
    "duration": 725,
    "start_time": "2024-05-23T15:37:13.685Z"
   },
   {
    "duration": 10,
    "start_time": "2024-05-23T15:37:14.411Z"
   },
   {
    "duration": 35,
    "start_time": "2024-05-23T15:38:05.434Z"
   },
   {
    "duration": 31,
    "start_time": "2024-05-23T15:38:45.029Z"
   },
   {
    "duration": 208,
    "start_time": "2024-05-23T15:39:03.366Z"
   },
   {
    "duration": 4077,
    "start_time": "2024-05-23T15:39:18.691Z"
   },
   {
    "duration": 5,
    "start_time": "2024-05-23T15:39:22.770Z"
   },
   {
    "duration": 38,
    "start_time": "2024-05-23T15:39:22.776Z"
   },
   {
    "duration": 9,
    "start_time": "2024-05-23T15:39:22.815Z"
   },
   {
    "duration": 21,
    "start_time": "2024-05-23T15:39:22.825Z"
   },
   {
    "duration": 45,
    "start_time": "2024-05-23T15:39:22.847Z"
   },
   {
    "duration": 28,
    "start_time": "2024-05-23T15:39:22.893Z"
   },
   {
    "duration": 27,
    "start_time": "2024-05-23T15:39:22.922Z"
   },
   {
    "duration": 207,
    "start_time": "2024-05-23T15:39:22.950Z"
   },
   {
    "duration": 115,
    "start_time": "2024-05-23T15:39:23.159Z"
   },
   {
    "duration": 119,
    "start_time": "2024-05-23T15:39:23.276Z"
   },
   {
    "duration": 1883,
    "start_time": "2024-05-23T15:39:23.396Z"
   },
   {
    "duration": 11,
    "start_time": "2024-05-23T15:39:25.284Z"
   },
   {
    "duration": 380,
    "start_time": "2024-05-23T15:39:25.296Z"
   },
   {
    "duration": 221,
    "start_time": "2024-05-23T15:39:25.678Z"
   },
   {
    "duration": 30,
    "start_time": "2024-05-23T15:39:25.901Z"
   },
   {
    "duration": 2,
    "start_time": "2024-05-23T15:39:25.933Z"
   },
   {
    "duration": 3,
    "start_time": "2024-05-23T15:39:25.937Z"
   },
   {
    "duration": 3,
    "start_time": "2024-05-23T15:39:25.942Z"
   },
   {
    "duration": 3659,
    "start_time": "2024-05-23T15:39:25.947Z"
   },
   {
    "duration": 4,
    "start_time": "2024-05-23T15:39:29.608Z"
   },
   {
    "duration": 6671,
    "start_time": "2024-05-23T15:39:29.613Z"
   },
   {
    "duration": 707,
    "start_time": "2024-05-23T15:39:36.286Z"
   },
   {
    "duration": 104,
    "start_time": "2024-05-23T15:39:36.995Z"
   },
   {
    "duration": 209,
    "start_time": "2024-05-23T15:40:11.400Z"
   },
   {
    "duration": 4,
    "start_time": "2024-05-23T15:40:21.172Z"
   },
   {
    "duration": 4050,
    "start_time": "2024-05-23T15:40:21.651Z"
   },
   {
    "duration": 615,
    "start_time": "2024-05-23T15:40:25.703Z"
   },
   {
    "duration": 174,
    "start_time": "2024-05-23T15:40:26.320Z"
   },
   {
    "duration": 4,
    "start_time": "2024-05-23T15:40:45.389Z"
   },
   {
    "duration": 6473,
    "start_time": "2024-05-23T15:40:45.712Z"
   },
   {
    "duration": 797,
    "start_time": "2024-05-23T15:40:52.187Z"
   },
   {
    "duration": 233,
    "start_time": "2024-05-23T15:40:52.986Z"
   },
   {
    "duration": 220,
    "start_time": "2024-05-23T15:41:10.681Z"
   },
   {
    "duration": 3,
    "start_time": "2024-05-23T15:43:17.278Z"
   },
   {
    "duration": 6299,
    "start_time": "2024-05-23T15:43:18.986Z"
   },
   {
    "duration": 705,
    "start_time": "2024-05-23T15:43:25.287Z"
   },
   {
    "duration": 215,
    "start_time": "2024-05-23T15:43:25.994Z"
   },
   {
    "duration": 3,
    "start_time": "2024-05-23T15:43:47.623Z"
   },
   {
    "duration": 6486,
    "start_time": "2024-05-23T15:43:49.242Z"
   },
   {
    "duration": 712,
    "start_time": "2024-05-23T15:43:55.786Z"
   },
   {
    "duration": 226,
    "start_time": "2024-05-23T15:43:56.499Z"
   },
   {
    "duration": 9,
    "start_time": "2024-05-23T15:43:56.727Z"
   },
   {
    "duration": 31,
    "start_time": "2024-05-23T15:44:19.584Z"
   },
   {
    "duration": 58,
    "start_time": "2024-05-23T15:44:26.089Z"
   },
   {
    "duration": 218,
    "start_time": "2024-05-23T15:47:15.161Z"
   },
   {
    "duration": 208,
    "start_time": "2024-05-23T15:47:47.520Z"
   },
   {
    "duration": 282,
    "start_time": "2024-05-23T15:47:54.376Z"
   },
   {
    "duration": 204,
    "start_time": "2024-05-23T15:48:41.725Z"
   },
   {
    "duration": 857,
    "start_time": "2024-05-23T15:49:21.491Z"
   },
   {
    "duration": 15,
    "start_time": "2024-05-23T15:49:28.729Z"
   },
   {
    "duration": 202,
    "start_time": "2024-05-23T15:49:33.596Z"
   },
   {
    "duration": 5,
    "start_time": "2024-05-23T15:50:13.199Z"
   },
   {
    "duration": 34,
    "start_time": "2024-05-23T15:51:04.994Z"
   },
   {
    "duration": 51,
    "start_time": "2024-05-23T15:51:13.838Z"
   },
   {
    "duration": 5,
    "start_time": "2024-05-23T15:51:34.743Z"
   },
   {
    "duration": 34,
    "start_time": "2024-05-23T15:51:40.847Z"
   },
   {
    "duration": 5,
    "start_time": "2024-05-23T15:51:54.528Z"
   },
   {
    "duration": 40,
    "start_time": "2024-05-23T15:52:02.875Z"
   },
   {
    "duration": 41,
    "start_time": "2024-05-23T15:53:02.436Z"
   },
   {
    "duration": 51,
    "start_time": "2024-05-23T15:53:09.702Z"
   },
   {
    "duration": 48,
    "start_time": "2024-05-23T15:53:39.316Z"
   },
   {
    "duration": 587,
    "start_time": "2024-05-23T15:55:18.899Z"
   },
   {
    "duration": 4,
    "start_time": "2024-05-23T15:56:44.449Z"
   },
   {
    "duration": 37,
    "start_time": "2024-05-23T15:56:46.198Z"
   },
   {
    "duration": 637,
    "start_time": "2024-05-23T15:56:47.574Z"
   },
   {
    "duration": 5,
    "start_time": "2024-05-23T15:57:05.561Z"
   },
   {
    "duration": 36,
    "start_time": "2024-05-23T15:57:06.219Z"
   },
   {
    "duration": 630,
    "start_time": "2024-05-23T15:57:06.659Z"
   },
   {
    "duration": 5,
    "start_time": "2024-05-23T15:57:12.287Z"
   },
   {
    "duration": 37,
    "start_time": "2024-05-23T15:57:13.745Z"
   },
   {
    "duration": 631,
    "start_time": "2024-05-23T15:57:14.291Z"
   },
   {
    "duration": 5,
    "start_time": "2024-05-23T15:57:26.827Z"
   },
   {
    "duration": 5,
    "start_time": "2024-05-23T15:57:30.670Z"
   },
   {
    "duration": 37,
    "start_time": "2024-05-23T15:57:34.217Z"
   },
   {
    "duration": 669,
    "start_time": "2024-05-23T15:57:34.962Z"
   },
   {
    "duration": 5,
    "start_time": "2024-05-23T15:57:40.442Z"
   },
   {
    "duration": 37,
    "start_time": "2024-05-23T15:57:41.358Z"
   },
   {
    "duration": 598,
    "start_time": "2024-05-23T15:57:41.930Z"
   },
   {
    "duration": 9,
    "start_time": "2024-05-23T15:57:55.766Z"
   },
   {
    "duration": 8,
    "start_time": "2024-05-23T15:58:36.035Z"
   },
   {
    "duration": 589,
    "start_time": "2024-05-23T15:59:07.597Z"
   },
   {
    "duration": 562,
    "start_time": "2024-05-23T15:59:21.241Z"
   },
   {
    "duration": 559,
    "start_time": "2024-05-23T15:59:27.533Z"
   },
   {
    "duration": 639,
    "start_time": "2024-05-23T15:59:41.934Z"
   },
   {
    "duration": 4271,
    "start_time": "2024-05-23T16:00:55.939Z"
   },
   {
    "duration": 6,
    "start_time": "2024-05-23T16:01:00.212Z"
   },
   {
    "duration": 140,
    "start_time": "2024-05-23T16:01:00.220Z"
   },
   {
    "duration": 56,
    "start_time": "2024-05-23T16:01:00.361Z"
   },
   {
    "duration": 66,
    "start_time": "2024-05-23T16:01:00.419Z"
   },
   {
    "duration": 74,
    "start_time": "2024-05-23T16:01:00.486Z"
   },
   {
    "duration": 61,
    "start_time": "2024-05-23T16:01:00.561Z"
   },
   {
    "duration": 50,
    "start_time": "2024-05-23T16:01:00.623Z"
   },
   {
    "duration": 224,
    "start_time": "2024-05-23T16:01:00.675Z"
   },
   {
    "duration": 127,
    "start_time": "2024-05-23T16:01:00.901Z"
   },
   {
    "duration": 124,
    "start_time": "2024-05-23T16:01:01.029Z"
   },
   {
    "duration": 2045,
    "start_time": "2024-05-23T16:01:01.154Z"
   },
   {
    "duration": 11,
    "start_time": "2024-05-23T16:01:03.201Z"
   },
   {
    "duration": 442,
    "start_time": "2024-05-23T16:01:03.214Z"
   },
   {
    "duration": 272,
    "start_time": "2024-05-23T16:01:03.658Z"
   },
   {
    "duration": 53,
    "start_time": "2024-05-23T16:01:03.932Z"
   },
   {
    "duration": 3,
    "start_time": "2024-05-23T16:01:03.986Z"
   },
   {
    "duration": 5,
    "start_time": "2024-05-23T16:01:03.990Z"
   },
   {
    "duration": 3,
    "start_time": "2024-05-23T16:01:03.996Z"
   },
   {
    "duration": 3605,
    "start_time": "2024-05-23T16:01:04.000Z"
   },
   {
    "duration": 4,
    "start_time": "2024-05-23T16:01:07.606Z"
   },
   {
    "duration": 6571,
    "start_time": "2024-05-23T16:01:07.613Z"
   },
   {
    "duration": 719,
    "start_time": "2024-05-23T16:01:14.186Z"
   },
   {
    "duration": 213,
    "start_time": "2024-05-23T16:01:14.907Z"
   },
   {
    "duration": 9,
    "start_time": "2024-05-23T16:01:15.121Z"
   },
   {
    "duration": 12,
    "start_time": "2024-05-23T16:01:15.132Z"
   },
   {
    "duration": 74,
    "start_time": "2024-05-23T16:01:15.146Z"
   },
   {
    "duration": 6590,
    "start_time": "2024-05-23T16:02:22.124Z"
   },
   {
    "duration": 669,
    "start_time": "2024-05-23T16:02:28.718Z"
   },
   {
    "duration": 207,
    "start_time": "2024-05-23T16:02:53.160Z"
   },
   {
    "duration": 5,
    "start_time": "2024-05-23T16:04:57.351Z"
   },
   {
    "duration": 57,
    "start_time": "2024-05-23T16:04:57.704Z"
   },
   {
    "duration": 766,
    "start_time": "2024-05-23T16:05:00.531Z"
   },
   {
    "duration": 5,
    "start_time": "2024-05-23T16:06:33.750Z"
   },
   {
    "duration": 40,
    "start_time": "2024-05-23T16:06:36.530Z"
   },
   {
    "duration": 583,
    "start_time": "2024-05-23T16:06:36.727Z"
   },
   {
    "duration": 4,
    "start_time": "2024-05-23T16:07:58.009Z"
   },
   {
    "duration": 36,
    "start_time": "2024-05-23T16:07:59.514Z"
   },
   {
    "duration": 598,
    "start_time": "2024-05-23T16:07:59.799Z"
   },
   {
    "duration": 20020,
    "start_time": "2024-05-23T16:23:11.884Z"
   },
   {
    "duration": 20530,
    "start_time": "2024-05-23T16:23:41.667Z"
   },
   {
    "duration": 4048,
    "start_time": "2024-05-23T16:25:49.550Z"
   },
   {
    "duration": 6,
    "start_time": "2024-05-23T16:25:53.601Z"
   },
   {
    "duration": 20,
    "start_time": "2024-05-23T16:25:53.609Z"
   },
   {
    "duration": 3,
    "start_time": "2024-05-23T16:25:53.631Z"
   },
   {
    "duration": 16,
    "start_time": "2024-05-23T16:25:53.635Z"
   },
   {
    "duration": 21,
    "start_time": "2024-05-23T16:25:53.652Z"
   },
   {
    "duration": 9,
    "start_time": "2024-05-23T16:25:53.674Z"
   },
   {
    "duration": 11,
    "start_time": "2024-05-23T16:25:53.685Z"
   },
   {
    "duration": 144,
    "start_time": "2024-05-23T16:25:53.698Z"
   },
   {
    "duration": 121,
    "start_time": "2024-05-23T16:25:53.844Z"
   },
   {
    "duration": 125,
    "start_time": "2024-05-23T16:25:53.966Z"
   },
   {
    "duration": 1859,
    "start_time": "2024-05-23T16:25:54.092Z"
   },
   {
    "duration": 11,
    "start_time": "2024-05-23T16:25:55.953Z"
   },
   {
    "duration": 385,
    "start_time": "2024-05-23T16:25:55.965Z"
   },
   {
    "duration": 223,
    "start_time": "2024-05-23T16:25:56.351Z"
   },
   {
    "duration": 43,
    "start_time": "2024-05-23T16:25:56.575Z"
   },
   {
    "duration": 2,
    "start_time": "2024-05-23T16:25:56.619Z"
   },
   {
    "duration": 5,
    "start_time": "2024-05-23T16:25:56.623Z"
   },
   {
    "duration": 7,
    "start_time": "2024-05-23T16:25:56.629Z"
   },
   {
    "duration": 4103,
    "start_time": "2024-05-23T16:26:01.583Z"
   },
   {
    "duration": 6,
    "start_time": "2024-05-23T16:26:05.688Z"
   },
   {
    "duration": 16,
    "start_time": "2024-05-23T16:26:05.695Z"
   },
   {
    "duration": 4,
    "start_time": "2024-05-23T16:26:05.713Z"
   },
   {
    "duration": 8,
    "start_time": "2024-05-23T16:26:05.718Z"
   },
   {
    "duration": 6,
    "start_time": "2024-05-23T16:26:05.728Z"
   },
   {
    "duration": 15,
    "start_time": "2024-05-23T16:26:05.735Z"
   },
   {
    "duration": 7,
    "start_time": "2024-05-23T16:26:05.751Z"
   },
   {
    "duration": 157,
    "start_time": "2024-05-23T16:26:05.760Z"
   },
   {
    "duration": 117,
    "start_time": "2024-05-23T16:26:05.919Z"
   },
   {
    "duration": 120,
    "start_time": "2024-05-23T16:26:06.038Z"
   },
   {
    "duration": 1863,
    "start_time": "2024-05-23T16:26:06.159Z"
   },
   {
    "duration": 11,
    "start_time": "2024-05-23T16:26:08.024Z"
   },
   {
    "duration": 386,
    "start_time": "2024-05-23T16:26:08.037Z"
   },
   {
    "duration": 214,
    "start_time": "2024-05-23T16:26:08.424Z"
   },
   {
    "duration": 29,
    "start_time": "2024-05-23T16:26:08.640Z"
   },
   {
    "duration": 3,
    "start_time": "2024-05-23T16:26:08.670Z"
   },
   {
    "duration": 12,
    "start_time": "2024-05-23T16:26:08.674Z"
   },
   {
    "duration": 12,
    "start_time": "2024-05-23T16:26:08.687Z"
   },
   {
    "duration": 3694,
    "start_time": "2024-05-23T16:26:08.701Z"
   },
   {
    "duration": 6595,
    "start_time": "2024-05-23T16:26:12.397Z"
   },
   {
    "duration": 690,
    "start_time": "2024-05-23T16:26:18.994Z"
   },
   {
    "duration": 201,
    "start_time": "2024-05-23T16:26:19.685Z"
   },
   {
    "duration": 8,
    "start_time": "2024-05-23T16:26:19.887Z"
   },
   {
    "duration": 28,
    "start_time": "2024-05-23T16:26:19.896Z"
   },
   {
    "duration": 46,
    "start_time": "2024-05-23T16:26:19.925Z"
   },
   {
    "duration": 600,
    "start_time": "2024-05-23T16:26:19.973Z"
   },
   {
    "duration": 45,
    "start_time": "2024-05-23T16:26:20.577Z"
   },
   {
    "duration": 2869,
    "start_time": "2024-05-23T16:26:20.623Z"
   },
   {
    "duration": 3027,
    "start_time": "2024-05-23T16:26:23.493Z"
   },
   {
    "duration": 6,
    "start_time": "2024-05-23T16:26:26.522Z"
   },
   {
    "duration": 25344,
    "start_time": "2024-05-23T16:26:26.530Z"
   },
   {
    "duration": 25151,
    "start_time": "2024-05-23T16:26:51.876Z"
   },
   {
    "duration": 24949,
    "start_time": "2024-05-23T16:27:17.028Z"
   },
   {
    "duration": 6,
    "start_time": "2024-05-23T16:27:41.979Z"
   },
   {
    "duration": 18,
    "start_time": "2024-05-23T16:27:41.986Z"
   },
   {
    "duration": 970,
    "start_time": "2024-05-23T16:27:42.006Z"
   },
   {
    "duration": 8,
    "start_time": "2024-05-23T16:27:42.978Z"
   },
   {
    "duration": 16,
    "start_time": "2024-05-23T16:27:42.987Z"
   },
   {
    "duration": 342,
    "start_time": "2024-05-23T16:27:43.005Z"
   },
   {
    "duration": 3,
    "start_time": "2024-05-23T16:32:07.111Z"
   },
   {
    "duration": 4,
    "start_time": "2024-05-23T16:33:36.775Z"
   },
   {
    "duration": 4,
    "start_time": "2024-05-23T16:34:08.453Z"
   },
   {
    "duration": 5,
    "start_time": "2024-05-23T16:34:41.581Z"
   },
   {
    "duration": 3,
    "start_time": "2024-05-23T16:46:51.218Z"
   },
   {
    "duration": 5,
    "start_time": "2024-05-23T16:46:55.330Z"
   },
   {
    "duration": 4,
    "start_time": "2024-05-23T16:47:03.629Z"
   },
   {
    "duration": 4,
    "start_time": "2024-05-23T16:47:10.557Z"
   },
   {
    "duration": 4,
    "start_time": "2024-05-23T16:47:18.586Z"
   },
   {
    "duration": 4,
    "start_time": "2024-05-23T16:47:21.072Z"
   },
   {
    "duration": 4,
    "start_time": "2024-05-23T16:47:23.790Z"
   },
   {
    "duration": 5,
    "start_time": "2024-05-23T16:47:30.421Z"
   },
   {
    "duration": 5,
    "start_time": "2024-05-23T16:48:01.106Z"
   },
   {
    "duration": 4,
    "start_time": "2024-05-23T16:51:00.495Z"
   },
   {
    "duration": 95,
    "start_time": "2024-05-23T16:51:09.753Z"
   },
   {
    "duration": 98,
    "start_time": "2024-05-23T16:51:26.521Z"
   },
   {
    "duration": 234,
    "start_time": "2024-05-23T16:51:32.316Z"
   },
   {
    "duration": 194,
    "start_time": "2024-05-23T16:51:37.717Z"
   },
   {
    "duration": 127,
    "start_time": "2024-05-23T16:51:43.106Z"
   },
   {
    "duration": 132,
    "start_time": "2024-05-23T16:51:52.689Z"
   },
   {
    "duration": 123,
    "start_time": "2024-05-23T16:51:58.585Z"
   },
   {
    "duration": 120,
    "start_time": "2024-05-23T16:52:46.444Z"
   },
   {
    "duration": 128,
    "start_time": "2024-05-23T16:52:49.715Z"
   },
   {
    "duration": 8,
    "start_time": "2024-05-23T16:53:48.604Z"
   },
   {
    "duration": 7,
    "start_time": "2024-05-23T16:53:53.925Z"
   },
   {
    "duration": 3,
    "start_time": "2024-05-23T16:54:13.216Z"
   },
   {
    "duration": 8,
    "start_time": "2024-05-23T16:55:27.440Z"
   },
   {
    "duration": 7,
    "start_time": "2024-05-23T16:57:10.760Z"
   },
   {
    "duration": 115,
    "start_time": "2024-05-23T16:57:18.402Z"
   },
   {
    "duration": 121,
    "start_time": "2024-05-23T16:57:23.812Z"
   },
   {
    "duration": 113,
    "start_time": "2024-05-23T16:57:30.828Z"
   },
   {
    "duration": 174,
    "start_time": "2024-05-23T16:57:35.340Z"
   },
   {
    "duration": 111,
    "start_time": "2024-05-23T16:58:10.639Z"
   },
   {
    "duration": 84,
    "start_time": "2024-05-23T16:58:39.832Z"
   },
   {
    "duration": 122,
    "start_time": "2024-05-23T17:00:43.270Z"
   },
   {
    "duration": 116,
    "start_time": "2024-05-23T17:02:01.218Z"
   },
   {
    "duration": 5,
    "start_time": "2024-05-23T17:02:08.202Z"
   },
   {
    "duration": 5,
    "start_time": "2024-05-23T17:02:20.744Z"
   },
   {
    "duration": 10,
    "start_time": "2024-05-23T17:04:38.111Z"
   },
   {
    "duration": 1158,
    "start_time": "2024-05-23T17:04:50.734Z"
   },
   {
    "duration": 1214,
    "start_time": "2024-05-23T17:06:49.582Z"
   },
   {
    "duration": 1197,
    "start_time": "2024-05-23T17:06:57.395Z"
   },
   {
    "duration": 352,
    "start_time": "2024-05-23T17:07:11.141Z"
   },
   {
    "duration": 457,
    "start_time": "2024-05-23T17:07:22.761Z"
   },
   {
    "duration": 7,
    "start_time": "2024-05-23T17:07:45.854Z"
   },
   {
    "duration": 7,
    "start_time": "2024-05-23T17:07:58.757Z"
   },
   {
    "duration": 9,
    "start_time": "2024-05-23T17:08:45.575Z"
   },
   {
    "duration": 4,
    "start_time": "2024-05-23T17:09:01.885Z"
   },
   {
    "duration": 1264,
    "start_time": "2024-05-23T17:09:29.581Z"
   },
   {
    "duration": 3,
    "start_time": "2024-05-23T17:09:30.847Z"
   },
   {
    "duration": 1232,
    "start_time": "2024-05-23T17:10:39.710Z"
   },
   {
    "duration": 3,
    "start_time": "2024-05-23T17:10:40.944Z"
   },
   {
    "duration": 6054,
    "start_time": "2024-05-23T17:11:24.408Z"
   },
   {
    "duration": 3,
    "start_time": "2024-05-23T17:11:30.464Z"
   },
   {
    "duration": 5859,
    "start_time": "2024-05-23T17:11:35.521Z"
   },
   {
    "duration": 3,
    "start_time": "2024-05-23T17:11:41.384Z"
   },
   {
    "duration": 5864,
    "start_time": "2024-05-23T17:12:06.061Z"
   },
   {
    "duration": 3,
    "start_time": "2024-05-23T17:12:11.927Z"
   },
   {
    "duration": 5864,
    "start_time": "2024-05-23T17:12:20.126Z"
   },
   {
    "duration": 3,
    "start_time": "2024-05-23T17:12:25.992Z"
   },
   {
    "duration": 6006,
    "start_time": "2024-05-23T17:12:29.467Z"
   },
   {
    "duration": 3,
    "start_time": "2024-05-23T17:12:35.474Z"
   },
   {
    "duration": 5864,
    "start_time": "2024-05-23T17:12:43.509Z"
   },
   {
    "duration": 11,
    "start_time": "2024-05-23T17:12:49.375Z"
   },
   {
    "duration": 28,
    "start_time": "2024-05-23T17:15:02.764Z"
   },
   {
    "duration": 9,
    "start_time": "2024-05-23T17:15:19.471Z"
   },
   {
    "duration": 10,
    "start_time": "2024-05-23T17:15:26.785Z"
   },
   {
    "duration": 4,
    "start_time": "2024-05-23T17:15:35.980Z"
   },
   {
    "duration": 7,
    "start_time": "2024-05-23T17:16:04.161Z"
   },
   {
    "duration": 6030,
    "start_time": "2024-05-23T17:16:29.587Z"
   },
   {
    "duration": 3,
    "start_time": "2024-05-23T17:16:35.618Z"
   },
   {
    "duration": 5833,
    "start_time": "2024-05-23T17:18:56.176Z"
   },
   {
    "duration": 3,
    "start_time": "2024-05-23T17:19:02.011Z"
   },
   {
    "duration": 50,
    "start_time": "2024-05-23T17:21:13.816Z"
   },
   {
    "duration": 3,
    "start_time": "2024-05-23T17:21:18.468Z"
   },
   {
    "duration": 114,
    "start_time": "2024-05-23T17:21:56.935Z"
   },
   {
    "duration": 464,
    "start_time": "2024-05-23T17:22:03.664Z"
   },
   {
    "duration": 369,
    "start_time": "2024-05-23T17:22:08.662Z"
   },
   {
    "duration": 117,
    "start_time": "2024-05-23T17:22:22.779Z"
   },
   {
    "duration": 2187,
    "start_time": "2024-05-23T17:22:36.440Z"
   },
   {
    "duration": 2263,
    "start_time": "2024-05-23T17:30:33.822Z"
   },
   {
    "duration": 2178,
    "start_time": "2024-05-23T17:31:09.537Z"
   },
   {
    "duration": 4,
    "start_time": "2024-05-23T17:31:58.278Z"
   },
   {
    "duration": 4,
    "start_time": "2024-05-23T17:33:39.562Z"
   },
   {
    "duration": 1241,
    "start_time": "2024-05-23T17:33:41.368Z"
   },
   {
    "duration": 4,
    "start_time": "2024-05-23T17:33:46.541Z"
   },
   {
    "duration": 1265,
    "start_time": "2024-05-23T17:33:46.749Z"
   },
   {
    "duration": 116,
    "start_time": "2024-05-23T17:33:55.203Z"
   },
   {
    "duration": 4,
    "start_time": "2024-05-23T17:34:39.098Z"
   },
   {
    "duration": 1365,
    "start_time": "2024-05-23T17:34:39.538Z"
   },
   {
    "duration": 117,
    "start_time": "2024-05-23T17:34:40.905Z"
   },
   {
    "duration": 1359,
    "start_time": "2024-05-23T17:35:09.300Z"
   },
   {
    "duration": 1460,
    "start_time": "2024-05-23T17:35:21.745Z"
   },
   {
    "duration": 3,
    "start_time": "2024-05-23T17:35:31.221Z"
   },
   {
    "duration": 1315,
    "start_time": "2024-05-23T17:35:32.605Z"
   },
   {
    "duration": 109,
    "start_time": "2024-05-23T17:35:34.594Z"
   },
   {
    "duration": 1186,
    "start_time": "2024-05-23T17:36:19.202Z"
   },
   {
    "duration": 3,
    "start_time": "2024-05-23T17:36:51.847Z"
   },
   {
    "duration": 1140,
    "start_time": "2024-05-23T17:36:52.137Z"
   },
   {
    "duration": 115,
    "start_time": "2024-05-23T17:36:53.278Z"
   },
   {
    "duration": 8,
    "start_time": "2024-05-23T17:38:06.875Z"
   },
   {
    "duration": 116,
    "start_time": "2024-05-23T17:38:07.190Z"
   },
   {
    "duration": 4,
    "start_time": "2024-05-23T17:38:12.716Z"
   },
   {
    "duration": 1156,
    "start_time": "2024-05-23T17:38:12.892Z"
   },
   {
    "duration": 120,
    "start_time": "2024-05-23T17:38:14.049Z"
   },
   {
    "duration": 4,
    "start_time": "2024-05-23T17:39:11.943Z"
   },
   {
    "duration": 1156,
    "start_time": "2024-05-23T17:39:12.167Z"
   },
   {
    "duration": 1117,
    "start_time": "2024-05-23T17:39:22.834Z"
   },
   {
    "duration": 4,
    "start_time": "2024-05-23T17:39:47.340Z"
   },
   {
    "duration": 1181,
    "start_time": "2024-05-23T17:39:47.705Z"
   },
   {
    "duration": 4,
    "start_time": "2024-05-23T17:40:34.068Z"
   },
   {
    "duration": 1192,
    "start_time": "2024-05-23T17:40:34.677Z"
   },
   {
    "duration": 3605,
    "start_time": "2024-05-23T17:41:21.648Z"
   },
   {
    "duration": 118,
    "start_time": "2024-05-23T17:41:25.254Z"
   },
   {
    "duration": 3658,
    "start_time": "2024-05-23T17:41:30.942Z"
   },
   {
    "duration": 3982,
    "start_time": "2024-05-23T17:42:54.490Z"
   },
   {
    "duration": 6,
    "start_time": "2024-05-23T17:42:58.474Z"
   },
   {
    "duration": 6,
    "start_time": "2024-05-23T17:42:58.481Z"
   },
   {
    "duration": 11,
    "start_time": "2024-05-23T17:42:58.489Z"
   },
   {
    "duration": 16,
    "start_time": "2024-05-23T17:42:58.501Z"
   },
   {
    "duration": 15,
    "start_time": "2024-05-23T17:42:58.519Z"
   },
   {
    "duration": 21,
    "start_time": "2024-05-23T17:42:58.535Z"
   },
   {
    "duration": 5,
    "start_time": "2024-05-23T17:42:58.557Z"
   },
   {
    "duration": 12,
    "start_time": "2024-05-23T17:42:58.564Z"
   },
   {
    "duration": 145,
    "start_time": "2024-05-23T17:42:58.578Z"
   },
   {
    "duration": 114,
    "start_time": "2024-05-23T17:42:58.725Z"
   },
   {
    "duration": 118,
    "start_time": "2024-05-23T17:42:58.840Z"
   },
   {
    "duration": 1878,
    "start_time": "2024-05-23T17:42:58.959Z"
   },
   {
    "duration": 12,
    "start_time": "2024-05-23T17:43:00.838Z"
   },
   {
    "duration": 421,
    "start_time": "2024-05-23T17:43:00.851Z"
   },
   {
    "duration": 219,
    "start_time": "2024-05-23T17:43:01.273Z"
   },
   {
    "duration": 32,
    "start_time": "2024-05-23T17:43:01.493Z"
   },
   {
    "duration": 3,
    "start_time": "2024-05-23T17:43:01.526Z"
   },
   {
    "duration": 20,
    "start_time": "2024-05-23T17:43:01.530Z"
   },
   {
    "duration": 33,
    "start_time": "2024-05-23T17:43:01.551Z"
   },
   {
    "duration": 3708,
    "start_time": "2024-05-23T17:43:01.585Z"
   },
   {
    "duration": 6390,
    "start_time": "2024-05-23T17:43:05.294Z"
   },
   {
    "duration": 693,
    "start_time": "2024-05-23T17:43:11.687Z"
   },
   {
    "duration": 193,
    "start_time": "2024-05-23T17:43:12.384Z"
   },
   {
    "duration": 7,
    "start_time": "2024-05-23T17:43:12.578Z"
   },
   {
    "duration": 14,
    "start_time": "2024-05-23T17:43:12.586Z"
   },
   {
    "duration": 44,
    "start_time": "2024-05-23T17:43:12.602Z"
   },
   {
    "duration": 625,
    "start_time": "2024-05-23T17:43:12.648Z"
   },
   {
    "duration": 45,
    "start_time": "2024-05-23T17:43:13.274Z"
   },
   {
    "duration": 3166,
    "start_time": "2024-05-23T17:43:13.320Z"
   },
   {
    "duration": 2984,
    "start_time": "2024-05-23T17:43:16.487Z"
   },
   {
    "duration": 4,
    "start_time": "2024-05-23T17:43:19.473Z"
   },
   {
    "duration": 24023,
    "start_time": "2024-05-23T17:43:19.478Z"
   },
   {
    "duration": 23997,
    "start_time": "2024-05-23T17:43:43.502Z"
   },
   {
    "duration": 23837,
    "start_time": "2024-05-23T17:44:07.500Z"
   },
   {
    "duration": 3,
    "start_time": "2024-05-23T17:44:31.338Z"
   },
   {
    "duration": 25,
    "start_time": "2024-05-23T17:44:31.342Z"
   },
   {
    "duration": 3709,
    "start_time": "2024-05-23T17:44:31.368Z"
   },
   {
    "duration": 911,
    "start_time": "2024-05-23T17:44:35.079Z"
   },
   {
    "duration": 3,
    "start_time": "2024-05-23T17:44:35.991Z"
   },
   {
    "duration": 20,
    "start_time": "2024-05-23T17:44:35.996Z"
   },
   {
    "duration": 326,
    "start_time": "2024-05-23T17:44:36.017Z"
   },
   {
    "duration": 3659,
    "start_time": "2024-05-23T17:45:23.487Z"
   },
   {
    "duration": 3694,
    "start_time": "2024-05-23T17:46:00.637Z"
   },
   {
    "duration": 3563,
    "start_time": "2024-05-23T17:50:57.924Z"
   },
   {
    "duration": 915,
    "start_time": "2024-05-23T17:57:44.685Z"
   },
   {
    "duration": 4,
    "start_time": "2024-05-23T17:58:03.396Z"
   },
   {
    "duration": 1388,
    "start_time": "2024-05-23T17:59:04.987Z"
   },
   {
    "duration": 912,
    "start_time": "2024-05-23T17:59:25.016Z"
   },
   {
    "duration": 3,
    "start_time": "2024-05-23T17:59:26.051Z"
   },
   {
    "duration": 3,
    "start_time": "2024-05-23T17:59:28.756Z"
   },
   {
    "duration": 4,
    "start_time": "2024-05-23T17:59:37.309Z"
   },
   {
    "duration": 947,
    "start_time": "2024-05-23T17:59:43.464Z"
   },
   {
    "duration": 4,
    "start_time": "2024-05-23T17:59:44.919Z"
   },
   {
    "duration": 1401,
    "start_time": "2024-05-23T17:59:45.927Z"
   },
   {
    "duration": 4,
    "start_time": "2024-05-23T17:59:47.330Z"
   },
   {
    "duration": 344,
    "start_time": "2024-05-23T18:03:48.448Z"
   },
   {
    "duration": 4,
    "start_time": "2024-05-23T18:03:58.461Z"
   },
   {
    "duration": 387,
    "start_time": "2024-05-23T18:04:08.846Z"
   },
   {
    "duration": 3923,
    "start_time": "2024-05-23T18:04:45.506Z"
   },
   {
    "duration": 5,
    "start_time": "2024-05-23T18:04:49.431Z"
   },
   {
    "duration": 17,
    "start_time": "2024-05-23T18:04:49.437Z"
   },
   {
    "duration": 19,
    "start_time": "2024-05-23T18:04:49.456Z"
   },
   {
    "duration": 12,
    "start_time": "2024-05-23T18:04:49.476Z"
   },
   {
    "duration": 37,
    "start_time": "2024-05-23T18:04:49.489Z"
   },
   {
    "duration": 9,
    "start_time": "2024-05-23T18:04:49.527Z"
   },
   {
    "duration": 8,
    "start_time": "2024-05-23T18:04:49.537Z"
   },
   {
    "duration": 21,
    "start_time": "2024-05-23T18:04:49.546Z"
   },
   {
    "duration": 166,
    "start_time": "2024-05-23T18:04:49.569Z"
   },
   {
    "duration": 120,
    "start_time": "2024-05-23T18:04:49.737Z"
   },
   {
    "duration": 125,
    "start_time": "2024-05-23T18:04:49.859Z"
   },
   {
    "duration": 1836,
    "start_time": "2024-05-23T18:04:49.986Z"
   },
   {
    "duration": 10,
    "start_time": "2024-05-23T18:04:51.823Z"
   },
   {
    "duration": 416,
    "start_time": "2024-05-23T18:04:51.835Z"
   },
   {
    "duration": 231,
    "start_time": "2024-05-23T18:04:52.253Z"
   },
   {
    "duration": 33,
    "start_time": "2024-05-23T18:04:52.485Z"
   },
   {
    "duration": 2,
    "start_time": "2024-05-23T18:04:52.520Z"
   },
   {
    "duration": 23,
    "start_time": "2024-05-23T18:04:52.523Z"
   },
   {
    "duration": 11,
    "start_time": "2024-05-23T18:04:52.547Z"
   },
   {
    "duration": 3733,
    "start_time": "2024-05-23T18:04:52.559Z"
   },
   {
    "duration": 6691,
    "start_time": "2024-05-23T18:04:56.294Z"
   },
   {
    "duration": 692,
    "start_time": "2024-05-23T18:05:02.986Z"
   },
   {
    "duration": 205,
    "start_time": "2024-05-23T18:05:03.679Z"
   },
   {
    "duration": 8,
    "start_time": "2024-05-23T18:05:03.885Z"
   },
   {
    "duration": 9,
    "start_time": "2024-05-23T18:05:03.895Z"
   },
   {
    "duration": 44,
    "start_time": "2024-05-23T18:05:03.905Z"
   },
   {
    "duration": 644,
    "start_time": "2024-05-23T18:05:03.952Z"
   },
   {
    "duration": 44,
    "start_time": "2024-05-23T18:05:04.597Z"
   },
   {
    "duration": 3037,
    "start_time": "2024-05-23T18:05:04.642Z"
   },
   {
    "duration": 3117,
    "start_time": "2024-05-23T18:05:07.680Z"
   },
   {
    "duration": 6,
    "start_time": "2024-05-23T18:05:10.798Z"
   },
   {
    "duration": 24750,
    "start_time": "2024-05-23T18:05:10.805Z"
   },
   {
    "duration": 24384,
    "start_time": "2024-05-23T18:05:35.556Z"
   },
   {
    "duration": 24706,
    "start_time": "2024-05-23T18:05:59.942Z"
   },
   {
    "duration": 4,
    "start_time": "2024-05-23T18:06:24.650Z"
   },
   {
    "duration": 12,
    "start_time": "2024-05-23T18:06:24.655Z"
   },
   {
    "duration": 3509,
    "start_time": "2024-05-23T18:06:24.669Z"
   },
   {
    "duration": 934,
    "start_time": "2024-05-23T18:06:28.180Z"
   },
   {
    "duration": 4,
    "start_time": "2024-05-23T18:06:29.115Z"
   },
   {
    "duration": 1364,
    "start_time": "2024-05-23T18:06:29.120Z"
   },
   {
    "duration": 5,
    "start_time": "2024-05-23T18:06:30.486Z"
   },
   {
    "duration": 53,
    "start_time": "2024-05-23T18:06:30.492Z"
   },
   {
    "duration": 422,
    "start_time": "2024-05-23T18:06:30.546Z"
   },
   {
    "duration": 940,
    "start_time": "2024-05-23T18:11:13.065Z"
   },
   {
    "duration": 1019,
    "start_time": "2024-05-23T18:11:23.421Z"
   },
   {
    "duration": 918,
    "start_time": "2024-05-23T18:11:56.767Z"
   },
   {
    "duration": 1404,
    "start_time": "2024-05-23T18:12:02.019Z"
   },
   {
    "duration": 1806,
    "start_time": "2024-05-23T18:12:09.733Z"
   },
   {
    "duration": 4559,
    "start_time": "2024-05-23T18:12:21.877Z"
   },
   {
    "duration": 8973,
    "start_time": "2024-05-23T18:12:38.290Z"
   },
   {
    "duration": 1404,
    "start_time": "2024-05-23T18:14:30.214Z"
   },
   {
    "duration": 321,
    "start_time": "2024-05-23T18:14:36.715Z"
   },
   {
    "duration": 468,
    "start_time": "2024-05-23T18:14:57.636Z"
   },
   {
    "duration": 205,
    "start_time": "2024-05-23T18:15:04.279Z"
   },
   {
    "duration": 376,
    "start_time": "2024-05-23T18:15:09.563Z"
   },
   {
    "duration": 182,
    "start_time": "2024-05-23T18:15:29.093Z"
   },
   {
    "duration": 346,
    "start_time": "2024-05-23T18:15:32.888Z"
   },
   {
    "duration": 4,
    "start_time": "2024-05-23T18:15:42.590Z"
   },
   {
    "duration": 186,
    "start_time": "2024-05-23T18:16:04.607Z"
   },
   {
    "duration": 4,
    "start_time": "2024-05-23T18:16:05.606Z"
   },
   {
    "duration": 1333,
    "start_time": "2024-05-23T18:16:13.966Z"
   },
   {
    "duration": 4,
    "start_time": "2024-05-23T18:16:15.300Z"
   },
   {
    "duration": 4460,
    "start_time": "2024-05-23T18:16:23.187Z"
   },
   {
    "duration": 4,
    "start_time": "2024-05-23T18:16:27.648Z"
   },
   {
    "duration": 4,
    "start_time": "2024-05-23T18:16:33.963Z"
   },
   {
    "duration": 4,
    "start_time": "2024-05-23T18:16:34.460Z"
   },
   {
    "duration": 336,
    "start_time": "2024-05-23T18:16:35.294Z"
   },
   {
    "duration": 3,
    "start_time": "2024-05-23T18:24:02.557Z"
   },
   {
    "duration": 3,
    "start_time": "2024-05-23T18:24:06.762Z"
   },
   {
    "duration": 93,
    "start_time": "2024-05-23T18:24:17.906Z"
   },
   {
    "duration": 17,
    "start_time": "2024-05-23T18:24:21.226Z"
   },
   {
    "duration": 4,
    "start_time": "2024-05-23T18:24:28.811Z"
   },
   {
    "duration": 4,
    "start_time": "2024-05-23T18:24:35.514Z"
   },
   {
    "duration": 12,
    "start_time": "2024-05-23T18:24:38.901Z"
   },
   {
    "duration": 4,
    "start_time": "2024-05-23T18:24:41.639Z"
   },
   {
    "duration": 7,
    "start_time": "2024-05-23T18:24:46.280Z"
   },
   {
    "duration": 13,
    "start_time": "2024-05-23T18:24:50.047Z"
   },
   {
    "duration": 16,
    "start_time": "2024-05-23T18:25:07.292Z"
   },
   {
    "duration": 4,
    "start_time": "2024-05-23T18:25:15.241Z"
   },
   {
    "duration": 4,
    "start_time": "2024-05-23T18:25:24.118Z"
   },
   {
    "duration": 5,
    "start_time": "2024-05-23T18:25:28.069Z"
   },
   {
    "duration": 4,
    "start_time": "2024-05-23T18:25:30.166Z"
   },
   {
    "duration": 4,
    "start_time": "2024-05-23T18:25:31.457Z"
   },
   {
    "duration": 4,
    "start_time": "2024-05-23T18:25:33.057Z"
   },
   {
    "duration": 4554,
    "start_time": "2024-05-23T18:25:45.109Z"
   },
   {
    "duration": 5,
    "start_time": "2024-05-23T18:25:51.869Z"
   },
   {
    "duration": 470,
    "start_time": "2024-05-23T18:25:58.327Z"
   },
   {
    "duration": 3,
    "start_time": "2024-05-23T18:25:59.756Z"
   },
   {
    "duration": 102,
    "start_time": "2024-05-23T18:26:06.686Z"
   },
   {
    "duration": 4,
    "start_time": "2024-05-23T18:26:07.794Z"
   },
   {
    "duration": 899,
    "start_time": "2024-05-23T18:26:12.982Z"
   },
   {
    "duration": 4,
    "start_time": "2024-05-23T18:26:14.199Z"
   },
   {
    "duration": 447,
    "start_time": "2024-05-23T18:26:23.128Z"
   },
   {
    "duration": 4,
    "start_time": "2024-05-23T18:26:24.531Z"
   },
   {
    "duration": 1523,
    "start_time": "2024-05-23T18:26:32.971Z"
   },
   {
    "duration": 4,
    "start_time": "2024-05-23T18:26:34.495Z"
   },
   {
    "duration": 4,
    "start_time": "2024-05-23T18:32:27.643Z"
   },
   {
    "duration": 5,
    "start_time": "2024-05-23T18:32:29.326Z"
   },
   {
    "duration": 324,
    "start_time": "2024-05-23T18:32:30.014Z"
   },
   {
    "duration": 192,
    "start_time": "2024-05-23T18:32:39.284Z"
   },
   {
    "duration": 963,
    "start_time": "2024-05-23T18:32:45.575Z"
   },
   {
    "duration": 379,
    "start_time": "2024-05-23T18:32:47.453Z"
   },
   {
    "duration": 4750,
    "start_time": "2024-05-23T18:32:59.170Z"
   },
   {
    "duration": 335,
    "start_time": "2024-05-23T18:33:03.921Z"
   },
   {
    "duration": 4897,
    "start_time": "2024-05-23T18:33:43.956Z"
   },
   {
    "duration": 5,
    "start_time": "2024-05-23T18:34:02.284Z"
   },
   {
    "duration": 4,
    "start_time": "2024-05-23T18:34:12.884Z"
   },
   {
    "duration": 4,
    "start_time": "2024-05-23T18:34:17.062Z"
   },
   {
    "duration": 4,
    "start_time": "2024-05-23T18:36:05.803Z"
   },
   {
    "duration": 5,
    "start_time": "2024-05-23T18:36:09.155Z"
   },
   {
    "duration": 4641,
    "start_time": "2024-05-23T18:36:50.079Z"
   },
   {
    "duration": 5,
    "start_time": "2024-05-23T18:37:48.402Z"
   },
   {
    "duration": 4808,
    "start_time": "2024-05-23T18:38:56.595Z"
   },
   {
    "duration": 4894,
    "start_time": "2024-05-23T18:39:11.956Z"
   },
   {
    "duration": 484,
    "start_time": "2024-05-23T18:39:22.969Z"
   },
   {
    "duration": 4,
    "start_time": "2024-05-23T18:42:55.945Z"
   },
   {
    "duration": 4,
    "start_time": "2024-05-23T18:43:12.215Z"
   },
   {
    "duration": 476,
    "start_time": "2024-05-23T18:43:30.452Z"
   },
   {
    "duration": 193,
    "start_time": "2024-05-23T18:43:38.794Z"
   },
   {
    "duration": 1005,
    "start_time": "2024-05-23T18:43:46.533Z"
   },
   {
    "duration": 4741,
    "start_time": "2024-05-23T18:43:52.792Z"
   },
   {
    "duration": 3,
    "start_time": "2024-05-23T18:45:13.802Z"
   },
   {
    "duration": 4813,
    "start_time": "2024-05-23T18:45:14.972Z"
   },
   {
    "duration": 4682,
    "start_time": "2024-05-23T18:45:29.665Z"
   },
   {
    "duration": 941,
    "start_time": "2024-05-23T18:45:39.963Z"
   },
   {
    "duration": 501,
    "start_time": "2024-05-23T18:45:51.761Z"
   },
   {
    "duration": 915,
    "start_time": "2024-05-23T18:45:57.722Z"
   },
   {
    "duration": 102,
    "start_time": "2024-05-23T18:46:08.117Z"
   },
   {
    "duration": 1419,
    "start_time": "2024-05-23T18:46:15.450Z"
   },
   {
    "duration": 3,
    "start_time": "2024-05-23T18:49:06.737Z"
   },
   {
    "duration": 1364,
    "start_time": "2024-05-23T18:49:08.484Z"
   },
   {
    "duration": 3,
    "start_time": "2024-05-23T18:50:08.582Z"
   },
   {
    "duration": 1391,
    "start_time": "2024-05-23T18:50:09.200Z"
   },
   {
    "duration": 932,
    "start_time": "2024-05-23T18:50:19.321Z"
   },
   {
    "duration": 104,
    "start_time": "2024-05-23T18:50:25.511Z"
   },
   {
    "duration": 1354,
    "start_time": "2024-05-23T18:50:35.053Z"
   },
   {
    "duration": 4624,
    "start_time": "2024-05-23T18:50:44.464Z"
   },
   {
    "duration": 3,
    "start_time": "2024-05-23T18:57:27.469Z"
   },
   {
    "duration": 4,
    "start_time": "2024-05-23T18:57:31.791Z"
   },
   {
    "duration": 3963,
    "start_time": "2024-05-23T19:00:40.498Z"
   },
   {
    "duration": 6,
    "start_time": "2024-05-23T19:00:44.463Z"
   },
   {
    "duration": 7,
    "start_time": "2024-05-23T19:00:44.470Z"
   },
   {
    "duration": 5,
    "start_time": "2024-05-23T19:00:44.478Z"
   },
   {
    "duration": 4,
    "start_time": "2024-05-23T19:00:44.484Z"
   },
   {
    "duration": 4,
    "start_time": "2024-05-23T19:00:44.489Z"
   },
   {
    "duration": 16,
    "start_time": "2024-05-23T19:00:44.494Z"
   },
   {
    "duration": 5,
    "start_time": "2024-05-23T19:00:44.511Z"
   },
   {
    "duration": 5,
    "start_time": "2024-05-23T19:00:44.518Z"
   },
   {
    "duration": 150,
    "start_time": "2024-05-23T19:00:44.524Z"
   },
   {
    "duration": 115,
    "start_time": "2024-05-23T19:00:44.676Z"
   },
   {
    "duration": 114,
    "start_time": "2024-05-23T19:00:44.792Z"
   },
   {
    "duration": 1835,
    "start_time": "2024-05-23T19:00:44.907Z"
   },
   {
    "duration": 10,
    "start_time": "2024-05-23T19:00:46.745Z"
   },
   {
    "duration": 373,
    "start_time": "2024-05-23T19:00:46.756Z"
   },
   {
    "duration": 223,
    "start_time": "2024-05-23T19:00:47.130Z"
   },
   {
    "duration": 43,
    "start_time": "2024-05-23T19:00:47.354Z"
   },
   {
    "duration": 2,
    "start_time": "2024-05-23T19:00:47.399Z"
   },
   {
    "duration": 6,
    "start_time": "2024-05-23T19:00:47.402Z"
   },
   {
    "duration": 3,
    "start_time": "2024-05-23T19:00:47.410Z"
   },
   {
    "duration": 3557,
    "start_time": "2024-05-23T19:00:47.414Z"
   },
   {
    "duration": 6513,
    "start_time": "2024-05-23T19:00:50.972Z"
   },
   {
    "duration": 679,
    "start_time": "2024-05-23T19:00:57.486Z"
   },
   {
    "duration": 220,
    "start_time": "2024-05-23T19:00:58.166Z"
   },
   {
    "duration": 7,
    "start_time": "2024-05-23T19:00:58.388Z"
   },
   {
    "duration": 5,
    "start_time": "2024-05-23T19:00:58.396Z"
   },
   {
    "duration": 40,
    "start_time": "2024-05-23T19:00:58.402Z"
   },
   {
    "duration": 624,
    "start_time": "2024-05-23T19:00:58.444Z"
   },
   {
    "duration": 45,
    "start_time": "2024-05-23T19:00:59.069Z"
   },
   {
    "duration": 2864,
    "start_time": "2024-05-23T19:00:59.115Z"
   },
   {
    "duration": 3002,
    "start_time": "2024-05-23T19:01:01.980Z"
   },
   {
    "duration": 4,
    "start_time": "2024-05-23T19:01:04.984Z"
   },
   {
    "duration": 23937,
    "start_time": "2024-05-23T19:01:04.989Z"
   },
   {
    "duration": 23710,
    "start_time": "2024-05-23T19:01:28.927Z"
   },
   {
    "duration": 23434,
    "start_time": "2024-05-23T19:01:52.639Z"
   },
   {
    "duration": 3,
    "start_time": "2024-05-23T19:02:16.074Z"
   },
   {
    "duration": 6,
    "start_time": "2024-05-23T19:02:16.084Z"
   },
   {
    "duration": 3545,
    "start_time": "2024-05-23T19:02:16.091Z"
   },
   {
    "duration": 884,
    "start_time": "2024-05-23T19:02:19.637Z"
   },
   {
    "duration": 3,
    "start_time": "2024-05-23T19:02:20.523Z"
   },
   {
    "duration": 1370,
    "start_time": "2024-05-23T19:02:20.529Z"
   },
   {
    "duration": 3,
    "start_time": "2024-05-23T19:02:21.901Z"
   },
   {
    "duration": 44,
    "start_time": "2024-05-23T19:02:21.905Z"
   },
   {
    "duration": 370,
    "start_time": "2024-05-23T19:02:21.951Z"
   },
   {
    "duration": 3,
    "start_time": "2024-05-23T19:02:22.323Z"
   },
   {
    "duration": 928,
    "start_time": "2024-05-23T19:02:22.327Z"
   },
   {
    "duration": 4356,
    "start_time": "2024-05-23T19:02:23.256Z"
   },
   {
    "duration": 328,
    "start_time": "2024-05-23T19:02:27.613Z"
   },
   {
    "duration": 198,
    "start_time": "2024-05-23T19:03:06.853Z"
   },
   {
    "duration": 99,
    "start_time": "2024-05-23T19:03:24.978Z"
   },
   {
    "duration": 122,
    "start_time": "2024-05-23T19:03:32.701Z"
   },
   {
    "duration": 102,
    "start_time": "2024-05-23T19:03:38.895Z"
   },
   {
    "duration": 116,
    "start_time": "2024-05-23T19:03:43.489Z"
   },
   {
    "duration": 100,
    "start_time": "2024-05-23T19:03:46.806Z"
   },
   {
    "duration": 9,
    "start_time": "2024-05-23T19:04:39.618Z"
   },
   {
    "duration": 105,
    "start_time": "2024-05-23T19:04:47.702Z"
   },
   {
    "duration": 918,
    "start_time": "2024-05-23T19:05:06.418Z"
   },
   {
    "duration": 3,
    "start_time": "2024-05-23T19:05:07.499Z"
   },
   {
    "duration": 4,
    "start_time": "2024-05-23T19:05:29.231Z"
   },
   {
    "duration": 345,
    "start_time": "2024-05-23T19:05:30.378Z"
   },
   {
    "duration": 1329,
    "start_time": "2024-05-23T19:05:36.714Z"
   },
   {
    "duration": 3,
    "start_time": "2024-05-23T19:05:38.044Z"
   },
   {
    "duration": 12,
    "start_time": "2024-05-23T19:05:38.048Z"
   },
   {
    "duration": 410,
    "start_time": "2024-05-23T19:05:40.003Z"
   },
   {
    "duration": 891,
    "start_time": "2024-05-23T19:05:45.905Z"
   },
   {
    "duration": 342,
    "start_time": "2024-05-23T19:05:49.744Z"
   },
   {
    "duration": 937,
    "start_time": "2024-05-23T19:06:12.447Z"
   },
   {
    "duration": 3,
    "start_time": "2024-05-23T19:06:14.700Z"
   },
   {
    "duration": 4,
    "start_time": "2024-05-23T19:06:27.672Z"
   },
   {
    "duration": 332,
    "start_time": "2024-05-23T19:06:28.606Z"
   },
   {
    "duration": 1460,
    "start_time": "2024-05-23T19:06:33.068Z"
   },
   {
    "duration": 3,
    "start_time": "2024-05-23T19:06:34.530Z"
   },
   {
    "duration": 5,
    "start_time": "2024-05-23T19:06:34.535Z"
   },
   {
    "duration": 339,
    "start_time": "2024-05-23T19:06:34.634Z"
   },
   {
    "duration": 895,
    "start_time": "2024-05-23T19:06:59.143Z"
   },
   {
    "duration": 4562,
    "start_time": "2024-05-23T19:07:01.678Z"
   },
   {
    "duration": 1081,
    "start_time": "2024-05-23T19:07:10.783Z"
   },
   {
    "duration": 1017,
    "start_time": "2024-05-23T19:07:17.843Z"
   },
   {
    "duration": 366,
    "start_time": "2024-05-23T19:07:18.861Z"
   },
   {
    "duration": 820,
    "start_time": "2024-05-23T19:07:26.841Z"
   },
   {
    "duration": 353,
    "start_time": "2024-05-23T19:07:30.076Z"
   },
   {
    "duration": 466,
    "start_time": "2024-05-23T19:07:38.554Z"
   },
   {
    "duration": 95,
    "start_time": "2024-05-23T19:07:46.498Z"
   },
   {
    "duration": 15,
    "start_time": "2024-05-23T19:07:52.016Z"
   },
   {
    "duration": 350,
    "start_time": "2024-05-23T19:07:53.042Z"
   },
   {
    "duration": 98,
    "start_time": "2024-05-23T19:07:59.273Z"
   },
   {
    "duration": 190,
    "start_time": "2024-05-23T19:08:04.931Z"
   },
   {
    "duration": 321,
    "start_time": "2024-05-23T19:08:06.407Z"
   },
   {
    "duration": 1089,
    "start_time": "2024-05-23T19:08:10.539Z"
   },
   {
    "duration": 1396,
    "start_time": "2024-05-23T19:08:35.061Z"
   },
   {
    "duration": 362,
    "start_time": "2024-05-23T19:08:39.145Z"
   },
   {
    "duration": 4676,
    "start_time": "2024-05-23T19:10:54.570Z"
   },
   {
    "duration": 454,
    "start_time": "2024-05-23T19:10:59.248Z"
   },
   {
    "duration": 4,
    "start_time": "2024-05-23T19:12:33.148Z"
   },
   {
    "duration": 4580,
    "start_time": "2024-05-23T19:13:15.166Z"
   },
   {
    "duration": 380,
    "start_time": "2024-05-23T19:13:19.747Z"
   },
   {
    "duration": 4,
    "start_time": "2024-05-23T19:13:20.128Z"
   },
   {
    "duration": 3,
    "start_time": "2024-05-23T19:13:41.998Z"
   },
   {
    "duration": 4,
    "start_time": "2024-05-23T19:13:46.238Z"
   },
   {
    "duration": 5,
    "start_time": "2024-05-23T19:13:49.794Z"
   },
   {
    "duration": 4,
    "start_time": "2024-05-23T19:13:54.448Z"
   },
   {
    "duration": 4,
    "start_time": "2024-05-23T19:14:04.076Z"
   },
   {
    "duration": 1350,
    "start_time": "2024-05-23T19:14:33.956Z"
   },
   {
    "duration": 346,
    "start_time": "2024-05-23T19:15:24.841Z"
   },
   {
    "duration": 2895,
    "start_time": "2024-05-23T19:18:29.500Z"
   },
   {
    "duration": 115,
    "start_time": "2024-05-23T19:19:54.002Z"
   },
   {
    "duration": 117,
    "start_time": "2024-05-23T19:19:59.284Z"
   },
   {
    "duration": 107,
    "start_time": "2024-05-23T19:20:04.259Z"
   },
   {
    "duration": 101,
    "start_time": "2024-05-23T19:21:35.785Z"
   },
   {
    "duration": 110,
    "start_time": "2024-05-23T19:21:40.243Z"
   },
   {
    "duration": 198,
    "start_time": "2024-05-23T19:21:51.713Z"
   },
   {
    "duration": 918,
    "start_time": "2024-05-23T19:22:10.134Z"
   },
   {
    "duration": 293,
    "start_time": "2024-05-23T19:22:13.905Z"
   },
   {
    "duration": 454,
    "start_time": "2024-05-23T19:22:21.911Z"
   },
   {
    "duration": 201,
    "start_time": "2024-05-23T19:22:22.723Z"
   },
   {
    "duration": 49,
    "start_time": "2024-05-23T19:22:27.882Z"
   },
   {
    "duration": 196,
    "start_time": "2024-05-23T19:22:28.640Z"
   },
   {
    "duration": 411,
    "start_time": "2024-05-23T19:22:28.944Z"
   },
   {
    "duration": 8,
    "start_time": "2024-05-23T19:24:17.319Z"
   },
   {
    "duration": 199,
    "start_time": "2024-05-23T19:24:23.577Z"
   },
   {
    "duration": 910,
    "start_time": "2024-05-23T19:25:38.557Z"
   },
   {
    "duration": 4,
    "start_time": "2024-05-23T19:25:39.694Z"
   },
   {
    "duration": 93,
    "start_time": "2024-05-23T19:25:47.344Z"
   },
   {
    "duration": 1319,
    "start_time": "2024-05-23T19:25:53.575Z"
   },
   {
    "duration": 94,
    "start_time": "2024-05-23T19:25:58.759Z"
   },
   {
    "duration": 921,
    "start_time": "2024-05-23T19:26:02.176Z"
   },
   {
    "duration": 3,
    "start_time": "2024-05-23T19:26:05.447Z"
   },
   {
    "duration": 90,
    "start_time": "2024-05-23T19:26:05.885Z"
   },
   {
    "duration": 903,
    "start_time": "2024-05-23T19:26:09.302Z"
   },
   {
    "duration": 3,
    "start_time": "2024-05-23T19:26:10.207Z"
   },
   {
    "duration": 102,
    "start_time": "2024-05-23T19:26:10.212Z"
   },
   {
    "duration": 1351,
    "start_time": "2024-05-23T19:26:12.533Z"
   },
   {
    "duration": 92,
    "start_time": "2024-05-23T19:26:16.175Z"
   },
   {
    "duration": 900,
    "start_time": "2024-05-23T19:26:57.538Z"
   },
   {
    "duration": 4,
    "start_time": "2024-05-23T19:26:58.601Z"
   },
   {
    "duration": 91,
    "start_time": "2024-05-23T19:27:04.863Z"
   },
   {
    "duration": 1347,
    "start_time": "2024-05-23T19:27:30.050Z"
   },
   {
    "duration": 1323,
    "start_time": "2024-05-23T19:27:40.224Z"
   },
   {
    "duration": 1327,
    "start_time": "2024-05-23T19:28:07.205Z"
   },
   {
    "duration": 3,
    "start_time": "2024-05-23T19:28:16.816Z"
   },
   {
    "duration": 252,
    "start_time": "2024-05-23T19:28:21.579Z"
   },
   {
    "duration": 152,
    "start_time": "2024-05-23T19:28:52.226Z"
   },
   {
    "duration": 353,
    "start_time": "2024-05-23T19:29:00.462Z"
   },
   {
    "duration": 320,
    "start_time": "2024-05-23T19:29:08.009Z"
   },
   {
    "duration": 161,
    "start_time": "2024-05-23T19:29:18.083Z"
   },
   {
    "duration": 185,
    "start_time": "2024-05-23T19:29:36.067Z"
   },
   {
    "duration": 175,
    "start_time": "2024-05-23T19:29:41.383Z"
   },
   {
    "duration": 173,
    "start_time": "2024-05-23T19:30:13.241Z"
   },
   {
    "duration": 254,
    "start_time": "2024-05-23T19:30:34.107Z"
   },
   {
    "duration": 1347,
    "start_time": "2024-05-23T19:31:45.656Z"
   },
   {
    "duration": 3,
    "start_time": "2024-05-23T19:31:47.004Z"
   },
   {
    "duration": 4,
    "start_time": "2024-05-23T19:31:47.215Z"
   },
   {
    "duration": 315,
    "start_time": "2024-05-23T19:31:49.107Z"
   },
   {
    "duration": 1329,
    "start_time": "2024-05-23T19:32:10.781Z"
   },
   {
    "duration": 4023,
    "start_time": "2024-05-23T19:32:35.307Z"
   },
   {
    "duration": 6,
    "start_time": "2024-05-23T19:32:39.332Z"
   },
   {
    "duration": 6,
    "start_time": "2024-05-23T19:32:39.339Z"
   },
   {
    "duration": 6,
    "start_time": "2024-05-23T19:32:39.346Z"
   },
   {
    "duration": 3,
    "start_time": "2024-05-23T19:32:39.353Z"
   },
   {
    "duration": 13,
    "start_time": "2024-05-23T19:32:39.357Z"
   },
   {
    "duration": 6,
    "start_time": "2024-05-23T19:32:39.371Z"
   },
   {
    "duration": 4,
    "start_time": "2024-05-23T19:32:39.378Z"
   },
   {
    "duration": 5,
    "start_time": "2024-05-23T19:32:39.384Z"
   },
   {
    "duration": 143,
    "start_time": "2024-05-23T19:32:39.391Z"
   },
   {
    "duration": 120,
    "start_time": "2024-05-23T19:32:39.535Z"
   },
   {
    "duration": 112,
    "start_time": "2024-05-23T19:32:39.656Z"
   },
   {
    "duration": 1885,
    "start_time": "2024-05-23T19:32:39.770Z"
   },
   {
    "duration": 10,
    "start_time": "2024-05-23T19:32:41.656Z"
   },
   {
    "duration": 291,
    "start_time": "2024-05-23T19:32:41.668Z"
   },
   {
    "duration": 231,
    "start_time": "2024-05-23T19:32:41.960Z"
   },
   {
    "duration": 35,
    "start_time": "2024-05-23T19:32:42.193Z"
   },
   {
    "duration": 2,
    "start_time": "2024-05-23T19:32:42.229Z"
   },
   {
    "duration": 5,
    "start_time": "2024-05-23T19:32:42.233Z"
   },
   {
    "duration": 17,
    "start_time": "2024-05-23T19:32:42.239Z"
   },
   {
    "duration": 3609,
    "start_time": "2024-05-23T19:32:42.257Z"
   },
   {
    "duration": 6319,
    "start_time": "2024-05-23T19:32:45.867Z"
   },
   {
    "duration": 767,
    "start_time": "2024-05-23T19:32:52.188Z"
   },
   {
    "duration": 201,
    "start_time": "2024-05-23T19:32:52.956Z"
   },
   {
    "duration": 7,
    "start_time": "2024-05-23T19:32:53.159Z"
   },
   {
    "duration": 16,
    "start_time": "2024-05-23T19:32:53.168Z"
   },
   {
    "duration": 37,
    "start_time": "2024-05-23T19:32:53.186Z"
   },
   {
    "duration": 552,
    "start_time": "2024-05-23T19:32:53.226Z"
   },
   {
    "duration": 44,
    "start_time": "2024-05-23T19:32:53.779Z"
   },
   {
    "duration": 2953,
    "start_time": "2024-05-23T19:32:53.824Z"
   },
   {
    "duration": 2908,
    "start_time": "2024-05-23T19:32:56.779Z"
   },
   {
    "duration": 5,
    "start_time": "2024-05-23T19:32:59.689Z"
   },
   {
    "duration": 23935,
    "start_time": "2024-05-23T19:32:59.695Z"
   },
   {
    "duration": 23911,
    "start_time": "2024-05-23T19:33:23.631Z"
   },
   {
    "duration": 23685,
    "start_time": "2024-05-23T19:33:47.544Z"
   },
   {
    "duration": 3,
    "start_time": "2024-05-23T19:34:11.230Z"
   },
   {
    "duration": 9,
    "start_time": "2024-05-23T19:34:11.234Z"
   },
   {
    "duration": 3437,
    "start_time": "2024-05-23T19:34:11.244Z"
   },
   {
    "duration": 874,
    "start_time": "2024-05-23T19:34:14.684Z"
   },
   {
    "duration": 3,
    "start_time": "2024-05-23T19:34:15.560Z"
   },
   {
    "duration": 1325,
    "start_time": "2024-05-23T19:34:15.564Z"
   },
   {
    "duration": 3,
    "start_time": "2024-05-23T19:34:16.891Z"
   },
   {
    "duration": 6,
    "start_time": "2024-05-23T19:34:16.895Z"
   },
   {
    "duration": 340,
    "start_time": "2024-05-23T19:34:16.902Z"
   },
   {
    "duration": 982,
    "start_time": "2024-05-23T19:34:17.243Z"
   },
   {
    "duration": 0,
    "start_time": "2024-05-23T19:34:18.226Z"
   },
   {
    "duration": 879,
    "start_time": "2024-05-23T19:34:59.080Z"
   },
   {
    "duration": 1353,
    "start_time": "2024-05-23T19:35:02.710Z"
   },
   {
    "duration": 1326,
    "start_time": "2024-05-23T19:35:07.368Z"
   },
   {
    "duration": 1353,
    "start_time": "2024-05-23T19:35:13.351Z"
   },
   {
    "duration": 214,
    "start_time": "2024-05-23T19:35:16.276Z"
   },
   {
    "duration": 4694,
    "start_time": "2024-05-23T19:36:11.649Z"
   },
   {
    "duration": 325,
    "start_time": "2024-05-23T19:36:54.598Z"
   },
   {
    "duration": 360,
    "start_time": "2024-05-23T19:36:58.667Z"
   },
   {
    "duration": 298,
    "start_time": "2024-05-23T19:37:03.231Z"
   },
   {
    "duration": 430,
    "start_time": "2024-05-23T19:46:17.177Z"
   },
   {
    "duration": 341,
    "start_time": "2024-05-23T19:46:30.372Z"
   },
   {
    "duration": 54,
    "start_time": "2024-05-23T19:47:16.074Z"
   },
   {
    "duration": 8,
    "start_time": "2024-05-23T19:47:23.155Z"
   },
   {
    "duration": 3,
    "start_time": "2024-05-23T19:47:34.753Z"
   },
   {
    "duration": 4,
    "start_time": "2024-05-23T19:48:10.125Z"
   },
   {
    "duration": 4,
    "start_time": "2024-05-23T19:48:45.430Z"
   },
   {
    "duration": 5,
    "start_time": "2024-05-23T19:48:49.617Z"
   },
   {
    "duration": 4,
    "start_time": "2024-05-23T19:48:57.272Z"
   },
   {
    "duration": 4,
    "start_time": "2024-05-23T19:49:02.885Z"
   },
   {
    "duration": 882,
    "start_time": "2024-05-23T19:51:15.640Z"
   },
   {
    "duration": 888,
    "start_time": "2024-05-23T19:51:46.777Z"
   },
   {
    "duration": 1309,
    "start_time": "2024-05-23T19:51:58.869Z"
   },
   {
    "duration": 4316,
    "start_time": "2024-05-23T19:52:09.820Z"
   },
   {
    "duration": 435,
    "start_time": "2024-05-23T19:52:19.963Z"
   },
   {
    "duration": 91,
    "start_time": "2024-05-23T19:52:30.439Z"
   },
   {
    "duration": 1353,
    "start_time": "2024-05-23T19:52:41.054Z"
   },
   {
    "duration": 4539,
    "start_time": "2024-05-23T19:53:11.561Z"
   },
   {
    "duration": 1358,
    "start_time": "2024-05-23T19:53:54.079Z"
   },
   {
    "duration": 4693,
    "start_time": "2024-05-23T19:54:18.593Z"
   },
   {
    "duration": 4394,
    "start_time": "2024-05-23T19:54:35.317Z"
   },
   {
    "duration": 1328,
    "start_time": "2024-05-23T19:54:47.856Z"
   },
   {
    "duration": 4605,
    "start_time": "2024-05-23T19:57:31.371Z"
   },
   {
    "duration": 302,
    "start_time": "2024-05-23T19:59:33.525Z"
   },
   {
    "duration": 3,
    "start_time": "2024-05-23T19:59:50.721Z"
   },
   {
    "duration": 4,
    "start_time": "2024-05-23T20:00:22.510Z"
   },
   {
    "duration": 4,
    "start_time": "2024-05-23T20:00:29.730Z"
   },
   {
    "duration": 361,
    "start_time": "2024-05-23T20:01:06.547Z"
   },
   {
    "duration": 336,
    "start_time": "2024-05-23T20:01:20.433Z"
   },
   {
    "duration": 4,
    "start_time": "2024-05-23T20:20:11.633Z"
   },
   {
    "duration": 4065,
    "start_time": "2024-05-23T21:03:42.790Z"
   },
   {
    "duration": 5,
    "start_time": "2024-05-23T21:03:46.857Z"
   },
   {
    "duration": 6,
    "start_time": "2024-05-23T21:03:46.863Z"
   },
   {
    "duration": 3,
    "start_time": "2024-05-23T21:03:46.871Z"
   },
   {
    "duration": 3,
    "start_time": "2024-05-23T21:03:46.884Z"
   },
   {
    "duration": 7,
    "start_time": "2024-05-23T21:03:46.888Z"
   },
   {
    "duration": 9,
    "start_time": "2024-05-23T21:03:46.896Z"
   },
   {
    "duration": 4,
    "start_time": "2024-05-23T21:03:46.906Z"
   },
   {
    "duration": 6,
    "start_time": "2024-05-23T21:03:46.911Z"
   },
   {
    "duration": 147,
    "start_time": "2024-05-23T21:03:46.919Z"
   },
   {
    "duration": 114,
    "start_time": "2024-05-23T21:03:47.067Z"
   },
   {
    "duration": 117,
    "start_time": "2024-05-23T21:03:47.183Z"
   },
   {
    "duration": 1873,
    "start_time": "2024-05-23T21:03:47.302Z"
   },
   {
    "duration": 17,
    "start_time": "2024-05-23T21:03:49.176Z"
   },
   {
    "duration": 303,
    "start_time": "2024-05-23T21:03:49.194Z"
   },
   {
    "duration": 209,
    "start_time": "2024-05-23T21:03:49.498Z"
   },
   {
    "duration": 31,
    "start_time": "2024-05-23T21:03:49.708Z"
   },
   {
    "duration": 2,
    "start_time": "2024-05-23T21:03:49.740Z"
   },
   {
    "duration": 6,
    "start_time": "2024-05-23T21:03:49.743Z"
   },
   {
    "duration": 10,
    "start_time": "2024-05-23T21:03:49.750Z"
   },
   {
    "duration": 3621,
    "start_time": "2024-05-23T21:03:49.761Z"
   },
   {
    "duration": 6801,
    "start_time": "2024-05-23T21:03:53.384Z"
   },
   {
    "duration": 677,
    "start_time": "2024-05-23T21:04:00.188Z"
   },
   {
    "duration": 271,
    "start_time": "2024-05-23T21:04:00.866Z"
   },
   {
    "duration": 8,
    "start_time": "2024-05-23T21:04:01.138Z"
   },
   {
    "duration": 32,
    "start_time": "2024-05-23T21:04:01.147Z"
   },
   {
    "duration": 80,
    "start_time": "2024-05-23T21:04:01.180Z"
   },
   {
    "duration": 629,
    "start_time": "2024-05-23T21:04:01.263Z"
   },
   {
    "duration": 42,
    "start_time": "2024-05-23T21:04:01.893Z"
   },
   {
    "duration": 3044,
    "start_time": "2024-05-23T21:04:01.937Z"
   },
   {
    "duration": 2798,
    "start_time": "2024-05-23T21:04:04.982Z"
   },
   {
    "duration": 4,
    "start_time": "2024-05-23T21:04:07.781Z"
   },
   {
    "duration": 23658,
    "start_time": "2024-05-23T21:04:07.787Z"
   },
   {
    "duration": 23664,
    "start_time": "2024-05-23T21:04:31.447Z"
   },
   {
    "duration": 23400,
    "start_time": "2024-05-23T21:04:55.113Z"
   },
   {
    "duration": 4,
    "start_time": "2024-05-23T21:05:18.514Z"
   },
   {
    "duration": 6,
    "start_time": "2024-05-23T21:05:18.519Z"
   },
   {
    "duration": 3495,
    "start_time": "2024-05-23T21:05:18.527Z"
   },
   {
    "duration": 934,
    "start_time": "2024-05-23T21:05:22.023Z"
   },
   {
    "duration": 4,
    "start_time": "2024-05-23T21:05:22.958Z"
   },
   {
    "duration": 1318,
    "start_time": "2024-05-23T21:05:22.963Z"
   },
   {
    "duration": 3,
    "start_time": "2024-05-23T21:05:24.285Z"
   },
   {
    "duration": 4,
    "start_time": "2024-05-23T21:05:24.289Z"
   },
   {
    "duration": 339,
    "start_time": "2024-05-23T21:05:24.294Z"
   },
   {
    "duration": 887,
    "start_time": "2024-05-23T21:05:24.635Z"
   },
   {
    "duration": 1317,
    "start_time": "2024-05-23T21:05:25.523Z"
   },
   {
    "duration": 4618,
    "start_time": "2024-05-23T21:05:26.841Z"
   },
   {
    "duration": 4,
    "start_time": "2024-05-23T21:05:31.460Z"
   },
   {
    "duration": 351,
    "start_time": "2024-05-23T21:05:31.465Z"
   },
   {
    "duration": 4,
    "start_time": "2024-05-23T21:05:31.817Z"
   },
   {
    "duration": 951,
    "start_time": "2024-05-23T21:05:31.822Z"
   },
   {
    "duration": 1301,
    "start_time": "2024-05-23T21:05:32.775Z"
   },
   {
    "duration": 4662,
    "start_time": "2024-05-23T21:05:34.077Z"
   },
   {
    "duration": 344,
    "start_time": "2024-05-23T21:05:38.740Z"
   },
   {
    "duration": 4,
    "start_time": "2024-05-23T21:05:39.085Z"
   },
   {
    "duration": 4085,
    "start_time": "2024-05-23T21:08:38.665Z"
   },
   {
    "duration": 7,
    "start_time": "2024-05-23T21:08:42.752Z"
   },
   {
    "duration": 8,
    "start_time": "2024-05-23T21:08:42.760Z"
   },
   {
    "duration": 4,
    "start_time": "2024-05-23T21:08:42.770Z"
   },
   {
    "duration": 2,
    "start_time": "2024-05-23T21:08:42.784Z"
   },
   {
    "duration": 4,
    "start_time": "2024-05-23T21:08:42.787Z"
   },
   {
    "duration": 5,
    "start_time": "2024-05-23T21:08:42.792Z"
   },
   {
    "duration": 3,
    "start_time": "2024-05-23T21:08:42.798Z"
   },
   {
    "duration": 10,
    "start_time": "2024-05-23T21:08:42.802Z"
   },
   {
    "duration": 141,
    "start_time": "2024-05-23T21:08:42.814Z"
   },
   {
    "duration": 116,
    "start_time": "2024-05-23T21:08:42.956Z"
   },
   {
    "duration": 117,
    "start_time": "2024-05-23T21:08:43.073Z"
   },
   {
    "duration": 1930,
    "start_time": "2024-05-23T21:08:43.191Z"
   },
   {
    "duration": 11,
    "start_time": "2024-05-23T21:08:45.122Z"
   },
   {
    "duration": 335,
    "start_time": "2024-05-23T21:08:45.135Z"
   },
   {
    "duration": 213,
    "start_time": "2024-05-23T21:08:45.472Z"
   },
   {
    "duration": 33,
    "start_time": "2024-05-23T21:08:45.687Z"
   },
   {
    "duration": 3,
    "start_time": "2024-05-23T21:08:45.721Z"
   },
   {
    "duration": 19,
    "start_time": "2024-05-23T21:08:45.725Z"
   },
   {
    "duration": 7,
    "start_time": "2024-05-23T21:08:45.745Z"
   },
   {
    "duration": 3533,
    "start_time": "2024-05-23T21:08:45.753Z"
   },
   {
    "duration": 6498,
    "start_time": "2024-05-23T21:08:49.287Z"
   },
   {
    "duration": 689,
    "start_time": "2024-05-23T21:08:55.787Z"
   },
   {
    "duration": 281,
    "start_time": "2024-05-23T21:08:56.477Z"
   },
   {
    "duration": 8,
    "start_time": "2024-05-23T21:08:56.759Z"
   },
   {
    "duration": 29,
    "start_time": "2024-05-23T21:08:56.768Z"
   },
   {
    "duration": 64,
    "start_time": "2024-05-23T21:08:56.799Z"
   },
   {
    "duration": 619,
    "start_time": "2024-05-23T21:08:56.866Z"
   },
   {
    "duration": 41,
    "start_time": "2024-05-23T21:08:57.486Z"
   },
   {
    "duration": 2857,
    "start_time": "2024-05-23T21:08:57.529Z"
   },
   {
    "duration": 3004,
    "start_time": "2024-05-23T21:09:00.387Z"
   },
   {
    "duration": 4,
    "start_time": "2024-05-23T21:09:03.392Z"
   },
   {
    "duration": 24332,
    "start_time": "2024-05-23T21:09:03.397Z"
   },
   {
    "duration": 24436,
    "start_time": "2024-05-23T21:09:27.730Z"
   },
   {
    "duration": 24729,
    "start_time": "2024-05-23T21:09:52.167Z"
   },
   {
    "duration": 3,
    "start_time": "2024-05-23T21:10:16.897Z"
   },
   {
    "duration": 6,
    "start_time": "2024-05-23T21:10:16.901Z"
   },
   {
    "duration": 3478,
    "start_time": "2024-05-23T21:10:16.908Z"
   },
   {
    "duration": 909,
    "start_time": "2024-05-23T21:10:20.388Z"
   },
   {
    "duration": 3,
    "start_time": "2024-05-23T21:10:21.299Z"
   },
   {
    "duration": 1334,
    "start_time": "2024-05-23T21:10:21.303Z"
   },
   {
    "duration": 4,
    "start_time": "2024-05-23T21:10:22.638Z"
   },
   {
    "duration": 9,
    "start_time": "2024-05-23T21:10:22.643Z"
   },
   {
    "duration": 363,
    "start_time": "2024-05-23T21:10:22.653Z"
   },
   {
    "duration": 938,
    "start_time": "2024-05-23T21:10:23.017Z"
   },
   {
    "duration": 1352,
    "start_time": "2024-05-23T21:10:23.956Z"
   },
   {
    "duration": 4758,
    "start_time": "2024-05-23T21:10:25.309Z"
   },
   {
    "duration": 4,
    "start_time": "2024-05-23T21:10:30.068Z"
   },
   {
    "duration": 358,
    "start_time": "2024-05-23T21:10:30.074Z"
   },
   {
    "duration": 4,
    "start_time": "2024-05-23T21:10:30.433Z"
   },
   {
    "duration": 994,
    "start_time": "2024-05-23T21:10:30.438Z"
   },
   {
    "duration": 1370,
    "start_time": "2024-05-23T21:10:31.433Z"
   },
   {
    "duration": 4835,
    "start_time": "2024-05-23T21:10:32.804Z"
   },
   {
    "duration": 366,
    "start_time": "2024-05-23T21:10:37.640Z"
   },
   {
    "duration": 4,
    "start_time": "2024-05-23T21:10:38.008Z"
   },
   {
    "duration": 58,
    "start_time": "2024-05-24T20:32:07.295Z"
   },
   {
    "duration": 32,
    "start_time": "2024-05-24T20:32:14.200Z"
   },
   {
    "duration": 29,
    "start_time": "2024-05-24T20:32:26.092Z"
   },
   {
    "duration": 58,
    "start_time": "2024-05-24T20:33:18.843Z"
   },
   {
    "duration": 31,
    "start_time": "2024-05-24T20:33:32.446Z"
   },
   {
    "duration": 9001,
    "start_time": "2024-05-24T20:42:27.518Z"
   },
   {
    "duration": 29,
    "start_time": "2024-05-24T20:42:36.522Z"
   },
   {
    "duration": 7,
    "start_time": "2024-05-24T20:42:36.552Z"
   },
   {
    "duration": 22,
    "start_time": "2024-05-24T20:42:36.561Z"
   },
   {
    "duration": 15,
    "start_time": "2024-05-24T20:42:36.584Z"
   },
   {
    "duration": 4,
    "start_time": "2024-05-24T20:42:36.601Z"
   },
   {
    "duration": 6,
    "start_time": "2024-05-24T20:42:36.606Z"
   },
   {
    "duration": 4,
    "start_time": "2024-05-24T20:42:36.614Z"
   },
   {
    "duration": 5,
    "start_time": "2024-05-24T20:42:36.619Z"
   },
   {
    "duration": 8,
    "start_time": "2024-05-24T20:42:36.627Z"
   },
   {
    "duration": 615,
    "start_time": "2024-05-24T20:42:36.637Z"
   },
   {
    "duration": 549,
    "start_time": "2024-05-24T20:42:37.253Z"
   },
   {
    "duration": 564,
    "start_time": "2024-05-24T20:42:37.804Z"
   },
   {
    "duration": 2709,
    "start_time": "2024-05-24T20:42:38.369Z"
   },
   {
    "duration": 19,
    "start_time": "2024-05-24T20:42:41.081Z"
   },
   {
    "duration": 493,
    "start_time": "2024-05-24T20:42:41.101Z"
   },
   {
    "duration": 286,
    "start_time": "2024-05-24T20:42:41.596Z"
   },
   {
    "duration": 41,
    "start_time": "2024-05-24T20:42:41.892Z"
   },
   {
    "duration": 3,
    "start_time": "2024-05-24T20:42:41.934Z"
   },
   {
    "duration": 5,
    "start_time": "2024-05-24T20:42:41.939Z"
   },
   {
    "duration": 6,
    "start_time": "2024-05-24T20:42:41.945Z"
   },
   {
    "duration": 4405,
    "start_time": "2024-05-24T20:42:41.953Z"
   },
   {
    "duration": 7949,
    "start_time": "2024-05-24T20:42:46.360Z"
   },
   {
    "duration": 968,
    "start_time": "2024-05-24T20:42:54.311Z"
   },
   {
    "duration": 260,
    "start_time": "2024-05-24T20:42:55.280Z"
   },
   {
    "duration": 9,
    "start_time": "2024-05-24T20:42:55.541Z"
   },
   {
    "duration": 8,
    "start_time": "2024-05-24T20:42:55.552Z"
   },
   {
    "duration": 68,
    "start_time": "2024-05-24T20:42:55.563Z"
   },
   {
    "duration": 713,
    "start_time": "2024-05-24T20:42:55.632Z"
   },
   {
    "duration": 59,
    "start_time": "2024-05-24T20:42:56.347Z"
   },
   {
    "duration": 3963,
    "start_time": "2024-05-24T20:42:56.408Z"
   },
   {
    "duration": 3919,
    "start_time": "2024-05-24T20:43:00.373Z"
   },
   {
    "duration": 5,
    "start_time": "2024-05-24T20:43:04.294Z"
   },
   {
    "duration": 4451,
    "start_time": "2024-05-24T20:43:13.430Z"
   },
   {
    "duration": 6,
    "start_time": "2024-05-24T20:43:17.884Z"
   },
   {
    "duration": 18,
    "start_time": "2024-05-24T20:43:17.892Z"
   },
   {
    "duration": 15,
    "start_time": "2024-05-24T20:43:17.912Z"
   },
   {
    "duration": 16,
    "start_time": "2024-05-24T20:43:17.928Z"
   },
   {
    "duration": 20,
    "start_time": "2024-05-24T20:43:17.946Z"
   },
   {
    "duration": 20,
    "start_time": "2024-05-24T20:43:17.968Z"
   },
   {
    "duration": 12,
    "start_time": "2024-05-24T20:43:17.989Z"
   },
   {
    "duration": 14,
    "start_time": "2024-05-24T20:43:18.003Z"
   },
   {
    "duration": 208,
    "start_time": "2024-05-24T20:43:18.019Z"
   },
   {
    "duration": 144,
    "start_time": "2024-05-24T20:43:18.228Z"
   },
   {
    "duration": 151,
    "start_time": "2024-05-24T20:43:18.374Z"
   },
   {
    "duration": 2773,
    "start_time": "2024-05-24T20:43:18.526Z"
   },
   {
    "duration": 14,
    "start_time": "2024-05-24T20:43:21.301Z"
   },
   {
    "duration": 401,
    "start_time": "2024-05-24T20:43:21.317Z"
   },
   {
    "duration": 286,
    "start_time": "2024-05-24T20:43:21.720Z"
   },
   {
    "duration": 42,
    "start_time": "2024-05-24T20:43:22.008Z"
   },
   {
    "duration": 3,
    "start_time": "2024-05-24T20:43:22.052Z"
   },
   {
    "duration": 25,
    "start_time": "2024-05-24T20:43:22.057Z"
   },
   {
    "duration": 32,
    "start_time": "2024-05-24T20:43:22.083Z"
   },
   {
    "duration": 4543,
    "start_time": "2024-05-24T20:43:22.118Z"
   },
   {
    "duration": 7941,
    "start_time": "2024-05-24T20:43:26.663Z"
   },
   {
    "duration": 957,
    "start_time": "2024-05-24T20:43:34.605Z"
   },
   {
    "duration": 262,
    "start_time": "2024-05-24T20:43:35.564Z"
   },
   {
    "duration": 10,
    "start_time": "2024-05-24T20:43:35.828Z"
   },
   {
    "duration": 8,
    "start_time": "2024-05-24T20:43:35.839Z"
   },
   {
    "duration": 75,
    "start_time": "2024-05-24T20:43:35.849Z"
   },
   {
    "duration": 721,
    "start_time": "2024-05-24T20:43:35.928Z"
   },
   {
    "duration": 66,
    "start_time": "2024-05-24T20:43:36.651Z"
   },
   {
    "duration": 3937,
    "start_time": "2024-05-24T20:43:36.719Z"
   },
   {
    "duration": 3998,
    "start_time": "2024-05-24T20:43:40.658Z"
   },
   {
    "duration": 7,
    "start_time": "2024-05-24T20:43:44.657Z"
   },
   {
    "duration": 33264,
    "start_time": "2024-05-24T20:43:44.665Z"
   },
   {
    "duration": 31913,
    "start_time": "2024-05-24T20:44:17.930Z"
   },
   {
    "duration": 31694,
    "start_time": "2024-05-24T20:44:49.846Z"
   },
   {
    "duration": 3,
    "start_time": "2024-05-24T20:45:21.542Z"
   },
   {
    "duration": 25,
    "start_time": "2024-05-24T20:45:21.547Z"
   },
   {
    "duration": 5047,
    "start_time": "2024-05-24T20:45:21.573Z"
   },
   {
    "duration": 1271,
    "start_time": "2024-05-24T20:45:26.622Z"
   },
   {
    "duration": 5,
    "start_time": "2024-05-24T20:45:27.894Z"
   },
   {
    "duration": 1867,
    "start_time": "2024-05-24T20:45:27.900Z"
   },
   {
    "duration": 4,
    "start_time": "2024-05-24T20:45:29.769Z"
   },
   {
    "duration": 20,
    "start_time": "2024-05-24T20:45:29.775Z"
   },
   {
    "duration": 399,
    "start_time": "2024-05-24T20:45:29.798Z"
   },
   {
    "duration": 1332,
    "start_time": "2024-05-24T20:45:30.199Z"
   },
   {
    "duration": 1919,
    "start_time": "2024-05-24T20:45:31.533Z"
   },
   {
    "duration": 6750,
    "start_time": "2024-05-24T20:45:33.454Z"
   },
   {
    "duration": 6,
    "start_time": "2024-05-24T20:45:40.205Z"
   },
   {
    "duration": 415,
    "start_time": "2024-05-24T20:45:40.213Z"
   },
   {
    "duration": 4,
    "start_time": "2024-05-24T20:45:40.630Z"
   },
   {
    "duration": 1372,
    "start_time": "2024-05-24T20:45:40.636Z"
   },
   {
    "duration": 1980,
    "start_time": "2024-05-24T20:45:42.009Z"
   },
   {
    "duration": 6514,
    "start_time": "2024-05-24T20:45:43.991Z"
   },
   {
    "duration": 410,
    "start_time": "2024-05-24T20:45:50.507Z"
   },
   {
    "duration": 176,
    "start_time": "2024-05-24T20:45:50.919Z"
   },
   {
    "duration": 4829,
    "start_time": "2024-05-24T20:50:30.096Z"
   },
   {
    "duration": 7,
    "start_time": "2024-05-24T20:50:34.928Z"
   },
   {
    "duration": 70,
    "start_time": "2024-05-24T20:50:34.937Z"
   },
   {
    "duration": 18,
    "start_time": "2024-05-24T20:50:35.009Z"
   },
   {
    "duration": 8,
    "start_time": "2024-05-24T20:50:35.029Z"
   },
   {
    "duration": 13,
    "start_time": "2024-05-24T20:50:35.039Z"
   },
   {
    "duration": 7,
    "start_time": "2024-05-24T20:50:35.054Z"
   },
   {
    "duration": 12,
    "start_time": "2024-05-24T20:50:35.063Z"
   },
   {
    "duration": 16,
    "start_time": "2024-05-24T20:50:35.076Z"
   },
   {
    "duration": 224,
    "start_time": "2024-05-24T20:50:35.095Z"
   },
   {
    "duration": 157,
    "start_time": "2024-05-24T20:50:35.321Z"
   },
   {
    "duration": 163,
    "start_time": "2024-05-24T20:50:35.480Z"
   },
   {
    "duration": 2642,
    "start_time": "2024-05-24T20:50:35.645Z"
   },
   {
    "duration": 14,
    "start_time": "2024-05-24T20:50:38.288Z"
   },
   {
    "duration": 381,
    "start_time": "2024-05-24T20:50:38.304Z"
   },
   {
    "duration": 269,
    "start_time": "2024-05-24T20:50:38.691Z"
   },
   {
    "duration": 46,
    "start_time": "2024-05-24T20:50:38.962Z"
   },
   {
    "duration": 3,
    "start_time": "2024-05-24T20:50:39.009Z"
   },
   {
    "duration": 9,
    "start_time": "2024-05-24T20:50:39.014Z"
   },
   {
    "duration": 13,
    "start_time": "2024-05-24T20:50:39.024Z"
   },
   {
    "duration": 4514,
    "start_time": "2024-05-24T20:50:39.039Z"
   },
   {
    "duration": 8049,
    "start_time": "2024-05-24T20:50:43.554Z"
   },
   {
    "duration": 687,
    "start_time": "2024-05-24T20:50:51.691Z"
   },
   {
    "duration": 370,
    "start_time": "2024-05-24T20:50:52.380Z"
   },
   {
    "duration": 10,
    "start_time": "2024-05-24T20:50:52.752Z"
   },
   {
    "duration": 30,
    "start_time": "2024-05-24T20:50:52.764Z"
   },
   {
    "duration": 61,
    "start_time": "2024-05-24T20:50:52.797Z"
   },
   {
    "duration": 692,
    "start_time": "2024-05-24T20:50:52.863Z"
   },
   {
    "duration": 72,
    "start_time": "2024-05-24T20:50:53.557Z"
   },
   {
    "duration": 3926,
    "start_time": "2024-05-24T20:50:53.631Z"
   },
   {
    "duration": 3845,
    "start_time": "2024-05-24T20:50:57.559Z"
   },
   {
    "duration": 5,
    "start_time": "2024-05-24T20:51:01.406Z"
   },
   {
    "duration": 31678,
    "start_time": "2024-05-24T20:51:01.413Z"
   },
   {
    "duration": 32147,
    "start_time": "2024-05-24T20:51:33.093Z"
   },
   {
    "duration": 30707,
    "start_time": "2024-05-24T20:52:05.242Z"
   },
   {
    "duration": 4,
    "start_time": "2024-05-24T20:52:35.950Z"
   },
   {
    "duration": 13,
    "start_time": "2024-05-24T20:52:35.955Z"
   },
   {
    "duration": 5028,
    "start_time": "2024-05-24T20:52:35.970Z"
   },
   {
    "duration": 1263,
    "start_time": "2024-05-24T20:52:41.000Z"
   },
   {
    "duration": 5,
    "start_time": "2024-05-24T20:52:42.265Z"
   },
   {
    "duration": 2034,
    "start_time": "2024-05-24T20:52:42.271Z"
   },
   {
    "duration": 4,
    "start_time": "2024-05-24T20:52:44.307Z"
   },
   {
    "duration": 15,
    "start_time": "2024-05-24T20:52:44.312Z"
   },
   {
    "duration": 274,
    "start_time": "2024-05-24T20:52:44.329Z"
   },
   {
    "duration": 1235,
    "start_time": "2024-05-24T20:52:44.605Z"
   },
   {
    "duration": 1852,
    "start_time": "2024-05-24T20:52:45.842Z"
   },
   {
    "duration": 6735,
    "start_time": "2024-05-24T20:52:47.696Z"
   },
   {
    "duration": 5,
    "start_time": "2024-05-24T20:52:54.433Z"
   },
   {
    "duration": 293,
    "start_time": "2024-05-24T20:52:54.439Z"
   },
   {
    "duration": 5,
    "start_time": "2024-05-24T20:52:54.733Z"
   },
   {
    "duration": 1222,
    "start_time": "2024-05-24T20:52:54.739Z"
   },
   {
    "duration": 1843,
    "start_time": "2024-05-24T20:52:55.963Z"
   },
   {
    "duration": 6618,
    "start_time": "2024-05-24T20:52:57.807Z"
   },
   {
    "duration": 279,
    "start_time": "2024-05-24T20:53:04.427Z"
   },
   {
    "duration": 151,
    "start_time": "2024-05-24T20:53:04.707Z"
   },
   {
    "duration": 108,
    "start_time": "2024-05-24T21:03:34.440Z"
   },
   {
    "duration": 652,
    "start_time": "2024-05-24T21:03:36.580Z"
   },
   {
    "duration": 6,
    "start_time": "2024-05-24T21:03:48.495Z"
   },
   {
    "duration": 601,
    "start_time": "2024-05-24T21:03:48.970Z"
   },
   {
    "duration": 8,
    "start_time": "2024-05-24T21:03:58.691Z"
   },
   {
    "duration": 378,
    "start_time": "2024-05-24T21:03:59.613Z"
   },
   {
    "duration": 9,
    "start_time": "2024-05-24T21:04:17.637Z"
   },
   {
    "duration": 418,
    "start_time": "2024-05-24T21:04:18.240Z"
   },
   {
    "duration": 6,
    "start_time": "2024-05-24T21:04:24.337Z"
   },
   {
    "duration": 417,
    "start_time": "2024-05-24T21:04:24.656Z"
   },
   {
    "duration": 6,
    "start_time": "2024-05-24T21:04:46.964Z"
   },
   {
    "duration": 353,
    "start_time": "2024-05-24T21:04:47.319Z"
   },
   {
    "duration": 113,
    "start_time": "2024-05-24T21:04:51.583Z"
   },
   {
    "duration": 420,
    "start_time": "2024-05-24T21:04:52.055Z"
   },
   {
    "duration": 7,
    "start_time": "2024-05-24T21:05:12.677Z"
   },
   {
    "duration": 396,
    "start_time": "2024-05-24T21:05:13.002Z"
   },
   {
    "duration": 6,
    "start_time": "2024-05-24T21:05:30.344Z"
   },
   {
    "duration": 429,
    "start_time": "2024-05-24T21:05:30.770Z"
   },
   {
    "duration": 6,
    "start_time": "2024-05-24T21:12:18.983Z"
   },
   {
    "duration": 224,
    "start_time": "2024-05-24T21:12:20.074Z"
   },
   {
    "duration": 6,
    "start_time": "2024-05-24T21:13:10.427Z"
   },
   {
    "duration": 376,
    "start_time": "2024-05-24T21:13:11.217Z"
   },
   {
    "duration": 7,
    "start_time": "2024-05-24T21:13:49.586Z"
   },
   {
    "duration": 280,
    "start_time": "2024-05-24T21:13:50.238Z"
   },
   {
    "duration": 118,
    "start_time": "2024-05-24T21:13:59.775Z"
   },
   {
    "duration": 280,
    "start_time": "2024-05-24T21:14:00.787Z"
   },
   {
    "duration": 6,
    "start_time": "2024-05-24T21:14:08.776Z"
   },
   {
    "duration": 419,
    "start_time": "2024-05-24T21:14:09.249Z"
   },
   {
    "duration": 9,
    "start_time": "2024-05-24T21:16:47.984Z"
   },
   {
    "duration": 402,
    "start_time": "2024-05-24T21:16:48.952Z"
   },
   {
    "duration": 6,
    "start_time": "2024-05-24T21:16:54.156Z"
   },
   {
    "duration": 271,
    "start_time": "2024-05-24T21:16:54.840Z"
   },
   {
    "duration": 9,
    "start_time": "2024-05-24T21:17:06.212Z"
   },
   {
    "duration": 724,
    "start_time": "2024-05-24T21:17:07.056Z"
   },
   {
    "duration": 9,
    "start_time": "2024-05-24T21:17:14.556Z"
   },
   {
    "duration": 403,
    "start_time": "2024-05-24T21:17:15.081Z"
   },
   {
    "duration": 118,
    "start_time": "2024-05-24T21:17:19.765Z"
   },
   {
    "duration": 374,
    "start_time": "2024-05-24T21:17:20.433Z"
   },
   {
    "duration": 9,
    "start_time": "2024-05-24T21:17:31.688Z"
   },
   {
    "duration": 376,
    "start_time": "2024-05-24T21:17:32.303Z"
   },
   {
    "duration": 6,
    "start_time": "2024-05-24T21:17:36.372Z"
   },
   {
    "duration": 412,
    "start_time": "2024-05-24T21:17:36.822Z"
   },
   {
    "duration": 7,
    "start_time": "2024-05-24T21:17:41.223Z"
   },
   {
    "duration": 423,
    "start_time": "2024-05-24T21:17:41.844Z"
   },
   {
    "duration": 7,
    "start_time": "2024-05-24T21:17:47.349Z"
   },
   {
    "duration": 418,
    "start_time": "2024-05-24T21:17:47.746Z"
   },
   {
    "duration": 7,
    "start_time": "2024-05-24T21:19:07.390Z"
   },
   {
    "duration": 408,
    "start_time": "2024-05-24T21:19:07.803Z"
   },
   {
    "duration": 110,
    "start_time": "2024-05-24T21:19:27.639Z"
   },
   {
    "duration": 377,
    "start_time": "2024-05-24T21:19:28.192Z"
   },
   {
    "duration": 6,
    "start_time": "2024-05-24T21:19:34.660Z"
   },
   {
    "duration": 408,
    "start_time": "2024-05-24T21:19:35.192Z"
   },
   {
    "duration": 6,
    "start_time": "2024-05-24T21:20:51.452Z"
   },
   {
    "duration": 419,
    "start_time": "2024-05-24T21:20:52.191Z"
   },
   {
    "duration": 7,
    "start_time": "2024-05-24T21:21:13.630Z"
   },
   {
    "duration": 409,
    "start_time": "2024-05-24T21:21:14.052Z"
   },
   {
    "duration": 6,
    "start_time": "2024-05-24T21:21:28.320Z"
   },
   {
    "duration": 403,
    "start_time": "2024-05-24T21:21:28.855Z"
   },
   {
    "duration": 3,
    "start_time": "2024-05-24T21:23:02.778Z"
   },
   {
    "duration": 12,
    "start_time": "2024-05-24T21:23:14.524Z"
   },
   {
    "duration": 3,
    "start_time": "2024-05-24T21:23:19.379Z"
   },
   {
    "duration": 19,
    "start_time": "2024-05-24T21:23:37.122Z"
   },
   {
    "duration": 5,
    "start_time": "2024-05-24T21:27:23.084Z"
   },
   {
    "duration": 16,
    "start_time": "2024-05-24T21:27:31.147Z"
   },
   {
    "duration": 4,
    "start_time": "2024-05-24T21:27:47.506Z"
   },
   {
    "duration": 3,
    "start_time": "2024-05-24T21:27:50.536Z"
   },
   {
    "duration": 3,
    "start_time": "2024-05-24T21:27:54.502Z"
   },
   {
    "duration": 3,
    "start_time": "2024-05-24T21:27:58.939Z"
   },
   {
    "duration": 3,
    "start_time": "2024-05-24T21:28:01.720Z"
   },
   {
    "duration": 4,
    "start_time": "2024-05-24T21:28:10.036Z"
   },
   {
    "duration": 14,
    "start_time": "2024-05-24T21:28:21.693Z"
   },
   {
    "duration": 6,
    "start_time": "2024-05-24T21:29:19.656Z"
   },
   {
    "duration": 15,
    "start_time": "2024-05-24T21:29:31.669Z"
   },
   {
    "duration": 5,
    "start_time": "2024-05-24T21:29:33.336Z"
   },
   {
    "duration": 15,
    "start_time": "2024-05-24T21:29:34.364Z"
   },
   {
    "duration": 5,
    "start_time": "2024-05-24T21:29:51.727Z"
   },
   {
    "duration": 4,
    "start_time": "2024-05-24T21:29:52.204Z"
   },
   {
    "duration": 3,
    "start_time": "2024-05-24T21:30:06.829Z"
   },
   {
    "duration": 4,
    "start_time": "2024-05-24T21:30:21.346Z"
   },
   {
    "duration": 3,
    "start_time": "2024-05-24T21:30:26.394Z"
   },
   {
    "duration": 3,
    "start_time": "2024-05-24T21:30:33.036Z"
   },
   {
    "duration": 5,
    "start_time": "2024-05-24T21:30:37.881Z"
   },
   {
    "duration": 8,
    "start_time": "2024-05-24T21:32:05.876Z"
   },
   {
    "duration": 288,
    "start_time": "2024-05-24T21:32:08.776Z"
   },
   {
    "duration": 7,
    "start_time": "2024-05-24T21:32:45.804Z"
   },
   {
    "duration": 283,
    "start_time": "2024-05-24T21:32:46.416Z"
   },
   {
    "duration": 3,
    "start_time": "2024-05-24T21:33:18.977Z"
   },
   {
    "duration": 421,
    "start_time": "2024-05-24T21:33:19.757Z"
   },
   {
    "duration": 3,
    "start_time": "2024-05-24T21:33:41.273Z"
   },
   {
    "duration": 8,
    "start_time": "2024-05-24T21:34:02.668Z"
   },
   {
    "duration": 3,
    "start_time": "2024-05-24T21:34:04.556Z"
   },
   {
    "duration": 396,
    "start_time": "2024-05-24T21:34:05.193Z"
   },
   {
    "duration": 7,
    "start_time": "2024-05-24T21:39:31.594Z"
   },
   {
    "duration": 3,
    "start_time": "2024-05-24T21:39:32.216Z"
   },
   {
    "duration": 281,
    "start_time": "2024-05-24T21:39:32.551Z"
   },
   {
    "duration": 7,
    "start_time": "2024-05-24T21:39:37.802Z"
   },
   {
    "duration": 3,
    "start_time": "2024-05-24T21:39:38.286Z"
   },
   {
    "duration": 399,
    "start_time": "2024-05-24T21:39:39.100Z"
   },
   {
    "duration": 7,
    "start_time": "2024-05-24T21:40:44.238Z"
   },
   {
    "duration": 4,
    "start_time": "2024-05-24T21:40:44.888Z"
   },
   {
    "duration": 291,
    "start_time": "2024-05-24T21:40:45.234Z"
   },
   {
    "duration": 3,
    "start_time": "2024-05-24T21:40:54.196Z"
   },
   {
    "duration": 8,
    "start_time": "2024-05-24T21:40:56.573Z"
   },
   {
    "duration": 3,
    "start_time": "2024-05-24T21:40:57.092Z"
   },
   {
    "duration": 385,
    "start_time": "2024-05-24T21:40:57.388Z"
   },
   {
    "duration": 8,
    "start_time": "2024-05-24T21:41:19.026Z"
   },
   {
    "duration": 4,
    "start_time": "2024-05-24T21:41:19.529Z"
   },
   {
    "duration": 295,
    "start_time": "2024-05-24T21:41:20.003Z"
   },
   {
    "duration": 18,
    "start_time": "2024-05-24T21:41:36.077Z"
   },
   {
    "duration": 25,
    "start_time": "2024-05-24T21:41:39.829Z"
   },
   {
    "duration": 6,
    "start_time": "2024-05-24T21:42:13.683Z"
   },
   {
    "duration": 13,
    "start_time": "2024-05-24T21:42:14.119Z"
   },
   {
    "duration": 284,
    "start_time": "2024-05-24T21:42:18.666Z"
   },
   {
    "duration": 125,
    "start_time": "2024-05-24T21:42:58.737Z"
   },
   {
    "duration": 290,
    "start_time": "2024-05-24T21:42:59.311Z"
   },
   {
    "duration": 8,
    "start_time": "2024-05-24T21:43:08.805Z"
   },
   {
    "duration": 386,
    "start_time": "2024-05-24T21:43:09.413Z"
   },
   {
    "duration": 8,
    "start_time": "2024-05-24T21:43:33.084Z"
   },
   {
    "duration": 296,
    "start_time": "2024-05-24T21:43:33.636Z"
   },
   {
    "duration": 3148,
    "start_time": "2024-05-24T21:49:35.489Z"
   },
   {
    "duration": 3,
    "start_time": "2024-05-24T21:50:26.725Z"
   },
   {
    "duration": 22,
    "start_time": "2024-05-24T21:50:30.670Z"
   },
   {
    "duration": 3,
    "start_time": "2024-05-24T21:50:35.944Z"
   },
   {
    "duration": 14,
    "start_time": "2024-05-24T21:50:40.912Z"
   },
   {
    "duration": 14,
    "start_time": "2024-05-24T21:50:48.356Z"
   },
   {
    "duration": 5,
    "start_time": "2024-05-24T21:51:41.956Z"
   },
   {
    "duration": 13,
    "start_time": "2024-05-24T21:51:43.612Z"
   },
   {
    "duration": 5,
    "start_time": "2024-05-24T21:54:11.917Z"
   },
   {
    "duration": 4,
    "start_time": "2024-05-24T21:54:13.612Z"
   },
   {
    "duration": 4,
    "start_time": "2024-05-24T21:54:19.781Z"
   },
   {
    "duration": 4,
    "start_time": "2024-05-24T21:54:27.257Z"
   },
   {
    "duration": 3,
    "start_time": "2024-05-24T21:54:30.731Z"
   },
   {
    "duration": 3,
    "start_time": "2024-05-24T21:54:41.096Z"
   },
   {
    "duration": 16,
    "start_time": "2024-05-24T21:54:49.510Z"
   },
   {
    "duration": 5,
    "start_time": "2024-05-24T21:55:20.484Z"
   },
   {
    "duration": 3,
    "start_time": "2024-05-24T21:55:21.809Z"
   },
   {
    "duration": 3,
    "start_time": "2024-05-24T21:55:25.476Z"
   },
   {
    "duration": 3,
    "start_time": "2024-05-24T21:55:30.661Z"
   },
   {
    "duration": 3,
    "start_time": "2024-05-24T21:55:34.272Z"
   },
   {
    "duration": 6,
    "start_time": "2024-05-24T21:58:24.097Z"
   },
   {
    "duration": 7,
    "start_time": "2024-05-24T21:58:28.877Z"
   },
   {
    "duration": 7,
    "start_time": "2024-05-24T21:58:38.698Z"
   },
   {
    "duration": 301,
    "start_time": "2024-05-24T21:58:38.964Z"
   },
   {
    "duration": 6,
    "start_time": "2024-05-24T21:59:10.535Z"
   },
   {
    "duration": 8,
    "start_time": "2024-05-24T21:59:14.579Z"
   },
   {
    "duration": 424,
    "start_time": "2024-05-24T21:59:15.189Z"
   },
   {
    "duration": 8,
    "start_time": "2024-05-24T21:59:43.291Z"
   },
   {
    "duration": 389,
    "start_time": "2024-05-24T21:59:43.834Z"
   },
   {
    "duration": 8,
    "start_time": "2024-05-24T22:00:02.769Z"
   },
   {
    "duration": 406,
    "start_time": "2024-05-24T22:00:03.277Z"
   },
   {
    "duration": 132,
    "start_time": "2024-05-24T22:00:31.856Z"
   },
   {
    "duration": 397,
    "start_time": "2024-05-24T22:00:32.228Z"
   },
   {
    "duration": 9,
    "start_time": "2024-05-24T22:00:55.168Z"
   },
   {
    "duration": 390,
    "start_time": "2024-05-24T22:00:55.995Z"
   },
   {
    "duration": 11,
    "start_time": "2024-05-24T22:01:14.265Z"
   },
   {
    "duration": 366,
    "start_time": "2024-05-24T22:01:14.716Z"
   },
   {
    "duration": 4,
    "start_time": "2024-05-24T22:01:54.489Z"
   },
   {
    "duration": 7,
    "start_time": "2024-05-24T22:02:16.752Z"
   },
   {
    "duration": 3,
    "start_time": "2024-05-24T22:02:17.221Z"
   },
   {
    "duration": 7,
    "start_time": "2024-05-24T22:02:24.212Z"
   },
   {
    "duration": 412,
    "start_time": "2024-05-24T22:02:24.737Z"
   },
   {
    "duration": 8,
    "start_time": "2024-05-24T22:03:34.050Z"
   },
   {
    "duration": 393,
    "start_time": "2024-05-24T22:03:34.383Z"
   },
   {
    "duration": 8,
    "start_time": "2024-05-24T22:05:42.156Z"
   },
   {
    "duration": 362,
    "start_time": "2024-05-24T22:05:42.611Z"
   },
   {
    "duration": 137,
    "start_time": "2024-05-24T22:06:31.179Z"
   },
   {
    "duration": 399,
    "start_time": "2024-05-24T22:06:31.696Z"
   },
   {
    "duration": 8,
    "start_time": "2024-05-24T22:07:25.386Z"
   },
   {
    "duration": 410,
    "start_time": "2024-05-24T22:07:25.647Z"
   },
   {
    "duration": 8,
    "start_time": "2024-05-24T22:07:30.219Z"
   },
   {
    "duration": 387,
    "start_time": "2024-05-24T22:07:30.591Z"
   },
   {
    "duration": 8,
    "start_time": "2024-05-24T22:07:35.620Z"
   },
   {
    "duration": 390,
    "start_time": "2024-05-24T22:07:35.886Z"
   },
   {
    "duration": 8,
    "start_time": "2024-05-24T22:07:39.951Z"
   },
   {
    "duration": 406,
    "start_time": "2024-05-24T22:07:41.296Z"
   },
   {
    "duration": 7,
    "start_time": "2024-05-24T22:09:31.558Z"
   },
   {
    "duration": 402,
    "start_time": "2024-05-24T22:09:31.915Z"
   },
   {
    "duration": 109,
    "start_time": "2024-05-24T22:09:36.633Z"
   },
   {
    "duration": 433,
    "start_time": "2024-05-24T22:09:36.947Z"
   },
   {
    "duration": 9,
    "start_time": "2024-05-24T22:09:45.195Z"
   },
   {
    "duration": 397,
    "start_time": "2024-05-24T22:09:45.388Z"
   },
   {
    "duration": 7,
    "start_time": "2024-05-24T22:09:55.257Z"
   },
   {
    "duration": 423,
    "start_time": "2024-05-24T22:09:55.756Z"
   },
   {
    "duration": 11,
    "start_time": "2024-05-24T22:10:04.724Z"
   },
   {
    "duration": 382,
    "start_time": "2024-05-24T22:10:05.014Z"
   },
   {
    "duration": 9,
    "start_time": "2024-05-24T22:10:10.009Z"
   },
   {
    "duration": 414,
    "start_time": "2024-05-24T22:10:11.547Z"
   },
   {
    "duration": 8,
    "start_time": "2024-05-24T22:10:15.626Z"
   },
   {
    "duration": 414,
    "start_time": "2024-05-24T22:10:15.852Z"
   },
   {
    "duration": 112,
    "start_time": "2024-05-24T22:10:21.721Z"
   },
   {
    "duration": 427,
    "start_time": "2024-05-24T22:10:22.140Z"
   },
   {
    "duration": 10,
    "start_time": "2024-05-24T22:10:26.611Z"
   },
   {
    "duration": 366,
    "start_time": "2024-05-24T22:10:27.019Z"
   },
   {
    "duration": 4569,
    "start_time": "2024-05-24T22:10:40.890Z"
   },
   {
    "duration": 7,
    "start_time": "2024-05-24T22:10:45.462Z"
   },
   {
    "duration": 26,
    "start_time": "2024-05-24T22:10:45.470Z"
   },
   {
    "duration": 22,
    "start_time": "2024-05-24T22:10:45.498Z"
   },
   {
    "duration": 22,
    "start_time": "2024-05-24T22:10:45.521Z"
   },
   {
    "duration": 20,
    "start_time": "2024-05-24T22:10:45.545Z"
   },
   {
    "duration": 29,
    "start_time": "2024-05-24T22:10:45.566Z"
   },
   {
    "duration": 12,
    "start_time": "2024-05-24T22:10:45.596Z"
   },
   {
    "duration": 21,
    "start_time": "2024-05-24T22:10:45.610Z"
   },
   {
    "duration": 218,
    "start_time": "2024-05-24T22:10:45.633Z"
   },
   {
    "duration": 167,
    "start_time": "2024-05-24T22:10:45.853Z"
   },
   {
    "duration": 171,
    "start_time": "2024-05-24T22:10:46.023Z"
   },
   {
    "duration": 2648,
    "start_time": "2024-05-24T22:10:46.196Z"
   },
   {
    "duration": 13,
    "start_time": "2024-05-24T22:10:48.846Z"
   },
   {
    "duration": 422,
    "start_time": "2024-05-24T22:10:48.860Z"
   },
   {
    "duration": 297,
    "start_time": "2024-05-24T22:10:49.283Z"
   },
   {
    "duration": 50,
    "start_time": "2024-05-24T22:10:49.581Z"
   },
   {
    "duration": 3,
    "start_time": "2024-05-24T22:10:49.632Z"
   },
   {
    "duration": 18,
    "start_time": "2024-05-24T22:10:49.636Z"
   },
   {
    "duration": 17,
    "start_time": "2024-05-24T22:10:49.655Z"
   },
   {
    "duration": 4585,
    "start_time": "2024-05-24T22:10:49.674Z"
   },
   {
    "duration": 8032,
    "start_time": "2024-05-24T22:10:54.260Z"
   },
   {
    "duration": 792,
    "start_time": "2024-05-24T22:11:02.294Z"
   },
   {
    "duration": 373,
    "start_time": "2024-05-24T22:11:03.087Z"
   },
   {
    "duration": 10,
    "start_time": "2024-05-24T22:11:03.461Z"
   },
   {
    "duration": 18,
    "start_time": "2024-05-24T22:11:03.473Z"
   },
   {
    "duration": 57,
    "start_time": "2024-05-24T22:11:03.493Z"
   },
   {
    "duration": 729,
    "start_time": "2024-05-24T22:11:03.554Z"
   },
   {
    "duration": 73,
    "start_time": "2024-05-24T22:11:04.284Z"
   },
   {
    "duration": 3992,
    "start_time": "2024-05-24T22:11:04.359Z"
   },
   {
    "duration": 4192,
    "start_time": "2024-05-24T22:11:08.353Z"
   },
   {
    "duration": 5,
    "start_time": "2024-05-24T22:11:12.547Z"
   },
   {
    "duration": 30995,
    "start_time": "2024-05-24T22:11:12.554Z"
   },
   {
    "duration": 31689,
    "start_time": "2024-05-24T22:11:43.551Z"
   },
   {
    "duration": 31254,
    "start_time": "2024-05-24T22:12:15.242Z"
   },
   {
    "duration": 3,
    "start_time": "2024-05-24T22:12:46.498Z"
   },
   {
    "duration": 12,
    "start_time": "2024-05-24T22:12:46.503Z"
   },
   {
    "duration": 4989,
    "start_time": "2024-05-24T22:12:46.517Z"
   },
   {
    "duration": 1264,
    "start_time": "2024-05-24T22:12:51.507Z"
   },
   {
    "duration": 5,
    "start_time": "2024-05-24T22:12:52.772Z"
   },
   {
    "duration": 1877,
    "start_time": "2024-05-24T22:12:52.779Z"
   },
   {
    "duration": 4,
    "start_time": "2024-05-24T22:12:54.658Z"
   },
   {
    "duration": 15,
    "start_time": "2024-05-24T22:12:54.664Z"
   },
   {
    "duration": 395,
    "start_time": "2024-05-24T22:12:54.680Z"
   },
   {
    "duration": 1244,
    "start_time": "2024-05-24T22:12:55.076Z"
   },
   {
    "duration": 1850,
    "start_time": "2024-05-24T22:12:56.322Z"
   },
   {
    "duration": 6738,
    "start_time": "2024-05-24T22:12:58.174Z"
   },
   {
    "duration": 5,
    "start_time": "2024-05-24T22:13:04.914Z"
   },
   {
    "duration": 445,
    "start_time": "2024-05-24T22:13:04.921Z"
   },
   {
    "duration": 5,
    "start_time": "2024-05-24T22:13:05.367Z"
   },
   {
    "duration": 1294,
    "start_time": "2024-05-24T22:13:05.373Z"
   },
   {
    "duration": 1922,
    "start_time": "2024-05-24T22:13:06.669Z"
   },
   {
    "duration": 6535,
    "start_time": "2024-05-24T22:13:08.593Z"
   },
   {
    "duration": 462,
    "start_time": "2024-05-24T22:13:15.129Z"
   },
   {
    "duration": 4,
    "start_time": "2024-05-24T22:13:15.593Z"
   },
   {
    "duration": 4340,
    "start_time": "2024-05-24T22:16:44.200Z"
   },
   {
    "duration": 7,
    "start_time": "2024-05-24T22:16:48.542Z"
   },
   {
    "duration": 8,
    "start_time": "2024-05-24T22:16:48.550Z"
   },
   {
    "duration": 16,
    "start_time": "2024-05-24T22:16:48.560Z"
   },
   {
    "duration": 15,
    "start_time": "2024-05-24T22:16:48.578Z"
   },
   {
    "duration": 16,
    "start_time": "2024-05-24T22:16:48.594Z"
   },
   {
    "duration": 5,
    "start_time": "2024-05-24T22:16:48.612Z"
   },
   {
    "duration": 10,
    "start_time": "2024-05-24T22:16:48.619Z"
   },
   {
    "duration": 45,
    "start_time": "2024-05-24T22:16:48.631Z"
   },
   {
    "duration": 184,
    "start_time": "2024-05-24T22:16:48.679Z"
   },
   {
    "duration": 149,
    "start_time": "2024-05-24T22:16:48.864Z"
   },
   {
    "duration": 150,
    "start_time": "2024-05-24T22:16:49.015Z"
   },
   {
    "duration": 2707,
    "start_time": "2024-05-24T22:16:49.166Z"
   },
   {
    "duration": 17,
    "start_time": "2024-05-24T22:16:51.875Z"
   },
   {
    "duration": 392,
    "start_time": "2024-05-24T22:16:51.894Z"
   },
   {
    "duration": 300,
    "start_time": "2024-05-24T22:16:52.291Z"
   },
   {
    "duration": 40,
    "start_time": "2024-05-24T22:16:52.593Z"
   },
   {
    "duration": 2,
    "start_time": "2024-05-24T22:16:52.635Z"
   },
   {
    "duration": 6,
    "start_time": "2024-05-24T22:16:52.639Z"
   },
   {
    "duration": 14,
    "start_time": "2024-05-24T22:16:52.647Z"
   },
   {
    "duration": 4374,
    "start_time": "2024-05-24T22:16:52.663Z"
   },
   {
    "duration": 7865,
    "start_time": "2024-05-24T22:16:57.039Z"
   },
   {
    "duration": 781,
    "start_time": "2024-05-24T22:17:04.906Z"
   },
   {
    "duration": 374,
    "start_time": "2024-05-24T22:17:05.692Z"
   },
   {
    "duration": 10,
    "start_time": "2024-05-24T22:17:06.067Z"
   },
   {
    "duration": 17,
    "start_time": "2024-05-24T22:17:06.078Z"
   },
   {
    "duration": 53,
    "start_time": "2024-05-24T22:17:06.096Z"
   },
   {
    "duration": 696,
    "start_time": "2024-05-24T22:17:06.153Z"
   },
   {
    "duration": 63,
    "start_time": "2024-05-24T22:17:06.851Z"
   },
   {
    "duration": 3655,
    "start_time": "2024-05-24T22:17:06.915Z"
   },
   {
    "duration": 3794,
    "start_time": "2024-05-24T22:17:10.572Z"
   },
   {
    "duration": 6,
    "start_time": "2024-05-24T22:17:14.368Z"
   },
   {
    "duration": 31586,
    "start_time": "2024-05-24T22:17:14.376Z"
   },
   {
    "duration": 31357,
    "start_time": "2024-05-24T22:17:45.964Z"
   },
   {
    "duration": 31362,
    "start_time": "2024-05-24T22:18:17.323Z"
   },
   {
    "duration": 4,
    "start_time": "2024-05-24T22:18:48.687Z"
   },
   {
    "duration": 12,
    "start_time": "2024-05-24T22:18:48.693Z"
   },
   {
    "duration": 5028,
    "start_time": "2024-05-24T22:18:48.706Z"
   },
   {
    "duration": 1279,
    "start_time": "2024-05-24T22:18:53.736Z"
   },
   {
    "duration": 5,
    "start_time": "2024-05-24T22:18:55.016Z"
   },
   {
    "duration": 1853,
    "start_time": "2024-05-24T22:18:55.022Z"
   },
   {
    "duration": 4,
    "start_time": "2024-05-24T22:18:56.876Z"
   },
   {
    "duration": 17,
    "start_time": "2024-05-24T22:18:56.882Z"
   },
   {
    "duration": 380,
    "start_time": "2024-05-24T22:18:56.901Z"
   },
   {
    "duration": 1253,
    "start_time": "2024-05-24T22:18:57.283Z"
   },
   {
    "duration": 1898,
    "start_time": "2024-05-24T22:18:58.537Z"
   },
   {
    "duration": 6684,
    "start_time": "2024-05-24T22:19:00.437Z"
   },
   {
    "duration": 5,
    "start_time": "2024-05-24T22:19:07.123Z"
   },
   {
    "duration": 416,
    "start_time": "2024-05-24T22:19:07.129Z"
   },
   {
    "duration": 4,
    "start_time": "2024-05-24T22:19:07.547Z"
   },
   {
    "duration": 1281,
    "start_time": "2024-05-24T22:19:07.553Z"
   },
   {
    "duration": 1890,
    "start_time": "2024-05-24T22:19:08.835Z"
   },
   {
    "duration": 6617,
    "start_time": "2024-05-24T22:19:10.727Z"
   },
   {
    "duration": 419,
    "start_time": "2024-05-24T22:19:17.346Z"
   },
   {
    "duration": 4,
    "start_time": "2024-05-24T22:19:17.766Z"
   },
   {
    "duration": 3,
    "start_time": "2024-05-24T22:26:36.615Z"
   },
   {
    "duration": 6,
    "start_time": "2024-05-24T22:27:10.402Z"
   },
   {
    "duration": 527,
    "start_time": "2024-05-24T22:28:33.864Z"
   },
   {
    "duration": 400,
    "start_time": "2024-05-24T22:30:01.676Z"
   },
   {
    "duration": 9,
    "start_time": "2024-05-24T22:30:31.694Z"
   },
   {
    "duration": 407,
    "start_time": "2024-05-24T22:30:31.958Z"
   },
   {
    "duration": 8,
    "start_time": "2024-05-24T22:31:37.385Z"
   },
   {
    "duration": 403,
    "start_time": "2024-05-24T22:31:37.894Z"
   },
   {
    "duration": 9,
    "start_time": "2024-05-24T22:31:45.809Z"
   },
   {
    "duration": 406,
    "start_time": "2024-05-24T22:31:46.356Z"
   },
   {
    "duration": 9,
    "start_time": "2024-05-24T22:31:53.685Z"
   },
   {
    "duration": 414,
    "start_time": "2024-05-24T22:31:53.983Z"
   },
   {
    "duration": 116,
    "start_time": "2024-05-24T22:32:01.063Z"
   },
   {
    "duration": 409,
    "start_time": "2024-05-24T22:32:01.360Z"
   },
   {
    "duration": 14,
    "start_time": "2024-05-24T22:32:07.984Z"
   },
   {
    "duration": 398,
    "start_time": "2024-05-24T22:32:08.219Z"
   },
   {
    "duration": 8,
    "start_time": "2024-05-24T22:32:12.443Z"
   },
   {
    "duration": 394,
    "start_time": "2024-05-24T22:32:12.617Z"
   },
   {
    "duration": 9,
    "start_time": "2024-05-24T22:32:16.740Z"
   },
   {
    "duration": 406,
    "start_time": "2024-05-24T22:32:17.132Z"
   },
   {
    "duration": 9,
    "start_time": "2024-05-24T22:32:21.298Z"
   },
   {
    "duration": 400,
    "start_time": "2024-05-24T22:32:21.486Z"
   },
   {
    "duration": 12,
    "start_time": "2024-05-24T22:32:28.663Z"
   },
   {
    "duration": 505,
    "start_time": "2024-05-24T22:32:28.865Z"
   },
   {
    "duration": 9,
    "start_time": "2024-05-24T22:32:54.722Z"
   },
   {
    "duration": 439,
    "start_time": "2024-05-24T22:32:55.161Z"
   },
   {
    "duration": 10,
    "start_time": "2024-05-24T22:33:08.684Z"
   },
   {
    "duration": 415,
    "start_time": "2024-05-24T22:33:08.970Z"
   },
   {
    "duration": 11,
    "start_time": "2024-05-24T22:33:15.664Z"
   },
   {
    "duration": 443,
    "start_time": "2024-05-24T22:33:15.942Z"
   },
   {
    "duration": 9,
    "start_time": "2024-05-24T22:34:23.097Z"
   },
   {
    "duration": 390,
    "start_time": "2024-05-24T22:34:23.393Z"
   },
   {
    "duration": 11,
    "start_time": "2024-05-24T22:34:39.382Z"
   },
   {
    "duration": 446,
    "start_time": "2024-05-24T22:34:39.748Z"
   },
   {
    "duration": 9,
    "start_time": "2024-05-24T22:35:26.112Z"
   },
   {
    "duration": 498,
    "start_time": "2024-05-24T22:35:26.489Z"
   },
   {
    "duration": 9,
    "start_time": "2024-05-24T22:35:32.915Z"
   },
   {
    "duration": 447,
    "start_time": "2024-05-24T22:35:33.143Z"
   },
   {
    "duration": 9,
    "start_time": "2024-05-24T22:35:43.942Z"
   },
   {
    "duration": 407,
    "start_time": "2024-05-24T22:35:44.275Z"
   },
   {
    "duration": 14,
    "start_time": "2024-05-24T22:36:25.035Z"
   },
   {
    "duration": 410,
    "start_time": "2024-05-24T22:36:25.334Z"
   },
   {
    "duration": 9,
    "start_time": "2024-05-24T22:36:40.244Z"
   },
   {
    "duration": 384,
    "start_time": "2024-05-24T22:36:40.513Z"
   },
   {
    "duration": 9,
    "start_time": "2024-05-24T22:36:47.479Z"
   },
   {
    "duration": 430,
    "start_time": "2024-05-24T22:36:47.742Z"
   },
   {
    "duration": 4456,
    "start_time": "2024-05-24T22:37:06.312Z"
   },
   {
    "duration": 6,
    "start_time": "2024-05-24T22:37:10.770Z"
   },
   {
    "duration": 9,
    "start_time": "2024-05-24T22:37:10.778Z"
   },
   {
    "duration": 6,
    "start_time": "2024-05-24T22:37:10.789Z"
   },
   {
    "duration": 9,
    "start_time": "2024-05-24T22:37:10.796Z"
   },
   {
    "duration": 4,
    "start_time": "2024-05-24T22:37:10.806Z"
   },
   {
    "duration": 12,
    "start_time": "2024-05-24T22:37:10.811Z"
   },
   {
    "duration": 5,
    "start_time": "2024-05-24T22:37:10.824Z"
   },
   {
    "duration": 7,
    "start_time": "2024-05-24T22:37:10.831Z"
   },
   {
    "duration": 18,
    "start_time": "2024-05-24T22:37:10.841Z"
   },
   {
    "duration": 189,
    "start_time": "2024-05-24T22:37:10.861Z"
   },
   {
    "duration": 156,
    "start_time": "2024-05-24T22:37:11.051Z"
   },
   {
    "duration": 160,
    "start_time": "2024-05-24T22:37:11.208Z"
   },
   {
    "duration": 2638,
    "start_time": "2024-05-24T22:37:11.370Z"
   },
   {
    "duration": 13,
    "start_time": "2024-05-24T22:37:14.010Z"
   },
   {
    "duration": 453,
    "start_time": "2024-05-24T22:37:14.025Z"
   },
   {
    "duration": 266,
    "start_time": "2024-05-24T22:37:14.480Z"
   },
   {
    "duration": 49,
    "start_time": "2024-05-24T22:37:14.748Z"
   },
   {
    "duration": 3,
    "start_time": "2024-05-24T22:37:14.799Z"
   },
   {
    "duration": 14,
    "start_time": "2024-05-24T22:37:14.803Z"
   },
   {
    "duration": 8,
    "start_time": "2024-05-24T22:37:14.818Z"
   },
   {
    "duration": 4508,
    "start_time": "2024-05-24T22:37:14.827Z"
   },
   {
    "duration": 7865,
    "start_time": "2024-05-24T22:37:19.336Z"
   },
   {
    "duration": 961,
    "start_time": "2024-05-24T22:37:27.205Z"
   },
   {
    "duration": 247,
    "start_time": "2024-05-24T22:37:28.168Z"
   },
   {
    "duration": 10,
    "start_time": "2024-05-24T22:37:28.416Z"
   },
   {
    "duration": 11,
    "start_time": "2024-05-24T22:37:28.427Z"
   },
   {
    "duration": 67,
    "start_time": "2024-05-24T22:37:28.442Z"
   },
   {
    "duration": 639,
    "start_time": "2024-05-24T22:37:28.510Z"
   },
   {
    "duration": 66,
    "start_time": "2024-05-24T22:37:29.151Z"
   },
   {
    "duration": 3837,
    "start_time": "2024-05-24T22:37:29.218Z"
   },
   {
    "duration": 4010,
    "start_time": "2024-05-24T22:37:33.056Z"
   },
   {
    "duration": 5,
    "start_time": "2024-05-24T22:37:37.068Z"
   },
   {
    "duration": 31289,
    "start_time": "2024-05-24T22:37:37.075Z"
   },
   {
    "duration": 31065,
    "start_time": "2024-05-24T22:38:08.366Z"
   },
   {
    "duration": 31341,
    "start_time": "2024-05-24T22:38:39.432Z"
   },
   {
    "duration": 3,
    "start_time": "2024-05-24T22:39:10.775Z"
   },
   {
    "duration": 18,
    "start_time": "2024-05-24T22:39:10.780Z"
   },
   {
    "duration": 5019,
    "start_time": "2024-05-24T22:39:10.800Z"
   },
   {
    "duration": 1265,
    "start_time": "2024-05-24T22:39:15.821Z"
   },
   {
    "duration": 4,
    "start_time": "2024-05-24T22:39:17.087Z"
   },
   {
    "duration": 1891,
    "start_time": "2024-05-24T22:39:17.093Z"
   },
   {
    "duration": 8,
    "start_time": "2024-05-24T22:39:18.985Z"
   },
   {
    "duration": 17,
    "start_time": "2024-05-24T22:39:18.995Z"
   },
   {
    "duration": 443,
    "start_time": "2024-05-24T22:39:19.013Z"
   },
   {
    "duration": 1266,
    "start_time": "2024-05-24T22:39:19.458Z"
   },
   {
    "duration": 1904,
    "start_time": "2024-05-24T22:39:20.726Z"
   },
   {
    "duration": 6519,
    "start_time": "2024-05-24T22:39:22.631Z"
   },
   {
    "duration": 5,
    "start_time": "2024-05-24T22:39:29.152Z"
   },
   {
    "duration": 409,
    "start_time": "2024-05-24T22:39:29.159Z"
   },
   {
    "duration": 5,
    "start_time": "2024-05-24T22:39:29.570Z"
   },
   {
    "duration": 1322,
    "start_time": "2024-05-24T22:39:29.577Z"
   },
   {
    "duration": 1872,
    "start_time": "2024-05-24T22:39:30.901Z"
   },
   {
    "duration": 6459,
    "start_time": "2024-05-24T22:39:32.775Z"
   },
   {
    "duration": 426,
    "start_time": "2024-05-24T22:39:39.235Z"
   },
   {
    "duration": 5,
    "start_time": "2024-05-24T22:39:39.662Z"
   },
   {
    "duration": 492,
    "start_time": "2024-05-24T22:41:09.785Z"
   },
   {
    "duration": 7,
    "start_time": "2024-05-24T22:43:40.694Z"
   },
   {
    "duration": 409,
    "start_time": "2024-05-24T22:45:20.918Z"
   },
   {
    "duration": 419,
    "start_time": "2024-05-24T22:45:29.702Z"
   },
   {
    "duration": 853,
    "start_time": "2024-05-24T22:45:35.442Z"
   },
   {
    "duration": 1361,
    "start_time": "2024-05-24T22:47:12.032Z"
   },
   {
    "duration": 11,
    "start_time": "2024-05-24T22:47:40.974Z"
   },
   {
    "duration": 1197,
    "start_time": "2024-05-24T22:47:41.586Z"
   },
   {
    "duration": 11,
    "start_time": "2024-05-24T22:47:57.691Z"
   },
   {
    "duration": 1263,
    "start_time": "2024-05-24T22:47:57.920Z"
   },
   {
    "duration": 10,
    "start_time": "2024-05-24T22:48:17.252Z"
   },
   {
    "duration": 1184,
    "start_time": "2024-05-24T22:48:17.687Z"
   },
   {
    "duration": 11,
    "start_time": "2024-05-24T22:48:35.770Z"
   },
   {
    "duration": 1198,
    "start_time": "2024-05-24T22:48:36.069Z"
   },
   {
    "duration": 117,
    "start_time": "2024-05-24T22:48:43.652Z"
   },
   {
    "duration": 1239,
    "start_time": "2024-05-24T22:48:43.935Z"
   },
   {
    "duration": 11,
    "start_time": "2024-05-24T22:48:55.792Z"
   },
   {
    "duration": 1208,
    "start_time": "2024-05-24T22:48:56.063Z"
   },
   {
    "duration": 11,
    "start_time": "2024-05-24T22:49:06.997Z"
   },
   {
    "duration": 1270,
    "start_time": "2024-05-24T22:49:07.216Z"
   },
   {
    "duration": 10,
    "start_time": "2024-05-24T22:49:19.237Z"
   },
   {
    "duration": 1185,
    "start_time": "2024-05-24T22:49:19.386Z"
   },
   {
    "duration": 15,
    "start_time": "2024-05-24T22:49:28.251Z"
   },
   {
    "duration": 1298,
    "start_time": "2024-05-24T22:49:28.535Z"
   },
   {
    "duration": 11,
    "start_time": "2024-05-24T22:49:43.783Z"
   },
   {
    "duration": 1211,
    "start_time": "2024-05-24T22:49:43.974Z"
   },
   {
    "duration": 13,
    "start_time": "2024-05-24T22:50:03.851Z"
   },
   {
    "duration": 1623,
    "start_time": "2024-05-24T22:50:03.989Z"
   },
   {
    "duration": 10,
    "start_time": "2024-05-24T22:50:18.751Z"
   },
   {
    "duration": 1391,
    "start_time": "2024-05-24T22:50:19.125Z"
   },
   {
    "duration": 11,
    "start_time": "2024-05-24T22:50:29.989Z"
   },
   {
    "duration": 1278,
    "start_time": "2024-05-24T22:50:30.299Z"
   },
   {
    "duration": 11,
    "start_time": "2024-05-24T22:50:39.480Z"
   },
   {
    "duration": 1242,
    "start_time": "2024-05-24T22:50:39.851Z"
   },
   {
    "duration": 10,
    "start_time": "2024-05-24T22:50:56.421Z"
   },
   {
    "duration": 1388,
    "start_time": "2024-05-24T22:50:56.629Z"
   },
   {
    "duration": 10,
    "start_time": "2024-05-24T22:51:06.575Z"
   },
   {
    "duration": 1247,
    "start_time": "2024-05-24T22:51:06.936Z"
   },
   {
    "duration": 11,
    "start_time": "2024-05-24T22:51:14.251Z"
   },
   {
    "duration": 1325,
    "start_time": "2024-05-24T22:51:14.449Z"
   },
   {
    "duration": 10,
    "start_time": "2024-05-24T22:51:42.199Z"
   },
   {
    "duration": 1168,
    "start_time": "2024-05-24T22:51:42.402Z"
   },
   {
    "duration": 10,
    "start_time": "2024-05-24T22:52:04.258Z"
   },
   {
    "duration": 1297,
    "start_time": "2024-05-24T22:52:04.473Z"
   },
   {
    "duration": 11,
    "start_time": "2024-05-24T22:52:21.533Z"
   },
   {
    "duration": 1248,
    "start_time": "2024-05-24T22:52:21.743Z"
   },
   {
    "duration": 12,
    "start_time": "2024-05-24T22:53:03.680Z"
   },
   {
    "duration": 1322,
    "start_time": "2024-05-24T22:53:03.884Z"
   },
   {
    "duration": 10,
    "start_time": "2024-05-24T22:53:13.314Z"
   },
   {
    "duration": 1188,
    "start_time": "2024-05-24T22:53:13.594Z"
   },
   {
    "duration": 11,
    "start_time": "2024-05-24T22:54:40.566Z"
   },
   {
    "duration": 1336,
    "start_time": "2024-05-24T22:54:40.938Z"
   },
   {
    "duration": 11,
    "start_time": "2024-05-24T22:55:02.305Z"
   },
   {
    "duration": 1264,
    "start_time": "2024-05-24T22:55:02.525Z"
   },
   {
    "duration": 10,
    "start_time": "2024-05-24T22:55:17.970Z"
   },
   {
    "duration": 1315,
    "start_time": "2024-05-24T22:55:18.150Z"
   },
   {
    "duration": 4773,
    "start_time": "2024-05-24T22:55:34.359Z"
   },
   {
    "duration": 6,
    "start_time": "2024-05-24T22:55:39.134Z"
   },
   {
    "duration": 27,
    "start_time": "2024-05-24T22:55:39.142Z"
   },
   {
    "duration": 14,
    "start_time": "2024-05-24T22:55:39.171Z"
   },
   {
    "duration": 13,
    "start_time": "2024-05-24T22:55:39.187Z"
   },
   {
    "duration": 16,
    "start_time": "2024-05-24T22:55:39.202Z"
   },
   {
    "duration": 16,
    "start_time": "2024-05-24T22:55:39.220Z"
   },
   {
    "duration": 12,
    "start_time": "2024-05-24T22:55:39.238Z"
   },
   {
    "duration": 24,
    "start_time": "2024-05-24T22:55:39.251Z"
   },
   {
    "duration": 28,
    "start_time": "2024-05-24T22:55:39.278Z"
   },
   {
    "duration": 183,
    "start_time": "2024-05-24T22:55:39.308Z"
   },
   {
    "duration": 147,
    "start_time": "2024-05-24T22:55:39.493Z"
   },
   {
    "duration": 156,
    "start_time": "2024-05-24T22:55:39.642Z"
   },
   {
    "duration": 2651,
    "start_time": "2024-05-24T22:55:39.801Z"
   },
   {
    "duration": 13,
    "start_time": "2024-05-24T22:55:42.453Z"
   },
   {
    "duration": 393,
    "start_time": "2024-05-24T22:55:42.467Z"
   },
   {
    "duration": 276,
    "start_time": "2024-05-24T22:55:42.862Z"
   },
   {
    "duration": 53,
    "start_time": "2024-05-24T22:55:43.140Z"
   },
   {
    "duration": 3,
    "start_time": "2024-05-24T22:55:43.195Z"
   },
   {
    "duration": 30,
    "start_time": "2024-05-24T22:55:43.200Z"
   },
   {
    "duration": 45,
    "start_time": "2024-05-24T22:55:43.232Z"
   },
   {
    "duration": 4571,
    "start_time": "2024-05-24T22:55:43.279Z"
   },
   {
    "duration": 7940,
    "start_time": "2024-05-24T22:55:47.852Z"
   },
   {
    "duration": 888,
    "start_time": "2024-05-24T22:55:55.794Z"
   },
   {
    "duration": 251,
    "start_time": "2024-05-24T22:55:56.684Z"
   },
   {
    "duration": 11,
    "start_time": "2024-05-24T22:55:56.937Z"
   },
   {
    "duration": 49,
    "start_time": "2024-05-24T22:55:56.950Z"
   },
   {
    "duration": 72,
    "start_time": "2024-05-24T22:55:57.003Z"
   },
   {
    "duration": 688,
    "start_time": "2024-05-24T22:55:57.076Z"
   },
   {
    "duration": 69,
    "start_time": "2024-05-24T22:55:57.766Z"
   },
   {
    "duration": 4228,
    "start_time": "2024-05-24T22:55:57.837Z"
   },
   {
    "duration": 3995,
    "start_time": "2024-05-24T22:56:02.067Z"
   },
   {
    "duration": 6,
    "start_time": "2024-05-24T22:56:06.064Z"
   },
   {
    "duration": 30974,
    "start_time": "2024-05-24T22:56:06.072Z"
   },
   {
    "duration": 31026,
    "start_time": "2024-05-24T22:56:37.048Z"
   },
   {
    "duration": 30593,
    "start_time": "2024-05-24T22:57:08.075Z"
   },
   {
    "duration": 3,
    "start_time": "2024-05-24T22:57:38.670Z"
   },
   {
    "duration": 19,
    "start_time": "2024-05-24T22:57:38.674Z"
   },
   {
    "duration": 4891,
    "start_time": "2024-05-24T22:57:38.695Z"
   },
   {
    "duration": 1253,
    "start_time": "2024-05-24T22:57:43.587Z"
   },
   {
    "duration": 4,
    "start_time": "2024-05-24T22:57:44.841Z"
   },
   {
    "duration": 1818,
    "start_time": "2024-05-24T22:57:44.847Z"
   },
   {
    "duration": 3,
    "start_time": "2024-05-24T22:57:46.666Z"
   },
   {
    "duration": 23,
    "start_time": "2024-05-24T22:57:46.671Z"
   },
   {
    "duration": 406,
    "start_time": "2024-05-24T22:57:46.696Z"
   },
   {
    "duration": 1229,
    "start_time": "2024-05-24T22:57:47.104Z"
   },
   {
    "duration": 1898,
    "start_time": "2024-05-24T22:57:48.335Z"
   },
   {
    "duration": 6521,
    "start_time": "2024-05-24T22:57:50.234Z"
   },
   {
    "duration": 5,
    "start_time": "2024-05-24T22:57:56.757Z"
   },
   {
    "duration": 410,
    "start_time": "2024-05-24T22:57:56.764Z"
   },
   {
    "duration": 5,
    "start_time": "2024-05-24T22:57:57.176Z"
   },
   {
    "duration": 1264,
    "start_time": "2024-05-24T22:57:57.191Z"
   },
   {
    "duration": 2068,
    "start_time": "2024-05-24T22:57:58.456Z"
   },
   {
    "duration": 6534,
    "start_time": "2024-05-24T22:58:00.526Z"
   },
   {
    "duration": 414,
    "start_time": "2024-05-24T22:58:07.062Z"
   },
   {
    "duration": 14,
    "start_time": "2024-05-24T22:58:07.478Z"
   },
   {
    "duration": 6804,
    "start_time": "2024-05-24T22:58:51.728Z"
   },
   {
    "duration": 6547,
    "start_time": "2024-05-24T22:59:31.979Z"
   },
   {
    "duration": 6,
    "start_time": "2024-05-24T23:02:38.304Z"
   },
   {
    "duration": 11,
    "start_time": "2024-05-24T23:10:46.041Z"
   },
   {
    "duration": 10,
    "start_time": "2024-05-24T23:11:08.715Z"
   },
   {
    "duration": 4547,
    "start_time": "2024-05-24T23:14:50.506Z"
   },
   {
    "duration": 6,
    "start_time": "2024-05-24T23:14:55.056Z"
   },
   {
    "duration": 17,
    "start_time": "2024-05-24T23:14:55.064Z"
   },
   {
    "duration": 21,
    "start_time": "2024-05-24T23:14:55.083Z"
   },
   {
    "duration": 17,
    "start_time": "2024-05-24T23:14:55.105Z"
   },
   {
    "duration": 14,
    "start_time": "2024-05-24T23:14:55.123Z"
   },
   {
    "duration": 31,
    "start_time": "2024-05-24T23:14:55.138Z"
   },
   {
    "duration": 24,
    "start_time": "2024-05-24T23:14:55.171Z"
   },
   {
    "duration": 11,
    "start_time": "2024-05-24T23:14:55.197Z"
   },
   {
    "duration": 11,
    "start_time": "2024-05-24T23:14:55.211Z"
   },
   {
    "duration": 188,
    "start_time": "2024-05-24T23:14:55.224Z"
   },
   {
    "duration": 149,
    "start_time": "2024-05-24T23:14:55.414Z"
   },
   {
    "duration": 166,
    "start_time": "2024-05-24T23:14:55.565Z"
   },
   {
    "duration": 2550,
    "start_time": "2024-05-24T23:14:55.733Z"
   },
   {
    "duration": 18,
    "start_time": "2024-05-24T23:14:58.285Z"
   },
   {
    "duration": 393,
    "start_time": "2024-05-24T23:14:58.304Z"
   },
   {
    "duration": 275,
    "start_time": "2024-05-24T23:14:58.699Z"
   },
   {
    "duration": 46,
    "start_time": "2024-05-24T23:14:58.975Z"
   },
   {
    "duration": 2,
    "start_time": "2024-05-24T23:14:59.023Z"
   },
   {
    "duration": 8,
    "start_time": "2024-05-24T23:14:59.027Z"
   },
   {
    "duration": 16,
    "start_time": "2024-05-24T23:14:59.037Z"
   },
   {
    "duration": 4396,
    "start_time": "2024-05-24T23:14:59.054Z"
   },
   {
    "duration": 7450,
    "start_time": "2024-05-24T23:15:03.451Z"
   },
   {
    "duration": 848,
    "start_time": "2024-05-24T23:15:10.904Z"
   },
   {
    "duration": 249,
    "start_time": "2024-05-24T23:15:11.754Z"
   },
   {
    "duration": 10,
    "start_time": "2024-05-24T23:15:12.005Z"
   },
   {
    "duration": 19,
    "start_time": "2024-05-24T23:15:12.017Z"
   },
   {
    "duration": 64,
    "start_time": "2024-05-24T23:15:12.040Z"
   },
   {
    "duration": 626,
    "start_time": "2024-05-24T23:15:12.106Z"
   },
   {
    "duration": 58,
    "start_time": "2024-05-24T23:15:12.733Z"
   },
   {
    "duration": 4073,
    "start_time": "2024-05-24T23:15:12.793Z"
   },
   {
    "duration": 3997,
    "start_time": "2024-05-24T23:15:16.867Z"
   },
   {
    "duration": 6,
    "start_time": "2024-05-24T23:15:20.865Z"
   },
   {
    "duration": 30882,
    "start_time": "2024-05-24T23:15:20.873Z"
   },
   {
    "duration": 31584,
    "start_time": "2024-05-24T23:15:51.757Z"
   },
   {
    "duration": 31121,
    "start_time": "2024-05-24T23:16:23.342Z"
   },
   {
    "duration": 4,
    "start_time": "2024-05-24T23:16:54.465Z"
   },
   {
    "duration": 22,
    "start_time": "2024-05-24T23:16:54.470Z"
   },
   {
    "duration": 4938,
    "start_time": "2024-05-24T23:16:54.493Z"
   },
   {
    "duration": 1301,
    "start_time": "2024-05-24T23:16:59.433Z"
   },
   {
    "duration": 5,
    "start_time": "2024-05-24T23:17:00.735Z"
   },
   {
    "duration": 2027,
    "start_time": "2024-05-24T23:17:00.741Z"
   },
   {
    "duration": 4,
    "start_time": "2024-05-24T23:17:02.770Z"
   },
   {
    "duration": 16,
    "start_time": "2024-05-24T23:17:02.775Z"
   },
   {
    "duration": 400,
    "start_time": "2024-05-24T23:17:02.793Z"
   },
   {
    "duration": 1277,
    "start_time": "2024-05-24T23:17:03.195Z"
   },
   {
    "duration": 1868,
    "start_time": "2024-05-24T23:17:04.473Z"
   },
   {
    "duration": 6737,
    "start_time": "2024-05-24T23:17:06.343Z"
   },
   {
    "duration": 12,
    "start_time": "2024-05-24T23:17:13.082Z"
   },
   {
    "duration": 382,
    "start_time": "2024-05-24T23:17:13.096Z"
   },
   {
    "duration": 1259,
    "start_time": "2024-05-24T23:17:13.480Z"
   },
   {
    "duration": 1864,
    "start_time": "2024-05-24T23:17:14.740Z"
   },
   {
    "duration": 6565,
    "start_time": "2024-05-24T23:17:16.606Z"
   },
   {
    "duration": 6,
    "start_time": "2024-05-24T23:17:23.173Z"
   },
   {
    "duration": 392,
    "start_time": "2024-05-24T23:17:23.192Z"
   },
   {
    "duration": 463,
    "start_time": "2024-05-24T23:26:32.383Z"
   },
   {
    "duration": 11,
    "start_time": "2024-05-24T23:26:41.115Z"
   },
   {
    "duration": 3874,
    "start_time": "2024-05-24T23:26:48.711Z"
   },
   {
    "duration": 3195,
    "start_time": "2024-05-24T23:27:05.391Z"
   },
   {
    "duration": 2628,
    "start_time": "2024-05-24T23:27:53.290Z"
   },
   {
    "duration": 3853,
    "start_time": "2024-05-24T23:28:24.067Z"
   },
   {
    "duration": 4784,
    "start_time": "2024-05-24T23:28:31.146Z"
   },
   {
    "duration": 7,
    "start_time": "2024-05-24T23:28:35.932Z"
   },
   {
    "duration": 17,
    "start_time": "2024-05-24T23:28:35.940Z"
   },
   {
    "duration": 6,
    "start_time": "2024-05-24T23:28:35.959Z"
   },
   {
    "duration": 8,
    "start_time": "2024-05-24T23:28:35.967Z"
   },
   {
    "duration": 4,
    "start_time": "2024-05-24T23:28:35.976Z"
   },
   {
    "duration": 5,
    "start_time": "2024-05-24T23:28:35.982Z"
   },
   {
    "duration": 8,
    "start_time": "2024-05-24T23:28:35.988Z"
   },
   {
    "duration": 4,
    "start_time": "2024-05-24T23:28:35.997Z"
   },
   {
    "duration": 11,
    "start_time": "2024-05-24T23:28:36.004Z"
   },
   {
    "duration": 625,
    "start_time": "2024-05-24T23:28:36.017Z"
   },
   {
    "duration": 541,
    "start_time": "2024-05-24T23:28:36.644Z"
   },
   {
    "duration": 562,
    "start_time": "2024-05-24T23:28:37.186Z"
   },
   {
    "duration": 2562,
    "start_time": "2024-05-24T23:28:37.750Z"
   },
   {
    "duration": 12,
    "start_time": "2024-05-24T23:28:40.314Z"
   },
   {
    "duration": 394,
    "start_time": "2024-05-24T23:28:40.328Z"
   },
   {
    "duration": 286,
    "start_time": "2024-05-24T23:28:40.724Z"
   },
   {
    "duration": 3213,
    "start_time": "2024-05-24T23:28:41.012Z"
   },
   {
    "duration": 168,
    "start_time": "2024-05-24T23:28:44.226Z"
   },
   {
    "duration": 3,
    "start_time": "2024-05-24T23:28:44.395Z"
   },
   {
    "duration": 13,
    "start_time": "2024-05-24T23:28:44.399Z"
   },
   {
    "duration": 11,
    "start_time": "2024-05-24T23:28:44.414Z"
   },
   {
    "duration": 3944,
    "start_time": "2024-05-24T23:28:44.427Z"
   },
   {
    "duration": 7719,
    "start_time": "2024-05-24T23:28:48.372Z"
   },
   {
    "duration": 737,
    "start_time": "2024-05-24T23:28:56.096Z"
   },
   {
    "duration": 241,
    "start_time": "2024-05-24T23:28:56.834Z"
   },
   {
    "duration": 15,
    "start_time": "2024-05-24T23:28:57.077Z"
   },
   {
    "duration": 6,
    "start_time": "2024-05-24T23:28:57.097Z"
   },
   {
    "duration": 57,
    "start_time": "2024-05-24T23:28:57.105Z"
   },
   {
    "duration": 719,
    "start_time": "2024-05-24T23:28:57.163Z"
   },
   {
    "duration": 60,
    "start_time": "2024-05-24T23:28:57.884Z"
   },
   {
    "duration": 3914,
    "start_time": "2024-05-24T23:28:57.945Z"
   },
   {
    "duration": 3995,
    "start_time": "2024-05-24T23:29:01.861Z"
   },
   {
    "duration": 112,
    "start_time": "2024-05-24T23:29:05.858Z"
   },
   {
    "duration": 30959,
    "start_time": "2024-05-24T23:29:05.971Z"
   },
   {
    "duration": 31614,
    "start_time": "2024-05-24T23:29:36.931Z"
   },
   {
    "duration": 30795,
    "start_time": "2024-05-24T23:30:08.547Z"
   },
   {
    "duration": 3,
    "start_time": "2024-05-24T23:30:39.343Z"
   },
   {
    "duration": 17,
    "start_time": "2024-05-24T23:30:39.348Z"
   },
   {
    "duration": 4916,
    "start_time": "2024-05-24T23:30:39.367Z"
   },
   {
    "duration": 1257,
    "start_time": "2024-05-24T23:30:44.285Z"
   },
   {
    "duration": 4,
    "start_time": "2024-05-24T23:30:45.544Z"
   },
   {
    "duration": 1914,
    "start_time": "2024-05-24T23:30:45.550Z"
   },
   {
    "duration": 5,
    "start_time": "2024-05-24T23:30:47.466Z"
   },
   {
    "duration": 26,
    "start_time": "2024-05-24T23:30:47.473Z"
   },
   {
    "duration": 468,
    "start_time": "2024-05-24T23:30:47.501Z"
   },
   {
    "duration": 1250,
    "start_time": "2024-05-24T23:30:47.970Z"
   },
   {
    "duration": 1896,
    "start_time": "2024-05-24T23:30:49.222Z"
   },
   {
    "duration": 6698,
    "start_time": "2024-05-24T23:30:51.120Z"
   },
   {
    "duration": 8,
    "start_time": "2024-05-24T23:30:57.819Z"
   },
   {
    "duration": 427,
    "start_time": "2024-05-24T23:30:57.828Z"
   },
   {
    "duration": 1202,
    "start_time": "2024-05-24T23:30:58.257Z"
   },
   {
    "duration": 1983,
    "start_time": "2024-05-24T23:30:59.460Z"
   },
   {
    "duration": 6881,
    "start_time": "2024-05-24T23:31:01.445Z"
   },
   {
    "duration": 7,
    "start_time": "2024-05-24T23:31:08.328Z"
   },
   {
    "duration": 448,
    "start_time": "2024-05-24T23:31:08.336Z"
   },
   {
    "duration": 4461,
    "start_time": "2024-05-24T23:51:31.191Z"
   },
   {
    "duration": 6,
    "start_time": "2024-05-24T23:51:35.654Z"
   },
   {
    "duration": 19,
    "start_time": "2024-05-24T23:51:35.661Z"
   },
   {
    "duration": 12,
    "start_time": "2024-05-24T23:51:35.682Z"
   },
   {
    "duration": 9,
    "start_time": "2024-05-24T23:51:35.695Z"
   },
   {
    "duration": 6,
    "start_time": "2024-05-24T23:51:35.705Z"
   },
   {
    "duration": 13,
    "start_time": "2024-05-24T23:51:35.712Z"
   },
   {
    "duration": 20,
    "start_time": "2024-05-24T23:51:35.726Z"
   },
   {
    "duration": 7,
    "start_time": "2024-05-24T23:51:35.748Z"
   },
   {
    "duration": 10,
    "start_time": "2024-05-24T23:51:35.757Z"
   },
   {
    "duration": 220,
    "start_time": "2024-05-24T23:51:35.768Z"
   },
   {
    "duration": 155,
    "start_time": "2024-05-24T23:51:35.991Z"
   },
   {
    "duration": 171,
    "start_time": "2024-05-24T23:51:36.148Z"
   },
   {
    "duration": 2563,
    "start_time": "2024-05-24T23:51:36.321Z"
   },
   {
    "duration": 15,
    "start_time": "2024-05-24T23:51:38.886Z"
   },
   {
    "duration": 410,
    "start_time": "2024-05-24T23:51:38.902Z"
   },
   {
    "duration": 277,
    "start_time": "2024-05-24T23:51:39.314Z"
   },
   {
    "duration": 41,
    "start_time": "2024-05-24T23:51:39.593Z"
   },
   {
    "duration": 2,
    "start_time": "2024-05-24T23:51:39.636Z"
   },
   {
    "duration": 6,
    "start_time": "2024-05-24T23:51:39.640Z"
   },
   {
    "duration": 8,
    "start_time": "2024-05-24T23:51:39.647Z"
   },
   {
    "duration": 4599,
    "start_time": "2024-05-24T23:51:39.657Z"
   },
   {
    "duration": 7941,
    "start_time": "2024-05-24T23:51:44.258Z"
   },
   {
    "duration": 890,
    "start_time": "2024-05-24T23:51:52.201Z"
   },
   {
    "duration": 260,
    "start_time": "2024-05-24T23:51:53.093Z"
   },
   {
    "duration": 10,
    "start_time": "2024-05-24T23:51:53.354Z"
   },
   {
    "duration": 25,
    "start_time": "2024-05-24T23:51:53.366Z"
   },
   {
    "duration": 57,
    "start_time": "2024-05-24T23:51:53.396Z"
   },
   {
    "duration": 709,
    "start_time": "2024-05-24T23:51:53.454Z"
   },
   {
    "duration": 68,
    "start_time": "2024-05-24T23:51:54.165Z"
   },
   {
    "duration": 3921,
    "start_time": "2024-05-24T23:51:54.235Z"
   },
   {
    "duration": 4218,
    "start_time": "2024-05-24T23:51:58.158Z"
   },
   {
    "duration": 6,
    "start_time": "2024-05-24T23:52:02.378Z"
   },
   {
    "duration": 32035,
    "start_time": "2024-05-24T23:52:02.385Z"
   },
   {
    "duration": 31189,
    "start_time": "2024-05-24T23:52:34.421Z"
   },
   {
    "duration": 31379,
    "start_time": "2024-05-24T23:53:05.612Z"
   },
   {
    "duration": 3,
    "start_time": "2024-05-24T23:53:36.993Z"
   },
   {
    "duration": 17,
    "start_time": "2024-05-24T23:53:36.998Z"
   },
   {
    "duration": 5063,
    "start_time": "2024-05-24T23:53:37.016Z"
   },
   {
    "duration": 1286,
    "start_time": "2024-05-24T23:53:42.081Z"
   },
   {
    "duration": 4,
    "start_time": "2024-05-24T23:53:43.368Z"
   },
   {
    "duration": 1915,
    "start_time": "2024-05-24T23:53:43.373Z"
   },
   {
    "duration": 4,
    "start_time": "2024-05-24T23:53:45.291Z"
   },
   {
    "duration": 16,
    "start_time": "2024-05-24T23:53:45.297Z"
   },
   {
    "duration": 432,
    "start_time": "2024-05-24T23:53:45.314Z"
   },
   {
    "duration": 1296,
    "start_time": "2024-05-24T23:53:45.748Z"
   },
   {
    "duration": 1896,
    "start_time": "2024-05-24T23:53:47.045Z"
   },
   {
    "duration": 6822,
    "start_time": "2024-05-24T23:53:48.942Z"
   },
   {
    "duration": 6,
    "start_time": "2024-05-24T23:53:55.765Z"
   },
   {
    "duration": 419,
    "start_time": "2024-05-24T23:53:55.772Z"
   },
   {
    "duration": 1255,
    "start_time": "2024-05-24T23:53:56.193Z"
   },
   {
    "duration": 1830,
    "start_time": "2024-05-24T23:53:57.450Z"
   },
   {
    "duration": 6834,
    "start_time": "2024-05-24T23:53:59.281Z"
   },
   {
    "duration": 7,
    "start_time": "2024-05-24T23:54:06.116Z"
   },
   {
    "duration": 433,
    "start_time": "2024-05-24T23:54:06.125Z"
   },
   {
    "duration": 4759,
    "start_time": "2024-05-25T00:00:53.896Z"
   },
   {
    "duration": 7,
    "start_time": "2024-05-25T00:00:58.657Z"
   },
   {
    "duration": 17,
    "start_time": "2024-05-25T00:00:58.665Z"
   },
   {
    "duration": 12,
    "start_time": "2024-05-25T00:00:58.684Z"
   },
   {
    "duration": 36,
    "start_time": "2024-05-25T00:00:58.697Z"
   },
   {
    "duration": 40,
    "start_time": "2024-05-25T00:00:58.735Z"
   },
   {
    "duration": 12,
    "start_time": "2024-05-25T00:00:58.777Z"
   },
   {
    "duration": 17,
    "start_time": "2024-05-25T00:00:58.791Z"
   },
   {
    "duration": 5,
    "start_time": "2024-05-25T00:00:58.810Z"
   },
   {
    "duration": 14,
    "start_time": "2024-05-25T00:00:58.819Z"
   },
   {
    "duration": 179,
    "start_time": "2024-05-25T00:00:58.835Z"
   },
   {
    "duration": 148,
    "start_time": "2024-05-25T00:00:59.015Z"
   },
   {
    "duration": 154,
    "start_time": "2024-05-25T00:00:59.164Z"
   },
   {
    "duration": 2782,
    "start_time": "2024-05-25T00:00:59.319Z"
   },
   {
    "duration": 13,
    "start_time": "2024-05-25T00:01:02.102Z"
   },
   {
    "duration": 390,
    "start_time": "2024-05-25T00:01:02.117Z"
   },
   {
    "duration": 282,
    "start_time": "2024-05-25T00:01:02.509Z"
   },
   {
    "duration": 43,
    "start_time": "2024-05-25T00:01:02.793Z"
   },
   {
    "duration": 3,
    "start_time": "2024-05-25T00:01:02.838Z"
   },
   {
    "duration": 6,
    "start_time": "2024-05-25T00:01:02.843Z"
   },
   {
    "duration": 22,
    "start_time": "2024-05-25T00:01:02.850Z"
   },
   {
    "duration": 4468,
    "start_time": "2024-05-25T00:01:02.874Z"
   },
   {
    "duration": 8062,
    "start_time": "2024-05-25T00:01:07.344Z"
   },
   {
    "duration": 857,
    "start_time": "2024-05-25T00:01:15.493Z"
   },
   {
    "duration": 255,
    "start_time": "2024-05-25T00:01:16.351Z"
   },
   {
    "duration": 10,
    "start_time": "2024-05-25T00:01:16.607Z"
   },
   {
    "duration": 20,
    "start_time": "2024-05-25T00:01:16.618Z"
   },
   {
    "duration": 64,
    "start_time": "2024-05-25T00:01:16.642Z"
   },
   {
    "duration": 644,
    "start_time": "2024-05-25T00:01:16.707Z"
   },
   {
    "duration": 66,
    "start_time": "2024-05-25T00:01:17.353Z"
   },
   {
    "duration": 4032,
    "start_time": "2024-05-25T00:01:17.420Z"
   },
   {
    "duration": 4010,
    "start_time": "2024-05-25T00:01:21.454Z"
   },
   {
    "duration": 6,
    "start_time": "2024-05-25T00:01:25.465Z"
   },
   {
    "duration": 31184,
    "start_time": "2024-05-25T00:01:25.473Z"
   },
   {
    "duration": 31727,
    "start_time": "2024-05-25T00:01:56.658Z"
   },
   {
    "duration": 30978,
    "start_time": "2024-05-25T00:02:28.387Z"
   },
   {
    "duration": 4,
    "start_time": "2024-05-25T00:02:59.366Z"
   },
   {
    "duration": 9,
    "start_time": "2024-05-25T00:02:59.371Z"
   },
   {
    "duration": 5039,
    "start_time": "2024-05-25T00:02:59.381Z"
   },
   {
    "duration": 1261,
    "start_time": "2024-05-25T00:03:04.421Z"
   },
   {
    "duration": 7,
    "start_time": "2024-05-25T00:03:05.684Z"
   },
   {
    "duration": 1791,
    "start_time": "2024-05-25T00:03:05.692Z"
   },
   {
    "duration": 8,
    "start_time": "2024-05-25T00:03:07.485Z"
   },
   {
    "duration": 11,
    "start_time": "2024-05-25T00:03:07.494Z"
   },
   {
    "duration": 486,
    "start_time": "2024-05-25T00:03:07.507Z"
   },
   {
    "duration": 1270,
    "start_time": "2024-05-25T00:03:07.995Z"
   },
   {
    "duration": 1885,
    "start_time": "2024-05-25T00:03:09.267Z"
   },
   {
    "duration": 6669,
    "start_time": "2024-05-25T00:03:11.153Z"
   },
   {
    "duration": 7,
    "start_time": "2024-05-25T00:03:17.824Z"
   },
   {
    "duration": 440,
    "start_time": "2024-05-25T00:03:17.833Z"
   },
   {
    "duration": 1282,
    "start_time": "2024-05-25T00:03:18.274Z"
   },
   {
    "duration": 1912,
    "start_time": "2024-05-25T00:03:19.557Z"
   },
   {
    "duration": 6766,
    "start_time": "2024-05-25T00:03:21.470Z"
   },
   {
    "duration": 7,
    "start_time": "2024-05-25T00:03:28.238Z"
   },
   {
    "duration": 439,
    "start_time": "2024-05-25T00:03:28.246Z"
   },
   {
    "duration": 8482,
    "start_time": "2024-05-26T09:19:01.472Z"
   },
   {
    "duration": 6,
    "start_time": "2024-05-26T09:19:09.956Z"
   },
   {
    "duration": 8,
    "start_time": "2024-05-26T09:19:09.963Z"
   },
   {
    "duration": 6,
    "start_time": "2024-05-26T09:19:09.972Z"
   },
   {
    "duration": 3,
    "start_time": "2024-05-26T09:19:09.979Z"
   },
   {
    "duration": 6,
    "start_time": "2024-05-26T09:19:09.983Z"
   },
   {
    "duration": 9,
    "start_time": "2024-05-26T09:19:09.990Z"
   },
   {
    "duration": 4,
    "start_time": "2024-05-26T09:19:10.000Z"
   },
   {
    "duration": 5,
    "start_time": "2024-05-26T09:19:10.005Z"
   },
   {
    "duration": 10,
    "start_time": "2024-05-26T09:19:10.012Z"
   },
   {
    "duration": 231,
    "start_time": "2024-05-26T09:19:10.023Z"
   },
   {
    "duration": 195,
    "start_time": "2024-05-26T09:19:10.255Z"
   },
   {
    "duration": 200,
    "start_time": "2024-05-26T09:19:10.452Z"
   },
   {
    "duration": 2103,
    "start_time": "2024-05-26T09:19:10.653Z"
   },
   {
    "duration": 14,
    "start_time": "2024-05-26T09:19:12.757Z"
   },
   {
    "duration": 337,
    "start_time": "2024-05-26T09:19:12.772Z"
   },
   {
    "duration": 236,
    "start_time": "2024-05-26T09:19:13.114Z"
   },
   {
    "duration": 34,
    "start_time": "2024-05-26T09:19:13.352Z"
   },
   {
    "duration": 3,
    "start_time": "2024-05-26T09:19:13.388Z"
   },
   {
    "duration": 21,
    "start_time": "2024-05-26T09:19:13.392Z"
   },
   {
    "duration": 11,
    "start_time": "2024-05-26T09:19:13.414Z"
   },
   {
    "duration": 4033,
    "start_time": "2024-05-26T09:19:13.426Z"
   },
   {
    "duration": 6858,
    "start_time": "2024-05-26T09:19:17.461Z"
   },
   {
    "duration": 730,
    "start_time": "2024-05-26T09:19:24.321Z"
   },
   {
    "duration": 241,
    "start_time": "2024-05-26T09:19:25.053Z"
   },
   {
    "duration": 8,
    "start_time": "2024-05-26T09:19:25.296Z"
   },
   {
    "duration": 10,
    "start_time": "2024-05-26T09:19:25.305Z"
   },
   {
    "duration": 49,
    "start_time": "2024-05-26T09:19:25.318Z"
   },
   {
    "duration": 671,
    "start_time": "2024-05-26T09:19:25.369Z"
   },
   {
    "duration": 45,
    "start_time": "2024-05-26T09:19:26.041Z"
   },
   {
    "duration": 3056,
    "start_time": "2024-05-26T09:19:26.087Z"
   },
   {
    "duration": 3110,
    "start_time": "2024-05-26T09:19:29.144Z"
   },
   {
    "duration": 5,
    "start_time": "2024-05-26T09:19:32.256Z"
   },
   {
    "duration": 28778,
    "start_time": "2024-05-26T09:19:32.263Z"
   },
   {
    "duration": 27953,
    "start_time": "2024-05-26T09:20:01.043Z"
   },
   {
    "duration": 27819,
    "start_time": "2024-05-26T09:20:28.998Z"
   },
   {
    "duration": 3,
    "start_time": "2024-05-26T09:20:56.818Z"
   },
   {
    "duration": 41,
    "start_time": "2024-05-26T09:20:56.823Z"
   },
   {
    "duration": 3892,
    "start_time": "2024-05-26T09:20:56.866Z"
   },
   {
    "duration": 1029,
    "start_time": "2024-05-26T09:21:00.759Z"
   },
   {
    "duration": 4,
    "start_time": "2024-05-26T09:21:01.789Z"
   },
   {
    "duration": 1581,
    "start_time": "2024-05-26T09:21:01.794Z"
   },
   {
    "duration": 3,
    "start_time": "2024-05-26T09:21:03.377Z"
   },
   {
    "duration": 13,
    "start_time": "2024-05-26T09:21:03.382Z"
   },
   {
    "duration": 482,
    "start_time": "2024-05-26T09:21:03.396Z"
   },
   {
    "duration": 1018,
    "start_time": "2024-05-26T09:21:03.880Z"
   },
   {
    "duration": 1558,
    "start_time": "2024-05-26T09:21:04.900Z"
   },
   {
    "duration": 5497,
    "start_time": "2024-05-26T09:21:06.459Z"
   },
   {
    "duration": 5,
    "start_time": "2024-05-26T09:21:11.957Z"
   },
   {
    "duration": 411,
    "start_time": "2024-05-26T09:21:11.963Z"
   },
   {
    "duration": 1012,
    "start_time": "2024-05-26T09:21:12.375Z"
   },
   {
    "duration": 1514,
    "start_time": "2024-05-26T09:21:13.389Z"
   },
   {
    "duration": 5424,
    "start_time": "2024-05-26T09:21:14.904Z"
   },
   {
    "duration": 5,
    "start_time": "2024-05-26T09:21:20.330Z"
   },
   {
    "duration": 371,
    "start_time": "2024-05-26T09:21:20.337Z"
   },
   {
    "duration": 6,
    "start_time": "2024-05-26T09:23:08.937Z"
   },
   {
    "duration": 3,
    "start_time": "2024-05-26T09:23:24.679Z"
   },
   {
    "duration": 6,
    "start_time": "2024-05-26T09:23:59.081Z"
   },
   {
    "duration": 6,
    "start_time": "2024-05-26T09:24:05.027Z"
   },
   {
    "duration": 6,
    "start_time": "2024-05-26T09:24:27.376Z"
   },
   {
    "duration": 4,
    "start_time": "2024-05-26T09:24:42.011Z"
   },
   {
    "duration": 5,
    "start_time": "2024-05-26T09:25:08.680Z"
   },
   {
    "duration": 4,
    "start_time": "2024-05-26T09:25:19.835Z"
   },
   {
    "duration": 4,
    "start_time": "2024-05-26T09:25:39.513Z"
   },
   {
    "duration": 3,
    "start_time": "2024-05-26T09:26:20.586Z"
   },
   {
    "duration": 4,
    "start_time": "2024-05-26T09:26:31.061Z"
   },
   {
    "duration": 5,
    "start_time": "2024-05-26T09:26:42.754Z"
   },
   {
    "duration": 4,
    "start_time": "2024-05-26T09:26:48.662Z"
   },
   {
    "duration": 5,
    "start_time": "2024-05-26T09:26:54.534Z"
   },
   {
    "duration": 4,
    "start_time": "2024-05-26T09:27:00.314Z"
   },
   {
    "duration": 4,
    "start_time": "2024-05-26T09:28:25.127Z"
   },
   {
    "duration": 4,
    "start_time": "2024-05-26T09:29:43.904Z"
   },
   {
    "duration": 4,
    "start_time": "2024-05-26T09:30:49.529Z"
   },
   {
    "duration": 3,
    "start_time": "2024-05-26T09:32:19.404Z"
   },
   {
    "duration": 4,
    "start_time": "2024-05-26T09:32:52.661Z"
   },
   {
    "duration": 3,
    "start_time": "2024-05-26T09:33:03.974Z"
   },
   {
    "duration": 4,
    "start_time": "2024-05-26T09:33:06.583Z"
   },
   {
    "duration": 4,
    "start_time": "2024-05-26T09:46:46.888Z"
   },
   {
    "duration": 4,
    "start_time": "2024-05-26T09:47:09.612Z"
   },
   {
    "duration": 5,
    "start_time": "2024-05-26T09:47:20.768Z"
   },
   {
    "duration": 5,
    "start_time": "2024-05-26T09:47:38.063Z"
   },
   {
    "duration": 3,
    "start_time": "2024-05-26T09:48:16.172Z"
   },
   {
    "duration": 10,
    "start_time": "2024-05-26T09:52:54.753Z"
   },
   {
    "duration": 405,
    "start_time": "2024-05-26T09:53:01.065Z"
   },
   {
    "duration": 461,
    "start_time": "2024-05-26T09:53:11.471Z"
   },
   {
    "duration": 412,
    "start_time": "2024-05-26T09:53:51.563Z"
   },
   {
    "duration": 10,
    "start_time": "2024-05-26T10:04:10.548Z"
   },
   {
    "duration": 6843,
    "start_time": "2024-05-26T10:04:51.171Z"
   },
   {
    "duration": 6,
    "start_time": "2024-05-26T10:04:58.016Z"
   },
   {
    "duration": 17,
    "start_time": "2024-05-26T10:04:58.023Z"
   },
   {
    "duration": 5,
    "start_time": "2024-05-26T10:04:58.042Z"
   },
   {
    "duration": 3,
    "start_time": "2024-05-26T10:04:58.048Z"
   },
   {
    "duration": 4,
    "start_time": "2024-05-26T10:04:58.052Z"
   },
   {
    "duration": 9,
    "start_time": "2024-05-26T10:04:58.057Z"
   },
   {
    "duration": 3,
    "start_time": "2024-05-26T10:04:58.112Z"
   },
   {
    "duration": 15,
    "start_time": "2024-05-26T10:04:58.116Z"
   },
   {
    "duration": 10,
    "start_time": "2024-05-26T10:04:58.133Z"
   },
   {
    "duration": 300,
    "start_time": "2024-05-26T10:04:58.144Z"
   },
   {
    "duration": 193,
    "start_time": "2024-05-26T10:04:58.445Z"
   },
   {
    "duration": 290,
    "start_time": "2024-05-26T10:04:58.639Z"
   },
   {
    "duration": 2700,
    "start_time": "2024-05-26T10:04:58.930Z"
   },
   {
    "duration": 10,
    "start_time": "2024-05-26T10:05:01.632Z"
   },
   {
    "duration": 345,
    "start_time": "2024-05-26T10:05:01.644Z"
   },
   {
    "duration": 249,
    "start_time": "2024-05-26T10:05:01.990Z"
   },
   {
    "duration": 36,
    "start_time": "2024-05-26T10:05:02.241Z"
   },
   {
    "duration": 3,
    "start_time": "2024-05-26T10:05:02.278Z"
   },
   {
    "duration": 7,
    "start_time": "2024-05-26T10:05:02.282Z"
   },
   {
    "duration": 6,
    "start_time": "2024-05-26T10:05:02.290Z"
   },
   {
    "duration": 3830,
    "start_time": "2024-05-26T10:05:02.312Z"
   },
   {
    "duration": 7171,
    "start_time": "2024-05-26T10:05:06.143Z"
   },
   {
    "duration": 809,
    "start_time": "2024-05-26T10:05:13.316Z"
   },
   {
    "duration": 235,
    "start_time": "2024-05-26T10:05:14.127Z"
   },
   {
    "duration": 8,
    "start_time": "2024-05-26T10:05:14.364Z"
   },
   {
    "duration": 26,
    "start_time": "2024-05-26T10:05:14.374Z"
   },
   {
    "duration": 45,
    "start_time": "2024-05-26T10:05:14.403Z"
   },
   {
    "duration": 621,
    "start_time": "2024-05-26T10:05:14.449Z"
   },
   {
    "duration": 49,
    "start_time": "2024-05-26T10:05:15.071Z"
   },
   {
    "duration": 3224,
    "start_time": "2024-05-26T10:05:15.122Z"
   },
   {
    "duration": 3197,
    "start_time": "2024-05-26T10:05:18.347Z"
   },
   {
    "duration": 5,
    "start_time": "2024-05-26T10:05:21.546Z"
   },
   {
    "duration": 26902,
    "start_time": "2024-05-26T10:05:21.552Z"
   },
   {
    "duration": 26773,
    "start_time": "2024-05-26T10:05:48.455Z"
   },
   {
    "duration": 26940,
    "start_time": "2024-05-26T10:06:15.229Z"
   },
   {
    "duration": 3,
    "start_time": "2024-05-26T10:06:42.171Z"
   },
   {
    "duration": 7,
    "start_time": "2024-05-26T10:06:42.175Z"
   },
   {
    "duration": 3966,
    "start_time": "2024-05-26T10:06:42.184Z"
   },
   {
    "duration": 1012,
    "start_time": "2024-05-26T10:06:46.151Z"
   },
   {
    "duration": 3,
    "start_time": "2024-05-26T10:06:47.164Z"
   },
   {
    "duration": 1507,
    "start_time": "2024-05-26T10:06:47.169Z"
   },
   {
    "duration": 4,
    "start_time": "2024-05-26T10:06:48.677Z"
   },
   {
    "duration": 5,
    "start_time": "2024-05-26T10:06:48.682Z"
   },
   {
    "duration": 359,
    "start_time": "2024-05-26T10:06:48.688Z"
   },
   {
    "duration": 0,
    "start_time": "2024-05-26T10:06:49.048Z"
   },
   {
    "duration": 0,
    "start_time": "2024-05-26T10:06:49.050Z"
   },
   {
    "duration": 0,
    "start_time": "2024-05-26T10:06:49.051Z"
   },
   {
    "duration": 0,
    "start_time": "2024-05-26T10:06:49.052Z"
   },
   {
    "duration": 0,
    "start_time": "2024-05-26T10:06:49.053Z"
   },
   {
    "duration": 0,
    "start_time": "2024-05-26T10:06:49.054Z"
   },
   {
    "duration": 0,
    "start_time": "2024-05-26T10:06:49.055Z"
   },
   {
    "duration": 0,
    "start_time": "2024-05-26T10:06:49.056Z"
   },
   {
    "duration": 1,
    "start_time": "2024-05-26T10:06:49.056Z"
   },
   {
    "duration": 0,
    "start_time": "2024-05-26T10:06:49.057Z"
   },
   {
    "duration": 11,
    "start_time": "2024-05-26T10:09:58.966Z"
   },
   {
    "duration": 384,
    "start_time": "2024-05-26T10:10:10.300Z"
   },
   {
    "duration": 10,
    "start_time": "2024-05-26T10:10:58.286Z"
   },
   {
    "duration": 404,
    "start_time": "2024-05-26T10:11:17.356Z"
   },
   {
    "duration": 379,
    "start_time": "2024-05-26T10:13:28.800Z"
   },
   {
    "duration": 10,
    "start_time": "2024-05-26T10:13:49.424Z"
   },
   {
    "duration": 434,
    "start_time": "2024-05-26T10:14:02.442Z"
   },
   {
    "duration": 378,
    "start_time": "2024-05-26T10:15:58.605Z"
   },
   {
    "duration": 991,
    "start_time": "2024-05-26T10:16:08.325Z"
   },
   {
    "duration": 1492,
    "start_time": "2024-05-26T10:16:09.317Z"
   },
   {
    "duration": 5438,
    "start_time": "2024-05-26T10:16:13.130Z"
   },
   {
    "duration": 5,
    "start_time": "2024-05-26T10:16:18.570Z"
   },
   {
    "duration": 414,
    "start_time": "2024-05-26T10:16:18.577Z"
   },
   {
    "duration": 1033,
    "start_time": "2024-05-26T10:16:18.993Z"
   },
   {
    "duration": 1538,
    "start_time": "2024-05-26T10:16:20.028Z"
   },
   {
    "duration": 5319,
    "start_time": "2024-05-26T10:16:21.568Z"
   },
   {
    "duration": 5,
    "start_time": "2024-05-26T10:16:26.888Z"
   },
   {
    "duration": 389,
    "start_time": "2024-05-26T10:16:26.895Z"
   },
   {
    "duration": 987,
    "start_time": "2024-05-26T10:16:38.692Z"
   },
   {
    "duration": 5475,
    "start_time": "2024-05-26T10:16:41.822Z"
   },
   {
    "duration": 5,
    "start_time": "2024-05-26T10:16:47.298Z"
   },
   {
    "duration": 375,
    "start_time": "2024-05-26T10:16:47.312Z"
   },
   {
    "duration": 1001,
    "start_time": "2024-05-26T10:17:02.418Z"
   },
   {
    "duration": 4,
    "start_time": "2024-05-26T10:17:03.420Z"
   },
   {
    "duration": 9,
    "start_time": "2024-05-26T10:17:03.425Z"
   },
   {
    "duration": 381,
    "start_time": "2024-05-26T10:17:03.896Z"
   },
   {
    "duration": 1003,
    "start_time": "2024-05-26T10:17:17.961Z"
   },
   {
    "duration": 1499,
    "start_time": "2024-05-26T10:17:18.966Z"
   },
   {
    "duration": 986,
    "start_time": "2024-05-26T10:17:23.726Z"
   },
   {
    "duration": 5409,
    "start_time": "2024-05-26T10:17:24.714Z"
   },
   {
    "duration": 5,
    "start_time": "2024-05-26T10:17:30.125Z"
   },
   {
    "duration": 416,
    "start_time": "2024-05-26T10:17:30.131Z"
   },
   {
    "duration": 4685,
    "start_time": "2024-05-26T10:33:18.579Z"
   },
   {
    "duration": 5,
    "start_time": "2024-05-26T10:33:23.267Z"
   },
   {
    "duration": 5,
    "start_time": "2024-05-26T10:33:23.274Z"
   },
   {
    "duration": 9,
    "start_time": "2024-05-26T10:33:23.281Z"
   },
   {
    "duration": 4,
    "start_time": "2024-05-26T10:33:23.291Z"
   },
   {
    "duration": 4,
    "start_time": "2024-05-26T10:33:23.296Z"
   },
   {
    "duration": 4,
    "start_time": "2024-05-26T10:33:23.302Z"
   },
   {
    "duration": 3,
    "start_time": "2024-05-26T10:33:23.307Z"
   },
   {
    "duration": 3,
    "start_time": "2024-05-26T10:33:23.312Z"
   },
   {
    "duration": 10,
    "start_time": "2024-05-26T10:33:23.318Z"
   },
   {
    "duration": 154,
    "start_time": "2024-05-26T10:33:23.330Z"
   },
   {
    "duration": 153,
    "start_time": "2024-05-26T10:33:23.486Z"
   },
   {
    "duration": 138,
    "start_time": "2024-05-26T10:33:23.641Z"
   },
   {
    "duration": 2123,
    "start_time": "2024-05-26T10:33:23.780Z"
   },
   {
    "duration": 13,
    "start_time": "2024-05-26T10:33:25.905Z"
   },
   {
    "duration": 336,
    "start_time": "2024-05-26T10:33:25.922Z"
   },
   {
    "duration": 242,
    "start_time": "2024-05-26T10:33:26.260Z"
   },
   {
    "duration": 41,
    "start_time": "2024-05-26T10:33:26.503Z"
   },
   {
    "duration": 2,
    "start_time": "2024-05-26T10:33:26.546Z"
   },
   {
    "duration": 23,
    "start_time": "2024-05-26T10:33:26.549Z"
   },
   {
    "duration": 25,
    "start_time": "2024-05-26T10:33:26.574Z"
   },
   {
    "duration": 3743,
    "start_time": "2024-05-26T10:33:26.601Z"
   },
   {
    "duration": 6669,
    "start_time": "2024-05-26T10:33:30.346Z"
   },
   {
    "duration": 820,
    "start_time": "2024-05-26T10:33:37.017Z"
   },
   {
    "duration": 224,
    "start_time": "2024-05-26T10:33:37.838Z"
   },
   {
    "duration": 8,
    "start_time": "2024-05-26T10:33:38.064Z"
   },
   {
    "duration": 6,
    "start_time": "2024-05-26T10:33:38.073Z"
   },
   {
    "duration": 71,
    "start_time": "2024-05-26T10:33:38.082Z"
   },
   {
    "duration": 590,
    "start_time": "2024-05-26T10:33:38.155Z"
   },
   {
    "duration": 45,
    "start_time": "2024-05-26T10:33:38.746Z"
   },
   {
    "duration": 3142,
    "start_time": "2024-05-26T10:33:38.792Z"
   },
   {
    "duration": 3133,
    "start_time": "2024-05-26T10:33:41.935Z"
   },
   {
    "duration": 6,
    "start_time": "2024-05-26T10:33:45.069Z"
   },
   {
    "duration": 27240,
    "start_time": "2024-05-26T10:33:45.077Z"
   },
   {
    "duration": 26926,
    "start_time": "2024-05-26T10:34:12.319Z"
   },
   {
    "duration": 28579,
    "start_time": "2024-05-26T10:34:39.247Z"
   },
   {
    "duration": 3,
    "start_time": "2024-05-26T10:35:07.827Z"
   },
   {
    "duration": 19,
    "start_time": "2024-05-26T10:35:07.831Z"
   },
   {
    "duration": 4036,
    "start_time": "2024-05-26T10:35:07.852Z"
   },
   {
    "duration": 1105,
    "start_time": "2024-05-26T10:35:11.889Z"
   },
   {
    "duration": 137,
    "start_time": "2024-05-26T10:35:12.996Z"
   },
   {
    "duration": 0,
    "start_time": "2024-05-26T10:35:13.135Z"
   },
   {
    "duration": 0,
    "start_time": "2024-05-26T10:35:13.136Z"
   },
   {
    "duration": 0,
    "start_time": "2024-05-26T10:35:13.137Z"
   },
   {
    "duration": 0,
    "start_time": "2024-05-26T10:35:13.138Z"
   },
   {
    "duration": 0,
    "start_time": "2024-05-26T10:35:13.139Z"
   },
   {
    "duration": 0,
    "start_time": "2024-05-26T10:35:13.140Z"
   },
   {
    "duration": 0,
    "start_time": "2024-05-26T10:35:13.141Z"
   },
   {
    "duration": 0,
    "start_time": "2024-05-26T10:35:13.142Z"
   },
   {
    "duration": 4439,
    "start_time": "2024-05-26T10:35:27.048Z"
   },
   {
    "duration": 6,
    "start_time": "2024-05-26T10:35:31.489Z"
   },
   {
    "duration": 13,
    "start_time": "2024-05-26T10:35:31.496Z"
   },
   {
    "duration": 6,
    "start_time": "2024-05-26T10:35:31.510Z"
   },
   {
    "duration": 7,
    "start_time": "2024-05-26T10:35:31.517Z"
   },
   {
    "duration": 4,
    "start_time": "2024-05-26T10:35:31.525Z"
   },
   {
    "duration": 5,
    "start_time": "2024-05-26T10:35:31.531Z"
   },
   {
    "duration": 15,
    "start_time": "2024-05-26T10:35:31.537Z"
   },
   {
    "duration": 5,
    "start_time": "2024-05-26T10:35:31.553Z"
   },
   {
    "duration": 10,
    "start_time": "2024-05-26T10:35:31.561Z"
   },
   {
    "duration": 206,
    "start_time": "2024-05-26T10:35:31.573Z"
   },
   {
    "duration": 131,
    "start_time": "2024-05-26T10:35:31.781Z"
   },
   {
    "duration": 132,
    "start_time": "2024-05-26T10:35:31.913Z"
   },
   {
    "duration": 2170,
    "start_time": "2024-05-26T10:35:32.046Z"
   },
   {
    "duration": 13,
    "start_time": "2024-05-26T10:35:34.217Z"
   },
   {
    "duration": 341,
    "start_time": "2024-05-26T10:35:34.231Z"
   },
   {
    "duration": 252,
    "start_time": "2024-05-26T10:35:34.573Z"
   },
   {
    "duration": 35,
    "start_time": "2024-05-26T10:35:34.826Z"
   },
   {
    "duration": 2,
    "start_time": "2024-05-26T10:35:34.863Z"
   },
   {
    "duration": 25,
    "start_time": "2024-05-26T10:35:34.866Z"
   },
   {
    "duration": 3,
    "start_time": "2024-05-26T10:35:34.893Z"
   },
   {
    "duration": 3837,
    "start_time": "2024-05-26T10:35:34.898Z"
   },
   {
    "duration": 6985,
    "start_time": "2024-05-26T10:35:38.737Z"
   },
   {
    "duration": 749,
    "start_time": "2024-05-26T10:35:45.812Z"
   },
   {
    "duration": 226,
    "start_time": "2024-05-26T10:35:46.562Z"
   },
   {
    "duration": 8,
    "start_time": "2024-05-26T10:35:46.790Z"
   },
   {
    "duration": 13,
    "start_time": "2024-05-26T10:35:46.799Z"
   },
   {
    "duration": 46,
    "start_time": "2024-05-26T10:35:46.815Z"
   },
   {
    "duration": 681,
    "start_time": "2024-05-26T10:35:46.862Z"
   },
   {
    "duration": 56,
    "start_time": "2024-05-26T10:35:47.544Z"
   },
   {
    "duration": 3255,
    "start_time": "2024-05-26T10:35:47.603Z"
   },
   {
    "duration": 3091,
    "start_time": "2024-05-26T10:35:50.860Z"
   },
   {
    "duration": 5,
    "start_time": "2024-05-26T10:35:53.952Z"
   },
   {
    "duration": 27004,
    "start_time": "2024-05-26T10:35:53.958Z"
   },
   {
    "duration": 27115,
    "start_time": "2024-05-26T10:36:20.964Z"
   },
   {
    "duration": 26866,
    "start_time": "2024-05-26T10:36:48.081Z"
   },
   {
    "duration": 3,
    "start_time": "2024-05-26T10:37:14.948Z"
   },
   {
    "duration": 8,
    "start_time": "2024-05-26T10:37:14.952Z"
   },
   {
    "duration": 3918,
    "start_time": "2024-05-26T10:37:14.961Z"
   },
   {
    "duration": 1016,
    "start_time": "2024-05-26T10:37:18.881Z"
   },
   {
    "duration": 4,
    "start_time": "2024-05-26T10:37:19.898Z"
   },
   {
    "duration": 11,
    "start_time": "2024-05-26T10:37:19.903Z"
   },
   {
    "duration": 375,
    "start_time": "2024-05-26T10:37:19.915Z"
   },
   {
    "duration": 997,
    "start_time": "2024-05-26T10:37:20.291Z"
   },
   {
    "duration": 5,
    "start_time": "2024-05-26T10:37:21.289Z"
   },
   {
    "duration": 387,
    "start_time": "2024-05-26T10:37:21.295Z"
   },
   {
    "duration": 1008,
    "start_time": "2024-05-26T10:37:21.683Z"
   },
   {
    "duration": 4,
    "start_time": "2024-05-26T10:37:22.692Z"
   },
   {
    "duration": 386,
    "start_time": "2024-05-26T10:37:22.698Z"
   },
   {
    "duration": 4527,
    "start_time": "2024-05-26T10:46:41.473Z"
   },
   {
    "duration": 5,
    "start_time": "2024-05-26T10:46:46.002Z"
   },
   {
    "duration": 18,
    "start_time": "2024-05-26T10:46:46.009Z"
   },
   {
    "duration": 7,
    "start_time": "2024-05-26T10:46:46.029Z"
   },
   {
    "duration": 3,
    "start_time": "2024-05-26T10:46:46.037Z"
   },
   {
    "duration": 5,
    "start_time": "2024-05-26T10:46:46.041Z"
   },
   {
    "duration": 4,
    "start_time": "2024-05-26T10:46:46.047Z"
   },
   {
    "duration": 2,
    "start_time": "2024-05-26T10:46:46.053Z"
   },
   {
    "duration": 4,
    "start_time": "2024-05-26T10:46:46.057Z"
   },
   {
    "duration": 10,
    "start_time": "2024-05-26T10:46:46.064Z"
   },
   {
    "duration": 161,
    "start_time": "2024-05-26T10:46:46.075Z"
   },
   {
    "duration": 127,
    "start_time": "2024-05-26T10:46:46.237Z"
   },
   {
    "duration": 131,
    "start_time": "2024-05-26T10:46:46.365Z"
   },
   {
    "duration": 2139,
    "start_time": "2024-05-26T10:46:46.497Z"
   },
   {
    "duration": 11,
    "start_time": "2024-05-26T10:46:48.638Z"
   },
   {
    "duration": 344,
    "start_time": "2024-05-26T10:46:48.651Z"
   },
   {
    "duration": 256,
    "start_time": "2024-05-26T10:46:48.996Z"
   },
   {
    "duration": 35,
    "start_time": "2024-05-26T10:46:49.253Z"
   },
   {
    "duration": 3,
    "start_time": "2024-05-26T10:46:49.289Z"
   },
   {
    "duration": 18,
    "start_time": "2024-05-26T10:46:49.294Z"
   },
   {
    "duration": 5,
    "start_time": "2024-05-26T10:46:49.314Z"
   },
   {
    "duration": 4013,
    "start_time": "2024-05-26T10:46:49.320Z"
   },
   {
    "duration": 6889,
    "start_time": "2024-05-26T10:46:53.335Z"
   },
   {
    "duration": 878,
    "start_time": "2024-05-26T10:47:00.226Z"
   },
   {
    "duration": 231,
    "start_time": "2024-05-26T10:47:01.113Z"
   },
   {
    "duration": 8,
    "start_time": "2024-05-26T10:47:01.345Z"
   },
   {
    "duration": 7,
    "start_time": "2024-05-26T10:47:01.355Z"
   },
   {
    "duration": 68,
    "start_time": "2024-05-26T10:47:01.365Z"
   },
   {
    "duration": 619,
    "start_time": "2024-05-26T10:47:01.435Z"
   },
   {
    "duration": 46,
    "start_time": "2024-05-26T10:47:02.056Z"
   },
   {
    "duration": 3243,
    "start_time": "2024-05-26T10:47:02.103Z"
   },
   {
    "duration": 2994,
    "start_time": "2024-05-26T10:47:05.348Z"
   },
   {
    "duration": 5,
    "start_time": "2024-05-26T10:47:08.344Z"
   },
   {
    "duration": 26953,
    "start_time": "2024-05-26T10:47:08.351Z"
   },
   {
    "duration": 27586,
    "start_time": "2024-05-26T10:47:35.306Z"
   },
   {
    "duration": 27146,
    "start_time": "2024-05-26T10:48:02.893Z"
   },
   {
    "duration": 3,
    "start_time": "2024-05-26T10:48:30.041Z"
   },
   {
    "duration": 54,
    "start_time": "2024-05-26T10:48:30.045Z"
   },
   {
    "duration": 4023,
    "start_time": "2024-05-26T10:48:30.101Z"
   },
   {
    "duration": 1036,
    "start_time": "2024-05-26T10:48:34.126Z"
   },
   {
    "duration": 4,
    "start_time": "2024-05-26T10:48:35.163Z"
   },
   {
    "duration": 8,
    "start_time": "2024-05-26T10:48:35.168Z"
   },
   {
    "duration": 405,
    "start_time": "2024-05-26T10:48:35.178Z"
   },
   {
    "duration": 1046,
    "start_time": "2024-05-26T10:48:35.585Z"
   },
   {
    "duration": 4,
    "start_time": "2024-05-26T10:48:36.633Z"
   },
   {
    "duration": 372,
    "start_time": "2024-05-26T10:48:36.639Z"
   },
   {
    "duration": 1026,
    "start_time": "2024-05-26T10:48:37.012Z"
   },
   {
    "duration": 6,
    "start_time": "2024-05-26T10:48:38.040Z"
   },
   {
    "duration": 423,
    "start_time": "2024-05-26T10:48:38.048Z"
   }
  ],
  "kernelspec": {
   "display_name": "Python 3 (ipykernel)",
   "language": "python",
   "name": "python3"
  },
  "language_info": {
   "codemirror_mode": {
    "name": "ipython",
    "version": 3
   },
   "file_extension": ".py",
   "mimetype": "text/x-python",
   "name": "python",
   "nbconvert_exporter": "python",
   "pygments_lexer": "ipython3",
   "version": "3.10.10"
  },
  "toc": {
   "base_numbering": 1,
   "nav_menu": {
    "height": "133px",
    "width": "200px"
   },
   "number_sections": true,
   "sideBar": true,
   "skip_h1_title": true,
   "title_cell": "Содержание",
   "title_sidebar": "Contents",
   "toc_cell": true,
   "toc_position": {
    "height": "calc(100% - 180px)",
    "left": "10px",
    "top": "150px",
    "width": "384px"
   },
   "toc_section_display": true,
   "toc_window_display": false
  }
 },
 "nbformat": 4,
 "nbformat_minor": 4
}
