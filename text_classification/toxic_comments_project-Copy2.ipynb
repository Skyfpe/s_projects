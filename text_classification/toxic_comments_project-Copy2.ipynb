{
 "cells": [
  {
   "cell_type": "markdown",
   "id": "87895804",
   "metadata": {},
   "source": [
    "# Проект для интернет-магазина с BERT"
   ]
  },
  {
   "cell_type": "markdown",
   "id": "6f1e3937",
   "metadata": {},
   "source": [
    "Наш заказчик интернет-магазин запускает новый сервис. Теперь пользователи могут редактировать и дополнять описания товаров, как в вики-сообществах. То есть клиенты предлагают свои правки и комментируют изменения других. Магазину нужен инструмент, который будет искать токсичные комментарии и отправлять их на модерацию. \n",
    "\n",
    "**Задача:** Обучить модель классифицировать комментарии на позитивные и негативные. В нашем распоряжении набор данных с разметкой о токсичности правок.\n",
    "\n",
    "**Целевая метрика:** *F1* не меньше 0.75\n",
    "\n",
    "**Краткий план по выполнению проекта**\n",
    "\n",
    "1. Загрузить и подготовить данные.\n",
    "2. Провести исследовательский анализ.\n",
    "3. Векторизовать тексты с помощью модели BERT.\n",
    "4. Обучить разные модели классификации.\n",
    "5. Выбрать лучшую модель.\n",
    "6. Сделать выводы.\n",
    "\n",
    "**Описание данных**\n",
    "\n",
    "Данные находятся в файле `toxic_comments.csv`. Столбец *text* в нём содержит текст комментария, а *toxic* — целевой признак.\n",
    "\n",
    "<h1>Содержание<span class=\"tocSkip\"></span></h1>\n",
    "<div class=\"toc\"><ul class=\"toc-item\"><li><span><a href=\"#Подготовка\" data-toc-modified-id=\"Подготовка-1\"><span class=\"toc-item-num\">1&nbsp;&nbsp;</span>Подготовка</a></span></li><li><span><a href=\"#Обучение\" data-toc-modified-id=\"Обучение-2\"><span class=\"toc-item-num\">2&nbsp;&nbsp;</span>Обучение</a></span></li><li><span><a href=\"#Выводы\" data-toc-modified-id=\"Выводы-3\"><span class=\"toc-item-num\">3&nbsp;&nbsp;</span>Выводы</a>"
   ]
  },
  {
   "cell_type": "code",
   "execution_count": 1,
   "id": "933202b8",
   "metadata": {},
   "outputs": [
    {
     "data": {
      "text/html": [
       "<style>.container { width:70% !important; }</style>"
      ],
      "text/plain": [
       "<IPython.core.display.HTML object>"
      ]
     },
     "metadata": {},
     "output_type": "display_data"
    }
   ],
   "source": [
    "from IPython.display import display, HTML\n",
    "display(HTML(\"<style>.container { width:70% !important; }</style>\"))"
   ]
  },
  {
   "cell_type": "markdown",
   "id": "449c4753",
   "metadata": {},
   "source": [
    "## Импорты и константы"
   ]
  },
  {
   "cell_type": "code",
   "execution_count": 2,
   "id": "0a5a21be",
   "metadata": {},
   "outputs": [],
   "source": [
    "import re\n",
    "import numpy as np\n",
    "import pandas as pd\n",
    "import matplotlib.pyplot as plt\n",
    "import tqdm\n",
    "from tqdm import notebook\n",
    "import time\n",
    "\n",
    "from sklearn.model_selection import train_test_split, GridSearchCV\n",
    "from sklearn.pipeline import Pipeline\n",
    "from sklearn.svm import LinearSVC\n",
    "from sklearn.linear_model import LogisticRegression\n",
    "from sklearn.tree import DecisionTreeClassifier\n",
    "from sklearn.metrics import f1_score\n",
    "\n",
    "import transformers\n",
    "import torch\n",
    "\n",
    "device = torch.device('cuda:0' if torch.cuda.is_available() else 'cpu')\n",
    "\n",
    "RANDOM_STATE = 17\n",
    "test_size = 0.25"
   ]
  },
  {
   "cell_type": "markdown",
   "id": "75631551",
   "metadata": {},
   "source": [
    "## Функции для проекта"
   ]
  },
  {
   "cell_type": "markdown",
   "id": "2eb0c119",
   "metadata": {},
   "source": [
    "<img src=\"https://emojigraph.org/media/apple/check-mark-button_2705.png\" align=left width=33, heigth=33>\n",
    "<div class=\"alert alert-success\"><font size=\"3\">\n",
    "    <b>комментарий ревьюера</b></font>\n",
    "    \n",
    "У меня очень неоднозначное отношение к выносу всех функций в начало. С одной стороны это логично и соответствует логике того, как python код оформляется за пределами  ноутбуков (при разработке на python).\n",
    "    \n",
    "С другой стороны это существенно усложняет понимание проекта. Например функция лемматизации у тебя спрятана в этом  разделе а применяется где-то по середине.\n",
    "    \n",
    "Поэтому для себя я нашел следующее решение:\n",
    "    \n",
    " - если функция не несет в себе что-то критически важное для понимания проекта, она техническая, сервисная - то давай вынесем её в начало работы, чтобы \"не мешала\".\n",
    " - а вот если функция критически важна для нашего проекта, несет в себе важную логику (например лемматизация или поиск по сетке) то лучше расположить её ближе к коду, в соответствующем разделе.\n",
    "    \n",
    "    \n",
    "    \n",
    " </div>"
   ]
  },
  {
   "cell_type": "markdown",
   "id": "988ba93c",
   "metadata": {},
   "source": [
    "<img src=\"https://upload.wikimedia.org/wikipedia/commons/b/ba/Warning_sign_4.0.png\" align=left width=44, heigth=33>\n",
    "<div class=\"alert alert-warning\">\n",
    "    <b>комментарий ревьюера</b>\n",
    "    \n",
    "Тут есть еще один момент: функция получилась слишком сложная. Тут и токенизация и вычисление эмбеддингов и всё это в цикле и модели обучаются....\n",
    "\n",
    "Переиспользовать эту функцию врядли получится, слишком она специфична. Поэтому очень советую разделить её на простые задачи  и под каждую задачу написать отдельную функцию. Совершенно точно я бы отделил логику с получением эмбеддингов.\n",
    "\n",
    "\n",
    "\n",
    "</div>"
   ]
  },
  {
   "cell_type": "markdown",
   "id": "f6ec17ba",
   "metadata": {},
   "source": [
    "<div class=\"alert\" style=\"background-color:#ead7f7;color:#8737bf\">\n",
    "    <font size=\"3\"><b>комментарий студента</b></font>\n",
    "   \n",
    "Понял, исправил. Функцию разбил на несколько и перенес поближе к месту действия.\n",
    "\n",
    "</div>"
   ]
  },
  {
   "cell_type": "markdown",
   "id": "286d1290",
   "metadata": {},
   "source": [
    "<img src=\"https://emojigraph.org/media/apple/check-mark-button_2705.png\" align=left width=33, heigth=33>\n",
    "<div class=\"alert alert-success\">\n",
    "    <b>комментарий ревьюера v2</b>\n",
    "    \n",
    "🙏 </div>"
   ]
  },
  {
   "cell_type": "markdown",
   "id": "6eaa4c16",
   "metadata": {},
   "source": [
    "## 1. Подготовка"
   ]
  },
  {
   "cell_type": "markdown",
   "id": "f4f19790",
   "metadata": {},
   "source": [
    "Загружаем датасет с комментариями, смотрим, с чем нам придется работать."
   ]
  },
  {
   "cell_type": "code",
   "execution_count": 3,
   "id": "81dc0472",
   "metadata": {},
   "outputs": [
    {
     "data": {
      "text/html": [
       "<div>\n",
       "<style scoped>\n",
       "    .dataframe tbody tr th:only-of-type {\n",
       "        vertical-align: middle;\n",
       "    }\n",
       "\n",
       "    .dataframe tbody tr th {\n",
       "        vertical-align: top;\n",
       "    }\n",
       "\n",
       "    .dataframe thead th {\n",
       "        text-align: right;\n",
       "    }\n",
       "</style>\n",
       "<table border=\"1\" class=\"dataframe\">\n",
       "  <thead>\n",
       "    <tr style=\"text-align: right;\">\n",
       "      <th></th>\n",
       "      <th>text</th>\n",
       "      <th>toxic</th>\n",
       "    </tr>\n",
       "  </thead>\n",
       "  <tbody>\n",
       "    <tr>\n",
       "      <th>1349</th>\n",
       "      <td>\"\\n\\n FA article \\n\\nPlease refrain from repeatedly adding the unsourced assertion that you are the only legal IP holder to Firearms. Not only is it incorrect, it is against our policies on no original research, verifiability, and conflict of interest. You've been warned before about it, further insertion of the material will result in blocks.SWATJester Son of the Defender \"</td>\n",
       "      <td>0</td>\n",
       "    </tr>\n",
       "    <tr>\n",
       "      <th>42630</th>\n",
       "      <td>\"\\nI agree with Jaakobu. I replaced the lead because I could not find one article where someone tried to hide another transliteration later in the article, and after reviewing the page history I can only conclude that there is some goal to create a weight in one direction or the other by those seeking the removal of the transliteration. I too would like to see some sourcing for the hand-waving claim that \"\"it is an arabic word\"\" over and over again. Just because you repeat a claim over and over does not make it so, that is merely Proof by assertion.\"</td>\n",
       "      <td>0</td>\n",
       "    </tr>\n",
       "    <tr>\n",
       "      <th>149949</th>\n",
       "      <td>Are you sure \\nBecause I got it from the Soviet Abkhazia page. I trust you, but that is what was found on that page, I though it would be useful. That is why.</td>\n",
       "      <td>0</td>\n",
       "    </tr>\n",
       "    <tr>\n",
       "      <th>73013</th>\n",
       "      <td>Decimal - round numbers \\n\\nThe decimal section, claiming why decimal was/is so common says (among other reasons):\\na human comfort level with rounded figures and the ease it can express and calculate very large numbers\\nThis makes no sense.  ANY base will yield round numbers 10000 is 'round' in any base it just means different values in different bases.  And the ability to calculate very large numbers is a function of positional notation, not the paricular base chosen for it.  I've removed those two points. 164.144.252.26</td>\n",
       "      <td>0</td>\n",
       "    </tr>\n",
       "    <tr>\n",
       "      <th>7396</th>\n",
       "      <td>\"== Your edit to Ghost. ==\\n\\n[[subst:test1|Ghost}} |  Talk |  \"</td>\n",
       "      <td>0</td>\n",
       "    </tr>\n",
       "    <tr>\n",
       "      <th>156000</th>\n",
       "      <td>Indonesia's Muslim population looks wrong - 202mil. I doubt there are that many people there.</td>\n",
       "      <td>0</td>\n",
       "    </tr>\n",
       "    <tr>\n",
       "      <th>137917</th>\n",
       "      <td>I personally don't find so strange the theory about Martians. The people that exist somewhere at the arrival of the settlers can be natives in a relation with them. I don't agree with the use of the term for the articles you enumerated either</td>\n",
       "      <td>0</td>\n",
       "    </tr>\n",
       "    <tr>\n",
       "      <th>18996</th>\n",
       "      <td>I'm sorry, I checked Kings Canyon (Utah) and nothing showed up. So I changed it hoping that u've made a mistake by writing (Utah).\\nDako1 January 19 2010 1:29 (UTC)</td>\n",
       "      <td>0</td>\n",
       "    </tr>\n",
       "    <tr>\n",
       "      <th>39593</th>\n",
       "      <td>PS: And yes, hopefully we can meet some day under better and more pleasent circumstances. Take care</td>\n",
       "      <td>0</td>\n",
       "    </tr>\n",
       "    <tr>\n",
       "      <th>53274</th>\n",
       "      <td>Question about guardian angels\\nAccording to the wiki article on demonology, there are 133,306,668 demons and the bible says\\n1/3 of the angels fell from heaven and became demons.  Therefore, this would mean that there\\nare 266,613,336 good angels (i.e. 133,306,668 + 266,613,336 = 399,920,004 total good and bad\\nangels with the bad angels being 1/3 of 399,920,004)\\n\\nGiven that there are about 6 billion people on the earth currently, this would mean that\\na guardian angel would have to have more than one person he/she/it is responsible for.\\nI assume that God would not assign someone a demon to be his/her guardian angel, so this\\nmakes the number of possible guardian angels at maximum, 266,613,336.  Since the world\\npopulation is now 6,542,502,827 this would mean that each guardian angel would have to\\nbe assigned 24 to 25 people.\\n\\nDoes the above really sound reasonable to you guys?\\n\\nAlso, what did those 266 million guardian angels do when there was less than 266 million\\npeople on the earth? (The world population reached 266 million around the year 1000 or so)</td>\n",
       "      <td>0</td>\n",
       "    </tr>\n",
       "  </tbody>\n",
       "</table>\n",
       "</div>"
      ],
      "text/plain": [
       "                                                                                                                                                                                                                                                                                                                                                                                                                                                                                                                                                                                                                                                                                                                                                                                                                                                                                                                                                                                                                                                                                                                             text  \\\n",
       "1349                                                                                                                                                                                                                                                                                                                                                                                                                                                                                                                                                                                                                                                                                                                                    \"\\n\\n FA article \\n\\nPlease refrain from repeatedly adding the unsourced assertion that you are the only legal IP holder to Firearms. Not only is it incorrect, it is against our policies on no original research, verifiability, and conflict of interest. You've been warned before about it, further insertion of the material will result in blocks.SWATJester Son of the Defender \"   \n",
       "42630                                                                                                                                                                                                                                                                                                                                                                                                                                                                                                                                                \"\\nI agree with Jaakobu. I replaced the lead because I could not find one article where someone tried to hide another transliteration later in the article, and after reviewing the page history I can only conclude that there is some goal to create a weight in one direction or the other by those seeking the removal of the transliteration. I too would like to see some sourcing for the hand-waving claim that \"\"it is an arabic word\"\" over and over again. Just because you repeat a claim over and over does not make it so, that is merely Proof by assertion.\"   \n",
       "149949                                                                                                                                                                                                                                                                                                                                                                                                                                                                                                                                                                                                                                                                                                                                                                                                                                                                                                                                                             Are you sure \\nBecause I got it from the Soviet Abkhazia page. I trust you, but that is what was found on that page, I though it would be useful. That is why.   \n",
       "73013                                                                                                                                                                                                                                                                                                                                                                                                                                                                                                                                                                            Decimal - round numbers \\n\\nThe decimal section, claiming why decimal was/is so common says (among other reasons):\\na human comfort level with rounded figures and the ease it can express and calculate very large numbers\\nThis makes no sense.  ANY base will yield round numbers 10000 is 'round' in any base it just means different values in different bases.  And the ability to calculate very large numbers is a function of positional notation, not the paricular base chosen for it.  I've removed those two points. 164.144.252.26   \n",
       "7396                                                                                                                                                                                                                                                                                                                                                                                                                                                                                                                                                                                                                                                                                                                                                                                                                                                                                                                                                                                                                                                             \"== Your edit to Ghost. ==\\n\\n[[subst:test1|Ghost}} |  Talk |  \"   \n",
       "156000                                                                                                                                                                                                                                                                                                                                                                                                                                                                                                                                                                                                                                                                                                                                                                                                                                                                                                                                                                                                                              Indonesia's Muslim population looks wrong - 202mil. I doubt there are that many people there.   \n",
       "137917                                                                                                                                                                                                                                                                                                                                                                                                                                                                                                                                                                                                                                                                                                                                                                                                                                                                         I personally don't find so strange the theory about Martians. The people that exist somewhere at the arrival of the settlers can be natives in a relation with them. I don't agree with the use of the term for the articles you enumerated either   \n",
       "18996                                                                                                                                                                                                                                                                                                                                                                                                                                                                                                                                                                                                                                                                                                                                                                                                                                                                                                                                                        I'm sorry, I checked Kings Canyon (Utah) and nothing showed up. So I changed it hoping that u've made a mistake by writing (Utah).\\nDako1 January 19 2010 1:29 (UTC)   \n",
       "39593                                                                                                                                                                                                                                                                                                                                                                                                                                                                                                                                                                                                                                                                                                                                                                                                                                                                                                                                                                                                                         PS: And yes, hopefully we can meet some day under better and more pleasent circumstances. Take care   \n",
       "53274   Question about guardian angels\\nAccording to the wiki article on demonology, there are 133,306,668 demons and the bible says\\n1/3 of the angels fell from heaven and became demons.  Therefore, this would mean that there\\nare 266,613,336 good angels (i.e. 133,306,668 + 266,613,336 = 399,920,004 total good and bad\\nangels with the bad angels being 1/3 of 399,920,004)\\n\\nGiven that there are about 6 billion people on the earth currently, this would mean that\\na guardian angel would have to have more than one person he/she/it is responsible for.\\nI assume that God would not assign someone a demon to be his/her guardian angel, so this\\nmakes the number of possible guardian angels at maximum, 266,613,336.  Since the world\\npopulation is now 6,542,502,827 this would mean that each guardian angel would have to\\nbe assigned 24 to 25 people.\\n\\nDoes the above really sound reasonable to you guys?\\n\\nAlso, what did those 266 million guardian angels do when there was less than 266 million\\npeople on the earth? (The world population reached 266 million around the year 1000 or so)   \n",
       "\n",
       "        toxic  \n",
       "1349        0  \n",
       "42630       0  \n",
       "149949      0  \n",
       "73013       0  \n",
       "7396        0  \n",
       "156000      0  \n",
       "137917      0  \n",
       "18996       0  \n",
       "39593       0  \n",
       "53274       0  "
      ]
     },
     "metadata": {},
     "output_type": "display_data"
    },
    {
     "name": "stdout",
     "output_type": "stream",
     "text": [
      "<class 'pandas.core.frame.DataFrame'>\n",
      "RangeIndex: 159292 entries, 0 to 159291\n",
      "Data columns (total 2 columns):\n",
      " #   Column  Non-Null Count   Dtype \n",
      "---  ------  --------------   ----- \n",
      " 0   text    159292 non-null  object\n",
      " 1   toxic   159292 non-null  int64 \n",
      "dtypes: int64(1), object(1)\n",
      "memory usage: 2.4+ MB\n",
      "None\n"
     ]
    }
   ],
   "source": [
    "pd.set_option('max_colwidth', None)\n",
    "pd.options.mode.chained_assignment = None\n",
    "\n",
    "df = pd.read_csv(r'C:\\Users\\paul-\\Desktop\\text_project\\toxic_comments.csv').drop('Unnamed: 0', axis=1)\n",
    "\n",
    "display(df.sample(10, random_state=RANDOM_STATE))\n",
    "print(df.info())"
   ]
  },
  {
   "cell_type": "markdown",
   "id": "79890cf1",
   "metadata": {},
   "source": [
    "Всего датасет содержит 159292 строки, пропусков нет. В текстах содержится много цифр и ненужных символов, избавимся от них; лемматизировать слова, избавляться от точек, стоп-слов и апострофов не будем, поскольку в проекте задействуем языковую модель на основе BERT'а, которая сама отлично с этим справляется и от лишних действий может 'потерять' контекст."
   ]
  },
  {
   "cell_type": "code",
   "execution_count": 4,
   "id": "f6f3c653",
   "metadata": {},
   "outputs": [
    {
     "data": {
      "text/html": [
       "<div>\n",
       "<style scoped>\n",
       "    .dataframe tbody tr th:only-of-type {\n",
       "        vertical-align: middle;\n",
       "    }\n",
       "\n",
       "    .dataframe tbody tr th {\n",
       "        vertical-align: top;\n",
       "    }\n",
       "\n",
       "    .dataframe thead th {\n",
       "        text-align: right;\n",
       "    }\n",
       "</style>\n",
       "<table border=\"1\" class=\"dataframe\">\n",
       "  <thead>\n",
       "    <tr style=\"text-align: right;\">\n",
       "      <th></th>\n",
       "      <th>text</th>\n",
       "      <th>toxic</th>\n",
       "    </tr>\n",
       "  </thead>\n",
       "  <tbody>\n",
       "    <tr>\n",
       "      <th>1349</th>\n",
       "      <td>fa article   please refrain from repeatedly adding the unsourced assertion that you are the only legal ip holder to firearms. not only is it incorrect  it is against our policies on no original research  verifiability  and conflict of interest. you've been warned before about it  further insertion of the material will result in blocks.swatjester son of the defender</td>\n",
       "      <td>0</td>\n",
       "    </tr>\n",
       "    <tr>\n",
       "      <th>42630</th>\n",
       "      <td>i agree with jaakobu. i replaced the lead because i could not find one article where someone tried to hide another transliteration later in the article  and after reviewing the page history i can only conclude that there is some goal to create a weight in one direction or the other by those seeking the removal of the transliteration. i too would like to see some sourcing for the hand waving claim that   it is an arabic word   over and over again. just because you repeat a claim over and over does not make it so  that is merely proof by assertion.</td>\n",
       "      <td>0</td>\n",
       "    </tr>\n",
       "    <tr>\n",
       "      <th>149949</th>\n",
       "      <td>are you sure  because i got it from the soviet abkhazia page. i trust you  but that is what was found on that page  i though it would be useful. that is why.</td>\n",
       "      <td>0</td>\n",
       "    </tr>\n",
       "    <tr>\n",
       "      <th>73013</th>\n",
       "      <td>decimal   round numbers   the decimal section  claiming why decimal was is so common says  among other reasons   a human comfort level with rounded figures and the ease it can express and calculate very large numbers this makes no sense.  any base will yield round numbers       is 'round' in any base it just means different values in different bases.  and the ability to calculate very large numbers is a function of positional notation  not the paricular base chosen for it.  i've removed those two points.    .   .   .</td>\n",
       "      <td>0</td>\n",
       "    </tr>\n",
       "    <tr>\n",
       "      <th>7396</th>\n",
       "      <td>your edit to ghost.       subst test  ghost      talk</td>\n",
       "      <td>0</td>\n",
       "    </tr>\n",
       "    <tr>\n",
       "      <th>156000</th>\n",
       "      <td>indonesia's muslim population looks wrong      mil. i doubt there are that many people there.</td>\n",
       "      <td>0</td>\n",
       "    </tr>\n",
       "    <tr>\n",
       "      <th>137917</th>\n",
       "      <td>i personally don't find so strange the theory about martians. the people that exist somewhere at the arrival of the settlers can be natives in a relation with them. i don't agree with the use of the term for the articles you enumerated either</td>\n",
       "      <td>0</td>\n",
       "    </tr>\n",
       "    <tr>\n",
       "      <th>18996</th>\n",
       "      <td>i'm sorry  i checked kings canyon  utah  and nothing showed up. so i changed it hoping that u've made a mistake by writing  utah . dako  january               utc</td>\n",
       "      <td>0</td>\n",
       "    </tr>\n",
       "    <tr>\n",
       "      <th>39593</th>\n",
       "      <td>ps  and yes  hopefully we can meet some day under better and more pleasent circumstances. take care</td>\n",
       "      <td>0</td>\n",
       "    </tr>\n",
       "    <tr>\n",
       "      <th>53274</th>\n",
       "      <td>question about guardian angels according to the wiki article on demonology  there are             demons and the bible says     of the angels fell from heaven and became demons.  therefore  this would mean that there are             good angels  i.e.                                         total good and bad angels with the bad angels being     of               given that there are about   billion people on the earth currently  this would mean that a guardian angel would have to have more than one person he she it is responsible for. i assume that god would not assign someone a demon to be his her guardian angel  so this makes the number of possible guardian angels at maximum             .  since the world population is now               this would mean that each guardian angel would have to be assigned    to    people.  does the above really sound reasonable to you guys   also  what did those     million guardian angels do when there was less than     million people on the earth   the world population reached     million around the year      or so</td>\n",
       "      <td>0</td>\n",
       "    </tr>\n",
       "  </tbody>\n",
       "</table>\n",
       "</div>"
      ],
      "text/plain": [
       "                                                                                                                                                                                                                                                                                                                                                                                                                                                                                                                                                                                                                                                                                                                                                                                                                                                                                                                                                                                                                                                                                                             text  \\\n",
       "1349                                                                                                                                                                                                                                                                                                                                                                                                                                                                                                                                                                                                                                                                                                                            fa article   please refrain from repeatedly adding the unsourced assertion that you are the only legal ip holder to firearms. not only is it incorrect  it is against our policies on no original research  verifiability  and conflict of interest. you've been warned before about it  further insertion of the material will result in blocks.swatjester son of the defender     \n",
       "42630                                                                                                                                                                                                                                                                                                                                                                                                                                                                                                                                   i agree with jaakobu. i replaced the lead because i could not find one article where someone tried to hide another transliteration later in the article  and after reviewing the page history i can only conclude that there is some goal to create a weight in one direction or the other by those seeking the removal of the transliteration. i too would like to see some sourcing for the hand waving claim that   it is an arabic word   over and over again. just because you repeat a claim over and over does not make it so  that is merely proof by assertion.    \n",
       "149949                                                                                                                                                                                                                                                                                                                                                                                                                                                                                                                                                                                                                                                                                                                                                                                                                                                                                                                                              are you sure  because i got it from the soviet abkhazia page. i trust you  but that is what was found on that page  i though it would be useful. that is why.   \n",
       "73013                                                                                                                                                                                                                                                                                                                                                                                                                                                                                                                                                                decimal   round numbers   the decimal section  claiming why decimal was is so common says  among other reasons   a human comfort level with rounded figures and the ease it can express and calculate very large numbers this makes no sense.  any base will yield round numbers       is 'round' in any base it just means different values in different bases.  and the ability to calculate very large numbers is a function of positional notation  not the paricular base chosen for it.  i've removed those two points.    .   .   .     \n",
       "7396                                                                                                                                                                                                                                                                                                                                                                                                                                                                                                                                                                                                                                                                                                                                                                                                                                                                                                                                                                                                                                                   your edit to ghost.       subst test  ghost      talk        \n",
       "156000                                                                                                                                                                                                                                                                                                                                                                                                                                                                                                                                                                                                                                                                                                                                                                                                                                                                                                                                                                                                              indonesia's muslim population looks wrong      mil. i doubt there are that many people there.   \n",
       "137917                                                                                                                                                                                                                                                                                                                                                                                                                                                                                                                                                                                                                                                                                                                                                                                                                                                         i personally don't find so strange the theory about martians. the people that exist somewhere at the arrival of the settlers can be natives in a relation with them. i don't agree with the use of the term for the articles you enumerated either   \n",
       "18996                                                                                                                                                                                                                                                                                                                                                                                                                                                                                                                                                                                                                                                                                                                                                                                                                                                                                                                                         i'm sorry  i checked kings canyon  utah  and nothing showed up. so i changed it hoping that u've made a mistake by writing  utah . dako  january               utc    \n",
       "39593                                                                                                                                                                                                                                                                                                                                                                                                                                                                                                                                                                                                                                                                                                                                                                                                                                                                                                                                                                                                         ps  and yes  hopefully we can meet some day under better and more pleasent circumstances. take care   \n",
       "53274   question about guardian angels according to the wiki article on demonology  there are             demons and the bible says     of the angels fell from heaven and became demons.  therefore  this would mean that there are             good angels  i.e.                                         total good and bad angels with the bad angels being     of               given that there are about   billion people on the earth currently  this would mean that a guardian angel would have to have more than one person he she it is responsible for. i assume that god would not assign someone a demon to be his her guardian angel  so this makes the number of possible guardian angels at maximum             .  since the world population is now               this would mean that each guardian angel would have to be assigned    to    people.  does the above really sound reasonable to you guys   also  what did those     million guardian angels do when there was less than     million people on the earth   the world population reached     million around the year      or so    \n",
       "\n",
       "        toxic  \n",
       "1349        0  \n",
       "42630       0  \n",
       "149949      0  \n",
       "73013       0  \n",
       "7396        0  \n",
       "156000      0  \n",
       "137917      0  \n",
       "18996       0  \n",
       "39593       0  \n",
       "53274       0  "
      ]
     },
     "metadata": {},
     "output_type": "display_data"
    }
   ],
   "source": [
    "corpus = df.copy()\n",
    "\n",
    "corpus['text'] = corpus['text'].str.replace(r'[^a-zA-Z\\'.]', ' ', regex=True).str.lower()\n",
    "\n",
    "display(corpus.sample(10, random_state=RANDOM_STATE))"
   ]
  },
  {
   "cell_type": "markdown",
   "id": "4d5316d9",
   "metadata": {},
   "source": [
    "Проверим датасет на наличие дубликатов."
   ]
  },
  {
   "cell_type": "code",
   "execution_count": 5,
   "id": "5524607a",
   "metadata": {},
   "outputs": [
    {
     "name": "stdout",
     "output_type": "stream",
     "text": [
      "236\n"
     ]
    }
   ],
   "source": [
    "print(corpus.duplicated().sum())"
   ]
  },
  {
   "cell_type": "markdown",
   "id": "89b241b4",
   "metadata": {},
   "source": [
    "236 дублирующихся записей. Они могут негативно сказаться на обучении и тестировании при попадении в обе выборки, поэтому избавимся от них."
   ]
  },
  {
   "cell_type": "code",
   "execution_count": 6,
   "id": "5f4aa8e4",
   "metadata": {},
   "outputs": [
    {
     "name": "stdout",
     "output_type": "stream",
     "text": [
      "<class 'pandas.core.frame.DataFrame'>\n",
      "Int64Index: 159056 entries, 0 to 159291\n",
      "Data columns (total 2 columns):\n",
      " #   Column  Non-Null Count   Dtype \n",
      "---  ------  --------------   ----- \n",
      " 0   text    159056 non-null  object\n",
      " 1   toxic   159056 non-null  int64 \n",
      "dtypes: int64(1), object(1)\n",
      "memory usage: 3.6+ MB\n",
      "None\n"
     ]
    }
   ],
   "source": [
    "corpus = corpus.drop_duplicates()\n",
    "print(corpus.info())"
   ]
  },
  {
   "cell_type": "markdown",
   "id": "55689dca",
   "metadata": {},
   "source": [
    "Предобработка проведена, поэтому можно приступать к непосредственной подготовке - токенизации и извлечению эмбеддингов - и последующему обучению классфикатора."
   ]
  },
  {
   "cell_type": "markdown",
   "id": "38be00cb",
   "metadata": {},
   "source": [
    "## 2. Обучение"
   ]
  },
  {
   "cell_type": "markdown",
   "id": "70c8f8e0",
   "metadata": {},
   "source": [
    "Учитывая специфику задачи, которая заключается в классификации комментариев на основе их токсичности, что подразумевает обилие сленга и ненормативной лексики, стандартная языковая модель, тот же BERT, обучавшийся на выхолощенных книжках и статьях из Википедии, нам не подходит. Можно было бы 'доучить' модель самому, однако ребята из Unitary любезно поделились уже собственноручно дообученным на аналогичной задаче BERT'ом, поэтому в качестве токенизатора используем именно его."
   ]
  },
  {
   "cell_type": "code",
   "execution_count": 7,
   "id": "a7a036f4",
   "metadata": {},
   "outputs": [],
   "source": [
    "tokenizer = transformers.BertTokenizer.from_pretrained('unitary/toxic-bert')\n",
    "\n",
    "config = transformers.BertConfig.from_pretrained('unitary/toxic-bert')\n",
    "model = transformers.BertModel.from_pretrained('unitary/toxic-bert', config=config).cuda()"
   ]
  },
  {
   "cell_type": "markdown",
   "id": "4422b20b",
   "metadata": {},
   "source": [
    "Ресурсы нашего компьютера довольно скромны, и векторизовать тексты целиком, из всего датасета, было бы занятием неблагодарным и чересчур времязатратным, поэтому используем небольшую выборку и обучим модель на ней. Тем не менее, нам хоть как-то мало-мальски надо удостовериться в вероятности появления той или иной оценки. В связи с этим, пожалуй, попробуем оценить распределение значений метрики (в нашем случае это f1-мера) моделей, обученных на небольших случайных подвыборках, с помощью бутстрепа. Обучим 50 моделей на выборках из 1000 текстов каждая и получим тренировочные и тестовые оценки, чтобы изучить ожидаемые разброс и смещение. Таким образом, мы получим 50 оценок, и в нашем предприятии поучаствует 50000 текстов. Полагаю, 50000 наблюдений и 50 оценок должно хватить, чтобы составить какое-никакое представление об усредненной оценке.\n",
    "\n",
    "Из-за, опять же, черезмерной время- и ресурсозатратности обучим базовую модель логистической регрессии и посмотрим, будет ли она удовлетворять главному условию (значение f1 > 0.75). Если же нет, найдем другой способ добиться нужного качества.\n",
    "\n",
    "порядок действий:\n",
    "1. создаем выборку из 1000 текстов\n",
    "2. создаем эмбеддинги и преобразуем их в признаки\n",
    "3. делим выборку на тренировочную и тестовую подвыборки\n",
    "4. обучаем логистическую регрессию\n",
    "5. получаем предсказания\n",
    "6. добавляем в списки тренировочные и тестовые результаты\n",
    "7. повторяем вышеперечисленное до 50 раз\n",
    "8. смотрим на распределения оценок"
   ]
  },
  {
   "cell_type": "code",
   "execution_count": 8,
   "id": "1d346dc1",
   "metadata": {},
   "outputs": [],
   "source": [
    "def samp_tokenization(data, text_col='text', target_col='target', samp_size=1000):\n",
    "    \n",
    "    state = np.random.RandomState(RANDOM_STATE)\n",
    "\n",
    "    corp_samp = data.sample(n=samp_size, replace=False, random_state=state)\n",
    "\n",
    "    tokenized = corp_samp[text_col].apply(lambda x: tokenizer.encode(x,\n",
    "                                                                     add_special_tokens=True,\n",
    "                                                                     truncation=True,\n",
    "                                                                     max_length=512\n",
    "                                                                    )\n",
    "                                         )\n",
    "\n",
    "    max_len = 0\n",
    "    for i in tokenized.values:\n",
    "        if len(i) > max_len:\n",
    "            max_len = len(i)\n",
    "\n",
    "    padded = np.array([i + [0]*(max_len - len(i)) for i in tokenized.values])\n",
    "\n",
    "    attention_mask = np.where(padded != 0, 1, 0)\n",
    "    \n",
    "    return padded, attention_mask, corp_samp"
   ]
  },
  {
   "cell_type": "code",
   "execution_count": 9,
   "id": "04e39a1f",
   "metadata": {},
   "outputs": [],
   "source": [
    "def samp_embed_forming(emb_batch_size=100, padded=None, attention_mask=None):\n",
    "    \n",
    "    batch_size = emb_batch_size\n",
    "    embeddings = []\n",
    "\n",
    "    for i in notebook.tqdm(range(padded.shape[0] // batch_size)):\n",
    "\n",
    "        batch = torch.tensor(padded[batch_size*i:batch_size*(i+1)], device=device)\n",
    "        attention_mask_batch = torch.tensor(attention_mask[batch_size*i:batch_size*(i+1)], device=device)\n",
    "\n",
    "        with torch.no_grad():\n",
    "            batch_embeddings = model(batch.cuda(), attention_mask=attention_mask_batch)\n",
    "\n",
    "        embeddings.append(batch_embeddings[0][:,0,:].cpu().numpy())\n",
    "    \n",
    "    return embeddings"
   ]
  },
  {
   "cell_type": "code",
   "execution_count": 10,
   "id": "e0868270",
   "metadata": {},
   "outputs": [],
   "source": [
    "def sample_feature_forming(data, text_col='text', target_col='target', samp_size=1000, emb_batch_size=100):\n",
    "    \n",
    "    padded, attention_mask, corp_samp = samp_tokenization(data, text_col, target_col, samp_size)\n",
    "    \n",
    "    embeddings = samp_embed_forming(emb_batch_size, padded, attention_mask)\n",
    "\n",
    "    features = np.concatenate(embeddings)\n",
    "    \n",
    "    return features, corp_samp[target_col]"
   ]
  },
  {
   "cell_type": "code",
   "execution_count": 11,
   "id": "91973f3f",
   "metadata": {},
   "outputs": [],
   "source": [
    "def baseline_scoring(X, y, test_size=0.25):\n",
    "    \n",
    "    state = np.random.RandomState(RANDOM_STATE)\n",
    "    \n",
    "    lgr = LogisticRegression(random_state=RANDOM_STATE)\n",
    "\n",
    "    X_train, X_test, y_train, y_test = train_test_split(X,\n",
    "                                                        y,\n",
    "                                                        test_size=test_size,\n",
    "                                                        shuffle=True,\n",
    "                                                        random_state=state\n",
    "                                                       )\n",
    "\n",
    "    lgr.fit(X_train, y_train)\n",
    "\n",
    "    y_pred_train = lgr.predict(X_train)\n",
    "    y_pred = lgr.predict(X_test)\n",
    "\n",
    "    train_score = round(f1_score(y_train, y_pred_train), 2)\n",
    "    test_score = round(f1_score(y_test, y_pred), 2)\n",
    "\n",
    "    return train_score, test_score"
   ]
  },
  {
   "cell_type": "code",
   "execution_count": 12,
   "id": "8c0b3716",
   "metadata": {},
   "outputs": [],
   "source": [
    "def glue_data(data,\n",
    "              text_col='text',\n",
    "              target_col='target',\n",
    "              chunks_num=2,\n",
    "              samp_size=1000,\n",
    "              emb_batch_size=100,\n",
    "              iter_scoring=False,\n",
    "              test_size=0.25):\n",
    "    \n",
    "    if iter_scoring == True:\n",
    "        train_scores = []\n",
    "        test_scores = []\n",
    "    else:\n",
    "        pass\n",
    "    \n",
    "    dcopy = data.copy()\n",
    "    \n",
    "    pbar = notebook.tqdm(total=chunks_num, leave=True, desc='total progress')\n",
    "    \n",
    "    print('________________ chunk_1 ________________')\n",
    "    \n",
    "    X, y = sample_feature_forming(dcopy, text_col, target_col, samp_size, emb_batch_size)\n",
    "    \n",
    "    dcopy = dcopy.drop(index=y.index.to_list(), axis=0)\n",
    "    \n",
    "    pbar.update()\n",
    "    \n",
    "    if iter_scoring == True:\n",
    "        train_score_0, test_score_0 = baseline_scoring(X, y, test_size=test_size)\n",
    "        train_scores.append(train_score_0)\n",
    "        test_scores.append(test_score_0)\n",
    "    else:\n",
    "        pass\n",
    "    \n",
    "    for i in range(chunks_num - 1):\n",
    "        \n",
    "        print('________________ chunk_{} ________________'.format(i + 2))\n",
    "        \n",
    "        X_1, y_1 = sample_feature_forming(dcopy, text_col, target_col, samp_size, emb_batch_size)\n",
    "        \n",
    "        dcopy = dcopy.drop(index=y_1.index.to_list(), axis=0)\n",
    "        \n",
    "        X = np.concatenate((X, X_1))\n",
    "        y = pd.concat((y, y_1))\n",
    "        \n",
    "        pbar.update()\n",
    "        \n",
    "        if iter_scoring == True:\n",
    "            train_score_1, test_score_1 = baseline_scoring(X_1, y_1, test_size=test_size)\n",
    "            train_scores.append(train_score_1)\n",
    "            test_scores.append(test_score_1)\n",
    "        else:\n",
    "            pass\n",
    "        \n",
    "    if iter_scoring == True:\n",
    "        return X, y, train_scores, test_scores\n",
    "    else:\n",
    "        return X, y"
   ]
  },
  {
   "cell_type": "raw",
   "id": "c5d52c33-1247-4710-8835-9478d98ad104",
   "metadata": {
    "collapsed": true,
    "jupyter": {
     "outputs_hidden": true
    },
    "scrolled": true
   },
   "source": [
    "X, y, train_scores, test_scores = glue_data(corpus,\n",
    "                                            'text',\n",
    "                                            'toxic',\n",
    "                                            chunks_num=50,\n",
    "                                            samp_size=1000,\n",
    "                                            emb_batch_size=100,\n",
    "                                            iter_scoring=True\n",
    "                                           )"
   ]
  },
  {
   "cell_type": "markdown",
   "id": "72e76b03",
   "metadata": {},
   "source": [
    "На все про все ушло порядка 55 минут. Что ж, модели обучены, оценки получены. Построим графики распределений:"
   ]
  },
  {
   "cell_type": "code",
   "execution_count": 14,
   "id": "fbf595d7",
   "metadata": {},
   "outputs": [
    {
     "data": {
      "image/png": "[encoded data removed]",
      "text/plain": [
       "<Figure size 1500x500 with 2 Axes>"
      ]
     },
     "metadata": {},
     "output_type": "display_data"
    }
   ],
   "source": [
    "fig, ax = plt.subplots(1, 2, figsize=(15, 5))\n",
    "\n",
    "ax[0].hist(x=train_scores, bins=50, color='silver', alpha=0.85)\n",
    "ax[0].set_title('train_scores_distribution: μ={}; std={}; median={}'.format(round(np.mean(train_scores), 3), round(np.std(train_scores), 2), round(np.median(train_scores), 3)))\n",
    "ax[0].set_xlabel('f1_score')\n",
    "ax[0].set_ylabel('count')\n",
    "\n",
    "ax[0].axvline(round(np.mean(train_scores), 3), color='r', linestyle='--')\n",
    "ax[0].axvline(round(np.median(train_scores), 3), color='b', linestyle='--')\n",
    "\n",
    "ax[1].hist(x=test_scores, bins=50, color='silver', alpha=0.85)\n",
    "ax[1].set_title('test_scores_distribution: μ={}; std={}; median={}'.format(round(np.mean(test_scores), 3), round(np.std(test_scores), 2), round(np.median(test_scores), 3)))\n",
    "ax[1].set_xlabel('f1_score')\n",
    "ax[1].set_ylabel('count')\n",
    "\n",
    "ax[1].axvline(round(np.mean(test_scores), 3), color='r', linestyle='--')\n",
    "ax[1].axvline(round(np.median(test_scores), 3), color='b', linestyle='--')\n",
    "\n",
    "fig.tight_layout()\n",
    "plt.show()"
   ]
  },
  {
   "cell_type": "markdown",
   "id": "c212fa76",
   "metadata": {},
   "source": [
    "Что видим:\n",
    "1. Почти идеальное ожидаемое смещение; во всех случаях оно находится в пределах 1-2% от единицы. Стандартный алгоритм логистической регрессии хорошо описывает данные, а это значит, что с очень высокой долей вероятности мы имеем дело с сугубо линейными зависимостями в наших данных.\n",
    "2. Ожидаемый разброс составляет 10.2 ± 6%, что есть посредственный результат, и здесь есть куда расти. Высока вероятность, что при обучении модели на гораздо большем количестве примеров разброс в среднем будет уменьшаться, а метрика расти. Проверим это дальше при настройке и валидации моделей.\n",
    "3. Ожидаемое значение f1-меры при тесте (валидации) = 0.89. Есть одна итерация, где тестовое значение f1 упало ниже 0.75, но, судя по графику это выброс, который может быть как-то связан с тем, что на каждой итерации формирования выборок попадающие туда данные всегда уникальны и не повторяются, поэтому именно в эту выборку попал слабо связанный текстовый домен, или с тем, что туда попали ну совсем уж несбалансированные данные. Тем не менее, ожидаемая метрика все ещё довольно высока и удовлетворяет условиям задачи. Если объединить все данные в один кластер и попробовать настроить и протестировать модель на нём, думаю, метрика вырастет ещё сильнее (вероятно, до ~0.95).\n",
    "\n",
    "Вывод:\n",
    "    **бутстреп-анализ показал, что 50000 объектов должно быть достаточно для моделирования. Также, скорее всего, наиболее подходящей моделью окажется одна из линейных. Ожидаемая метрика довольно высока, и это при том, что мы не делали балансировку.**"
   ]
  },
  {
   "cell_type": "markdown",
   "id": "da07af25",
   "metadata": {},
   "source": [
    "Далее возьмем наш сформированный датасет и обучим несколько моделей с подбором гиперпараметров. Попробуем три модели: линейные - хорошо зарекомендовавшую себя логистическую регрессию и svm, - а также дерево решений."
   ]
  },
  {
   "cell_type": "markdown",
   "id": "90c44b6c",
   "metadata": {},
   "source": [
    "Сначала посмотрим, сбалансированы ли классы внутри нашей выборки:"
   ]
  },
  {
   "cell_type": "code",
   "execution_count": 95,
   "id": "04c7c262",
   "metadata": {},
   "outputs": [
    {
     "name": "stdout",
     "output_type": "stream",
     "text": [
      "0    0.89758\n",
      "1    0.10242\n",
      "Name: toxic, dtype: float64\n"
     ]
    }
   ],
   "source": [
    "print(y.value_counts(normalize=True))"
   ]
  },
  {
   "cell_type": "markdown",
   "id": "131266aa",
   "metadata": {},
   "source": [
    "Наблюдаем сильную диспропорцию классов в выборке (примерно 9 к 1). Вероятность того, что это грешок выборки крайне мала, но всё-таки на всякий случай проверим весь датасет:"
   ]
  },
  {
   "cell_type": "code",
   "execution_count": 96,
   "id": "2e38c8d5",
   "metadata": {},
   "outputs": [
    {
     "name": "stdout",
     "output_type": "stream",
     "text": [
      "0    0.898382\n",
      "1    0.101618\n",
      "Name: toxic, dtype: float64\n"
     ]
    }
   ],
   "source": [
    "print(corpus['toxic'].value_counts(normalize=True))"
   ]
  },
  {
   "cell_type": "markdown",
   "id": "61ad95fc",
   "metadata": {},
   "source": [
    "Похоже, это болезнь всего датасета, и соотношения практически идентичные. Сэмплировать выборку не будем; просто укажем параметр инициализации моделей 'class_weight'."
   ]
  },
  {
   "cell_type": "markdown",
   "id": "c983b77f",
   "metadata": {},
   "source": [
    "Ещё один момент. Хоть мы и удалили одинаковые записи из исходного датасета, у нас все ещё остается некоторая вероятность появления дублирующихся векторов в преобразованном датасете. Проверим их наличие:"
   ]
  },
  {
   "cell_type": "code",
   "execution_count": 97,
   "id": "34368c89",
   "metadata": {},
   "outputs": [
    {
     "name": "stdout",
     "output_type": "stream",
     "text": [
      "140\n"
     ]
    }
   ],
   "source": [
    "print(len(X) - len(np.unique(X, axis=0)))"
   ]
  },
  {
   "cell_type": "markdown",
   "id": "63e655d7",
   "metadata": {},
   "source": [
    "140 повторяющихся строк в массиве. Нам нужно избавиться от них, так как они могут негативно сказаться на обучении и тестировании, попав в разные выборки."
   ]
  },
  {
   "cell_type": "code",
   "execution_count": 98,
   "id": "d29ea0db",
   "metadata": {},
   "outputs": [
    {
     "name": "stdout",
     "output_type": "stream",
     "text": [
      "140\n",
      "0\n"
     ]
    }
   ],
   "source": [
    "feature_df = pd.DataFrame(data=X)\n",
    "y_array = np.array(y)\n",
    "feature_df['toxic'] = y_array\n",
    "\n",
    "print(feature_df.iloc[:,:-1].duplicated().sum())\n",
    "feature_df = feature_df.drop_duplicates(subset=feature_df.iloc[:,:-1].columns)\n",
    "print(feature_df.iloc[:,:-1].duplicated().sum())"
   ]
  },
  {
   "cell_type": "markdown",
   "id": "afb66aaa",
   "metadata": {},
   "source": [
    "Удаление прошло гладко. Посмотрим на информацию о датасете."
   ]
  },
  {
   "cell_type": "code",
   "execution_count": 99,
   "id": "900587ec",
   "metadata": {},
   "outputs": [
    {
     "name": "stdout",
     "output_type": "stream",
     "text": [
      "<class 'pandas.core.frame.DataFrame'>\n",
      "Int64Index: 49860 entries, 0 to 49998\n",
      "Columns: 769 entries, 0 to toxic\n",
      "dtypes: float32(768), int64(1)\n",
      "memory usage: 146.8 MB\n",
      "None\n"
     ]
    }
   ],
   "source": [
    "print(feature_df.info())"
   ]
  },
  {
   "cell_type": "markdown",
   "id": "37865a55",
   "metadata": {},
   "source": [
    "У нас осталось 49860 строк из 50000, то есть 99.72% данных. Думаю, нам должно этого хватить, так что приступим к разделению на выборки и обучению моделей."
   ]
  },
  {
   "cell_type": "code",
   "execution_count": 100,
   "id": "c4665459",
   "metadata": {},
   "outputs": [],
   "source": [
    "X_train, X_test, y_train, y_test = train_test_split(feature_df.drop('toxic', axis=1),\n",
    "                                                    feature_df['toxic'],\n",
    "                                                    test_size=test_size,\n",
    "                                                    shuffle=True,\n",
    "                                                    stratify=feature_df['toxic'],\n",
    "                                                    random_state=RANDOM_STATE\n",
    "                                                   )"
   ]
  },
  {
   "cell_type": "markdown",
   "id": "7e6d1b9e",
   "metadata": {},
   "source": [
    "Все готово, поэтому приступаем к поиску лучшей модели. Определим сетку параметров для GridSearchCV."
   ]
  },
  {
   "cell_type": "code",
   "execution_count": 101,
   "id": "2b191580",
   "metadata": {},
   "outputs": [],
   "source": [
    "pipe_model = Pipeline(\n",
    "    [\n",
    "        ('model', LogisticRegression(random_state=RANDOM_STATE))\n",
    "    ]\n",
    ")\n",
    "\n",
    "pdists = [\n",
    "    {\n",
    "        'model': [DecisionTreeClassifier(random_state=RANDOM_STATE, class_weight='balanced')],\n",
    "        'model__max_depth': [None] + [i for i in range(1, 7)],\n",
    "        'model__max_features': range(1, 20)\n",
    "    },\n",
    "    {\n",
    "        'model': [LogisticRegression(solver='liblinear',\n",
    "                                     penalty='l2',\n",
    "                                     max_iter=1000,\n",
    "                                     class_weight='balanced',\n",
    "                                     random_state=RANDOM_STATE\n",
    "                                    )\n",
    "               ],\n",
    "        'model__C': [round(i, 2) for i in np.logspace(-2, 5, 15, base=2)]\n",
    "    },\n",
    "    {\n",
    "        'model': [LinearSVC(class_weight='balanced', random_state=RANDOM_STATE)],\n",
    "        'model__C': [round(i, 2) for i in np.logspace(-2, 6, 5, base=2)]\n",
    "    }\n",
    "]"
   ]
  },
  {
   "cell_type": "markdown",
   "id": "2521d4de",
   "metadata": {},
   "source": [
    "Инициализируем grid-объект."
   ]
  },
  {
   "cell_type": "code",
   "execution_count": 102,
   "id": "ac95bc36",
   "metadata": {},
   "outputs": [],
   "source": [
    "grid = GridSearchCV(pipe_model,\n",
    "                    param_grid=pdists,\n",
    "                    cv=3,\n",
    "                    scoring='f1',\n",
    "                    n_jobs=1,\n",
    "                    verbose=10\n",
    "                   )"
   ]
  },
  {
   "cell_type": "markdown",
   "id": "33e7e01f",
   "metadata": {},
   "source": [
    "Найдем лучшую модель."
   ]
  },
  {
   "cell_type": "raw",
   "id": "c00689f4-c1f2-46bb-b3fb-071a127e0fa4",
   "metadata": {
    "scrolled": true
   },
   "source": [
    "grid_start = time.time()\n",
    "\n",
    "grid.fit(X_train, y_train)\n",
    "\n",
    "grid_search_time = time.time() - grid_start\n",
    "\n",
    "print(f'Время поиска составило {round((grid_search_time / 60), 2)} минут')"
   ]
  },
  {
   "cell_type": "markdown",
   "id": "0f38db4f",
   "metadata": {},
   "source": [
    "Лучшая модель найдена. Посмотрим на значение cv-f1 и её параметры."
   ]
  },
  {
   "cell_type": "code",
   "execution_count": 104,
   "id": "72cde458",
   "metadata": {},
   "outputs": [
    {
     "name": "stdout",
     "output_type": "stream",
     "text": [
      "Pipeline(steps=[('model',\n",
      "                 LogisticRegression(C=0.71, class_weight='balanced',\n",
      "                                    max_iter=1000, random_state=17,\n",
      "                                    solver='liblinear'))])\n",
      "0.9081574472833279\n"
     ]
    }
   ],
   "source": [
    "print(grid.best_estimator_)\n",
    "print(grid.best_score_)"
   ]
  },
  {
   "cell_type": "markdown",
   "id": "73aaa084",
   "metadata": {},
   "source": [
    "Похоже, как мы и предполагали, победила логистическая регрессия. cv-f1 почти тютелька в тютельку совпадает с ожидаемой. Посмотрим на тестовую метрику."
   ]
  },
  {
   "cell_type": "code",
   "execution_count": 105,
   "id": "d92dfa34",
   "metadata": {},
   "outputs": [
    {
     "name": "stdout",
     "output_type": "stream",
     "text": [
      "0.8958257713248639\n"
     ]
    }
   ],
   "source": [
    "print(f1_score(y_test, grid.best_estimator_.predict(X_test)))"
   ]
  },
  {
   "cell_type": "markdown",
   "id": "ad979499",
   "metadata": {},
   "source": [
    "Тестовая метрика чуть хуже валидационной и составляет ~0.896, что есть хороший результат, который находится в пределах ожидаемого (0.91 ± 0.04). Наша модель не только хорошо описывает данные, но и делает хорошие предсказания. Полагаю, задача выполнена, и модель готова к работе, а мы можем быть в достаточной степени уверены в том, что на остальных данных она будет работать сопоставимо хорошо."
   ]
  },
  {
   "cell_type": "markdown",
   "id": "f2abb4d3",
   "metadata": {},
   "source": [
    "## 3. Выводы"
   ]
  },
  {
   "cell_type": "markdown",
   "id": "bc3785b0",
   "metadata": {},
   "source": [
    "**По порядку:**\n",
    "1. Хорошая языковая модель - это, как я понимаю, полдела в подобной задаче, а то и больше. У большинства моих коллег, пытавшихся решать её через классического BERT'а, не получилось поднять метрику f1 выше 0.7 ± 5. Огромная благодарность Unitary за 'токсичного' BERT'а.\n",
    "2. Логрег-алгоритм хорошо себя зарекомендовал. Он хорошо подходит к имеющимся данным.\n",
    "3. Результат предсказаний на тестовой выборке сопоставим с ожидаемым.\n",
    "4. Мы можем быть уверены в том, что с высокой долей вероятности на новых данных модель тоже сработает хорошо, однако при возникновении проблем в работе стоит переобучить её на большем объеме данных.\n",
    "5. Модель работает хорошо, и значение ключевой метрики с лихвой удовлетворяет условиям задачи, следовательно, задачу можно считать выполненной, а модель запускать в работу.\n",
    "6. В дальнейшем можно попробовать другую языковую модель или дообучить имеющуюся самостоятельно в зависимости от нужд заказчика и рабочей динамики итоговой модели. Для этого можно попробовать разные датасеты, в том числе заказать разметку комментариев к товарам магазина."
   ]
  }
 ],
 "metadata": {
  "kernelspec": {
   "display_name": "Python 3 (ipykernel)",
   "language": "python",
   "name": "python3"
  },
  "language_info": {
   "codemirror_mode": {
    "name": "ipython",
    "version": 3
   },
   "file_extension": ".py",
   "mimetype": "text/x-python",
   "name": "python",
   "nbconvert_exporter": "python",
   "pygments_lexer": "ipython3",
   "version": "3.10.10"
  },
  "toc": {
   "base_numbering": 1,
   "nav_menu": {},
   "number_sections": true,
   "sideBar": true,
   "skip_h1_title": true,
   "title_cell": "Table of Contents",
   "title_sidebar": "Contents",
   "toc_cell": false,
   "toc_position": {},
   "toc_section_display": true,
   "toc_window_display": false
  }
 },
 "nbformat": 4,
 "nbformat_minor": 5
}
